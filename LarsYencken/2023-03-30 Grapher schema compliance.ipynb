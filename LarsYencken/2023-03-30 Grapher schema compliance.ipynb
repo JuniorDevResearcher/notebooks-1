{
 "cells": [
  {
   "cell_type": "markdown",
   "id": "a8f47464-27b7-4c42-b97f-22bc65836174",
   "metadata": {},
   "source": [
    "# Grapher schema compliance"
   ]
  },
  {
   "cell_type": "markdown",
   "id": "535510e3-a430-4a17-859d-659b4a8454b0",
   "metadata": {},
   "source": [
    "_Do grapher chart configs actually match the schema that we have in our codebase?_"
   ]
  },
  {
   "cell_type": "markdown",
   "id": "afd9e9e8-db13-4b57-95d6-481bfc5b66c5",
   "metadata": {},
   "source": [
    "## Summary of findings"
   ]
  },
  {
   "cell_type": "markdown",
   "id": "5b16c5ac-3ceb-4fe5-a0b5-ac5c55d2c228",
   "metadata": {},
   "source": [
    "- ~4.5% of grapher configs fail validation (195 charts)\n",
    "- Two big sources of errors\n",
    "    - Setting null instead of setting no value at all\n",
    "    - Adding colour palettes that aren't known to the schema\n",
    "- Plus a range of smaller issues that are valid errors, or at least cases where the schema was not updated for a change"
   ]
  },
  {
   "cell_type": "markdown",
   "id": "76120a48-eacd-4644-8e6b-1a1f5b5eb4fd",
   "metadata": {},
   "source": [
    "## Preamble"
   ]
  },
  {
   "cell_type": "code",
   "execution_count": 1,
   "id": "904d76be-7d30-468d-93c1-4957a210577e",
   "metadata": {},
   "outputs": [],
   "source": [
    "import jsonschema"
   ]
  },
  {
   "cell_type": "code",
   "execution_count": 2,
   "id": "beb3e260-6c76-403b-88ec-e1a951d42a1e",
   "metadata": {},
   "outputs": [],
   "source": [
    "import json"
   ]
  },
  {
   "cell_type": "markdown",
   "id": "1c8a5d1b-f632-44ad-8c6b-55bbdcc92142",
   "metadata": {},
   "source": [
    "## Fetch all live configs"
   ]
  },
  {
   "cell_type": "code",
   "execution_count": 3,
   "id": "c7129d10-0a59-47ca-ba24-f8959c2778b2",
   "metadata": {},
   "outputs": [],
   "source": [
    "%%mysql -p live-readonly -i id\n",
    "\n",
    "select id, config from charts"
   ]
  },
  {
   "cell_type": "code",
   "execution_count": 4,
   "id": "7160b991-2b5a-42e0-b8ca-7a7fbb5c862a",
   "metadata": {},
   "outputs": [],
   "source": [
    "df['config'] = df.config.apply(json.loads)"
   ]
  },
  {
   "cell_type": "code",
   "execution_count": 5,
   "id": "79ce65d1-2a33-4b0c-a045-2761d70532c7",
   "metadata": {},
   "outputs": [
    {
     "data": {
      "text/html": [
       "<div>\n",
       "<style scoped>\n",
       "    .dataframe tbody tr th:only-of-type {\n",
       "        vertical-align: middle;\n",
       "    }\n",
       "\n",
       "    .dataframe tbody tr th {\n",
       "        vertical-align: top;\n",
       "    }\n",
       "\n",
       "    .dataframe thead th {\n",
       "        text-align: right;\n",
       "    }\n",
       "</style>\n",
       "<table border=\"1\" class=\"dataframe\">\n",
       "  <thead>\n",
       "    <tr style=\"text-align: right;\">\n",
       "      <th></th>\n",
       "      <th>config</th>\n",
       "    </tr>\n",
       "    <tr>\n",
       "      <th>id</th>\n",
       "      <th></th>\n",
       "    </tr>\n",
       "  </thead>\n",
       "  <tbody>\n",
       "    <tr>\n",
       "      <th>20</th>\n",
       "      <td>{'id': 20, 'map': {'time': 'latest', 'colorSca...</td>\n",
       "    </tr>\n",
       "    <tr>\n",
       "      <th>26</th>\n",
       "      <td>{'id': 26, 'map': {'colorScale': {'baseColorSc...</td>\n",
       "    </tr>\n",
       "    <tr>\n",
       "      <th>27</th>\n",
       "      <td>{'id': 27, 'map': {'colorScale': {'baseColorSc...</td>\n",
       "    </tr>\n",
       "    <tr>\n",
       "      <th>29</th>\n",
       "      <td>{'id': 29, 'map': {'colorScale': {'baseColorSc...</td>\n",
       "    </tr>\n",
       "    <tr>\n",
       "      <th>31</th>\n",
       "      <td>{'id': 31, 'map': {'time': 2020, 'colorScale':...</td>\n",
       "    </tr>\n",
       "  </tbody>\n",
       "</table>\n",
       "</div>"
      ],
      "text/plain": [
       "                                               config\n",
       "id                                                   \n",
       "20  {'id': 20, 'map': {'time': 'latest', 'colorSca...\n",
       "26  {'id': 26, 'map': {'colorScale': {'baseColorSc...\n",
       "27  {'id': 27, 'map': {'colorScale': {'baseColorSc...\n",
       "29  {'id': 29, 'map': {'colorScale': {'baseColorSc...\n",
       "31  {'id': 31, 'map': {'time': 2020, 'colorScale':..."
      ]
     },
     "execution_count": 5,
     "metadata": {},
     "output_type": "execute_result"
    }
   ],
   "source": [
    "df.head()"
   ]
  },
  {
   "cell_type": "markdown",
   "id": "7e1c101a-ec47-4ac1-a483-5479ed22dfed",
   "metadata": {},
   "source": [
    "## Load the schema"
   ]
  },
  {
   "cell_type": "code",
   "execution_count": 6,
   "id": "f8726ee8-6875-4d18-81dc-ee5feb961d6d",
   "metadata": {},
   "outputs": [],
   "source": [
    "schema = json.load(open('/Users/lars/Documents/owid/owid-grapher/packages/@ourworldindata/grapher/src/schema/grapher-schema.003.json'))"
   ]
  },
  {
   "cell_type": "markdown",
   "id": "8922da5e-2941-4175-b063-5b2e51a99c5c",
   "metadata": {},
   "source": [
    "## Validate every config"
   ]
  },
  {
   "cell_type": "code",
   "execution_count": 7,
   "id": "8ffdffc2-e61a-4270-bf89-ed8063117092",
   "metadata": {},
   "outputs": [],
   "source": [
    "def validation_error(config):\n",
    "    try:\n",
    "        jsonschema.validate(config, schema)\n",
    "    except Exception as e:\n",
    "        return e"
   ]
  },
  {
   "cell_type": "code",
   "execution_count": 8,
   "id": "c691508c-563a-418c-af1e-b4351c68fa17",
   "metadata": {},
   "outputs": [],
   "source": [
    "df['validation_error'] = df.config.apply(validation_error)"
   ]
  },
  {
   "cell_type": "code",
   "execution_count": 9,
   "id": "1209fee3-c666-49ca-8ab3-d66ab740180f",
   "metadata": {},
   "outputs": [],
   "source": [
    "df['is_valid'] = df.validation_error.isnull()"
   ]
  },
  {
   "cell_type": "code",
   "execution_count": 10,
   "id": "e2026b26-5d64-4a53-a481-51d85df1876e",
   "metadata": {},
   "outputs": [
    {
     "data": {
      "text/plain": [
       "0.9549861495844876"
      ]
     },
     "execution_count": 10,
     "metadata": {},
     "output_type": "execute_result"
    }
   ],
   "source": [
    "df.is_valid.mean()"
   ]
  },
  {
   "cell_type": "code",
   "execution_count": 11,
   "id": "848422b9-76c8-4792-a04d-d09bde458d77",
   "metadata": {},
   "outputs": [
    {
     "data": {
      "text/plain": [
       "195"
      ]
     },
     "execution_count": 11,
     "metadata": {},
     "output_type": "execute_result"
    }
   ],
   "source": [
    "(~df.is_valid).sum()"
   ]
  },
  {
   "cell_type": "markdown",
   "id": "5b8dfa5b-5a99-48aa-8d5b-d58ff64a1aee",
   "metadata": {},
   "source": [
    "## What are the validation errors?"
   ]
  },
  {
   "cell_type": "code",
   "execution_count": 12,
   "id": "63d3df61-f250-4427-87d6-97555dabc019",
   "metadata": {},
   "outputs": [
    {
     "data": {
      "text/plain": [
       "None is not of type 'string'                                                                                                                                                                                                                                                                                                                                                                                                                                                                                                     53\n",
       "Additional properties are not allowed ('chartId', 'id', 'order' were unexpected)                                                                                                                                                                                                                                                                                                                                                                                                                                                 46\n",
       "'custom' is not one of ['column', 'total', 'entityName']                                                                                                                                                                                                                                                                                                                                                                                                                                                                         23\n",
       "'BinaryMapPaletteE' is not one of ['YlGn', 'YlGnBu', 'GnBu', 'BuGn', 'PuBuGn', 'BuPu', 'RdPu', 'PuRd', 'OrRd', 'YlOrRd', 'YlOrBr', 'Purples', 'Blues', 'Greens', 'Oranges', 'Reds', 'Greys', 'PuOr', 'BrBG', 'PRGn', 'PiYG', 'RdBu', 'RdGy', 'RdYlBu', 'Spectral', 'RdYlGn', 'Accent', 'Dark2', 'Paired', 'Pastel1', 'Pastel2', 'Set1', 'Set2', 'Set3', 'PuBu', 'hsv-RdBu', 'hsv-CyMg', 'Magma', 'Inferno', 'Plasma', 'Viridis', 'continents', 'stackedAreaDefault', 'owid-distinct', 'default', 'OwidDistinctLines']            15\n",
       "None is not of type 'integer'                                                                                                                                                                                                                                                                                                                                                                                                                                                                                                    10\n",
       "Additional properties are not allowed ('adminBaseUrl', 'bakedGrapherURL' were unexpected)                                                                                                                                                                                                                                                                                                                                                                                                                                        10\n",
       "None is not valid under any of the given schemas                                                                                                                                                                                                                                                                                                                                                                                                                                                                                  7\n",
       "'SingleColorTeal' is not one of ['YlGn', 'YlGnBu', 'GnBu', 'BuGn', 'PuBuGn', 'BuPu', 'RdPu', 'PuRd', 'OrRd', 'YlOrRd', 'YlOrBr', 'Purples', 'Blues', 'Greens', 'Oranges', 'Reds', 'Greys', 'PuOr', 'BrBG', 'PRGn', 'PiYG', 'RdBu', 'RdGy', 'RdYlBu', 'Spectral', 'RdYlGn', 'Accent', 'Dark2', 'Paired', 'Pastel1', 'Pastel2', 'Set1', 'Set2', 'Set3', 'PuBu', 'hsv-RdBu', 'hsv-CyMg', 'Magma', 'Inferno', 'Plasma', 'Viridis', 'continents', 'stackedAreaDefault', 'owid-distinct', 'default', 'OwidDistinctLines']               6\n",
       "'SingleColorDenim' is not one of ['YlGn', 'YlGnBu', 'GnBu', 'BuGn', 'PuBuGn', 'BuPu', 'RdPu', 'PuRd', 'OrRd', 'YlOrRd', 'YlOrBr', 'Purples', 'Blues', 'Greens', 'Oranges', 'Reds', 'Greys', 'PuOr', 'BrBG', 'PRGn', 'PiYG', 'RdBu', 'RdGy', 'RdYlBu', 'Spectral', 'RdYlGn', 'Accent', 'Dark2', 'Paired', 'Pastel1', 'Pastel2', 'Set1', 'Set2', 'Set3', 'PuBu', 'hsv-RdBu', 'hsv-CyMg', 'Magma', 'Inferno', 'Plasma', 'Viridis', 'continents', 'stackedAreaDefault', 'owid-distinct', 'default', 'OwidDistinctLines']              6\n",
       "'OwidCategoricalA' is not one of ['YlGn', 'YlGnBu', 'GnBu', 'BuGn', 'PuBuGn', 'BuPu', 'RdPu', 'PuRd', 'OrRd', 'YlOrRd', 'YlOrBr', 'Purples', 'Blues', 'Greens', 'Oranges', 'Reds', 'Greys', 'PuOr', 'BrBG', 'PRGn', 'PiYG', 'RdBu', 'RdGy', 'RdYlBu', 'Spectral', 'RdYlGn', 'Accent', 'Dark2', 'Paired', 'Pastel1', 'Pastel2', 'Set1', 'Set2', 'Set3', 'PuBu', 'hsv-RdBu', 'hsv-CyMg', 'Magma', 'Inferno', 'Plasma', 'Viridis', 'continents', 'stackedAreaDefault', 'owid-distinct', 'default', 'OwidDistinctLines']              3\n",
       "'BinaryMapPaletteA' is not one of ['YlGn', 'YlGnBu', 'GnBu', 'BuGn', 'PuBuGn', 'BuPu', 'RdPu', 'PuRd', 'OrRd', 'YlOrRd', 'YlOrBr', 'Purples', 'Blues', 'Greens', 'Oranges', 'Reds', 'Greys', 'PuOr', 'BrBG', 'PRGn', 'PiYG', 'RdBu', 'RdGy', 'RdYlBu', 'Spectral', 'RdYlGn', 'Accent', 'Dark2', 'Paired', 'Pastel1', 'Pastel2', 'Set1', 'Set2', 'Set3', 'PuBu', 'hsv-RdBu', 'hsv-CyMg', 'Magma', 'Inferno', 'Plasma', 'Viridis', 'continents', 'stackedAreaDefault', 'owid-distinct', 'default', 'OwidDistinctLines']             3\n",
       "'BinaryMapPaletteC' is not one of ['YlGn', 'YlGnBu', 'GnBu', 'BuGn', 'PuBuGn', 'BuPu', 'RdPu', 'PuRd', 'OrRd', 'YlOrRd', 'YlOrBr', 'Purples', 'Blues', 'Greens', 'Oranges', 'Reds', 'Greys', 'PuOr', 'BrBG', 'PRGn', 'PiYG', 'RdBu', 'RdGy', 'RdYlBu', 'Spectral', 'RdYlGn', 'Accent', 'Dark2', 'Paired', 'Pastel1', 'Pastel2', 'Set1', 'Set2', 'Set3', 'PuBu', 'hsv-RdBu', 'hsv-CyMg', 'Magma', 'Inferno', 'Plasma', 'Viridis', 'continents', 'stackedAreaDefault', 'owid-distinct', 'default', 'OwidDistinctLines']             2\n",
       "'SingleColorPurple' is not one of ['YlGn', 'YlGnBu', 'GnBu', 'BuGn', 'PuBuGn', 'BuPu', 'RdPu', 'PuRd', 'OrRd', 'YlOrRd', 'YlOrBr', 'Purples', 'Blues', 'Greens', 'Oranges', 'Reds', 'Greys', 'PuOr', 'BrBG', 'PRGn', 'PiYG', 'RdBu', 'RdGy', 'RdYlBu', 'Spectral', 'RdYlGn', 'Accent', 'Dark2', 'Paired', 'Pastel1', 'Pastel2', 'Set1', 'Set2', 'Set3', 'PuBu', 'hsv-RdBu', 'hsv-CyMg', 'Magma', 'Inferno', 'Plasma', 'Viridis', 'continents', 'stackedAreaDefault', 'owid-distinct', 'default', 'OwidDistinctLines']             2\n",
       "'SingleColorGradientTeal' is not one of ['YlGn', 'YlGnBu', 'GnBu', 'BuGn', 'PuBuGn', 'BuPu', 'RdPu', 'PuRd', 'OrRd', 'YlOrRd', 'YlOrBr', 'Purples', 'Blues', 'Greens', 'Oranges', 'Reds', 'Greys', 'PuOr', 'BrBG', 'PRGn', 'PiYG', 'RdBu', 'RdGy', 'RdYlBu', 'Spectral', 'RdYlGn', 'Accent', 'Dark2', 'Paired', 'Pastel1', 'Pastel2', 'Set1', 'Set2', 'Set3', 'PuBu', 'hsv-RdBu', 'hsv-CyMg', 'Magma', 'Inferno', 'Plasma', 'Viridis', 'continents', 'stackedAreaDefault', 'owid-distinct', 'default', 'OwidDistinctLines']       2\n",
       "'SingleColorDustyCoral' is not one of ['YlGn', 'YlGnBu', 'GnBu', 'BuGn', 'PuBuGn', 'BuPu', 'RdPu', 'PuRd', 'OrRd', 'YlOrRd', 'YlOrBr', 'Purples', 'Blues', 'Greens', 'Oranges', 'Reds', 'Greys', 'PuOr', 'BrBG', 'PRGn', 'PiYG', 'RdBu', 'RdGy', 'RdYlBu', 'Spectral', 'RdYlGn', 'Accent', 'Dark2', 'Paired', 'Pastel1', 'Pastel2', 'Set1', 'Set2', 'Set3', 'PuBu', 'hsv-RdBu', 'hsv-CyMg', 'Magma', 'Inferno', 'Plasma', 'Viridis', 'continents', 'stackedAreaDefault', 'owid-distinct', 'default', 'OwidDistinctLines']         2\n",
       "'SingleColorDarkCopper' is not one of ['YlGn', 'YlGnBu', 'GnBu', 'BuGn', 'PuBuGn', 'BuPu', 'RdPu', 'PuRd', 'OrRd', 'YlOrRd', 'YlOrBr', 'Purples', 'Blues', 'Greens', 'Oranges', 'Reds', 'Greys', 'PuOr', 'BrBG', 'PRGn', 'PiYG', 'RdBu', 'RdGy', 'RdYlBu', 'Spectral', 'RdYlGn', 'Accent', 'Dark2', 'Paired', 'Pastel1', 'Pastel2', 'Set1', 'Set2', 'Set3', 'PuBu', 'hsv-RdBu', 'hsv-CyMg', 'Magma', 'Inferno', 'Plasma', 'Viridis', 'continents', 'stackedAreaDefault', 'owid-distinct', 'default', 'OwidDistinctLines']         2\n",
       "'SingleColorGradientDenim' is not one of ['YlGn', 'YlGnBu', 'GnBu', 'BuGn', 'PuBuGn', 'BuPu', 'RdPu', 'PuRd', 'OrRd', 'YlOrRd', 'YlOrBr', 'Purples', 'Blues', 'Greens', 'Oranges', 'Reds', 'Greys', 'PuOr', 'BrBG', 'PRGn', 'PiYG', 'RdBu', 'RdGy', 'RdYlBu', 'Spectral', 'RdYlGn', 'Accent', 'Dark2', 'Paired', 'Pastel1', 'Pastel2', 'Set1', 'Set2', 'Set3', 'PuBu', 'hsv-RdBu', 'hsv-CyMg', 'Magma', 'Inferno', 'Plasma', 'Viridis', 'continents', 'stackedAreaDefault', 'owid-distinct', 'default', 'OwidDistinctLines']      1\n",
       "'SingleColorGradientPurple' is not one of ['YlGn', 'YlGnBu', 'GnBu', 'BuGn', 'PuBuGn', 'BuPu', 'RdPu', 'PuRd', 'OrRd', 'YlOrRd', 'YlOrBr', 'Purples', 'Blues', 'Greens', 'Oranges', 'Reds', 'Greys', 'PuOr', 'BrBG', 'PRGn', 'PiYG', 'RdBu', 'RdGy', 'RdYlBu', 'Spectral', 'RdYlGn', 'Accent', 'Dark2', 'Paired', 'Pastel1', 'Pastel2', 'Set1', 'Set2', 'Set3', 'PuBu', 'hsv-RdBu', 'hsv-CyMg', 'Magma', 'Inferno', 'Plasma', 'Viridis', 'continents', 'stackedAreaDefault', 'owid-distinct', 'default', 'OwidDistinctLines']     1\n",
       "'BinaryMapPaletteD' is not one of ['YlGn', 'YlGnBu', 'GnBu', 'BuGn', 'PuBuGn', 'BuPu', 'RdPu', 'PuRd', 'OrRd', 'YlOrRd', 'YlOrBr', 'Purples', 'Blues', 'Greens', 'Oranges', 'Reds', 'Greys', 'PuOr', 'BrBG', 'PRGn', 'PiYG', 'RdBu', 'RdGy', 'RdYlBu', 'Spectral', 'RdYlGn', 'Accent', 'Dark2', 'Paired', 'Pastel1', 'Pastel2', 'Set1', 'Set2', 'Set3', 'PuBu', 'hsv-RdBu', 'hsv-CyMg', 'Magma', 'Inferno', 'Plasma', 'Viridis', 'continents', 'stackedAreaDefault', 'owid-distinct', 'default', 'OwidDistinctLines']             1\n",
       "Name: validation_error, dtype: int64"
      ]
     },
     "execution_count": 12,
     "metadata": {},
     "output_type": "execute_result"
    }
   ],
   "source": [
    "df[~df.is_valid].validation_error.apply(lambda e: e.message).value_counts()"
   ]
  }
 ],
 "metadata": {
  "kernelspec": {
   "display_name": "Python 3 (ipykernel)",
   "language": "python",
   "name": "python3"
  },
  "language_info": {
   "codemirror_mode": {
    "name": "ipython",
    "version": 3
   },
   "file_extension": ".py",
   "mimetype": "text/x-python",
   "name": "python",
   "nbconvert_exporter": "python",
   "pygments_lexer": "ipython3",
   "version": "3.10.7"
  }
 },
 "nbformat": 4,
 "nbformat_minor": 5
}
