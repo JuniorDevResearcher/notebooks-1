{
 "cells": [
  {
   "cell_type": "markdown",
   "id": "92547483-8db2-425f-b5d2-fd4eb73b33be",
   "metadata": {},
   "source": [
    "# Charting tool comparison"
   ]
  },
  {
   "cell_type": "markdown",
   "id": "26ad30b9-cacd-4cde-92a4-05968726a5bb",
   "metadata": {},
   "source": [
    "This notebook is a basic comparison of charting toolkits you can use in Python."
   ]
  },
  {
   "cell_type": "markdown",
   "id": "ee287818-00d1-44a3-924d-f0a64a6144b1",
   "metadata": {},
   "source": [
    "## Fetch data"
   ]
  },
  {
   "cell_type": "code",
   "execution_count": null,
   "id": "9feb499c-2873-4f5d-9392-cef71c8e0b07",
   "metadata": {},
   "outputs": [],
   "source": [
    "from owid import catalog"
   ]
  },
  {
   "cell_type": "code",
   "execution_count": null,
   "id": "de46a8b6-04b7-4532-8552-3b4b77a4005d",
   "metadata": {},
   "outputs": [],
   "source": [
    "df = catalog.find('covid', namespace='owid').load()"
   ]
  },
  {
   "cell_type": "code",
   "execution_count": null,
   "id": "5bebc02b-703a-4b88-8d7d-2f9e360f880b",
   "metadata": {},
   "outputs": [],
   "source": [
    "df = pd.DataFrame(df)"
   ]
  },
  {
   "cell_type": "code",
   "execution_count": null,
   "id": "4d4f6817-5a21-466f-887c-798fb9cc9c34",
   "metadata": {},
   "outputs": [],
   "source": [
    "df.head()"
   ]
  },
  {
   "cell_type": "code",
   "execution_count": null,
   "id": "ecef6639-cf48-4d2c-92e8-e88aa2687e89",
   "metadata": {},
   "outputs": [],
   "source": [
    "import altair as alt"
   ]
  },
  {
   "cell_type": "code",
   "execution_count": null,
   "id": "fbae5078-a45c-4075-bec9-bf731ae2832e",
   "metadata": {},
   "outputs": [],
   "source": [
    "sub = df.loc[['DEU', 'SWE', 'CHE'], ['new_cases_smoothed_per_million']].reset_index()"
   ]
  },
  {
   "cell_type": "markdown",
   "id": "24918b6a-8be5-4b45-9823-d188f3a1f345",
   "metadata": {},
   "source": [
    "## Seaborn to improve Matplotlib plots"
   ]
  },
  {
   "cell_type": "code",
   "execution_count": null,
   "id": "89af4136-5be0-49f2-9b69-3e447cf4e95c",
   "metadata": {},
   "outputs": [],
   "source": [
    "import seaborn as sns"
   ]
  },
  {
   "cell_type": "code",
   "execution_count": null,
   "id": "082c0d69-c6e0-4ec1-b151-1af1e4765129",
   "metadata": {},
   "outputs": [],
   "source": [
    "sns.set(\n",
    "    font_scale=1.5, # increase default label size\n",
    "    font='Lato',\n",
    "    rc={'figure.figsize': (12, 5)} # increase default plot size\n",
    ")"
   ]
  },
  {
   "cell_type": "markdown",
   "id": "1f2cedf2-0cb8-47a9-97e1-b56c844c1812",
   "metadata": {},
   "source": [
    "## Matplotlib via Pandas"
   ]
  },
  {
   "cell_type": "code",
   "execution_count": null,
   "id": "333296aa-59b4-478b-bb46-e3f44ec205f7",
   "metadata": {},
   "outputs": [],
   "source": [
    "# increase the DPI on retina macs\n",
    "%config InlineBackend.figure_format = 'retina'"
   ]
  },
  {
   "cell_type": "code",
   "execution_count": null,
   "id": "aac9b119-42bc-4c2f-9e8a-bc4e6784352e",
   "metadata": {},
   "outputs": [],
   "source": [
    "sub.pivot('date', 'iso_code', 'new_cases_smoothed_per_million').plot(title='New cases of Covid-19 (per million)')\n",
    "plt.xlabel('')\n",
    "plt.ylabel('New cases (per million)')\n",
    "plt.legend(title='Country');"
   ]
  },
  {
   "cell_type": "markdown",
   "id": "8e318692-cf16-46f9-a97d-42dcddbd0950",
   "metadata": {},
   "source": [
    "## Matplotlib directly"
   ]
  },
  {
   "cell_type": "code",
   "execution_count": null,
   "id": "fd7accd9-d49e-4105-b8e3-43f363e3cd05",
   "metadata": {},
   "outputs": [],
   "source": [
    "from pylab import plt"
   ]
  },
  {
   "cell_type": "code",
   "execution_count": null,
   "id": "818ed991-1f7b-4287-9d77-247443c7f847",
   "metadata": {},
   "outputs": [],
   "source": [
    "sub_p = sub.pivot('date', 'iso_code', 'new_cases_smoothed_per_million').dropna()"
   ]
  },
  {
   "cell_type": "code",
   "execution_count": null,
   "id": "28595845-eaab-45d9-bfcc-a546002c6ef5",
   "metadata": {},
   "outputs": [],
   "source": [
    "for col in sub_p.columns:\n",
    "    plt.plot(sub_p.index, sub_p[col], label=col)\n",
    "plt.legend()\n",
    "plt.title('New cases of Covid-19 (per million)');"
   ]
  },
  {
   "cell_type": "markdown",
   "id": "1c6d38b8-567c-4dfe-b0f4-5bfab80fd371",
   "metadata": {},
   "source": [
    "## Altair"
   ]
  },
  {
   "cell_type": "code",
   "execution_count": null,
   "id": "65938759-fbec-463f-82cc-42d4cfbd06e9",
   "metadata": {},
   "outputs": [],
   "source": [
    "import altair as alt"
   ]
  },
  {
   "cell_type": "code",
   "execution_count": null,
   "id": "721b692f-0a0b-441d-a899-e593441cfcb3",
   "metadata": {},
   "outputs": [],
   "source": [
    "nearest = alt.selection(type='single', nearest=True, on='mouseover',\n",
    "                        fields=['x'], empty='none')\n",
    "\n",
    "alt.Chart(\n",
    "    sub,\n",
    "    title='New cases of Covid-19 (per million)'\n",
    ").mark_line().encode(\n",
    "    x=alt.X('date:T', title='Date'), \n",
    "    y=alt.Y('new_cases_smoothed_per_million:Q', title='New cases (per million)'), \n",
    "    color=alt.Color('iso_code:N', title='Country'),\n",
    "    tooltip=['iso_code', 'date', 'new_cases_smoothed_per_million'],\n",
    ").properties(\n",
    "    width=600,\n",
    "    height=300\n",
    ").configure(\n",
    "    font='Lato'\n",
    ")"
   ]
  },
  {
   "cell_type": "markdown",
   "id": "d32403a3-8d8e-4196-b1c9-ef0aedf80a8d",
   "metadata": {},
   "source": [
    "## Chartify"
   ]
  },
  {
   "cell_type": "code",
   "execution_count": null,
   "id": "51847485-7ffe-4c99-9dc6-468d6238576e",
   "metadata": {},
   "outputs": [],
   "source": [
    "import chartify"
   ]
  },
  {
   "cell_type": "code",
   "execution_count": null,
   "id": "744d2b54-501d-4ae3-87ef-7b3b9ac204f5",
   "metadata": {},
   "outputs": [],
   "source": [
    "from bokeh.models import HoverTool"
   ]
  },
  {
   "cell_type": "code",
   "execution_count": null,
   "id": "09dd6aa4-f10a-4511-abef-48654529c0aa",
   "metadata": {},
   "outputs": [],
   "source": [
    "ch = chartify.Chart(x_axis_type='datetime', blank_labels=True)\n",
    "ch.plot.line(sub, 'date', 'new_cases_smoothed_per_million', 'iso_code')\n",
    "ch.set_title('New cases of Covid-19')\n",
    "\n",
    "# add a tooltip\n",
    "hover = HoverTool(tooltips=[\n",
    "    ('Cases per million', '@new_cases_smoothed_per_million'),\n",
    "    ('Country', '@iso_code'),\n",
    "])\n",
    "ch.figure.add_tools(hover)\n",
    "\n",
    "ch.show()"
   ]
  }
 ],
 "metadata": {
  "kernelspec": {
   "display_name": "Python 3 (ipykernel)",
   "language": "python",
   "name": "python3"
  },
  "language_info": {
   "codemirror_mode": {
    "name": "ipython",
    "version": 3
   },
   "file_extension": ".py",
   "mimetype": "text/x-python",
   "name": "python",
   "nbconvert_exporter": "python",
   "pygments_lexer": "ipython3",
   "version": "3.9.7"
  }
 },
 "nbformat": 4,
 "nbformat_minor": 5
}
