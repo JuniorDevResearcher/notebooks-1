{
 "cells": [
  {
   "cell_type": "code",
   "execution_count": 78,
   "metadata": {},
   "outputs": [],
   "source": [
    "from bs4 import BeautifulSoup\n",
    "import requests\n",
    "import pandas as pd"
   ]
  },
  {
   "cell_type": "markdown",
   "metadata": {},
   "source": [
    "Scraping the data from the second table on this page : https://apps.who.int/dracunculiasis/dradata/html/report_Countries_t0.html"
   ]
  },
  {
   "cell_type": "code",
   "execution_count": 79,
   "metadata": {},
   "outputs": [],
   "source": [
    "\n",
    "url = 'https://apps.who.int/dracunculiasis/dradata/html/report_Countries_t0.html'\n",
    "html_doc = requests.get(url).content\n",
    "soup = BeautifulSoup(html_doc, 'html.parser')"
   ]
  },
  {
   "cell_type": "code",
   "execution_count": 80,
   "metadata": {},
   "outputs": [],
   "source": [
    "table = soup.findAll('table')[1]\n",
    "df = pd.read_html(str(table))[0]"
   ]
  },
  {
   "cell_type": "markdown",
   "metadata": {},
   "source": [
    "To understand the current situation we just want the country column and the year in which countries certified GW free"
   ]
  },
  {
   "cell_type": "code",
   "execution_count": 81,
   "metadata": {},
   "outputs": [],
   "source": [
    "year_certified = df.iloc[:, [0,24]]\n",
    "year_certified.columns = ['entity','year_certified']\n"
   ]
  },
  {
   "cell_type": "markdown",
   "metadata": {},
   "source": [
    "Set the year to 2021"
   ]
  },
  {
   "cell_type": "code",
   "execution_count": 82,
   "metadata": {},
   "outputs": [
    {
     "name": "stderr",
     "output_type": "stream",
     "text": [
      "/var/folders/yc/bkg2k6pj6td2tpkj64v1yvbr0000gn/T/ipykernel_20959/3915858489.py:1: SettingWithCopyWarning: \n",
      "A value is trying to be set on a copy of a slice from a DataFrame.\n",
      "Try using .loc[row_indexer,col_indexer] = value instead\n",
      "\n",
      "See the caveats in the documentation: https://pandas.pydata.org/pandas-docs/stable/user_guide/indexing.html#returning-a-view-versus-a-copy\n",
      "  year_certified.year_certified = year_certified.year_certified.str.replace(r'Countries certified in', '', regex=True)\n",
      "/var/folders/yc/bkg2k6pj6td2tpkj64v1yvbr0000gn/T/ipykernel_20959/3915858489.py:2: SettingWithCopyWarning: \n",
      "A value is trying to be set on a copy of a slice from a DataFrame.\n",
      "Try using .loc[row_indexer,col_indexer] = value instead\n",
      "\n",
      "See the caveats in the documentation: https://pandas.pydata.org/pandas-docs/stable/user_guide/indexing.html#returning-a-view-versus-a-copy\n",
      "  year_certified['year'] = 2021\n",
      "/var/folders/yc/bkg2k6pj6td2tpkj64v1yvbr0000gn/T/ipykernel_20959/3915858489.py:3: SettingWithCopyWarning: \n",
      "A value is trying to be set on a copy of a slice from a DataFrame\n",
      "\n",
      "See the caveats in the documentation: https://pandas.pydata.org/pandas-docs/stable/user_guide/indexing.html#returning-a-view-versus-a-copy\n",
      "  year_certified.rename(columns={'entity':'Entity', 'year_certified':'Year Certified Guinea Worm Free', 'year':'Year'}, inplace=True)\n"
     ]
    }
   ],
   "source": [
    "year_certified.year_certified = year_certified.year_certified.str.replace(r'Countries certified in', '', regex=True)\n",
    "year_certified['year'] = 2021\n",
    "year_certified.rename(columns={'entity':'Entity', 'year_certified':'Year Certified Guinea Worm Free', 'year':'Year'}, inplace=True)"
   ]
  },
  {
   "cell_type": "markdown",
   "metadata": {},
   "source": [
    "Adding the following coding to these 'year certified' categories, so they show up nicely on the grapher\n",
    "Endemic = 4000, Pre-certification = 3000, and Not yet certified = 5000"
   ]
  },
  {
   "cell_type": "code",
   "execution_count": 83,
   "metadata": {},
   "outputs": [],
   "source": [
    "year_certified = year_certified.replace({'Year Certified Guinea Worm Free': {\"Countries at precertification stage\": 3000,\n",
    "\"Countries currently endemic for dracunculiasis\": 4000,\n",
    "\"Countries not known to have dracunculiasis but yet to be certified\":5000}})"
   ]
  },
  {
   "cell_type": "markdown",
   "metadata": {},
   "source": [
    "Changing Angola to Endemic following - https://www.who.int/news/item/23-09-2020-eradicating-dracunculiasis-human-cases-and-animal-infections-decline-as-angola-becomes-endemic\n",
    "\n",
    "Changing Kenya to 2018 following - who.int/news/item/21-03-2018-dracunculiasis-eradication-south-sudan-claims-interruption-of-transmission-in-humans"
   ]
  },
  {
   "cell_type": "code",
   "execution_count": 84,
   "metadata": {},
   "outputs": [
    {
     "name": "stderr",
     "output_type": "stream",
     "text": [
      "/var/folders/yc/bkg2k6pj6td2tpkj64v1yvbr0000gn/T/ipykernel_20959/2367335994.py:1: SettingWithCopyWarning: \n",
      "A value is trying to be set on a copy of a slice from a DataFrame\n",
      "\n",
      "See the caveats in the documentation: https://pandas.pydata.org/pandas-docs/stable/user_guide/indexing.html#returning-a-view-versus-a-copy\n",
      "  year_certified['Year Certified Guinea Worm Free'][year_certified['Entity'] == 'Angola'] = 4000\n",
      "/var/folders/yc/bkg2k6pj6td2tpkj64v1yvbr0000gn/T/ipykernel_20959/2367335994.py:2: SettingWithCopyWarning: \n",
      "A value is trying to be set on a copy of a slice from a DataFrame\n",
      "\n",
      "See the caveats in the documentation: https://pandas.pydata.org/pandas-docs/stable/user_guide/indexing.html#returning-a-view-versus-a-copy\n",
      "  year_certified['Year Certified Guinea Worm Free'][year_certified['Entity'] == 'Kenya'] = 2018\n"
     ]
    }
   ],
   "source": [
    "year_certified['Year Certified Guinea Worm Free'][year_certified['Entity'] == 'Angola'] = 4000\n",
    "year_certified['Year Certified Guinea Worm Free'][year_certified['Entity'] == 'Kenya'] = 2018"
   ]
  },
  {
   "cell_type": "markdown",
   "metadata": {},
   "source": [
    "Now we want the time-series of how certification has changed since 1996-2017"
   ]
  },
  {
   "cell_type": "code",
   "execution_count": 85,
   "metadata": {},
   "outputs": [],
   "source": [
    "df_time = df.iloc[:, 0:24].drop(df.columns[[1]], axis=1)\n",
    "\n",
    "years = [str(i) for i in range(1996,2018)]\n",
    "df_time.columns = ['entity'] + years"
   ]
  },
  {
   "cell_type": "markdown",
   "metadata": {},
   "source": [
    "Converting the table from wide to long"
   ]
  },
  {
   "cell_type": "code",
   "execution_count": 86,
   "metadata": {},
   "outputs": [],
   "source": [
    "df_long = pd.melt(df_time, id_vars='entity', value_vars=years)"
   ]
  },
  {
   "cell_type": "markdown",
   "metadata": {},
   "source": [
    "Changing the values slightly so they are what we want to show on the map."
   ]
  },
  {
   "cell_type": "code",
   "execution_count": 87,
   "metadata": {},
   "outputs": [],
   "source": [
    "df_long = df_long.replace({'value': {\"Countries at precertification stage\": \"Pre-certification\",\n",
    "\"Previously endemic countries certified free of dracunculiasis\": \"Certified Guinea worm disease free (previously endemic)\",\n",
    "\"Certified free of dracunculiasis\":\"Certified Guinea worm disease free\",\n",
    "\"Countries not known to have dracunculiasis but yet to be certified\":\"Not yet certified\",\n",
    "\"Endemic for dracunculiasis\":\"Endemic\"}})"
   ]
  },
  {
   "cell_type": "code",
   "execution_count": 88,
   "metadata": {},
   "outputs": [],
   "source": [
    "df_long.rename(columns={'entity':'Entity', 'variable':'Year','value' :'Certification'}, inplace = True)\n",
    "df_long.Year = df_long.Year.astype(int)"
   ]
  },
  {
   "cell_type": "markdown",
   "metadata": {},
   "source": [
    "Copying 2017 for 2018-2021"
   ]
  },
  {
   "cell_type": "code",
   "execution_count": 89,
   "metadata": {},
   "outputs": [
    {
     "name": "stderr",
     "output_type": "stream",
     "text": [
      "/var/folders/yc/bkg2k6pj6td2tpkj64v1yvbr0000gn/T/ipykernel_20959/2413054504.py:7: FutureWarning: The frame.append method is deprecated and will be removed from pandas in a future version. Use pandas.concat instead.\n",
      "  df_long = df_long.append(copy_year, ignore_index=True)\n"
     ]
    }
   ],
   "source": [
    "years_to_copy = [2018, 2019, 2020,2021]\n",
    "\n",
    "copy_year =df_long[df_long['Year'] == 2017].copy()\n",
    "    \n",
    "for year in years_to_copy:\n",
    "    copy_year['Year'] = year\n",
    "    df_long = df_long.append(copy_year, ignore_index=True)\n"
   ]
  },
  {
   "cell_type": "markdown",
   "metadata": {},
   "source": [
    "Changing Angola to Endemic for 2020 and 2021 following - https://www.who.int/news/item/23-09-2020-eradicating-dracunculiasis-human-cases-and-animal-infections-decline-as-angola-becomes-endemic\n",
    "\n",
    "Changing Kenya to certified GW free from 2018, follwing - who.int/news/item/21-03-2018-dracunculiasis-eradication-south-sudan-claims-interruption-of-transmission-in-humans"
   ]
  },
  {
   "cell_type": "code",
   "execution_count": 90,
   "metadata": {},
   "outputs": [
    {
     "name": "stderr",
     "output_type": "stream",
     "text": [
      "/var/folders/yc/bkg2k6pj6td2tpkj64v1yvbr0000gn/T/ipykernel_20959/2634143813.py:1: SettingWithCopyWarning: \n",
      "A value is trying to be set on a copy of a slice from a DataFrame\n",
      "\n",
      "See the caveats in the documentation: https://pandas.pydata.org/pandas-docs/stable/user_guide/indexing.html#returning-a-view-versus-a-copy\n",
      "  df_long['Certification'][(df_long['Entity'] == 'Angola') & (df_long['Year'] >= 2020)] = 'Endemic'\n",
      "/var/folders/yc/bkg2k6pj6td2tpkj64v1yvbr0000gn/T/ipykernel_20959/2634143813.py:2: SettingWithCopyWarning: \n",
      "A value is trying to be set on a copy of a slice from a DataFrame\n",
      "\n",
      "See the caveats in the documentation: https://pandas.pydata.org/pandas-docs/stable/user_guide/indexing.html#returning-a-view-versus-a-copy\n",
      "  df_long['Certification'][(df_long['Entity'] == 'Kenya') & (df_long['Year'] >= 2018)] = 'Certified Guinea worm disease free (previously endemic)'\n"
     ]
    }
   ],
   "source": [
    "df_long['Certification'][(df_long['Entity'] == 'Angola') & (df_long['Year'] >= 2020)] = 'Endemic'\n",
    "df_long['Certification'][(df_long['Entity'] == 'Kenya') & (df_long['Year'] >= 2018)] = 'Certified Guinea worm disease free (previously endemic)'"
   ]
  },
  {
   "cell_type": "markdown",
   "metadata": {},
   "source": [
    "Standardizing country names"
   ]
  },
  {
   "cell_type": "code",
   "execution_count": 91,
   "metadata": {},
   "outputs": [],
   "source": [
    "entities = {'Country':pd.concat([year_certified.Entity, df_long.Entity]).drop_duplicates()}\n",
    "ent_df = pd.DataFrame(data =entities)\n",
    "ent_df.to_csv('data/input/countries_to_standardize.csv', index=False)"
   ]
  },
  {
   "cell_type": "code",
   "execution_count": 92,
   "metadata": {},
   "outputs": [],
   "source": [
    "countries = pd.read_csv('data/input/countries_to_standardize_country_standardized.csv')\n",
    "df_long_m = pd.merge(df_long, countries, left_on='Entity', right_on='Country')[['Our World In Data Name','Year','Certification']]\n",
    "year_certified_m = pd.merge(year_certified, countries, left_on='Entity', right_on='Country')[['Our World In Data Name','Year','Year Certified Guinea Worm Free']]\n",
    "\n",
    "df_cert = year_certified_m.merge(df_long_m, on=['Our World In Data Name', 'Year'], how = \"outer\")\n",
    "df_cert.rename(columns={'Our World In Data Name':'Entity'}, inplace=True)"
   ]
  },
  {
   "cell_type": "markdown",
   "metadata": {},
   "source": [
    "Reading in the case data which we gather manually from various WHO sources - see https://owid.cloud/admin/datasets/5496 for details"
   ]
  },
  {
   "cell_type": "code",
   "execution_count": 93,
   "metadata": {},
   "outputs": [],
   "source": [
    "df_cases = pd.read_csv('data/input/Reported guinea worm cases - WHO (2021).csv')\n"
   ]
  },
  {
   "cell_type": "markdown",
   "metadata": {},
   "source": [
    "Combining all the datasources into a key guinea worm dataset"
   ]
  },
  {
   "cell_type": "code",
   "execution_count": 94,
   "metadata": {},
   "outputs": [
    {
     "data": {
      "text/plain": [
       "(5277, 5)"
      ]
     },
     "execution_count": 94,
     "metadata": {},
     "output_type": "execute_result"
    }
   ],
   "source": [
    "df_all = df_cases.merge(df_cert, on=['Entity', 'Year'], how = \"outer\")\n",
    "df_all.shape\n"
   ]
  },
  {
   "cell_type": "markdown",
   "metadata": {},
   "source": [
    "Creating a combination of all countries and years so we can backfill guinea worms cases with 0"
   ]
  },
  {
   "cell_type": "code",
   "execution_count": 95,
   "metadata": {},
   "outputs": [],
   "source": [
    "countries = df_all['Entity'].drop_duplicates()\n",
    "years = range(min(df_all['Year']), max(df_all['Year'])+1)\n",
    "all_entities_years = pd.DataFrame([(x, y) for x in countries for y in years])\n",
    "all_entities_years.columns = ['Entity', 'Year']"
   ]
  },
  {
   "cell_type": "code",
   "execution_count": 96,
   "metadata": {},
   "outputs": [
    {
     "data": {
      "text/plain": [
       "(7056, 5)"
      ]
     },
     "execution_count": 96,
     "metadata": {},
     "output_type": "execute_result"
    }
   ],
   "source": [
    "\n",
    "df_all = df_all.merge(all_entities_years, on=['Entity', 'Year'], how = \"outer\")\n",
    "df_all.shape"
   ]
  },
  {
   "cell_type": "code",
   "execution_count": 97,
   "metadata": {},
   "outputs": [],
   "source": [
    "df_all['Guinea Worm Reported Cases'].fillna(0, inplace=True)\n",
    "df_all['Guinea Worm Reported Cases'] = df_all['Guinea Worm Reported Cases'].astype(int)"
   ]
  },
  {
   "cell_type": "markdown",
   "metadata": {},
   "source": [
    "Writing out the data"
   ]
  },
  {
   "cell_type": "code",
   "execution_count": 98,
   "metadata": {},
   "outputs": [],
   "source": [
    "df_all.to_csv('data/output/guinea_worm_to_upload.csv', index=False)"
   ]
  }
 ],
 "metadata": {
  "interpreter": {
   "hash": "5f4e0ba534fe1f2b189b89b2093707e03525fafe7f50ca0275d113c9f05ab38b"
  },
  "kernelspec": {
   "display_name": "Python 3.10.3 64-bit ('3.10.3')",
   "language": "python",
   "name": "python3"
  },
  "language_info": {
   "codemirror_mode": {
    "name": "ipython",
    "version": 3
   },
   "file_extension": ".py",
   "mimetype": "text/x-python",
   "name": "python",
   "nbconvert_exporter": "python",
   "pygments_lexer": "ipython3",
   "version": "3.10.3"
  },
  "orig_nbformat": 4
 },
 "nbformat": 4,
 "nbformat_minor": 2
}
