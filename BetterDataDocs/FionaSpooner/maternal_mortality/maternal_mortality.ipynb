{
  "cells": [
    {
      "cell_type": "raw",
      "metadata": {},
      "source": [
        "---\n",
        "title: Maternal Mortality Ratio\n",
        "execute:\n",
        "  warning: false\n",
        "  message: false\n",
        "format:\n",
        "  html:\n",
        "    fontsize: 0.9em\n",
        "    code-tools: true\n",
        "    code-fold: true\n",
        "    code-copy: hover\n",
        "    toc: true\n",
        "    toc-depth: 2\n",
        "    self-contained: true\n",
        "    smooth-scroll: true\n",
        "    anchor-sections: true\n",
        "comments:\n",
        "  hypothesis: true\n",
        "---"
      ]
    },
    {
      "cell_type": "markdown",
      "metadata": {},
      "source": [
        "The definition of maternal mortality is: \n",
        "\n",
        "> \"A death of a woman while pregnant or within 42 days of termination of pregnancy, irrespective of the duration and site of pregnancy, from any cause related or aggravated by the pregnancy or its management, but not from accidental or incidental causes.\"\n",
        "\n",
        "The definition of maternal mortality ratio is:\n",
        "\n",
        "> \"The number of maternal deaths during a given time period per 100,000 live births during the same time period.\"\n",
        "\n",
        "\n",
        "In this notebook we will create a long-term time-series of maternal mortality ratio. To do this we will combine two existing datasets:\n",
        "\n",
        "* GapMinder (1751-2008)\n",
        "* World Health Organization (2000-2017)\n",
        "\n",
        "We make the assumption that their methods are comparable and that the data can be combined without transformation.\n",
        "\n",
        "In years where there is an overlap in both time-series we use the data from the WHO.\n",
        "\n",
        "This document will go through the steps required to create the data for this chart:\n",
        "\n",
        "\n",
        "```{=html}\n",
        "<iframe src=\"https://ourworldindata.org/grapher/maternal-mortality\" style=\"width: 100%; height: 600px; border: 0px none;\"></iframe>\n",
        "\n",
        "```\n",
        "\n",
        "\n",
        "## Downloading the GapMinder data"
      ]
    },
    {
      "cell_type": "code",
      "metadata": {},
      "source": [
        "#| echo: false \n",
        "import numpy as np\n",
        "import pandas as pd\n",
        "import requests\n",
        "from pathlib import Path\n",
        "import zipfile"
      ],
      "execution_count": null,
      "outputs": []
    },
    {
      "cell_type": "markdown",
      "metadata": {},
      "source": [
        "Firstly we download the data from GapMinder and save it locally. Then we read in the GapMinder data, clean up the column names and take a look at the data. "
      ]
    },
    {
      "cell_type": "code",
      "metadata": {},
      "source": [
        "r = requests.get(\"https://www.gapminder.org/documentation/documentation/gapdata010.xls\")\n",
        "\n",
        "Path(\"data/input/\").mkdir(parents=True, exist_ok=True)\n",
        "output = open(\"data/input/gapminder.xls\", \"wb\")\n",
        "output.write(r.content)\n",
        "output.close()\n"
      ],
      "execution_count": null,
      "outputs": []
    },
    {
      "cell_type": "code",
      "metadata": {},
      "source": [
        "df = pd.read_excel(\"data/input/gapminder.xls\")\n",
        "df_d = df.drop(df.index[0:16]).reset_index()\n",
        "df_d[\"Country\"] = df_d[\"Country\"].str.strip()\n",
        "df_d = df_d[~pd.isna(df_d[\"MMR\"])]"
      ],
      "execution_count": null,
      "outputs": []
    },
    {
      "cell_type": "markdown",
      "metadata": {},
      "source": [
        "## Cleaning the GapMinder data\n",
        "\n",
        ":::{.callout-important}\n",
        "There are some issues with the GapMinder data - we will manually clean them here. \n",
        ":::\n",
        "\n",
        "* The first three rows in the 'year' column seem to be wrong as it seems as if each row covers 110 years, but in [another source](https://docs.google.com/spreadsheets/u/0/d/14ZtQy9kd0pMRKWg_zKsTg3qKHoGtflj-Ekal9gIPZ4A/pub?gid=1#) they cover only 10 years.\n",
        "\n",
        "* I will replace them manually here with the middle of each decade, as is used in the other data from the same source.\n",
        "\n",
        "* There are cases where the year for Finland has been entered incorrectly three times, there are two 1772s, 1775s & 1967s, the second of each should be 1872, 1875 and 1957 respectively.\n",
        "\n",
        "* There are also two errors for New Zealand, and one error for both Sweden and the US.\n",
        "\n",
        "* Sri Lanka's maternal mortality rate seems to drop to zero in 1990, we will drop this value."
      ]
    },
    {
      "cell_type": "code",
      "metadata": {},
      "source": [
        "df_d.loc[:2, \"year\"] = [\"1875\", \"1885\", \"1895\"]\n",
        "\n",
        "df_d.loc[\n",
        "    (df_d[\"year\"] == 1772)\n",
        "    & (df_d[\"Country\"] == \"Finland\")\n",
        "    & (df_d[\"Maternal deaths\"] == 487),\n",
        "    \"year\",\n",
        "] = 1872\n",
        "df_d.loc[\n",
        "    (df_d[\"year\"] == 1775)\n",
        "    & (df_d[\"Country\"] == \"Finland\")\n",
        "    & (df_d[\"Maternal deaths\"] == 629),\n",
        "    \"year\",\n",
        "] = 1875\n",
        "df_d.loc[\n",
        "    (df_d[\"year\"] == 1967)\n",
        "    & (df_d[\"Country\"] == \"Finland\")\n",
        "    & (df_d[\"Maternal deaths\"] == 77),\n",
        "    \"year\",\n",
        "] = 1957\n",
        "df_d.loc[\n",
        "    (df_d[\"year\"] == 1967)\n",
        "    & (df_d[\"Country\"] == \"Sweden\")\n",
        "    & (df_d[\"Maternal deaths\"] == 39),\n",
        "    \"year\",\n",
        "] = 1957\n",
        "df_d.loc[\n",
        "    (df_d[\"year\"] == 1967)\n",
        "    & (df_d[\"Country\"] == \"United States\")\n",
        "    & (df_d[\"Maternal deaths\"] == 1766.28),\n",
        "    \"year\",\n",
        "] = 1957\n",
        "\n",
        "df_d = df_d.drop(df_d[(df_d[\"year\"] == 1990) & (df_d[\"Country\"] == \"Sri Lanka\")].index)\n",
        "\n",
        "df_d = df_d.drop(\n",
        "    df_d[\n",
        "        (df_d[\"Country\"] == \"New Zealand\")\n",
        "        & (df_d[\"year\"] == 1950)\n",
        "        & (df_d[\"MMR\"] == 90)\n",
        "    ].index\n",
        ")\n",
        "\n",
        "\n",
        "# Duplicates after get_mid_year()\n",
        "df_d = df_d.drop(\n",
        "    df_d[\n",
        "        (df_d[\"year\"].isin([\"1989-02\", \"1899-03\"])) & (df_d[\"Country\"] == \"New Zealand\")\n",
        "    ].index\n",
        ")"
      ],
      "execution_count": null,
      "outputs": []
    },
    {
      "cell_type": "markdown",
      "metadata": {},
      "source": [
        "Check that there are no duplicates in the data."
      ]
    },
    {
      "cell_type": "code",
      "metadata": {},
      "source": [
        "assert (\n",
        "    df_d[df_d.duplicated(subset = [\"Country\", \"year\"],keep=False)].shape[0]\n",
        "    == 0\n",
        ")"
      ],
      "execution_count": null,
      "outputs": []
    },
    {
      "cell_type": "markdown",
      "metadata": {},
      "source": [
        "## Finding the mid-point of each year range\n",
        "\n",
        "For some rows a range of years is given for a particular maternal mortality rate. We want to find the mid-point of that range. We use this function to find the mid-value of years given."
      ]
    },
    {
      "cell_type": "code",
      "metadata": {},
      "source": [
        "def get_mid_year(year: str):\n",
        "    if \"-\" in str(year):\n",
        "        year_begin = year.split(\"-\")[0]\n",
        "        year_end = year.split(\"-\")[1]\n",
        "        year_end_len = len(year.split(\"-\")[1])\n",
        "        year_end_pref = 4 - year_end_len\n",
        "        if year_end_pref > 0:\n",
        "            year_pref = year_begin[0:year_end_pref]\n",
        "            year_end = year_pref + year_end\n",
        "            year_out = int(np.mean([int(year_begin), int(year_end)]))\n",
        "        else:\n",
        "            year_out = int(np.mean([int(year_begin), int(year_end)]))\n",
        "    else:\n",
        "        year_begin = int(year)\n",
        "        year_out = int(year)\n",
        "\n",
        "    return pd.Series([year_begin, year_out])"
      ],
      "execution_count": null,
      "outputs": []
    },
    {
      "cell_type": "markdown",
      "metadata": {},
      "source": [
        "Let's check the mid-year estimates have worked as expected. There is one case where the mid-year estimate is not the mid-point of the range of years. Let's fix this manually.\n"
      ]
    },
    {
      "cell_type": "code",
      "metadata": {},
      "source": [
        "df_years = df_d[\"year\"].apply(get_mid_year)\n",
        "df_d[\"year_begin\"] = df_years[0].astype(int)\n",
        "df_d[\"mid_year\"] = df_years[1].astype(int)\n",
        "\n",
        "df_d[df_d[\"year_begin\"] > df_d[\"mid_year\"]]"
      ],
      "execution_count": null,
      "outputs": []
    },
    {
      "cell_type": "code",
      "metadata": {},
      "source": [
        "df_d.loc[\n",
        "    (df_d[\"year\"] == \"1897-01\") & (df_d[\"Country\"] == \"New Zealand\"), \"mid_year\"\n",
        "] = 1899\n",
        "assert(df_d[df_d[[\"Country\", \"year\"]].duplicated(keep=False)].shape[0] == 0)"
      ],
      "execution_count": null,
      "outputs": []
    },
    {
      "cell_type": "markdown",
      "metadata": {},
      "source": [
        "Rename the columns and keep only the columns we are interested in."
      ]
    },
    {
      "cell_type": "code",
      "metadata": {},
      "source": [
        "df_d = df_d.copy(deep=False)\n",
        "df_d[\"year\"] = df_d[\"mid_year\"]\n",
        "\n",
        "df_gap = df_d[[\"Country\", \"year\", \"MMR\"]]\n",
        "df_gap[\"source\"] = \"gapminder\"\n",
        "df_gap.rename(\n",
        "    columns={\"Country\": \"entity\", \"MMR\": \"maternal_mortality_rate\"}, inplace=True\n",
        ")"
      ],
      "execution_count": null,
      "outputs": []
    },
    {
      "cell_type": "markdown",
      "metadata": {},
      "source": [
        " Standardise the country names."
      ]
    },
    {
      "cell_type": "code",
      "metadata": {},
      "source": [
        "stand_countries = pd.read_csv(\n",
        "    \"data/input/countries_to_standardise_country_standardized.csv\"\n",
        ")\n",
        "stan_dict = stand_countries.set_index(\"Country\").squeeze().to_dict()\n",
        "df_gap[\"entity\"] = df_gap[\"entity\"].map(stan_dict)"
      ],
      "execution_count": null,
      "outputs": []
    },
    {
      "cell_type": "markdown",
      "metadata": {},
      "source": [
        "## Reading in the WHO data\n",
        "\n",
        "Read in data from WDI - in future iterations we will read this in from ETL so it is auto updated. The WDI sources this variable from the WHO so we will henceforth refer to it as the WHO data."
      ]
    },
    {
      "cell_type": "code",
      "metadata": {},
      "source": [
        "r_who = requests.get(\n",
        "    \"https://api.worldbank.org/v2/en/indicator/SH.STA.MMRT?downloadformat=csv\"\n",
        ")\n",
        "output = open(\"data/input/who_mmr.zip\", \"wb\")\n",
        "output.write(r_who.content)\n",
        "output.close()\n",
        "with zipfile.ZipFile(\"data/input/who_mmr.zip\", \"r\") as zip_ref:\n",
        "    zip_ref.extractall(\"data/input/who_mmr\")\n",
        "who = pd.read_csv(\n",
        "    \"data/input/who_mmr/API_SH.STA.MMRT_DS2_en_csv_v2_4252399.csv\", skiprows=4\n",
        ")"
      ],
      "execution_count": null,
      "outputs": []
    },
    {
      "cell_type": "markdown",
      "metadata": {},
      "source": [
        "## Cleaning the WHO data\n",
        "Pivot and clean the WHO data and standardise the country names."
      ]
    },
    {
      "cell_type": "code",
      "metadata": {},
      "source": [
        "year_cols = list(range(1960, 2022))\n",
        "year_cols = [str(int) for int in year_cols]\n",
        "# year_cols.insert(0,'Country Name')\n",
        "who_df = pd.melt(who, id_vars=[\"Country Name\"], value_vars=year_cols)\n",
        "who_df.rename(\n",
        "    columns={\n",
        "        \"Country Name\": \"entity\",\n",
        "        \"variable\": \"year\",\n",
        "        \"value\": \"maternal_mortality_rate\",\n",
        "    },\n",
        "    inplace=True,\n",
        ")\n",
        "who_df[\"source\"] = \"who\"\n",
        "who_df[\"entity\"] = who_df[\"entity\"].map(stan_dict)"
      ],
      "execution_count": null,
      "outputs": []
    },
    {
      "cell_type": "markdown",
      "metadata": {},
      "source": [
        "## Merging the WHO data with the GapMinder data\n",
        "\n",
        "Combine the two datasets. For years where there is data from both datasets we preferentially keep data from the WHO. "
      ]
    },
    {
      "cell_type": "code",
      "metadata": {},
      "source": [
        "df = pd.concat([df_gap, who_df], ignore_index=True)\n",
        "df['year'] = df['year'].astype(int)\n",
        "df = df.dropna()\n",
        "# Arranging by source so the WHO data is last\n",
        "df = df.sort_values(by=['source'])\n",
        "df = df.drop_duplicates(subset =['entity','year'],keep = 'last')"
      ],
      "execution_count": null,
      "outputs": []
    },
    {
      "cell_type": "markdown",
      "metadata": {},
      "source": [
        "## Cleaning geographic entities\n",
        "We don't want to include all of the available regions in the data as it is difficult for us to define them clearly, so we drop out a selection here. "
      ]
    },
    {
      "cell_type": "code",
      "metadata": {},
      "source": [
        "entities_to_drop = [\n",
        "    \"Africa Eastern and Southern\",\n",
        "    \"Africa Western and Central\",\n",
        "    \"Arab World\",\n",
        "    \"Early-demographic dividend\",\n",
        "    \"East Asia & Pacific (excluding high income)\",\n",
        "    \"East Asia & Pacific (IDA & IBRD countries)\",\n",
        "    \"Euro area\",\n",
        "    \"Europe & Central Asia (excluding high income)\",\n",
        "    \"Europe & Central Asia (IDA & IBRD countries)\",\n",
        "    \"Fragile and conflict affected situations\",\n",
        "    \"Heavily indebted poor countries (HIPC)\",\n",
        "    \"IBRD only\",\n",
        "    \"IDA & IBRD total\",\n",
        "    \"IDA blend\",\n",
        "    \"IDA only\",\n",
        "    \"IDA total\",\n",
        "    \"Late-demographic dividend\",\n",
        "    \"Latin America & Caribbean (excluding high income)\",\n",
        "    \"Latin America & the Caribbean (IDA & IBRD countries)\",\n",
        "    \"Least developed countries: UN classification\",\n",
        "    \"Middle East & North Africa (excluding high income)\",\n",
        "    \"Middle East & North Africa (IDA & IBRD countries)\",\n",
        "    \"Not classified\",\n",
        "    \"Other small states\",\n",
        "    \"Pacific island small states\",\n",
        "    \"Post-demographic dividend\",\n",
        "    \"Pre-demographic dividend\",\n",
        "    \"Small states\",\n",
        "    \"South Asia (IDA & IBRD)\",\n",
        "    \"Sub-Saharan Africa (excluding high income)\",\n",
        "    \"Sub-Saharan Africa (IDA & IBRD countries)\",\n",
        "]\n",
        "\n",
        "df = df[~df[\"entity\"].isin(entities_to_drop)]\n",
        "df = df.dropna()\n",
        "df = df[[\"entity\", \"year\", \"maternal_mortality_rate\"]]\n",
        "df.to_csv(\"data/output/maternal_mortality_rate.csv\", index=False)"
      ],
      "execution_count": null,
      "outputs": []
    }
  ],
  "metadata": {
    "kernelspec": {
      "name": "python3",
      "language": "python",
      "display_name": "Python 3 (ipykernel)"
    }
  },
  "nbformat": 4,
  "nbformat_minor": 4
}