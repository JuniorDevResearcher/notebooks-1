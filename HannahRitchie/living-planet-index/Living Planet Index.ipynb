{
 "cells": [
  {
   "cell_type": "code",
   "execution_count": 41,
   "id": "7e83b34d",
   "metadata": {},
   "outputs": [],
   "source": [
    "import pandas as pd"
   ]
  },
  {
   "cell_type": "code",
   "execution_count": 42,
   "id": "cfd97bec",
   "metadata": {},
   "outputs": [],
   "source": [
    "world = pd.read_csv(\"inputs/global.csv\", encoding=\"latin1\")\n",
    "world[\"Entity\"] = \"World\""
   ]
  },
  {
   "cell_type": "code",
   "execution_count": 43,
   "id": "417a7128",
   "metadata": {},
   "outputs": [],
   "source": [
    "africa = pd.read_csv(\"inputs/africa.csv\", encoding=\"latin1\")\n",
    "africa[\"Entity\"] = \"Africa\""
   ]
  },
  {
   "cell_type": "code",
   "execution_count": 44,
   "id": "e9612709",
   "metadata": {},
   "outputs": [],
   "source": [
    "asia = pd.read_csv(\"inputs/asia.csv\", encoding=\"latin1\")\n",
    "asia[\"Entity\"] = \"Asia and Pacific\""
   ]
  },
  {
   "cell_type": "code",
   "execution_count": 45,
   "id": "b652d952",
   "metadata": {},
   "outputs": [],
   "source": [
    "northamerica = pd.read_csv(\"inputs/northamerica.csv\", encoding=\"latin1\")\n",
    "northamerica[\"Entity\"] = \"North America\""
   ]
  },
  {
   "cell_type": "code",
   "execution_count": 46,
   "id": "3da7b0f2",
   "metadata": {},
   "outputs": [],
   "source": [
    "latinamerica = pd.read_csv(\"inputs/latinamerica.csv\", encoding=\"latin1\")\n",
    "latinamerica[\"Entity\"] = \"Latin America and the Caribbean\""
   ]
  },
  {
   "cell_type": "code",
   "execution_count": 47,
   "id": "fadb69fb",
   "metadata": {},
   "outputs": [],
   "source": [
    "europe = pd.read_csv(\"inputs/europe.csv\", encoding=\"latin1\")\n",
    "europe[\"Entity\"] = \"Europe and Central Asia\""
   ]
  },
  {
   "cell_type": "code",
   "execution_count": 48,
   "id": "76b8a2dc",
   "metadata": {},
   "outputs": [],
   "source": [
    "lpi = pd.merge(world, africa, how =\"outer\")\n",
    "lpi = pd.merge(lpi, asia, how =\"outer\")\n",
    "lpi = pd.merge(lpi, northamerica, how =\"outer\")\n",
    "lpi = pd.merge(lpi, latinamerica, how =\"outer\")\n",
    "lpi = pd.merge(lpi, europe, how =\"outer\")"
   ]
  },
  {
   "cell_type": "code",
   "execution_count": 49,
   "id": "49bf67fc",
   "metadata": {},
   "outputs": [],
   "source": [
    "lpi = lpi[ [\"Entity\"] + [ col for col in lpi.columns if col != \"Entity\" ] ]"
   ]
  },
  {
   "cell_type": "code",
   "execution_count": 50,
   "id": "9de18843",
   "metadata": {},
   "outputs": [],
   "source": [
    "lpi = lpi.rename(columns={\"LPI_final\":\"living_planet_index_average\",\n",
    "                          \"CI_high\":\"living_planet_index_upper\",\n",
    "                          \"CI_low\":\"living_planet_index_lower\",\n",
    "                         }\n",
    "                )"
   ]
  },
  {
   "cell_type": "code",
   "execution_count": 51,
   "id": "db81a6c8",
   "metadata": {},
   "outputs": [],
   "source": [
    "lpi.to_csv(\"output/Living Planet Index (WWF, 2022).csv\", index=False)"
   ]
  }
 ],
 "metadata": {
  "kernelspec": {
   "display_name": "Python 3 (ipykernel)",
   "language": "python",
   "name": "python3"
  },
  "language_info": {
   "codemirror_mode": {
    "name": "ipython",
    "version": 3
   },
   "file_extension": ".py",
   "mimetype": "text/x-python",
   "name": "python",
   "nbconvert_exporter": "python",
   "pygments_lexer": "ipython3",
   "version": "3.8.9"
  }
 },
 "nbformat": 4,
 "nbformat_minor": 5
}
