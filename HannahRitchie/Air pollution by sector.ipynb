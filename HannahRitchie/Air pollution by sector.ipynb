{
 "cells": [
  {
   "cell_type": "code",
   "execution_count": 1,
   "id": "77703f68",
   "metadata": {},
   "outputs": [],
   "source": [
    "import pandas as pd"
   ]
  },
  {
   "cell_type": "code",
   "execution_count": 2,
   "id": "c9419b61",
   "metadata": {},
   "outputs": [],
   "source": [
    "sector_names = pd.read_csv(\"inputs/pollution_sectors_names.csv\", encoding=\"latin1\")\n",
    "countries = pd.read_csv(\"inputs/countries.csv\")\n",
    "population = pd.read_csv(\"inputs/population.csv\")\n",
    "regions = pd.read_csv(\"inputs/owid_regions.csv\")\n",
    "income_groups = pd.read_csv(\"inputs/income_groups.csv\")"
   ]
  },
  {
   "cell_type": "code",
   "execution_count": 3,
   "id": "00788252",
   "metadata": {},
   "outputs": [],
   "source": [
    "nox = pd.read_csv(\"inputs/NOx_CEDS_emissions_by_sector_country_2021_04_21.csv\")\n",
    "nox = nox.drop(columns=[\"em\", \"units\"])\n",
    "nox = nox.melt(id_vars=[\"country\", \"sector\"],\n",
    "               var_name=\"Year\",\n",
    "               value_name=\"nox\")\n",
    "nox[\"Year\"] = nox[\"Year\"].str.replace('X', '')\n",
    "nox = pd.merge(nox, sector_names)\n",
    "nox = nox.drop(columns=[\"Sub-sector\", \"sector\"])"
   ]
  },
  {
   "cell_type": "code",
   "execution_count": 4,
   "id": "1065b1fc",
   "metadata": {},
   "outputs": [],
   "source": [
    "nox = nox.groupby([\"country\",\"Sector\", \"Year\"])[\"nox\"].sum().reset_index()\n",
    "nox = nox.pivot(index=[\"country\", \"Year\"], columns=\"Sector\", values=\"nox\").reset_index()"
   ]
  },
  {
   "cell_type": "code",
   "execution_count": 5,
   "id": "432e0700",
   "metadata": {},
   "outputs": [],
   "source": [
    "nox_new_names = [(i,i+'_nox') for i in nox.columns if i not in [\"country\",\"Year\"]]\n",
    "nox = nox.rename(columns = dict(nox_new_names), inplace=False)"
   ]
  },
  {
   "cell_type": "code",
   "execution_count": 6,
   "id": "98556801",
   "metadata": {},
   "outputs": [],
   "source": [
    "so2 = pd.read_csv(\"inputs/SO2_CEDS_emissions_by_sector_country_2021_04_21.csv\")\n",
    "so2 = so2.drop(columns=[\"em\", \"units\"])\n",
    "so2 = so2.melt(id_vars=[\"country\", \"sector\"],\n",
    "               var_name=\"Year\",\n",
    "               value_name=\"so2\")\n",
    "so2[\"Year\"] = so2[\"Year\"].str.replace('X', '')\n",
    "so2 = pd.merge(so2, sector_names)\n",
    "so2 = so2.drop(columns=[\"Sub-sector\", \"sector\"])"
   ]
  },
  {
   "cell_type": "code",
   "execution_count": 7,
   "id": "2aee4b47",
   "metadata": {},
   "outputs": [],
   "source": [
    "so2 = so2.groupby([\"country\",\"Sector\", \"Year\"])[\"so2\"].sum().reset_index()\n",
    "so2 = so2.pivot(index=[\"country\", \"Year\"], columns=\"Sector\", values=\"so2\").reset_index()"
   ]
  },
  {
   "cell_type": "code",
   "execution_count": 8,
   "id": "40ba6889",
   "metadata": {},
   "outputs": [],
   "source": [
    "so2_new_names = [(i,i+'_so2') for i in so2.columns if i not in [\"country\",\"Year\"]]\n",
    "so2 = so2.rename(columns = dict(so2_new_names), inplace=False)"
   ]
  },
  {
   "cell_type": "code",
   "execution_count": 9,
   "id": "33582d39",
   "metadata": {},
   "outputs": [],
   "source": [
    "co = pd.read_csv(\"inputs/CO_CEDS_emissions_by_sector_country_2021_04_21.csv\")\n",
    "co = co.drop(columns=[\"em\", \"units\"])\n",
    "co = co.melt(id_vars=[\"country\", \"sector\"],\n",
    "               var_name=\"Year\",\n",
    "               value_name=\"co\")\n",
    "co[\"Year\"] = co[\"Year\"].str.replace('X', '')\n",
    "co = pd.merge(co, sector_names)\n",
    "co = co.drop(columns=[\"Sub-sector\", \"sector\"])"
   ]
  },
  {
   "cell_type": "code",
   "execution_count": 10,
   "id": "895ea1cb",
   "metadata": {},
   "outputs": [],
   "source": [
    "co = co.groupby([\"country\",\"Sector\", \"Year\"])[\"co\"].sum().reset_index()\n",
    "co = co.pivot(index=[\"country\", \"Year\"], columns=\"Sector\", values=\"co\").reset_index()"
   ]
  },
  {
   "cell_type": "code",
   "execution_count": 11,
   "id": "66ade625",
   "metadata": {},
   "outputs": [],
   "source": [
    "co_new_names = [(i,i+'_co') for i in co.columns if i not in [\"country\",\"Year\"]]\n",
    "co = co.rename(columns = dict(co_new_names), inplace=False)"
   ]
  },
  {
   "cell_type": "code",
   "execution_count": 12,
   "id": "3af4c7d6",
   "metadata": {},
   "outputs": [],
   "source": [
    "bc = pd.read_csv(\"inputs/BC_CEDS_emissions_by_sector_country_2021_04_21.csv\")\n",
    "bc = bc.drop(columns=[\"em\", \"units\"])\n",
    "bc = bc.melt(id_vars=[\"country\", \"sector\"],\n",
    "               var_name=\"Year\",\n",
    "               value_name=\"bc\")\n",
    "bc[\"Year\"] = bc[\"Year\"].str.replace('X', '')\n",
    "bc = pd.merge(bc, sector_names)\n",
    "bc = bc.drop(columns=[\"Sub-sector\", \"sector\"])"
   ]
  },
  {
   "cell_type": "code",
   "execution_count": 13,
   "id": "31c23c3e",
   "metadata": {},
   "outputs": [],
   "source": [
    "bc = bc.groupby([\"country\",\"Sector\", \"Year\"])[\"bc\"].sum().reset_index()\n",
    "bc = bc.pivot(index=[\"country\", \"Year\"], columns=\"Sector\", values=\"bc\").reset_index()"
   ]
  },
  {
   "cell_type": "code",
   "execution_count": 14,
   "id": "f48c9907",
   "metadata": {},
   "outputs": [],
   "source": [
    "bc_new_names = [(i,i+'_bc') for i in bc.columns if i not in [\"country\",\"Year\"]]\n",
    "bc = bc.rename(columns = dict(bc_new_names), inplace=False)"
   ]
  },
  {
   "cell_type": "code",
   "execution_count": 15,
   "id": "dc7071d3",
   "metadata": {},
   "outputs": [],
   "source": [
    "oc = pd.read_csv(\"inputs/OC_CEDS_emissions_by_sector_country_2021_04_21.csv\")\n",
    "oc = oc.drop(columns=[\"em\", \"units\"])\n",
    "oc = oc.melt(id_vars=[\"country\", \"sector\"],\n",
    "               var_name=\"Year\",\n",
    "               value_name=\"oc\")\n",
    "oc[\"Year\"] = oc[\"Year\"].str.replace('X', '')\n",
    "oc = pd.merge(oc, sector_names)\n",
    "oc = oc.drop(columns=[\"Sub-sector\", \"sector\"])"
   ]
  },
  {
   "cell_type": "code",
   "execution_count": 16,
   "id": "1d640ac7",
   "metadata": {},
   "outputs": [],
   "source": [
    "oc = oc.groupby([\"country\",\"Sector\", \"Year\"])[\"oc\"].sum().reset_index()\n",
    "oc = oc.pivot(index=[\"country\", \"Year\"], columns=\"Sector\", values=\"oc\").reset_index()"
   ]
  },
  {
   "cell_type": "code",
   "execution_count": 17,
   "id": "fc41dc97",
   "metadata": {},
   "outputs": [],
   "source": [
    "oc_new_names = [(i,i+'_oc') for i in oc.columns if i not in [\"country\",\"Year\"]]\n",
    "oc = oc.rename(columns = dict(oc_new_names), inplace=False)"
   ]
  },
  {
   "cell_type": "code",
   "execution_count": 18,
   "id": "f1f1f5ed",
   "metadata": {},
   "outputs": [],
   "source": [
    "nmvoc = pd.read_csv(\"inputs/NMVOC_CEDS_emissions_by_sector_country_2021_04_21.csv\")\n",
    "nmvoc = nmvoc.drop(columns=[\"em\", \"units\"])\n",
    "nmvoc = nmvoc.melt(id_vars=[\"country\", \"sector\"],\n",
    "               var_name=\"Year\",\n",
    "               value_name=\"nmvoc\")\n",
    "nmvoc[\"Year\"] = nmvoc[\"Year\"].str.replace('X', '')\n",
    "nmvoc = pd.merge(nmvoc, sector_names)\n",
    "nmvoc = nmvoc.drop(columns=[\"Sub-sector\", \"sector\"])"
   ]
  },
  {
   "cell_type": "code",
   "execution_count": 19,
   "id": "eba506c3",
   "metadata": {},
   "outputs": [],
   "source": [
    "nmvoc = nmvoc.groupby([\"country\",\"Sector\", \"Year\"])[\"nmvoc\"].sum().reset_index()\n",
    "nmvoc = nmvoc.pivot(index=[\"country\", \"Year\"], columns=\"Sector\", values=\"nmvoc\").reset_index()"
   ]
  },
  {
   "cell_type": "code",
   "execution_count": 20,
   "id": "f0770da1",
   "metadata": {},
   "outputs": [],
   "source": [
    "nmvoc_new_names = [(i,i+'_nmvoc') for i in nmvoc.columns if i not in [\"country\",\"Year\"]]\n",
    "nmvoc = nmvoc.rename(columns = dict(nmvoc_new_names), inplace=False)"
   ]
  },
  {
   "cell_type": "code",
   "execution_count": 21,
   "id": "d954caf9",
   "metadata": {},
   "outputs": [],
   "source": [
    "nh3 = pd.read_csv(\"inputs/NH3_CEDS_emissions_by_sector_country_2021_04_21.csv\")\n",
    "nh3 = nh3.drop(columns=[\"em\", \"units\"])\n",
    "nh3 = nh3.melt(id_vars=[\"country\", \"sector\"],\n",
    "               var_name=\"Year\",\n",
    "               value_name=\"nh3\")\n",
    "nh3[\"Year\"] = nh3[\"Year\"].str.replace('X', '')\n",
    "nh3 = pd.merge(nh3, sector_names)\n",
    "nh3 = nh3.drop(columns=[\"Sub-sector\", \"sector\"])"
   ]
  },
  {
   "cell_type": "code",
   "execution_count": 22,
   "id": "09978d95",
   "metadata": {},
   "outputs": [],
   "source": [
    "nh3 = nh3.groupby([\"country\",\"Sector\", \"Year\"])[\"nh3\"].sum().reset_index()\n",
    "nh3 = nh3.pivot(index=[\"country\", \"Year\"], columns=\"Sector\", values=\"nh3\").reset_index()"
   ]
  },
  {
   "cell_type": "code",
   "execution_count": 23,
   "id": "7cb71315",
   "metadata": {},
   "outputs": [],
   "source": [
    "nh3_new_names = [(i,i+'_nh3') for i in nh3.columns if i not in [\"country\",\"Year\"]]\n",
    "nh3 = nh3.rename(columns = dict(nh3_new_names), inplace=False)"
   ]
  },
  {
   "cell_type": "code",
   "execution_count": 24,
   "id": "bef3c762",
   "metadata": {},
   "outputs": [],
   "source": [
    "combined = pd.merge(nox, so2)\n",
    "combined = pd.merge(combined, co)\n",
    "combined = pd.merge(combined, oc)\n",
    "combined = pd.merge(combined, nmvoc)\n",
    "combined = pd.merge(combined, bc)\n",
    "combined = pd.merge(combined, nh3)"
   ]
  },
  {
   "cell_type": "code",
   "execution_count": 25,
   "id": "a42ffb91",
   "metadata": {},
   "outputs": [],
   "source": [
    "by_country = pd.merge(combined, countries)\n",
    "by_country = by_country.drop(columns=[\"country\"])"
   ]
  },
  {
   "cell_type": "code",
   "execution_count": 26,
   "id": "754a6ded",
   "metadata": {},
   "outputs": [],
   "source": [
    "by_country = by_country[ [\"Entity\"] + [ col for col in by_country.columns if col != \"Entity\" ] ]"
   ]
  },
  {
   "cell_type": "code",
   "execution_count": 27,
   "id": "0902988f",
   "metadata": {},
   "outputs": [],
   "source": [
    "by_country.to_csv(\"output/Air pollution emissions by sector (CEDS, 2022).csv\", index=False)"
   ]
  }
 ],
 "metadata": {
  "kernelspec": {
   "display_name": "Python 3 (ipykernel)",
   "language": "python",
   "name": "python3"
  },
  "language_info": {
   "codemirror_mode": {
    "name": "ipython",
    "version": 3
   },
   "file_extension": ".py",
   "mimetype": "text/x-python",
   "name": "python",
   "nbconvert_exporter": "python",
   "pygments_lexer": "ipython3",
   "version": "3.8.9"
  }
 },
 "nbformat": 4,
 "nbformat_minor": 5
}
