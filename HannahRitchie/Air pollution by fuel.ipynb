{
 "cells": [
  {
   "cell_type": "code",
   "execution_count": 289,
   "id": "a863135a",
   "metadata": {},
   "outputs": [],
   "source": [
    "import pandas as pd"
   ]
  },
  {
   "cell_type": "code",
   "execution_count": 290,
   "id": "0dc88e9f",
   "metadata": {},
   "outputs": [],
   "source": [
    "countries = pd.read_csv(\"inputs/countries.csv\")\n",
    "population = pd.read_csv(\"inputs/population.csv\")\n",
    "regions = pd.read_csv(\"inputs/owid_regions.csv\")\n",
    "income_groups = pd.read_csv(\"inputs/income_groups.csv\")"
   ]
  },
  {
   "cell_type": "code",
   "execution_count": 291,
   "id": "bcfb76df",
   "metadata": {},
   "outputs": [],
   "source": [
    "population = population.rename(columns={\"country\":\"Entity\",\n",
    "                                       \"year\":\"Year\"\n",
    "                                       }\n",
    "                              )"
   ]
  },
  {
   "cell_type": "code",
   "execution_count": 292,
   "id": "ce49efa5",
   "metadata": {},
   "outputs": [],
   "source": [
    "nox = pd.read_csv(\"inputs/NOx_CEDS_emissions_by_country_fuel_2021_04_21.csv\")\n",
    "nox = nox.drop(columns=[\"em\", \"units\"])\n",
    "nox = nox.melt(id_vars=[\"country\", \"fuel\"],\n",
    "               var_name=\"Year\",\n",
    "               value_name=\"nox\")\n",
    "nox[\"Year\"] = nox[\"Year\"].str.replace('X', '')\n",
    "nox = nox.pivot(index=[\"country\", \"Year\"], columns=\"fuel\", values=\"nox\").reset_index()"
   ]
  },
  {
   "cell_type": "code",
   "execution_count": 293,
   "id": "71249d3b",
   "metadata": {},
   "outputs": [],
   "source": [
    "nox_new_names = [(i,i+'_nox') for i in nox.columns if i not in [\"country\",\"Year\"]]\n",
    "nox = nox.rename(columns = dict(nox_new_names), inplace=False)"
   ]
  },
  {
   "cell_type": "code",
   "execution_count": 294,
   "id": "ff0da089",
   "metadata": {},
   "outputs": [],
   "source": [
    "so2 = pd.read_csv(\"inputs/SO2_CEDS_emissions_by_country_fuel_2021_04_21.csv\")\n",
    "so2 = so2.drop(columns=[\"em\", \"units\"])\n",
    "so2 = so2.melt(id_vars=[\"country\", \"fuel\"],\n",
    "               var_name=\"Year\",\n",
    "               value_name=\"so2\")\n",
    "so2[\"Year\"] = so2[\"Year\"].str.replace('X', '')\n",
    "so2 = so2.pivot(index=[\"country\", \"Year\"], columns=\"fuel\", values=\"so2\").reset_index()"
   ]
  },
  {
   "cell_type": "code",
   "execution_count": 295,
   "id": "48e69911",
   "metadata": {},
   "outputs": [],
   "source": [
    "so2_new_names = [(i,i+'_so2') for i in so2.columns if i not in [\"country\",\"Year\"]]\n",
    "so2 = so2.rename(columns = dict(so2_new_names), inplace=False)"
   ]
  },
  {
   "cell_type": "code",
   "execution_count": 296,
   "id": "af9f2cbd",
   "metadata": {},
   "outputs": [],
   "source": [
    "co = pd.read_csv(\"inputs/CO_CEDS_emissions_by_country_fuel_2021_04_21.csv\")\n",
    "co = co.drop(columns=[\"em\", \"units\"])\n",
    "co = co.melt(id_vars=[\"country\", \"fuel\"],\n",
    "               var_name=\"Year\",\n",
    "               value_name=\"co\")\n",
    "co[\"Year\"] = co[\"Year\"].str.replace('X', '')\n",
    "co = co.pivot(index=[\"country\", \"Year\"], columns=\"fuel\", values=\"co\").reset_index()"
   ]
  },
  {
   "cell_type": "code",
   "execution_count": 297,
   "id": "674254c7",
   "metadata": {},
   "outputs": [],
   "source": [
    "co_new_names = [(i,i+'_co') for i in co.columns if i not in [\"country\",\"Year\"]]\n",
    "co = co.rename(columns = dict(co_new_names), inplace=False)"
   ]
  },
  {
   "cell_type": "code",
   "execution_count": 298,
   "id": "af7c495a",
   "metadata": {},
   "outputs": [],
   "source": [
    "oc = pd.read_csv(\"inputs/OC_CEDS_emissions_by_country_fuel_2021_04_21.csv\")\n",
    "oc = oc.drop(columns=[\"em\", \"units\"])\n",
    "oc = oc.melt(id_vars=[\"country\", \"fuel\"],\n",
    "               var_name=\"Year\",\n",
    "               value_name=\"oc\")\n",
    "oc[\"Year\"] = oc[\"Year\"].str.replace('X', '')\n",
    "oc = oc.pivot(index=[\"country\", \"Year\"], columns=\"fuel\", values=\"oc\").reset_index()"
   ]
  },
  {
   "cell_type": "code",
   "execution_count": 299,
   "id": "7793aa1b",
   "metadata": {},
   "outputs": [],
   "source": [
    "oc_new_names = [(i,i+'_oc') for i in oc.columns if i not in [\"country\",\"Year\"]]\n",
    "oc = oc.rename(columns = dict(oc_new_names), inplace=False)"
   ]
  },
  {
   "cell_type": "code",
   "execution_count": 300,
   "id": "80e881f2",
   "metadata": {},
   "outputs": [],
   "source": [
    "nmvoc = pd.read_csv(\"inputs/NMVOC_CEDS_emissions_by_country_fuel_2021_04_21.csv\")\n",
    "nmvoc = nmvoc.drop(columns=[\"em\", \"units\"])\n",
    "nmvoc = nmvoc.melt(id_vars=[\"country\", \"fuel\"],\n",
    "               var_name=\"Year\",\n",
    "               value_name=\"nmvoc\")\n",
    "nmvoc[\"Year\"] = nmvoc[\"Year\"].str.replace('X', '')\n",
    "nmvoc = nmvoc.pivot(index=[\"country\", \"Year\"], columns=\"fuel\", values=\"nmvoc\").reset_index()"
   ]
  },
  {
   "cell_type": "code",
   "execution_count": 301,
   "id": "ae4c00f5",
   "metadata": {},
   "outputs": [],
   "source": [
    "nmvoc_new_names = [(i,i+'_nmvoc') for i in nmvoc.columns if i not in [\"country\",\"Year\"]]\n",
    "nmvoc = nmvoc.rename(columns = dict(nmvoc_new_names), inplace=False)"
   ]
  },
  {
   "cell_type": "code",
   "execution_count": 302,
   "id": "d744741b",
   "metadata": {},
   "outputs": [],
   "source": [
    "bc = pd.read_csv(\"inputs/BC_CEDS_emissions_by_country_fuel_2021_04_21.csv\")\n",
    "bc = bc.drop(columns=[\"em\", \"units\"])\n",
    "bc = bc.melt(id_vars=[\"country\", \"fuel\"],\n",
    "               var_name=\"Year\",\n",
    "               value_name=\"bc\")\n",
    "bc[\"Year\"] = bc[\"Year\"].str.replace('X', '')\n",
    "bc = bc.pivot(index=[\"country\", \"Year\"], columns=\"fuel\", values=\"bc\").reset_index()"
   ]
  },
  {
   "cell_type": "code",
   "execution_count": 303,
   "id": "03f9b655",
   "metadata": {},
   "outputs": [],
   "source": [
    "bc_new_names = [(i,i+'_bc') for i in bc.columns if i not in [\"country\",\"Year\"]]\n",
    "bc = bc.rename(columns = dict(bc_new_names), inplace=False)"
   ]
  },
  {
   "cell_type": "code",
   "execution_count": 304,
   "id": "30190ba5",
   "metadata": {},
   "outputs": [],
   "source": [
    "nh3 = pd.read_csv(\"inputs/NH3_CEDS_emissions_by_country_fuel_2021_04_21.csv\")\n",
    "nh3 = nh3.drop(columns=[\"em\", \"units\"])\n",
    "nh3 = nh3.melt(id_vars=[\"country\", \"fuel\"],\n",
    "               var_name=\"Year\",\n",
    "               value_name=\"nh3\")\n",
    "nh3[\"Year\"] = nh3[\"Year\"].str.replace('X', '')\n",
    "nh3 = nh3.pivot(index=[\"country\", \"Year\"], columns=\"fuel\", values=\"nh3\").reset_index()"
   ]
  },
  {
   "cell_type": "code",
   "execution_count": 305,
   "id": "cb2e8204",
   "metadata": {},
   "outputs": [],
   "source": [
    "nh3_new_names = [(i,i+'_nh3') for i in nh3.columns if i not in [\"country\",\"Year\"]]\n",
    "nh3 = nh3.rename(columns = dict(nh3_new_names), inplace=False)"
   ]
  },
  {
   "cell_type": "code",
   "execution_count": 306,
   "id": "ec9c6886",
   "metadata": {},
   "outputs": [],
   "source": [
    "combined = pd.merge(nox, so2)\n",
    "combined = pd.merge(combined, co)\n",
    "combined = pd.merge(combined, oc)\n",
    "combined = pd.merge(combined, nmvoc)\n",
    "combined = pd.merge(combined, bc)\n",
    "combined = pd.merge(combined, nh3)"
   ]
  },
  {
   "cell_type": "code",
   "execution_count": 307,
   "id": "7c053736",
   "metadata": {},
   "outputs": [],
   "source": [
    "by_country = pd.merge(combined, countries)\n",
    "by_country = by_country.drop(columns=[\"country\"])"
   ]
  },
  {
   "cell_type": "code",
   "execution_count": 308,
   "id": "193669fc",
   "metadata": {},
   "outputs": [],
   "source": [
    "by_country[\"Year\"] = by_country[\"Year\"].astype(int)\n",
    "population[\"Year\"] = population[\"Year\"].astype(int)"
   ]
  },
  {
   "cell_type": "code",
   "execution_count": 309,
   "id": "19a02aa8",
   "metadata": {},
   "outputs": [],
   "source": [
    "by_country = pd.merge(by_country, population)"
   ]
  },
  {
   "cell_type": "code",
   "execution_count": 310,
   "id": "e87c70d4",
   "metadata": {},
   "outputs": [],
   "source": [
    "## Convert from thousand tonnes to tonnes\n",
    "cols = by_country.columns.drop([\"Entity\", \"Year\"])\n",
    "by_country.loc[:, cols] = by_country[cols].multiply(1000)"
   ]
  },
  {
   "cell_type": "code",
   "execution_count": 311,
   "id": "f9ffbbaa",
   "metadata": {},
   "outputs": [],
   "source": [
    "by_country[\"biomass_nox_per_capita\"] = by_country[\"biomass_nox\"] / by_country[\"population\"] * 1000\n",
    "by_country[\"brown_coal_nox_per_capita\"] = by_country[\"brown_coal_nox\"] / by_country[\"population\"] * 1000\n",
    "by_country[\"coal_coke_nox_per_capita\"] = by_country[\"coal_coke_nox\"] / by_country[\"population\"] * 1000\n",
    "by_country[\"diesel_oil_nox_per_capita\"] = by_country[\"diesel_oil_nox\"] / by_country[\"population\"] * 1000\n",
    "by_country[\"hard_coal_nox_per_capita\"] = by_country[\"hard_coal_nox\"] / by_country[\"population\"] * 1000\n",
    "by_country[\"heavy_oil_nox_per_capita\"] = by_country[\"heavy_oil_nox\"] / by_country[\"population\"] * 1000\n",
    "by_country[\"light_oil_nox_per_capita\"] = by_country[\"light_oil_nox\"] / by_country[\"population\"] * 1000\n",
    "by_country[\"natural_gas_nox_per_capita\"] = by_country[\"natural_gas_nox\"] / by_country[\"population\"] * 1000\n",
    "by_country[\"process_nox_per_capita\"] = by_country[\"process_nox\"] / by_country[\"population\"] * 1000\n",
    "by_country[\"biomass_so2_per_capita\"] = by_country[\"biomass_so2\"] / by_country[\"population\"] * 1000\n",
    "by_country[\"brown_coal_so2_per_capita\"] = by_country[\"brown_coal_so2\"] / by_country[\"population\"] * 1000\n",
    "by_country[\"coal_coke_so2_per_capita\"] = by_country[\"coal_coke_so2\"] / by_country[\"population\"] * 1000\n",
    "by_country[\"diesel_oil_so2_per_capita\"] = by_country[\"diesel_oil_so2\"] / by_country[\"population\"] * 1000\n",
    "by_country[\"hard_coal_so2_per_capita\"] = by_country[\"hard_coal_so2\"] / by_country[\"population\"] * 1000\n",
    "by_country[\"heavy_oil_so2_per_capita\"] = by_country[\"heavy_oil_so2\"] / by_country[\"population\"] * 1000\n",
    "by_country[\"light_oil_so2_per_capita\"] = by_country[\"light_oil_so2\"] / by_country[\"population\"] * 1000\n",
    "by_country[\"natural_gas_so2_per_capita\"] = by_country[\"natural_gas_so2\"] / by_country[\"population\"] * 1000\n",
    "by_country[\"process_so2_per_capita\"] = by_country[\"process_so2\"] / by_country[\"population\"] * 1000\n",
    "by_country[\"biomass_co_per_capita\"] = by_country[\"biomass_co\"] / by_country[\"population\"] * 1000\n",
    "by_country[\"brown_coal_co_per_capita\"] = by_country[\"brown_coal_co\"] / by_country[\"population\"] * 1000\n",
    "by_country[\"coal_coke_co_per_capita\"] = by_country[\"coal_coke_co\"] / by_country[\"population\"] * 1000\n",
    "by_country[\"diesel_oil_co_per_capita\"] = by_country[\"diesel_oil_co\"] / by_country[\"population\"] * 1000\n",
    "by_country[\"hard_coal_co_per_capita\"] = by_country[\"hard_coal_co\"] / by_country[\"population\"] * 1000\n",
    "by_country[\"heavy_oil_co_per_capita\"] = by_country[\"heavy_oil_co\"] / by_country[\"population\"] * 1000\n",
    "by_country[\"light_oil_co_per_capita\"] = by_country[\"light_oil_co\"] / by_country[\"population\"] * 1000\n",
    "by_country[\"natural_gas_co_per_capita\"] = by_country[\"natural_gas_co\"] / by_country[\"population\"] * 1000\n",
    "by_country[\"process_co_per_capita\"] = by_country[\"process_co\"] / by_country[\"population\"] * 1000\n",
    "by_country[\"biomass_oc_per_capita\"] = by_country[\"biomass_oc\"] / by_country[\"population\"] * 1000\n",
    "by_country[\"brown_coal_oc_per_capita\"] = by_country[\"brown_coal_oc\"] / by_country[\"population\"] * 1000\n",
    "by_country[\"coal_coke_oc_per_capita\"] = by_country[\"coal_coke_oc\"] / by_country[\"population\"] * 1000\n",
    "by_country[\"diesel_oil_oc_per_capita\"] = by_country[\"diesel_oil_oc\"] / by_country[\"population\"] * 1000\n",
    "by_country[\"hard_coal_oc_per_capita\"] = by_country[\"hard_coal_oc\"] / by_country[\"population\"] * 1000\n",
    "by_country[\"heavy_oil_oc_per_capita\"] = by_country[\"heavy_oil_oc\"] / by_country[\"population\"] * 1000\n",
    "by_country[\"light_oil_oc_per_capita\"] = by_country[\"light_oil_oc\"] / by_country[\"population\"] * 1000\n",
    "by_country[\"natural_gas_oc_per_capita\"] = by_country[\"natural_gas_oc\"] / by_country[\"population\"] * 1000\n",
    "by_country[\"process_oc_per_capita\"] = by_country[\"process_oc\"] / by_country[\"population\"] * 1000\n",
    "by_country[\"biomass_nmvoc_per_capita\"] = by_country[\"biomass_nmvoc\"] / by_country[\"population\"] * 1000\n",
    "by_country[\"brown_coal_nmvoc_per_capita\"] = by_country[\"brown_coal_nmvoc\"] / by_country[\"population\"] * 1000\n",
    "by_country[\"coal_coke_nmvoc_per_capita\"] = by_country[\"coal_coke_nmvoc\"] / by_country[\"population\"] * 1000\n",
    "by_country[\"diesel_oil_nmvoc_per_capita\"] = by_country[\"diesel_oil_nmvoc\"] / by_country[\"population\"] * 1000\n",
    "by_country[\"hard_coal_nmvoc_per_capita\"] = by_country[\"hard_coal_nmvoc\"] / by_country[\"population\"] * 1000\n",
    "by_country[\"heavy_oil_nmvoc_per_capita\"] = by_country[\"heavy_oil_nmvoc\"] / by_country[\"population\"] * 1000\n",
    "by_country[\"light_oil_nmvoc_per_capita\"] = by_country[\"light_oil_nmvoc\"] / by_country[\"population\"] * 1000\n",
    "by_country[\"natural_gas_nmvoc_per_capita\"] = by_country[\"natural_gas_nmvoc\"] / by_country[\"population\"] * 1000\n",
    "by_country[\"process_nmvoc_per_capita\"] = by_country[\"process_nmvoc\"] / by_country[\"population\"] * 1000\n",
    "by_country[\"biomass_bc_per_capita\"] = by_country[\"biomass_bc\"] / by_country[\"population\"] * 1000\n",
    "by_country[\"brown_coal_bc_per_capita\"] = by_country[\"brown_coal_bc\"] / by_country[\"population\"] * 1000\n",
    "by_country[\"coal_coke_bc_per_capita\"] = by_country[\"coal_coke_bc\"] / by_country[\"population\"] * 1000\n",
    "by_country[\"diesel_oil_bc_per_capita\"] = by_country[\"diesel_oil_bc\"] / by_country[\"population\"] * 1000\n",
    "by_country[\"hard_coal_bc_per_capita\"] = by_country[\"hard_coal_bc\"] / by_country[\"population\"] * 1000\n",
    "by_country[\"heavy_oil_bc_per_capita\"] = by_country[\"heavy_oil_bc\"] / by_country[\"population\"] * 1000\n",
    "by_country[\"light_oil_bc_per_capita\"] = by_country[\"light_oil_bc\"] / by_country[\"population\"] * 1000\n",
    "by_country[\"natural_gas_bc_per_capita\"] = by_country[\"natural_gas_bc\"] / by_country[\"population\"] * 1000\n",
    "by_country[\"process_bc_per_capita\"] = by_country[\"process_bc\"] / by_country[\"population\"] * 1000\n",
    "by_country[\"biomass_nh3_per_capita\"] = by_country[\"biomass_nh3\"] / by_country[\"population\"] * 1000\n",
    "by_country[\"brown_coal_nh3_per_capita\"] = by_country[\"brown_coal_nh3\"] / by_country[\"population\"] * 1000\n",
    "by_country[\"coal_coke_nh3_per_capita\"] = by_country[\"coal_coke_nh3\"] / by_country[\"population\"] * 1000\n",
    "by_country[\"diesel_oil_nh3_per_capita\"] = by_country[\"diesel_oil_nh3\"] / by_country[\"population\"] * 1000\n",
    "by_country[\"hard_coal_nh3_per_capita\"] = by_country[\"hard_coal_nh3\"] / by_country[\"population\"] * 1000\n",
    "by_country[\"heavy_oil_nh3_per_capita\"] = by_country[\"heavy_oil_nh3\"] / by_country[\"population\"] * 1000\n",
    "by_country[\"light_oil_nh3_per_capita\"] = by_country[\"light_oil_nh3\"] / by_country[\"population\"] * 1000\n",
    "by_country[\"natural_gas_nh3_per_capita\"] = by_country[\"natural_gas_nh3\"] / by_country[\"population\"] * 1000\n",
    "by_country[\"process_nh3_per_capita\"] = by_country[\"process_nh3\"] / by_country[\"population\"] * 1000"
   ]
  },
  {
   "cell_type": "code",
   "execution_count": 312,
   "id": "efb7a5f0",
   "metadata": {},
   "outputs": [],
   "source": [
    "by_country = by_country.drop(columns=[\"population\",\n",
    "                                     \"world_pop_share\"])"
   ]
  },
  {
   "cell_type": "code",
   "execution_count": 313,
   "id": "b1ae6b35",
   "metadata": {},
   "outputs": [],
   "source": [
    "by_country = by_country[ [\"Entity\"] + [ col for col in by_country.columns if col != \"Entity\" ] ]"
   ]
  },
  {
   "cell_type": "code",
   "execution_count": 314,
   "id": "2b13c4cc",
   "metadata": {},
   "outputs": [],
   "source": [
    "by_country.to_csv(\"output/Air pollution emissions by fuel (CEDS, 2022).csv\", index=False)"
   ]
  }
 ],
 "metadata": {
  "kernelspec": {
   "display_name": "Python 3 (ipykernel)",
   "language": "python",
   "name": "python3"
  },
  "language_info": {
   "codemirror_mode": {
    "name": "ipython",
    "version": 3
   },
   "file_extension": ".py",
   "mimetype": "text/x-python",
   "name": "python",
   "nbconvert_exporter": "python",
   "pygments_lexer": "ipython3",
   "version": "3.8.9"
  }
 },
 "nbformat": 4,
 "nbformat_minor": 5
}
