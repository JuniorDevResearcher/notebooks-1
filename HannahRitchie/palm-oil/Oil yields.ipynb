{
 "cells": [
  {
   "cell_type": "code",
   "execution_count": 77,
   "id": "7e4117b8",
   "metadata": {},
   "outputs": [],
   "source": [
    "import pandas as pd\n",
    "import numpy as np"
   ]
  },
  {
   "cell_type": "code",
   "execution_count": 78,
   "id": "0635c0cf",
   "metadata": {},
   "outputs": [],
   "source": [
    "oils = pd.read_csv(\"inputs/oils.csv\", encoding=\"latin1\")"
   ]
  },
  {
   "cell_type": "code",
   "execution_count": 79,
   "id": "2248826e",
   "metadata": {},
   "outputs": [
    {
     "data": {
      "text/html": [
       "<div>\n",
       "<style scoped>\n",
       "    .dataframe tbody tr th:only-of-type {\n",
       "        vertical-align: middle;\n",
       "    }\n",
       "\n",
       "    .dataframe tbody tr th {\n",
       "        vertical-align: top;\n",
       "    }\n",
       "\n",
       "    .dataframe thead th {\n",
       "        text-align: right;\n",
       "    }\n",
       "</style>\n",
       "<table border=\"1\" class=\"dataframe\">\n",
       "  <thead>\n",
       "    <tr style=\"text-align: right;\">\n",
       "      <th></th>\n",
       "      <th>Entity</th>\n",
       "      <th>Year</th>\n",
       "      <th>palm_yield</th>\n",
       "    </tr>\n",
       "  </thead>\n",
       "  <tbody>\n",
       "    <tr>\n",
       "      <th>0</th>\n",
       "      <td>Afghanistan</td>\n",
       "      <td>2010</td>\n",
       "      <td>NaN</td>\n",
       "    </tr>\n",
       "    <tr>\n",
       "      <th>1</th>\n",
       "      <td>Afghanistan</td>\n",
       "      <td>2011</td>\n",
       "      <td>NaN</td>\n",
       "    </tr>\n",
       "    <tr>\n",
       "      <th>2</th>\n",
       "      <td>Afghanistan</td>\n",
       "      <td>2012</td>\n",
       "      <td>NaN</td>\n",
       "    </tr>\n",
       "    <tr>\n",
       "      <th>3</th>\n",
       "      <td>Afghanistan</td>\n",
       "      <td>2013</td>\n",
       "      <td>NaN</td>\n",
       "    </tr>\n",
       "    <tr>\n",
       "      <th>4</th>\n",
       "      <td>Africa</td>\n",
       "      <td>1961</td>\n",
       "      <td>0.333496</td>\n",
       "    </tr>\n",
       "    <tr>\n",
       "      <th>...</th>\n",
       "      <td>...</td>\n",
       "      <td>...</td>\n",
       "      <td>...</td>\n",
       "    </tr>\n",
       "    <tr>\n",
       "      <th>6356</th>\n",
       "      <td>Zimbabwe</td>\n",
       "      <td>2015</td>\n",
       "      <td>NaN</td>\n",
       "    </tr>\n",
       "    <tr>\n",
       "      <th>6357</th>\n",
       "      <td>Zimbabwe</td>\n",
       "      <td>2016</td>\n",
       "      <td>NaN</td>\n",
       "    </tr>\n",
       "    <tr>\n",
       "      <th>6358</th>\n",
       "      <td>Zimbabwe</td>\n",
       "      <td>2017</td>\n",
       "      <td>NaN</td>\n",
       "    </tr>\n",
       "    <tr>\n",
       "      <th>6359</th>\n",
       "      <td>Zimbabwe</td>\n",
       "      <td>2018</td>\n",
       "      <td>NaN</td>\n",
       "    </tr>\n",
       "    <tr>\n",
       "      <th>6360</th>\n",
       "      <td>Zimbabwe</td>\n",
       "      <td>2019</td>\n",
       "      <td>NaN</td>\n",
       "    </tr>\n",
       "  </tbody>\n",
       "</table>\n",
       "<p>6361 rows × 3 columns</p>\n",
       "</div>"
      ],
      "text/plain": [
       "           Entity  Year  palm_yield\n",
       "0     Afghanistan  2010         NaN\n",
       "1     Afghanistan  2011         NaN\n",
       "2     Afghanistan  2012         NaN\n",
       "3     Afghanistan  2013         NaN\n",
       "4          Africa  1961    0.333496\n",
       "...           ...   ...         ...\n",
       "6356     Zimbabwe  2015         NaN\n",
       "6357     Zimbabwe  2016         NaN\n",
       "6358     Zimbabwe  2017         NaN\n",
       "6359     Zimbabwe  2018         NaN\n",
       "6360     Zimbabwe  2019         NaN\n",
       "\n",
       "[6361 rows x 3 columns]"
      ]
     },
     "execution_count": 79,
     "metadata": {},
     "output_type": "execute_result"
    }
   ],
   "source": [
    "palm"
   ]
  },
  {
   "cell_type": "code",
   "execution_count": 80,
   "id": "5d4097db",
   "metadata": {},
   "outputs": [],
   "source": [
    "oils[\"palm_and_kernel_oil_production\"] = oils[\"palm_production\"] + oils[\"palm_kernel_production\"]"
   ]
  },
  {
   "cell_type": "code",
   "execution_count": null,
   "id": "516c6e74",
   "metadata": {},
   "outputs": [],
   "source": []
  },
  {
   "cell_type": "code",
   "execution_count": 81,
   "id": "07aa63d1",
   "metadata": {},
   "outputs": [],
   "source": [
    "oils[\"palm_oil_yield\"] = oils[\"palm_and_kernel_oil_production\"] / oils[\"palm_area\"]\n",
    "oils[\"sunflower_oil_yield\"] = oils[\"sunflower_production\"] / oils[\"sunflower_area\"]\n",
    "oils[\"rapeseed_oil_yield\"] = oils[\"rapeseed_production\"] / oils[\"rapeseed_area\"]\n",
    "oils[\"soybean_oil_yield\"] = oils[\"soybean_production\"] / oils[\"soybean_area\"]\n",
    "oils[\"olive_oil_yield\"] = oils[\"olive_production\"] / oils[\"olive_area\"]\n",
    "oils[\"coconut_oil_yield\"] = oils[\"coconut_production\"] / oils[\"coconut_area\"]\n",
    "oils[\"groundnut_oil_yield\"] = oils[\"groundnut_production\"] / oils[\"groundnut_area\"]\n",
    "oils[\"cottonseed_oil_yield\"] = oils[\"cottonseed_production\"] / oils[\"cottonseed_area\"]\n",
    "oils[\"sesame_oil_yield\"] = oils[\"sesame_production\"] / oils[\"sesame_area\"]"
   ]
  },
  {
   "cell_type": "code",
   "execution_count": 82,
   "id": "ef83035f",
   "metadata": {},
   "outputs": [],
   "source": [
    "oils[\"area_one_tonne_palm\"] = 1 / oils[\"palm_oil_yield\"]\n",
    "oils[\"area_one_tonne_sunflower\"] = 1 / oils[\"sunflower_oil_yield\"]\n",
    "oils[\"area_one_tonne_rapeseed\"] = 1 / oils[\"rapeseed_oil_yield\"]\n",
    "oils[\"area_one_tonne_soybean\"] = 1 / oils[\"soybean_oil_yield\"]\n",
    "oils[\"area_one_tonne_olive\"] = 1 / oils[\"olive_oil_yield\"]\n",
    "oils[\"area_one_tonne_coconut\"] = 1 / oils[\"coconut_oil_yield\"]\n",
    "oils[\"area_one_tonne_groundnut\"] = 1 / oils[\"groundnut_oil_yield\"]\n",
    "oils[\"area_one_tonne_cottonseed\"] = 1 / oils[\"cottonseed_oil_yield\"]\n",
    "oils[\"area_one_tonne_sesame\"] = 1 / oils[\"sesame_oil_yield\"]"
   ]
  },
  {
   "cell_type": "code",
   "execution_count": 83,
   "id": "5607d18e",
   "metadata": {},
   "outputs": [],
   "source": [
    "## Global production of vegetable oils in 2020 was 225.67 million tonnes\n",
    "## Calculate area needed to produce all of this from one type of oilcrop\n",
    "oils[\"area_global_demand_palm\"] = 225.67E6 / oils[\"palm_oil_yield\"]\n",
    "oils[\"area_global_demand_sunflower\"] = 225.67E6 / oils[\"sunflower_oil_yield\"]\n",
    "oils[\"area_global_demand_rapeseed\"] = 225.67E6 / oils[\"rapeseed_oil_yield\"]\n",
    "oils[\"area_global_demand_soybean\"] = 225.67E6 / oils[\"soybean_oil_yield\"]\n",
    "oils[\"area_global_demand_olive\"] = 225.67E6 / oils[\"olive_oil_yield\"]\n",
    "oils[\"area_global_demand_coconut\"] = 225.67E6 / oils[\"coconut_oil_yield\"]\n",
    "oils[\"area_global_demand_groundnut\"] = 225.67E6 / oils[\"groundnut_oil_yield\"]\n",
    "oils[\"area_global_demand_cottonseed\"] = 225.67E6 / oils[\"cottonseed_oil_yield\"]\n",
    "oils[\"area_global_demand_sesame\"] = 225.67E6 / oils[\"sesame_oil_yield\"]"
   ]
  },
  {
   "cell_type": "code",
   "execution_count": 84,
   "id": "77e05999",
   "metadata": {},
   "outputs": [],
   "source": [
    "oils = oils.drop(columns=[\"palm_production\",\n",
    "                          \"palm_kernel_production\",\n",
    "                          \"palm_area\",\n",
    "                          \"palm_and_kernel_oil_production\",\n",
    "                          \"sunflower_production\",\n",
    "                          \"sunflower_area\",\n",
    "                          \"rapeseed_production\",\n",
    "                          \"rapeseed_area\",\n",
    "                          \"soybean_production\",\n",
    "                          \"soybean_area\",\n",
    "                          \"olive_production\",\n",
    "                          \"olive_area\",\n",
    "                          \"coconut_production\",\n",
    "                          \"coconut_area\",\n",
    "                          \"groundnut_production\",\n",
    "                          \"groundnut_area\",\n",
    "                          \"cottonseed_production\",\n",
    "                          \"cottonseed_area\",\n",
    "                          \"sesame_production\",\n",
    "                          \"sesame_area\"\n",
    "                         ]\n",
    "                )"
   ]
  },
  {
   "cell_type": "code",
   "execution_count": 85,
   "id": "629ceaa5",
   "metadata": {},
   "outputs": [],
   "source": [
    "oils = oils.replace([np.inf, -np.inf], np.nan, inplace=False)"
   ]
  },
  {
   "cell_type": "code",
   "execution_count": 86,
   "id": "0ce28f99",
   "metadata": {},
   "outputs": [],
   "source": [
    "oils.to_csv(\"output/Vegetable oil yields (FAO).csv\", index=False)"
   ]
  }
 ],
 "metadata": {
  "kernelspec": {
   "display_name": "Python 3 (ipykernel)",
   "language": "python",
   "name": "python3"
  },
  "language_info": {
   "codemirror_mode": {
    "name": "ipython",
    "version": 3
   },
   "file_extension": ".py",
   "mimetype": "text/x-python",
   "name": "python",
   "nbconvert_exporter": "python",
   "pygments_lexer": "ipython3",
   "version": "3.8.9"
  }
 },
 "nbformat": 4,
 "nbformat_minor": 5
}
