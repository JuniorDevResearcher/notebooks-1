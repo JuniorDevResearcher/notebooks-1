{
 "cells": [
  {
   "cell_type": "code",
   "execution_count": 1,
   "metadata": {},
   "outputs": [],
   "source": [
    "# Import packages\n",
    "import pandas as pd"
   ]
  },
  {
   "cell_type": "code",
   "execution_count": 2,
   "metadata": {},
   "outputs": [],
   "source": [
    "# Import raw emissions file from CAIT\n",
    "df = pd.read_csv(\"historical_emissions.csv\")"
   ]
  },
  {
   "cell_type": "code",
   "execution_count": 3,
   "metadata": {},
   "outputs": [],
   "source": [
    "# Drop 'Data source' and 'Unit' columns\n",
    "df = df.drop(columns=[\"Data source\", \"Unit\"])"
   ]
  },
  {
   "cell_type": "code",
   "execution_count": 4,
   "metadata": {},
   "outputs": [],
   "source": [
    "# Convert years into rows\n",
    "df = df.melt(\n",
    "    id_vars=[\"Country\", \"Sector\", \"Gas\"], \n",
    "    var_name=\"Date\", \n",
    "    value_name=\"Value\"\n",
    ")"
   ]
  },
  {
   "cell_type": "code",
   "execution_count": 5,
   "metadata": {},
   "outputs": [],
   "source": [
    "# Country mapping of OWID country names\n",
    "country_mapping = pd.read_csv(\"cait_country_standardized.csv\")"
   ]
  },
  {
   "cell_type": "code",
   "execution_count": 6,
   "metadata": {},
   "outputs": [],
   "source": [
    "# Import population dataset\n",
    "population = pd.read_csv(\"population.csv\")"
   ]
  },
  {
   "cell_type": "code",
   "execution_count": 7,
   "metadata": {},
   "outputs": [],
   "source": [
    "for gas in [\"All GHG\", \"CO2\", \"CH4\", \"N2O\"]:\n",
    "\n",
    "    gas_df = df.loc[df[\"Gas\"] == gas]\n",
    "\n",
    "gas_df = gas_df.pivot_table(\n",
    "    index=[\"Country\", \"Date\"],\n",
    "    columns=\"Sector\",\n",
    "    values=\"Value\"\n",
    ").reset_index()\n",
    "\n",
    "# Add country mapping of OWID country names\n",
    "gas_df = pd.merge(gas_df, country_mapping, on=\"Country\")\n",
    "gas_df = gas_df.drop(columns=[\"Country\"])\n",
    "\n",
    "# Rename columns\n",
    "gas_df = gas_df.rename(columns={\n",
    "        \"OWIDCountry\": \"Country\",\n",
    "        \"Date\": \"Year\",\n",
    "        \"Industrial Processes\": \"Industry\",\n",
    "        \"Electricity/Heat\": \"Electricity & Heat\",\n",
    "        \"Bunker Fuels\": \"International aviation & shipping\",\n",
    "        \"Transportation\": \"Transport\",\n",
    "        \"Manufacturing/Construction\": \"Manufacturing & Construction\",\n",
    "        \"Building\": \"Buildings\"\n",
    "    })\n"
   ]
  },
  {
   "cell_type": "code",
   "execution_count": 8,
   "metadata": {},
   "outputs": [],
   "source": [
    "gas_df = gas_df.merge(population, how=\"left\", on=[\"Country\", \"Year\"])\n",
    "columns_per_capita = ['Agriculture',\n",
    "                      'Buildings',\n",
    "                      'Electricity & Heat',\n",
    "                      'Fugitive Emissions',\n",
    "                      'Industry',\n",
    "                      'International aviation & shipping',\n",
    "                      'Land-Use Change and Forestry',\n",
    "                      'Manufacturing & Construction',\n",
    "                      'Total excluding LUCF',\n",
    "                      'Total including LUCF',\n",
    "                      'Transport',\n",
    "                      'Waste'\n",
    "                     ]\n",
    "\n",
    "for col in columns_per_capita:\n",
    "    if col in gas_df.columns: \n",
    "        gas_df[f\"{col} (per capita)\"] = gas_df[col] / gas_df['Population'] * 1000000\n",
    "        \n",
    "gas_df = gas_df.drop(columns=[\"Population\"])"
   ]
  },
  {
   "cell_type": "code",
   "execution_count": 9,
   "metadata": {},
   "outputs": [],
   "source": [
    "left_columns = [\"Country\", \"Year\"]\n",
    "other_columns = sorted([col for col in gas_df.columns if col not in left_columns])\n",
    "column_order = left_columns + other_columns\n",
    "gas_df = gas_df[column_order]\n",
    "\n",
    "if gas == \"All GHG\": filename = \"all_ghg_emissions.csv\"\n",
    "else: filename = f\"{gas}_by_sector.csv\"\n",
    "gas_df.to_csv(filename, index=False)"
   ]
  }
 ],
 "metadata": {
  "kernelspec": {
   "display_name": "Python 3 (ipykernel)",
   "language": "python",
   "name": "python3"
  },
  "language_info": {
   "codemirror_mode": {
    "name": "ipython",
    "version": 3
   },
   "file_extension": ".py",
   "mimetype": "text/x-python",
   "name": "python",
   "nbconvert_exporter": "python",
   "pygments_lexer": "ipython3",
   "version": "3.9.7"
  }
 },
 "nbformat": 4,
 "nbformat_minor": 4
}
