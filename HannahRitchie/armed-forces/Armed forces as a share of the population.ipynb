{
 "cells": [
  {
   "cell_type": "code",
   "execution_count": 44,
   "id": "578b0054",
   "metadata": {},
   "outputs": [],
   "source": [
    "import pandas as pd"
   ]
  },
  {
   "cell_type": "code",
   "execution_count": 45,
   "id": "30cb72c9",
   "metadata": {},
   "outputs": [],
   "source": [
    "# Import data on Armed forces personnel from World Bank World Development Indicators\n",
    "# Source: http://databank.worldbank.org/data/download/WDI_csv.zip\n",
    "# File: WDIData.csv\n",
    "# Metrics: \"Armed forces personnel, total\"\n",
    "armed_forces = pd.read_csv(\"inputs/armed-forces-personnel.csv\", encoding=\"latin1\")"
   ]
  },
  {
   "cell_type": "code",
   "execution_count": 46,
   "id": "588ccc0d",
   "metadata": {},
   "outputs": [],
   "source": [
    "# Import population data from our Our World in Data population dataset\n",
    "# URL: https://ourworldindata.org/grapher/population\n",
    "population = pd.read_csv(\"inputs/population.csv\", encoding=\"latin1\")"
   ]
  },
  {
   "cell_type": "code",
   "execution_count": 47,
   "id": "6c901832",
   "metadata": {},
   "outputs": [],
   "source": [
    "armed_forces = pd.merge(armed_forces, population)"
   ]
  },
  {
   "cell_type": "code",
   "execution_count": 48,
   "id": "b77233a2",
   "metadata": {},
   "outputs": [],
   "source": [
    "armed_forces[\"armed_forces_share_population\"] = armed_forces[\"Armed forces personnel, total\"] / armed_forces[\"Population (historical estimates)\"] * 100"
   ]
  },
  {
   "cell_type": "code",
   "execution_count": 49,
   "id": "4204d6f8",
   "metadata": {},
   "outputs": [
    {
     "data": {
      "text/html": [
       "<div>\n",
       "<style scoped>\n",
       "    .dataframe tbody tr th:only-of-type {\n",
       "        vertical-align: middle;\n",
       "    }\n",
       "\n",
       "    .dataframe tbody tr th {\n",
       "        vertical-align: top;\n",
       "    }\n",
       "\n",
       "    .dataframe thead th {\n",
       "        text-align: right;\n",
       "    }\n",
       "</style>\n",
       "<table border=\"1\" class=\"dataframe\">\n",
       "  <thead>\n",
       "    <tr style=\"text-align: right;\">\n",
       "      <th></th>\n",
       "      <th>Entity</th>\n",
       "      <th>Year</th>\n",
       "      <th>Armed forces personnel, total</th>\n",
       "      <th>Population (historical estimates)</th>\n",
       "      <th>armed_forces_share_population</th>\n",
       "    </tr>\n",
       "  </thead>\n",
       "  <tbody>\n",
       "    <tr>\n",
       "      <th>0</th>\n",
       "      <td>Afghanistan</td>\n",
       "      <td>1985</td>\n",
       "      <td>47000</td>\n",
       "      <td>11938204</td>\n",
       "      <td>0.393694</td>\n",
       "    </tr>\n",
       "    <tr>\n",
       "      <th>1</th>\n",
       "      <td>Afghanistan</td>\n",
       "      <td>1989</td>\n",
       "      <td>55000</td>\n",
       "      <td>11868873</td>\n",
       "      <td>0.463397</td>\n",
       "    </tr>\n",
       "    <tr>\n",
       "      <th>2</th>\n",
       "      <td>Afghanistan</td>\n",
       "      <td>1990</td>\n",
       "      <td>58000</td>\n",
       "      <td>12412311</td>\n",
       "      <td>0.467278</td>\n",
       "    </tr>\n",
       "    <tr>\n",
       "      <th>3</th>\n",
       "      <td>Afghanistan</td>\n",
       "      <td>1991</td>\n",
       "      <td>45000</td>\n",
       "      <td>13299016</td>\n",
       "      <td>0.338371</td>\n",
       "    </tr>\n",
       "    <tr>\n",
       "      <th>4</th>\n",
       "      <td>Afghanistan</td>\n",
       "      <td>1992</td>\n",
       "      <td>45000</td>\n",
       "      <td>14485543</td>\n",
       "      <td>0.310655</td>\n",
       "    </tr>\n",
       "    <tr>\n",
       "      <th>...</th>\n",
       "      <td>...</td>\n",
       "      <td>...</td>\n",
       "      <td>...</td>\n",
       "      <td>...</td>\n",
       "      <td>...</td>\n",
       "    </tr>\n",
       "    <tr>\n",
       "      <th>5073</th>\n",
       "      <td>Zimbabwe</td>\n",
       "      <td>2014</td>\n",
       "      <td>50800</td>\n",
       "      <td>13586710</td>\n",
       "      <td>0.373895</td>\n",
       "    </tr>\n",
       "    <tr>\n",
       "      <th>5074</th>\n",
       "      <td>Zimbabwe</td>\n",
       "      <td>2015</td>\n",
       "      <td>50800</td>\n",
       "      <td>13814642</td>\n",
       "      <td>0.367726</td>\n",
       "    </tr>\n",
       "    <tr>\n",
       "      <th>5075</th>\n",
       "      <td>Zimbabwe</td>\n",
       "      <td>2016</td>\n",
       "      <td>50800</td>\n",
       "      <td>14030338</td>\n",
       "      <td>0.362073</td>\n",
       "    </tr>\n",
       "    <tr>\n",
       "      <th>5076</th>\n",
       "      <td>Zimbabwe</td>\n",
       "      <td>2017</td>\n",
       "      <td>51000</td>\n",
       "      <td>14236599</td>\n",
       "      <td>0.358232</td>\n",
       "    </tr>\n",
       "    <tr>\n",
       "      <th>5077</th>\n",
       "      <td>Zimbabwe</td>\n",
       "      <td>2018</td>\n",
       "      <td>51000</td>\n",
       "      <td>14438812</td>\n",
       "      <td>0.353215</td>\n",
       "    </tr>\n",
       "  </tbody>\n",
       "</table>\n",
       "<p>5078 rows × 5 columns</p>\n",
       "</div>"
      ],
      "text/plain": [
       "           Entity  Year  Armed forces personnel, total  \\\n",
       "0     Afghanistan  1985                          47000   \n",
       "1     Afghanistan  1989                          55000   \n",
       "2     Afghanistan  1990                          58000   \n",
       "3     Afghanistan  1991                          45000   \n",
       "4     Afghanistan  1992                          45000   \n",
       "...           ...   ...                            ...   \n",
       "5073     Zimbabwe  2014                          50800   \n",
       "5074     Zimbabwe  2015                          50800   \n",
       "5075     Zimbabwe  2016                          50800   \n",
       "5076     Zimbabwe  2017                          51000   \n",
       "5077     Zimbabwe  2018                          51000   \n",
       "\n",
       "      Population (historical estimates)  armed_forces_share_population  \n",
       "0                              11938204                       0.393694  \n",
       "1                              11868873                       0.463397  \n",
       "2                              12412311                       0.467278  \n",
       "3                              13299016                       0.338371  \n",
       "4                              14485543                       0.310655  \n",
       "...                                 ...                            ...  \n",
       "5073                           13586710                       0.373895  \n",
       "5074                           13814642                       0.367726  \n",
       "5075                           14030338                       0.362073  \n",
       "5076                           14236599                       0.358232  \n",
       "5077                           14438812                       0.353215  \n",
       "\n",
       "[5078 rows x 5 columns]"
      ]
     },
     "execution_count": 49,
     "metadata": {},
     "output_type": "execute_result"
    }
   ],
   "source": [
    "armed_forces"
   ]
  },
  {
   "cell_type": "code",
   "execution_count": 50,
   "id": "2159967e",
   "metadata": {},
   "outputs": [],
   "source": [
    "armed_forces = armed_forces.drop(columns=[\"Armed forces personnel, total\", \"Population (historical estimates)\"])"
   ]
  },
  {
   "cell_type": "code",
   "execution_count": 51,
   "id": "7653462f",
   "metadata": {},
   "outputs": [],
   "source": [
    "armed_forces.to_csv(\"output/Armed forces as share of population (OWID based on World Bank).csv\", index=False)"
   ]
  },
  {
   "cell_type": "code",
   "execution_count": null,
   "id": "4881466e",
   "metadata": {},
   "outputs": [],
   "source": []
  }
 ],
 "metadata": {
  "kernelspec": {
   "display_name": "Python 3 (ipykernel)",
   "language": "python",
   "name": "python3"
  },
  "language_info": {
   "codemirror_mode": {
    "name": "ipython",
    "version": 3
   },
   "file_extension": ".py",
   "mimetype": "text/x-python",
   "name": "python",
   "nbconvert_exporter": "python",
   "pygments_lexer": "ipython3",
   "version": "3.9.7"
  }
 },
 "nbformat": 4,
 "nbformat_minor": 5
}
