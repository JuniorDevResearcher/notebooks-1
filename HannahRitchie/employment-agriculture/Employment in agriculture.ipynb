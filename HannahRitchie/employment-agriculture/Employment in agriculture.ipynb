{
 "cells": [
  {
   "cell_type": "code",
   "execution_count": 21,
   "id": "2d3a8085",
   "metadata": {},
   "outputs": [],
   "source": [
    "import pandas as pd"
   ]
  },
  {
   "cell_type": "code",
   "execution_count": 22,
   "id": "9f113b7b",
   "metadata": {},
   "outputs": [],
   "source": [
    "# Add manual historical (pre-1991) files from literature review. Sources listed at: \n",
    "historical_numbers = pd.read_csv(\"inputs/historical_number_agriculture.csv\", encoding=\"latin1\")\n",
    "historical_shares = pd.read_csv(\"inputs/historical_agriculture_shares.csv\", encoding=\"latin1\")"
   ]
  },
  {
   "cell_type": "code",
   "execution_count": 23,
   "id": "a61d613c",
   "metadata": {},
   "outputs": [],
   "source": [
    "historical = pd.merge(historical_numbers, historical_shares, how=\"outer\")"
   ]
  },
  {
   "cell_type": "code",
   "execution_count": 24,
   "id": "2a4a4265",
   "metadata": {},
   "outputs": [],
   "source": [
    "# Import data from 1991 onwards from World Bank World Development Indicators\n",
    "# Source: http://databank.worldbank.org/data/download/WDI_csv.zip\n",
    "# File: WDIData.csv\n",
    "# Metrics: \"Labor force, total\", \"Employment in agriculture (% of total employment) (modeled ILO estimate)\", \"Employment in services (% of total employment) (modeled ILO estimate)\", \"Employment in industry (% of total employment) (modeled ILO estimate)\"\n",
    "# Here we use these metrics, already imported into our grapher\n",
    "employment_wb = pd.read_csv(\"inputs/employment_wb.csv\", encoding=\"latin1\")"
   ]
  },
  {
   "cell_type": "code",
   "execution_count": 25,
   "id": "6d9f4d82",
   "metadata": {},
   "outputs": [],
   "source": [
    "employment_wb = employment_wb.rename(columns={\"Labor force, total\":\"labor_force\",\n",
    "                                             \"Employment in agriculture (% of total employment) (modeled ILO estimate)\":\"share_employed_agri\",\n",
    "                                             \"Employment in services (% of total employment) (modeled ILO estimate)\":\"share_employed_services\",\n",
    "                                             \"Employment in industry (% of total employment) (modeled ILO estimate)\":\"share_employed_industry\"\n",
    "                                             }\n",
    "                                    )"
   ]
  },
  {
   "cell_type": "code",
   "execution_count": 26,
   "id": "b5f0ce5d",
   "metadata": {},
   "outputs": [],
   "source": [
    "employment_wb = employment_wb.loc[employment_wb[\"Year\"] != 1990]"
   ]
  },
  {
   "cell_type": "code",
   "execution_count": 27,
   "id": "98cbf592",
   "metadata": {},
   "outputs": [],
   "source": [
    "employment_wb[\"number_employed_agri\"] = employment_wb[\"labor_force\"] / 100 * employment_wb[\"share_employed_agri\"]\n",
    "employment_wb[\"number_employed_industry\"] = employment_wb[\"labor_force\"] / 100 * employment_wb[\"share_employed_industry\"]\n",
    "employment_wb[\"number_employed_services\"] = employment_wb[\"labor_force\"] / 100 * employment_wb[\"share_employed_services\"]"
   ]
  },
  {
   "cell_type": "code",
   "execution_count": 28,
   "id": "b2adca3f",
   "metadata": {},
   "outputs": [],
   "source": [
    "combined = pd.concat([employment_wb, historical])"
   ]
  },
  {
   "cell_type": "code",
   "execution_count": 29,
   "id": "1662d57c",
   "metadata": {},
   "outputs": [],
   "source": [
    "combined.to_csv(\"output/Shares and numbers employed by sector (World Bank and historical sources).csv\", index=False)"
   ]
  },
  {
   "cell_type": "code",
   "execution_count": null,
   "id": "6db60959",
   "metadata": {},
   "outputs": [],
   "source": []
  }
 ],
 "metadata": {
  "kernelspec": {
   "display_name": "Python 3 (ipykernel)",
   "language": "python",
   "name": "python3"
  },
  "language_info": {
   "codemirror_mode": {
    "name": "ipython",
    "version": 3
   },
   "file_extension": ".py",
   "mimetype": "text/x-python",
   "name": "python",
   "nbconvert_exporter": "python",
   "pygments_lexer": "ipython3",
   "version": "3.9.7"
  }
 },
 "nbformat": 4,
 "nbformat_minor": 5
}
