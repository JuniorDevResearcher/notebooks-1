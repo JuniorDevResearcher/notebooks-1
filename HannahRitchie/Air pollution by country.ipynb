{
 "cells": [
  {
   "cell_type": "code",
   "execution_count": 33,
   "id": "133bd171",
   "metadata": {},
   "outputs": [],
   "source": [
    "import pandas as pd"
   ]
  },
  {
   "cell_type": "code",
   "execution_count": 34,
   "id": "239b1333",
   "metadata": {},
   "outputs": [],
   "source": [
    "countries = pd.read_csv(\"inputs/countries.csv\")\n",
    "population = pd.read_csv(\"inputs/population.csv\")\n",
    "regions = pd.read_csv(\"inputs/owid_regions.csv\")\n",
    "income_groups = pd.read_csv(\"inputs/income_groups.csv\")\n",
    "world = pd.read_csv(\"inputs/world_countries.csv\")"
   ]
  },
  {
   "cell_type": "markdown",
   "id": "c5b4afbb",
   "metadata": {},
   "source": [
    "# Emissions by country"
   ]
  },
  {
   "cell_type": "code",
   "execution_count": 35,
   "id": "07ec9be2",
   "metadata": {},
   "outputs": [],
   "source": [
    "nox = pd.read_csv(\"inputs/NOx_CEDS_emissions_by_country_2021_04_21.csv\")\n",
    "nox = nox.drop(columns=[\"em\", \"units\"])\n",
    "nox = nox.melt(id_vars=[\"country\"],\n",
    "               var_name=\"Year\",\n",
    "               value_name=\"nox\")\n",
    "nox[\"Year\"] = nox[\"Year\"].str.replace('X', '')"
   ]
  },
  {
   "cell_type": "code",
   "execution_count": 36,
   "id": "78c6a3d6",
   "metadata": {},
   "outputs": [],
   "source": [
    "so2 = pd.read_csv(\"inputs/SO2_CEDS_emissions_by_country_2021_04_21.csv\")\n",
    "so2 = so2.drop(columns=[\"em\", \"units\"])\n",
    "so2 = so2.melt(id_vars=[\"country\"],\n",
    "               var_name=\"Year\",\n",
    "               value_name=\"so2\")\n",
    "so2[\"Year\"] = so2[\"Year\"].str.replace('X', '')"
   ]
  },
  {
   "cell_type": "code",
   "execution_count": 37,
   "id": "124ea6eb",
   "metadata": {},
   "outputs": [],
   "source": [
    "co = pd.read_csv(\"inputs/CO_CEDS_emissions_by_country_2021_04_21.csv\")\n",
    "co = co.drop(columns=[\"em\", \"units\"])\n",
    "co = co.melt(id_vars=[\"country\"],\n",
    "               var_name=\"Year\",\n",
    "               value_name=\"co\")\n",
    "co[\"Year\"] = co[\"Year\"].str.replace('X', '')"
   ]
  },
  {
   "cell_type": "code",
   "execution_count": 38,
   "id": "9604df11",
   "metadata": {},
   "outputs": [],
   "source": [
    "oc = pd.read_csv(\"inputs/OC_CEDS_emissions_by_country_2021_04_21.csv\")\n",
    "oc = oc.drop(columns=[\"em\", \"units\"])\n",
    "oc = oc.melt(id_vars=[\"country\"],\n",
    "               var_name=\"Year\",\n",
    "               value_name=\"oc\")\n",
    "oc[\"Year\"] = oc[\"Year\"].str.replace('X', '')"
   ]
  },
  {
   "cell_type": "code",
   "execution_count": 39,
   "id": "03a76419",
   "metadata": {},
   "outputs": [],
   "source": [
    "nmvoc = pd.read_csv(\"inputs/NMVOC_CEDS_emissions_by_country_2021_04_21.csv\")\n",
    "nmvoc = nmvoc.drop(columns=[\"em\", \"units\"])\n",
    "nmvoc = nmvoc.melt(id_vars=[\"country\"],\n",
    "               var_name=\"Year\",\n",
    "               value_name=\"nmvoc\")\n",
    "nmvoc[\"Year\"] = nmvoc[\"Year\"].str.replace('X', '')"
   ]
  },
  {
   "cell_type": "code",
   "execution_count": 40,
   "id": "8a07e7e6",
   "metadata": {},
   "outputs": [],
   "source": [
    "bc = pd.read_csv(\"inputs/BC_CEDS_emissions_by_country_2021_04_21.csv\")\n",
    "bc = bc.drop(columns=[\"em\", \"units\"])\n",
    "bc = bc.melt(id_vars=[\"country\"],\n",
    "               var_name=\"Year\",\n",
    "               value_name=\"bc\")\n",
    "bc[\"Year\"] = bc[\"Year\"].str.replace('X', '')"
   ]
  },
  {
   "cell_type": "code",
   "execution_count": 41,
   "id": "281923cb",
   "metadata": {},
   "outputs": [],
   "source": [
    "nh3 = pd.read_csv(\"inputs/NH3_CEDS_emissions_by_country_2021_04_21.csv\")\n",
    "nh3 = nh3.drop(columns=[\"em\", \"units\"])\n",
    "nh3 = nh3.melt(id_vars=[\"country\"],\n",
    "               var_name=\"Year\",\n",
    "               value_name=\"nh3\")\n",
    "nh3[\"Year\"] = nh3[\"Year\"].str.replace('X', '')"
   ]
  },
  {
   "cell_type": "code",
   "execution_count": 42,
   "id": "538e386f",
   "metadata": {},
   "outputs": [],
   "source": [
    "combined = pd.merge(nox, so2)\n",
    "combined = pd.merge(combined, co)\n",
    "combined = pd.merge(combined, oc)\n",
    "combined = pd.merge(combined, nmvoc)\n",
    "combined = pd.merge(combined, bc)\n",
    "combined = pd.merge(combined, nh3)"
   ]
  },
  {
   "cell_type": "code",
   "execution_count": 43,
   "id": "74eb3e49",
   "metadata": {},
   "outputs": [],
   "source": [
    "by_country = pd.merge(combined, countries)"
   ]
  },
  {
   "cell_type": "code",
   "execution_count": 44,
   "id": "d74a9de3",
   "metadata": {},
   "outputs": [],
   "source": [
    "by_country = by_country.drop(columns=[\"country\"])"
   ]
  },
  {
   "cell_type": "code",
   "execution_count": 45,
   "id": "cf8e1087",
   "metadata": {},
   "outputs": [],
   "source": [
    "## Convert from thousand tonnes to tonnes\n",
    "by_country[\"nox\"] = by_country[\"nox\"] * 1000\n",
    "by_country[\"so2\"] = by_country[\"so2\"] * 1000\n",
    "by_country[\"co\"] = by_country[\"co\"] * 1000\n",
    "by_country[\"oc\"] = by_country[\"oc\"] * 1000\n",
    "by_country[\"nmvoc\"] = by_country[\"nmvoc\"] * 1000\n",
    "by_country[\"bc\"] = by_country[\"bc\"] * 1000\n",
    "by_country[\"nh3\"] = by_country[\"nh3\"] * 1000"
   ]
  },
  {
   "cell_type": "code",
   "execution_count": 46,
   "id": "41ea45b9",
   "metadata": {},
   "outputs": [],
   "source": [
    "population = population.rename(columns={\"country\":\"Entity\",\n",
    "                                       \"year\":\"Year\"})\n",
    "\n",
    "population = population.drop(columns=[\"world_pop_share\"])"
   ]
  },
  {
   "cell_type": "code",
   "execution_count": 47,
   "id": "4db78a02",
   "metadata": {},
   "outputs": [],
   "source": [
    "by_country[\"Year\"] = by_country[\"Year\"].astype(int)\n",
    "population[\"Year\"] = population[\"Year\"].astype(int)"
   ]
  },
  {
   "cell_type": "code",
   "execution_count": 48,
   "id": "0ba4245c",
   "metadata": {},
   "outputs": [],
   "source": [
    "by_country = pd.merge(by_country, population)"
   ]
  },
  {
   "cell_type": "markdown",
   "id": "98538946",
   "metadata": {},
   "source": [
    "# Calculate totals by region"
   ]
  },
  {
   "cell_type": "code",
   "execution_count": 49,
   "id": "fa9de1bd",
   "metadata": {},
   "outputs": [],
   "source": [
    "regions = pd.merge(by_country, regions, on=[\"Entity\"], how=\"inner\")"
   ]
  },
  {
   "cell_type": "code",
   "execution_count": 50,
   "id": "d8eb5a50",
   "metadata": {},
   "outputs": [
    {
     "name": "stderr",
     "output_type": "stream",
     "text": [
      "/var/folders/yw/t447kqtj65z8nt_wtmv6vj9c0000gn/T/ipykernel_6968/2143612132.py:1: FutureWarning: Indexing with multiple keys (implicitly converted to a tuple of keys) will be deprecated, use a list instead.\n",
      "  region_totals = regions.groupby([\"Region\",\"Year\"])[\"nox\", \"so2\", \"co\", \"oc\", \"nmvoc\", \"bc\", \"nh3\", \"population\"].sum().reset_index()\n"
     ]
    }
   ],
   "source": [
    "region_totals = regions.groupby([\"Region\",\"Year\"])[\"nox\", \"so2\", \"co\", \"oc\", \"nmvoc\", \"bc\", \"nh3\", \"population\"].sum().reset_index()"
   ]
  },
  {
   "cell_type": "code",
   "execution_count": 51,
   "id": "7a3799b9",
   "metadata": {},
   "outputs": [],
   "source": [
    "region_totals = region_totals.rename(columns={\"Region\":\"Entity\"})"
   ]
  },
  {
   "cell_type": "markdown",
   "id": "e3890e6e",
   "metadata": {},
   "source": [
    "# Calculate global total"
   ]
  },
  {
   "cell_type": "code",
   "execution_count": 52,
   "id": "bfa55585",
   "metadata": {},
   "outputs": [],
   "source": [
    "world = pd.merge(by_country, world, on=[\"Entity\"], how=\"inner\")"
   ]
  },
  {
   "cell_type": "code",
   "execution_count": 53,
   "id": "e9474645",
   "metadata": {},
   "outputs": [
    {
     "name": "stderr",
     "output_type": "stream",
     "text": [
      "/var/folders/yw/t447kqtj65z8nt_wtmv6vj9c0000gn/T/ipykernel_6968/1400265718.py:1: FutureWarning: Indexing with multiple keys (implicitly converted to a tuple of keys) will be deprecated, use a list instead.\n",
      "  world_total = world.groupby([\"Region\",\"Year\"])[\"nox\", \"so2\", \"co\", \"oc\", \"nmvoc\", \"bc\", \"nh3\", \"population\"].sum().reset_index()\n"
     ]
    }
   ],
   "source": [
    "world_total = world.groupby([\"Region\",\"Year\"])[\"nox\", \"so2\", \"co\", \"oc\", \"nmvoc\", \"bc\", \"nh3\", \"population\"].sum().reset_index()\n",
    "world_total = world_total.rename(columns={\"Region\":\"Entity\"})"
   ]
  },
  {
   "cell_type": "markdown",
   "id": "4ca80864",
   "metadata": {},
   "source": [
    "# Calculate totals by income group"
   ]
  },
  {
   "cell_type": "code",
   "execution_count": 54,
   "id": "4dc8c92e",
   "metadata": {},
   "outputs": [],
   "source": [
    "income_groups = income_groups.rename(columns={\"country\":\"Entity\"})"
   ]
  },
  {
   "cell_type": "code",
   "execution_count": 55,
   "id": "942f87b4",
   "metadata": {},
   "outputs": [],
   "source": [
    "income = pd.merge(by_country, income_groups, on=[\"Entity\"], how=\"inner\")"
   ]
  },
  {
   "cell_type": "code",
   "execution_count": 56,
   "id": "f08c51e7",
   "metadata": {},
   "outputs": [
    {
     "name": "stderr",
     "output_type": "stream",
     "text": [
      "/var/folders/yw/t447kqtj65z8nt_wtmv6vj9c0000gn/T/ipykernel_6968/989755028.py:1: FutureWarning: Indexing with multiple keys (implicitly converted to a tuple of keys) will be deprecated, use a list instead.\n",
      "  income_totals = income.groupby([\"income_group\",\"Year\"])[\"nox\", \"so2\", \"co\", \"oc\", \"nmvoc\", \"bc\", \"nh3\", \"population\"].sum().reset_index()\n"
     ]
    }
   ],
   "source": [
    "income_totals = income.groupby([\"income_group\",\"Year\"])[\"nox\", \"so2\", \"co\", \"oc\", \"nmvoc\", \"bc\", \"nh3\", \"population\"].sum().reset_index()"
   ]
  },
  {
   "cell_type": "code",
   "execution_count": 57,
   "id": "b8b94225",
   "metadata": {},
   "outputs": [],
   "source": [
    "income_totals = income_totals.rename(columns={\"income_group\":\"Entity\"})"
   ]
  },
  {
   "cell_type": "markdown",
   "id": "7a6f36b1",
   "metadata": {},
   "source": [
    "# Concat country, income groups and regions"
   ]
  },
  {
   "cell_type": "code",
   "execution_count": 58,
   "id": "143fae26",
   "metadata": {},
   "outputs": [],
   "source": [
    "by_country = pd.concat([by_country, income_totals, region_totals, world_total])"
   ]
  },
  {
   "cell_type": "markdown",
   "id": "748b1563",
   "metadata": {},
   "source": [
    "# Calculate per capita emissions"
   ]
  },
  {
   "cell_type": "code",
   "execution_count": 59,
   "id": "43bb48fd",
   "metadata": {},
   "outputs": [],
   "source": [
    "# Multiply each by 1000 to convert from tonnes per capita to kilograms per capita\n",
    "by_country[\"nox_per_capita\"] = by_country[\"nox\"] / by_country[\"population\"] * 1000\n",
    "by_country[\"so2_per_capita\"] = by_country[\"so2\"] / by_country[\"population\"] * 1000\n",
    "by_country[\"co_per_capita\"] = by_country[\"co\"] / by_country[\"population\"] * 1000\n",
    "by_country[\"oc_per_capita\"] = by_country[\"oc\"] / by_country[\"population\"] * 1000\n",
    "by_country[\"nmvoc_per_capita\"] = by_country[\"nmvoc\"] / by_country[\"population\"] * 1000\n",
    "by_country[\"bc_per_capita\"] = by_country[\"bc\"] / by_country[\"population\"] * 1000\n",
    "by_country[\"nh3_per_capita\"] = by_country[\"nh3\"] / by_country[\"population\"] * 1000"
   ]
  },
  {
   "cell_type": "code",
   "execution_count": 60,
   "id": "e8b045dd",
   "metadata": {},
   "outputs": [],
   "source": [
    "by_country = by_country.drop(columns=[\"population\"])"
   ]
  },
  {
   "cell_type": "code",
   "execution_count": 61,
   "id": "e7d13ec6",
   "metadata": {},
   "outputs": [],
   "source": [
    "by_country = by_country[ [\"Entity\"] + [ col for col in by_country.columns if col != \"Entity\" ] ]"
   ]
  },
  {
   "cell_type": "code",
   "execution_count": 62,
   "id": "678b1289",
   "metadata": {},
   "outputs": [
    {
     "data": {
      "text/html": [
       "<div>\n",
       "<style scoped>\n",
       "    .dataframe tbody tr th:only-of-type {\n",
       "        vertical-align: middle;\n",
       "    }\n",
       "\n",
       "    .dataframe tbody tr th {\n",
       "        vertical-align: top;\n",
       "    }\n",
       "\n",
       "    .dataframe thead th {\n",
       "        text-align: right;\n",
       "    }\n",
       "</style>\n",
       "<table border=\"1\" class=\"dataframe\">\n",
       "  <thead>\n",
       "    <tr style=\"text-align: right;\">\n",
       "      <th></th>\n",
       "      <th>Entity</th>\n",
       "      <th>Year</th>\n",
       "      <th>nox</th>\n",
       "      <th>so2</th>\n",
       "      <th>co</th>\n",
       "      <th>oc</th>\n",
       "      <th>nmvoc</th>\n",
       "      <th>bc</th>\n",
       "      <th>nh3</th>\n",
       "      <th>nox_per_capita</th>\n",
       "      <th>so2_per_capita</th>\n",
       "      <th>co_per_capita</th>\n",
       "      <th>oc_per_capita</th>\n",
       "      <th>nmvoc_per_capita</th>\n",
       "      <th>bc_per_capita</th>\n",
       "      <th>nh3_per_capita</th>\n",
       "    </tr>\n",
       "  </thead>\n",
       "  <tbody>\n",
       "    <tr>\n",
       "      <th>0</th>\n",
       "      <td>Aruba</td>\n",
       "      <td>1750</td>\n",
       "      <td>1.314951e-01</td>\n",
       "      <td>2.102971e-01</td>\n",
       "      <td>8.096439e+01</td>\n",
       "      <td>5.142993e+00</td>\n",
       "      <td>1.182583e+01</td>\n",
       "      <td>1.352049e+00</td>\n",
       "      <td>4.066145e+00</td>\n",
       "      <td>0.088430</td>\n",
       "      <td>0.141424</td>\n",
       "      <td>54.448143</td>\n",
       "      <td>3.458637</td>\n",
       "      <td>7.952813</td>\n",
       "      <td>0.909246</td>\n",
       "      <td>2.734462</td>\n",
       "    </tr>\n",
       "    <tr>\n",
       "      <th>1</th>\n",
       "      <td>Aruba</td>\n",
       "      <td>1760</td>\n",
       "      <td>1.403114e-01</td>\n",
       "      <td>2.236106e-01</td>\n",
       "      <td>8.609006e+01</td>\n",
       "      <td>5.468585e+00</td>\n",
       "      <td>1.258719e+01</td>\n",
       "      <td>1.437645e+00</td>\n",
       "      <td>4.375125e+00</td>\n",
       "      <td>0.087258</td>\n",
       "      <td>0.139061</td>\n",
       "      <td>53.538596</td>\n",
       "      <td>3.400861</td>\n",
       "      <td>7.827854</td>\n",
       "      <td>0.894058</td>\n",
       "      <td>2.720849</td>\n",
       "    </tr>\n",
       "    <tr>\n",
       "      <th>2</th>\n",
       "      <td>Aruba</td>\n",
       "      <td>1770</td>\n",
       "      <td>1.494873e-01</td>\n",
       "      <td>2.372893e-01</td>\n",
       "      <td>9.135637e+01</td>\n",
       "      <td>5.803109e+00</td>\n",
       "      <td>1.337248e+01</td>\n",
       "      <td>1.525588e+00</td>\n",
       "      <td>4.704933e+00</td>\n",
       "      <td>0.085912</td>\n",
       "      <td>0.136373</td>\n",
       "      <td>52.503659</td>\n",
       "      <td>3.335120</td>\n",
       "      <td>7.685331</td>\n",
       "      <td>0.876775</td>\n",
       "      <td>2.703984</td>\n",
       "    </tr>\n",
       "    <tr>\n",
       "      <th>3</th>\n",
       "      <td>Aruba</td>\n",
       "      <td>1780</td>\n",
       "      <td>1.589852e-01</td>\n",
       "      <td>2.512289e-01</td>\n",
       "      <td>9.672312e+01</td>\n",
       "      <td>6.144014e+00</td>\n",
       "      <td>1.417653e+01</td>\n",
       "      <td>1.615209e+00</td>\n",
       "      <td>5.056445e+00</td>\n",
       "      <td>0.084432</td>\n",
       "      <td>0.133419</td>\n",
       "      <td>51.366498</td>\n",
       "      <td>3.262886</td>\n",
       "      <td>7.528695</td>\n",
       "      <td>0.857785</td>\n",
       "      <td>2.685313</td>\n",
       "    </tr>\n",
       "    <tr>\n",
       "      <th>4</th>\n",
       "      <td>Aruba</td>\n",
       "      <td>1790</td>\n",
       "      <td>1.687518e-01</td>\n",
       "      <td>2.652916e-01</td>\n",
       "      <td>1.021373e+02</td>\n",
       "      <td>6.487930e+00</td>\n",
       "      <td>1.499246e+01</td>\n",
       "      <td>1.705622e+00</td>\n",
       "      <td>5.430453e+00</td>\n",
       "      <td>0.082843</td>\n",
       "      <td>0.130236</td>\n",
       "      <td>50.141023</td>\n",
       "      <td>3.185042</td>\n",
       "      <td>7.360070</td>\n",
       "      <td>0.837320</td>\n",
       "      <td>2.665907</td>\n",
       "    </tr>\n",
       "    <tr>\n",
       "      <th>...</th>\n",
       "      <td>...</td>\n",
       "      <td>...</td>\n",
       "      <td>...</td>\n",
       "      <td>...</td>\n",
       "      <td>...</td>\n",
       "      <td>...</td>\n",
       "      <td>...</td>\n",
       "      <td>...</td>\n",
       "      <td>...</td>\n",
       "      <td>...</td>\n",
       "      <td>...</td>\n",
       "      <td>...</td>\n",
       "      <td>...</td>\n",
       "      <td>...</td>\n",
       "      <td>...</td>\n",
       "      <td>...</td>\n",
       "    </tr>\n",
       "    <tr>\n",
       "      <th>220</th>\n",
       "      <td>World</td>\n",
       "      <td>2015</td>\n",
       "      <td>1.025216e+08</td>\n",
       "      <td>8.181639e+07</td>\n",
       "      <td>5.621606e+08</td>\n",
       "      <td>1.372956e+07</td>\n",
       "      <td>1.457811e+08</td>\n",
       "      <td>5.937445e+06</td>\n",
       "      <td>5.912275e+07</td>\n",
       "      <td>13.902250</td>\n",
       "      <td>11.094557</td>\n",
       "      <td>76.230731</td>\n",
       "      <td>1.861771</td>\n",
       "      <td>19.768373</td>\n",
       "      <td>0.805136</td>\n",
       "      <td>8.017230</td>\n",
       "    </tr>\n",
       "    <tr>\n",
       "      <th>221</th>\n",
       "      <td>World</td>\n",
       "      <td>2016</td>\n",
       "      <td>9.994123e+07</td>\n",
       "      <td>7.696303e+07</td>\n",
       "      <td>5.442772e+08</td>\n",
       "      <td>1.374982e+07</td>\n",
       "      <td>1.450386e+08</td>\n",
       "      <td>5.832946e+06</td>\n",
       "      <td>5.969983e+07</td>\n",
       "      <td>13.399515</td>\n",
       "      <td>10.318736</td>\n",
       "      <td>72.973390</td>\n",
       "      <td>1.843493</td>\n",
       "      <td>19.445892</td>\n",
       "      <td>0.782046</td>\n",
       "      <td>8.004191</td>\n",
       "    </tr>\n",
       "    <tr>\n",
       "      <th>222</th>\n",
       "      <td>World</td>\n",
       "      <td>2017</td>\n",
       "      <td>9.902069e+07</td>\n",
       "      <td>7.336582e+07</td>\n",
       "      <td>5.373715e+08</td>\n",
       "      <td>1.375129e+07</td>\n",
       "      <td>1.452396e+08</td>\n",
       "      <td>5.827398e+06</td>\n",
       "      <td>6.033984e+07</td>\n",
       "      <td>13.128738</td>\n",
       "      <td>9.727267</td>\n",
       "      <td>71.247829</td>\n",
       "      <td>1.823226</td>\n",
       "      <td>19.256708</td>\n",
       "      <td>0.772630</td>\n",
       "      <td>8.000206</td>\n",
       "    </tr>\n",
       "    <tr>\n",
       "      <th>223</th>\n",
       "      <td>World</td>\n",
       "      <td>2018</td>\n",
       "      <td>9.827819e+07</td>\n",
       "      <td>7.310964e+07</td>\n",
       "      <td>5.321118e+08</td>\n",
       "      <td>1.366982e+07</td>\n",
       "      <td>1.442477e+08</td>\n",
       "      <td>5.787969e+06</td>\n",
       "      <td>6.087641e+07</td>\n",
       "      <td>12.888282</td>\n",
       "      <td>9.587657</td>\n",
       "      <td>69.781569</td>\n",
       "      <td>1.792671</td>\n",
       "      <td>18.916764</td>\n",
       "      <td>0.759039</td>\n",
       "      <td>7.983382</td>\n",
       "    </tr>\n",
       "    <tr>\n",
       "      <th>224</th>\n",
       "      <td>World</td>\n",
       "      <td>2019</td>\n",
       "      <td>9.720728e+07</td>\n",
       "      <td>7.165716e+07</td>\n",
       "      <td>5.272669e+08</td>\n",
       "      <td>1.356807e+07</td>\n",
       "      <td>1.433979e+08</td>\n",
       "      <td>5.741293e+06</td>\n",
       "      <td>6.142059e+07</td>\n",
       "      <td>12.611811</td>\n",
       "      <td>9.296902</td>\n",
       "      <td>68.408362</td>\n",
       "      <td>1.760341</td>\n",
       "      <td>18.604642</td>\n",
       "      <td>0.744884</td>\n",
       "      <td>7.968795</td>\n",
       "    </tr>\n",
       "  </tbody>\n",
       "</table>\n",
       "<p>47535 rows × 16 columns</p>\n",
       "</div>"
      ],
      "text/plain": [
       "    Entity  Year           nox           so2            co            oc  \\\n",
       "0    Aruba  1750  1.314951e-01  2.102971e-01  8.096439e+01  5.142993e+00   \n",
       "1    Aruba  1760  1.403114e-01  2.236106e-01  8.609006e+01  5.468585e+00   \n",
       "2    Aruba  1770  1.494873e-01  2.372893e-01  9.135637e+01  5.803109e+00   \n",
       "3    Aruba  1780  1.589852e-01  2.512289e-01  9.672312e+01  6.144014e+00   \n",
       "4    Aruba  1790  1.687518e-01  2.652916e-01  1.021373e+02  6.487930e+00   \n",
       "..     ...   ...           ...           ...           ...           ...   \n",
       "220  World  2015  1.025216e+08  8.181639e+07  5.621606e+08  1.372956e+07   \n",
       "221  World  2016  9.994123e+07  7.696303e+07  5.442772e+08  1.374982e+07   \n",
       "222  World  2017  9.902069e+07  7.336582e+07  5.373715e+08  1.375129e+07   \n",
       "223  World  2018  9.827819e+07  7.310964e+07  5.321118e+08  1.366982e+07   \n",
       "224  World  2019  9.720728e+07  7.165716e+07  5.272669e+08  1.356807e+07   \n",
       "\n",
       "            nmvoc            bc           nh3  nox_per_capita  so2_per_capita  \\\n",
       "0    1.182583e+01  1.352049e+00  4.066145e+00        0.088430        0.141424   \n",
       "1    1.258719e+01  1.437645e+00  4.375125e+00        0.087258        0.139061   \n",
       "2    1.337248e+01  1.525588e+00  4.704933e+00        0.085912        0.136373   \n",
       "3    1.417653e+01  1.615209e+00  5.056445e+00        0.084432        0.133419   \n",
       "4    1.499246e+01  1.705622e+00  5.430453e+00        0.082843        0.130236   \n",
       "..            ...           ...           ...             ...             ...   \n",
       "220  1.457811e+08  5.937445e+06  5.912275e+07       13.902250       11.094557   \n",
       "221  1.450386e+08  5.832946e+06  5.969983e+07       13.399515       10.318736   \n",
       "222  1.452396e+08  5.827398e+06  6.033984e+07       13.128738        9.727267   \n",
       "223  1.442477e+08  5.787969e+06  6.087641e+07       12.888282        9.587657   \n",
       "224  1.433979e+08  5.741293e+06  6.142059e+07       12.611811        9.296902   \n",
       "\n",
       "     co_per_capita  oc_per_capita  nmvoc_per_capita  bc_per_capita  \\\n",
       "0        54.448143       3.458637          7.952813       0.909246   \n",
       "1        53.538596       3.400861          7.827854       0.894058   \n",
       "2        52.503659       3.335120          7.685331       0.876775   \n",
       "3        51.366498       3.262886          7.528695       0.857785   \n",
       "4        50.141023       3.185042          7.360070       0.837320   \n",
       "..             ...            ...               ...            ...   \n",
       "220      76.230731       1.861771         19.768373       0.805136   \n",
       "221      72.973390       1.843493         19.445892       0.782046   \n",
       "222      71.247829       1.823226         19.256708       0.772630   \n",
       "223      69.781569       1.792671         18.916764       0.759039   \n",
       "224      68.408362       1.760341         18.604642       0.744884   \n",
       "\n",
       "     nh3_per_capita  \n",
       "0          2.734462  \n",
       "1          2.720849  \n",
       "2          2.703984  \n",
       "3          2.685313  \n",
       "4          2.665907  \n",
       "..              ...  \n",
       "220        8.017230  \n",
       "221        8.004191  \n",
       "222        8.000206  \n",
       "223        7.983382  \n",
       "224        7.968795  \n",
       "\n",
       "[47535 rows x 16 columns]"
      ]
     },
     "execution_count": 62,
     "metadata": {},
     "output_type": "execute_result"
    }
   ],
   "source": [
    "by_country"
   ]
  },
  {
   "cell_type": "code",
   "execution_count": 63,
   "id": "33848800",
   "metadata": {},
   "outputs": [],
   "source": [
    "by_country.to_csv(\"output/Air pollution emissions (CEDS, 2022).csv\", index=False)"
   ]
  }
 ],
 "metadata": {
  "kernelspec": {
   "display_name": "Python 3 (ipykernel)",
   "language": "python",
   "name": "python3"
  },
  "language_info": {
   "codemirror_mode": {
    "name": "ipython",
    "version": 3
   },
   "file_extension": ".py",
   "mimetype": "text/x-python",
   "name": "python",
   "nbconvert_exporter": "python",
   "pygments_lexer": "ipython3",
   "version": "3.8.9"
  }
 },
 "nbformat": 4,
 "nbformat_minor": 5
}
