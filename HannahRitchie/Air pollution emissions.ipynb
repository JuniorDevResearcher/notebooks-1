{
 "cells": [
  {
   "cell_type": "code",
   "execution_count": 84,
   "id": "ff847f19",
   "metadata": {},
   "outputs": [],
   "source": [
    "import pandas as pd"
   ]
  },
  {
   "cell_type": "code",
   "execution_count": 85,
   "id": "55d25101",
   "metadata": {},
   "outputs": [],
   "source": [
    "countries = pd.read_csv(\"inputs/countries.csv\")"
   ]
  },
  {
   "cell_type": "code",
   "execution_count": 86,
   "id": "1cb444d0",
   "metadata": {},
   "outputs": [],
   "source": [
    "nox = pd.read_csv(\"inputs/nox.csv\")\n",
    "nox = nox.drop(columns=[\"em\", \"units\"])\n",
    "nox = nox.melt(id_vars=[\"country\"],\n",
    "               var_name=\"Year\",\n",
    "               value_name=\"nox\")\n",
    "nox[\"Year\"] = nox[\"Year\"].str.replace('X', '')\n",
    "nox[\"nox\"] = nox[\"nox\"] * 1000"
   ]
  },
  {
   "cell_type": "code",
   "execution_count": 87,
   "id": "7746c304",
   "metadata": {},
   "outputs": [],
   "source": [
    "so2 = pd.read_csv(\"inputs/so2.csv\")\n",
    "so2 = so2.drop(columns=[\"em\", \"units\"])\n",
    "so2 = so2.melt(id_vars=[\"country\"],\n",
    "               var_name=\"Year\",\n",
    "               value_name=\"so2\")\n",
    "so2[\"Year\"] = so2[\"Year\"].str.replace('X', '')\n",
    "so2[\"so2\"] = so2[\"so2\"] * 1000"
   ]
  },
  {
   "cell_type": "code",
   "execution_count": 88,
   "id": "86b36baf",
   "metadata": {},
   "outputs": [],
   "source": [
    "co = pd.read_csv(\"inputs/co.csv\")\n",
    "co = co.drop(columns=[\"em\", \"units\"])\n",
    "co = co.melt(id_vars=[\"country\"],\n",
    "               var_name=\"Year\",\n",
    "               value_name=\"co\")\n",
    "co[\"Year\"] = co[\"Year\"].str.replace('X', '')\n",
    "co[\"co\"] = co[\"co\"] * 1000"
   ]
  },
  {
   "cell_type": "code",
   "execution_count": 89,
   "id": "a6190474",
   "metadata": {},
   "outputs": [],
   "source": [
    "oc = pd.read_csv(\"inputs/oc.csv\")\n",
    "oc = oc.drop(columns=[\"em\", \"units\"])\n",
    "oc = oc.melt(id_vars=[\"country\"],\n",
    "               var_name=\"Year\",\n",
    "               value_name=\"oc\")\n",
    "oc[\"Year\"] = oc[\"Year\"].str.replace('X', '')\n",
    "oc[\"oc\"] = oc[\"oc\"] * 1000"
   ]
  },
  {
   "cell_type": "code",
   "execution_count": 90,
   "id": "3cf5b8df",
   "metadata": {},
   "outputs": [],
   "source": [
    "nmvoc = pd.read_csv(\"inputs/nmvoc.csv\")\n",
    "nmvoc = nmvoc.drop(columns=[\"em\", \"units\"])\n",
    "nmvoc = nmvoc.melt(id_vars=[\"country\"],\n",
    "               var_name=\"Year\",\n",
    "               value_name=\"nmvoc\")\n",
    "nmvoc[\"Year\"] = nmvoc[\"Year\"].str.replace('X', '')\n",
    "nmvoc[\"nmvoc\"] = nmvoc[\"nmvoc\"] * 1000"
   ]
  },
  {
   "cell_type": "code",
   "execution_count": 91,
   "id": "17451ffa",
   "metadata": {},
   "outputs": [],
   "source": [
    "bc = pd.read_csv(\"inputs/bc.csv\")\n",
    "bc = bc.drop(columns=[\"em\", \"units\"])\n",
    "bc = bc.melt(id_vars=[\"country\"],\n",
    "               var_name=\"Year\",\n",
    "               value_name=\"bc\")\n",
    "bc[\"Year\"] = bc[\"Year\"].str.replace('X', '')\n",
    "bc[\"bc\"] = bc[\"bc\"] * 1000"
   ]
  },
  {
   "cell_type": "code",
   "execution_count": 92,
   "id": "51bc77be",
   "metadata": {},
   "outputs": [],
   "source": [
    "nh3 = pd.read_csv(\"inputs/nh3.csv\")\n",
    "nh3 = nh3.drop(columns=[\"em\", \"units\"])\n",
    "nh3 = nh3.melt(id_vars=[\"country\"],\n",
    "               var_name=\"Year\",\n",
    "               value_name=\"nh3\")\n",
    "nh3[\"Year\"] = nh3[\"Year\"].str.replace('X', '')\n",
    "nh3[\"nh3\"] = nh3[\"nh3\"] * 1000"
   ]
  },
  {
   "cell_type": "code",
   "execution_count": 93,
   "id": "a51f0758",
   "metadata": {},
   "outputs": [],
   "source": [
    "combined = pd.merge(nox, so2)\n",
    "combined = pd.merge(combined, co)\n",
    "combined = pd.merge(combined, oc)\n",
    "combined = pd.merge(combined, nmvoc)\n",
    "combined = pd.merge(combined, bc)\n",
    "combined = pd.merge(combined, nh3)"
   ]
  },
  {
   "cell_type": "code",
   "execution_count": 94,
   "id": "e1101304",
   "metadata": {},
   "outputs": [],
   "source": [
    "combined = pd.merge(combined, countries)"
   ]
  },
  {
   "cell_type": "code",
   "execution_count": 95,
   "id": "6693275d",
   "metadata": {},
   "outputs": [],
   "source": [
    "combined = combined.drop(columns=[\"country\"])"
   ]
  },
  {
   "cell_type": "code",
   "execution_count": 96,
   "id": "2998b8d2",
   "metadata": {},
   "outputs": [],
   "source": [
    "combined = combined[ [\"Entity\"] + [ col for col in combined.columns if col != \"Entity\" ] ]"
   ]
  },
  {
   "cell_type": "code",
   "execution_count": 97,
   "id": "554d0747",
   "metadata": {},
   "outputs": [],
   "source": [
    "combined.to_csv(\"output/Air pollution emissions (CEDS, 2022).csv\", index=False)"
   ]
  }
 ],
 "metadata": {
  "kernelspec": {
   "display_name": "Python 3 (ipykernel)",
   "language": "python",
   "name": "python3"
  },
  "language_info": {
   "codemirror_mode": {
    "name": "ipython",
    "version": 3
   },
   "file_extension": ".py",
   "mimetype": "text/x-python",
   "name": "python",
   "nbconvert_exporter": "python",
   "pygments_lexer": "ipython3",
   "version": "3.8.9"
  }
 },
 "nbformat": 4,
 "nbformat_minor": 5
}
