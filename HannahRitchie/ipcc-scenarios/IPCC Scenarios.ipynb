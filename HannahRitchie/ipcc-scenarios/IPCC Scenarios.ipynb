{
 "cells": [
  {
   "cell_type": "code",
   "execution_count": 50,
   "id": "ec9064a8",
   "metadata": {},
   "outputs": [],
   "source": [
    "import pandas as pd"
   ]
  },
  {
   "cell_type": "code",
   "execution_count": 51,
   "id": "71b5d25a",
   "metadata": {},
   "outputs": [],
   "source": [
    "combined = pd.read_csv(\"inputs/ipcc.csv\", encoding='latin1')\n",
    "combined = combined.drop(columns=[\"MODEL\", \"UNIT\"])"
   ]
  },
  {
   "cell_type": "code",
   "execution_count": 52,
   "id": "acbf8a23",
   "metadata": {},
   "outputs": [],
   "source": [
    "##Global"
   ]
  },
  {
   "cell_type": "code",
   "execution_count": 53,
   "id": "5702407a",
   "metadata": {},
   "outputs": [],
   "source": [
    "ipcc = combined[combined[\"REGION\"] == \"World\"]"
   ]
  },
  {
   "cell_type": "code",
   "execution_count": 54,
   "id": "7efee7e5",
   "metadata": {},
   "outputs": [],
   "source": [
    "ipcc = ipcc.drop(columns=[\"REGION\"])"
   ]
  },
  {
   "cell_type": "code",
   "execution_count": 55,
   "id": "7a5094a5",
   "metadata": {},
   "outputs": [],
   "source": [
    "ipcc = ipcc.melt(id_vars=[\"SCENARIO\", \"VARIABLE\"], \n",
    "        var_name=\"Year\", \n",
    "        value_name=\"Value\")"
   ]
  },
  {
   "cell_type": "code",
   "execution_count": 56,
   "id": "0c3bdeed",
   "metadata": {},
   "outputs": [],
   "source": [
    "naming = pd.read_csv(\"inputs/variable_naming.csv\", encoding='latin1')"
   ]
  },
  {
   "cell_type": "code",
   "execution_count": 57,
   "id": "f957b50b",
   "metadata": {},
   "outputs": [],
   "source": [
    "ipcc = pd.merge(ipcc, naming, on=\"VARIABLE\", how=\"inner\")"
   ]
  },
  {
   "cell_type": "code",
   "execution_count": 58,
   "id": "dd69d3cf",
   "metadata": {},
   "outputs": [],
   "source": [
    "ipcc = ipcc.drop(columns=[\"VARIABLE\"])"
   ]
  },
  {
   "cell_type": "code",
   "execution_count": 59,
   "id": "7cc08a6f",
   "metadata": {},
   "outputs": [],
   "source": [
    "ipcc = ipcc.pivot_table(index=[\"SCENARIO\", \"Year\"], columns=\"Variable\",\n",
    "                     values=\"Value\", aggfunc='first').reset_index()"
   ]
  },
  {
   "cell_type": "code",
   "execution_count": 60,
   "id": "bbf6fe6a",
   "metadata": {},
   "outputs": [],
   "source": [
    "scenario_naming = pd.read_csv(\"inputs/scenario_naming.csv\", encoding='latin1')\n",
    "ipcc = pd.merge(ipcc, scenario_naming, on=\"SCENARIO\", how=\"inner\")\n",
    "ipcc = ipcc.drop(columns=[\"SCENARIO\"])"
   ]
  },
  {
   "cell_type": "code",
   "execution_count": 61,
   "id": "341ce9f5",
   "metadata": {},
   "outputs": [],
   "source": [
    "annotations = pd.read_csv(\"inputs/annotations.csv\", encoding='latin1')\n",
    "ipcc = pd.merge(ipcc, annotations, on=\"Entity\")"
   ]
  },
  {
   "cell_type": "code",
   "execution_count": 62,
   "id": "ba35e8ce",
   "metadata": {},
   "outputs": [],
   "source": [
    "ipcc = ipcc[ [\"Entity\"] + [ col for col in ipcc.columns if col != \"Entity\" ] ]"
   ]
  },
  {
   "cell_type": "code",
   "execution_count": 63,
   "id": "05cb4615",
   "metadata": {},
   "outputs": [],
   "source": [
    "ipcc.to_csv(\"output/IPCC Scenarios (IIASA).csv\", index=False)"
   ]
  },
  {
   "cell_type": "code",
   "execution_count": 64,
   "id": "4b7cc17e",
   "metadata": {},
   "outputs": [],
   "source": [
    "##Asia"
   ]
  },
  {
   "cell_type": "code",
   "execution_count": 65,
   "id": "c607a115",
   "metadata": {},
   "outputs": [],
   "source": [
    "asia = combined[combined[\"REGION\"] == \"R5.2ASIA\"]\n",
    "asia = asia.drop(columns=[\"REGION\"])"
   ]
  },
  {
   "cell_type": "code",
   "execution_count": 66,
   "id": "4118c7be",
   "metadata": {},
   "outputs": [],
   "source": [
    "asia = asia.melt(id_vars=[\"SCENARIO\", \"VARIABLE\"], \n",
    "        var_name=\"Year\", \n",
    "        value_name=\"Value\")"
   ]
  },
  {
   "cell_type": "code",
   "execution_count": 67,
   "id": "5080e38d",
   "metadata": {},
   "outputs": [],
   "source": [
    "asia = pd.merge(asia, naming, on=\"VARIABLE\", how=\"inner\")\n",
    "asia = asia.drop(columns=[\"VARIABLE\"])\n",
    "\n",
    "asia = asia.pivot_table(index=[\"SCENARIO\", \"Year\"], columns=\"Variable\",\n",
    "                     values=\"Value\", aggfunc='first').reset_index()"
   ]
  },
  {
   "cell_type": "code",
   "execution_count": 68,
   "id": "ca7dcb3b",
   "metadata": {},
   "outputs": [],
   "source": [
    "asia = pd.merge(asia, scenario_naming, on=\"SCENARIO\", how=\"inner\")\n",
    "asia = asia.drop(columns=[\"SCENARIO\"])"
   ]
  },
  {
   "cell_type": "code",
   "execution_count": 69,
   "id": "a11dbdac",
   "metadata": {},
   "outputs": [],
   "source": [
    "asia = pd.merge(asia, annotations, on=\"Entity\")\n",
    "asia = asia[ [\"Entity\"] + [ col for col in asia.columns if col != \"Entity\" ] ]"
   ]
  },
  {
   "cell_type": "code",
   "execution_count": 70,
   "id": "3be8df8d",
   "metadata": {},
   "outputs": [],
   "source": [
    "asia.to_csv(\"output/IPCC Scenarios - Asia (IIASA).csv\", index=False)"
   ]
  },
  {
   "cell_type": "code",
   "execution_count": 71,
   "id": "b529d807",
   "metadata": {},
   "outputs": [],
   "source": [
    "## Middle East & Africa"
   ]
  },
  {
   "cell_type": "code",
   "execution_count": 72,
   "id": "ca8fbdcb",
   "metadata": {},
   "outputs": [],
   "source": [
    "mea = combined[combined[\"REGION\"] == \"R5.2MAF\"]\n",
    "mea = mea.drop(columns=[\"REGION\"])"
   ]
  },
  {
   "cell_type": "code",
   "execution_count": 73,
   "id": "b3f1f78d",
   "metadata": {},
   "outputs": [],
   "source": [
    "mea = mea.melt(id_vars=[\"SCENARIO\", \"VARIABLE\"], \n",
    "        var_name=\"Year\", \n",
    "        value_name=\"Value\")"
   ]
  },
  {
   "cell_type": "code",
   "execution_count": 74,
   "id": "2f615b2f",
   "metadata": {},
   "outputs": [],
   "source": [
    "mea = pd.merge(mea, naming, on=\"VARIABLE\", how=\"inner\")\n",
    "mea = mea.drop(columns=[\"VARIABLE\"])\n",
    "\n",
    "mea = mea.pivot_table(index=[\"SCENARIO\", \"Year\"], columns=\"Variable\",\n",
    "                     values=\"Value\", aggfunc='first').reset_index()"
   ]
  },
  {
   "cell_type": "code",
   "execution_count": 75,
   "id": "6e47a535",
   "metadata": {},
   "outputs": [],
   "source": [
    "mea = pd.merge(mea, scenario_naming, on=\"SCENARIO\", how=\"inner\")\n",
    "mea = mea.drop(columns=[\"SCENARIO\"])"
   ]
  },
  {
   "cell_type": "code",
   "execution_count": 76,
   "id": "2588f97f",
   "metadata": {},
   "outputs": [],
   "source": [
    "mea = pd.merge(mea, annotations, on=\"Entity\")\n",
    "mea = mea[ [\"Entity\"] + [ col for col in mea.columns if col != \"Entity\" ] ]"
   ]
  },
  {
   "cell_type": "code",
   "execution_count": 77,
   "id": "9de576fd",
   "metadata": {},
   "outputs": [],
   "source": [
    "mea.to_csv(\"output/IPCC Scenarios - Middle East and Africa (IIASA).csv\", index=False)"
   ]
  },
  {
   "cell_type": "code",
   "execution_count": 78,
   "id": "26406de1",
   "metadata": {},
   "outputs": [],
   "source": [
    "## Latin America"
   ]
  },
  {
   "cell_type": "code",
   "execution_count": 79,
   "id": "d615c6d8",
   "metadata": {},
   "outputs": [],
   "source": [
    "latam = combined[combined[\"REGION\"] == \"R5.2LAM\"]\n",
    "latam = latam.drop(columns=[\"REGION\"])"
   ]
  },
  {
   "cell_type": "code",
   "execution_count": 80,
   "id": "b5d96a08",
   "metadata": {},
   "outputs": [],
   "source": [
    "latam = latam.melt(id_vars=[\"SCENARIO\", \"VARIABLE\"], \n",
    "        var_name=\"Year\", \n",
    "        value_name=\"Value\")"
   ]
  },
  {
   "cell_type": "code",
   "execution_count": 81,
   "id": "d3d792f1",
   "metadata": {},
   "outputs": [],
   "source": [
    "latam = pd.merge(latam, naming, on=\"VARIABLE\", how=\"inner\")\n",
    "latam = latam.drop(columns=[\"VARIABLE\"])\n",
    "\n",
    "latam = latam.pivot_table(index=[\"SCENARIO\", \"Year\"], columns=\"Variable\",\n",
    "                     values=\"Value\", aggfunc='first').reset_index()"
   ]
  },
  {
   "cell_type": "code",
   "execution_count": 82,
   "id": "8b7cc0cf",
   "metadata": {},
   "outputs": [],
   "source": [
    "latam = pd.merge(latam, scenario_naming, on=\"SCENARIO\", how=\"inner\")\n",
    "latam = latam.drop(columns=[\"SCENARIO\"])"
   ]
  },
  {
   "cell_type": "code",
   "execution_count": 83,
   "id": "e810e6c5",
   "metadata": {},
   "outputs": [],
   "source": [
    "latam = pd.merge(latam, annotations, on=\"Entity\")\n",
    "latam = latam[ [\"Entity\"] + [ col for col in latam.columns if col != \"Entity\" ] ]"
   ]
  },
  {
   "cell_type": "code",
   "execution_count": 84,
   "id": "88d0e016",
   "metadata": {},
   "outputs": [],
   "source": [
    "latam.to_csv(\"output/IPCC Scenarios - Latin America (IIASA).csv\", index=False)"
   ]
  },
  {
   "cell_type": "code",
   "execution_count": 85,
   "id": "a352d8e4",
   "metadata": {},
   "outputs": [],
   "source": [
    "## OECD"
   ]
  },
  {
   "cell_type": "code",
   "execution_count": 86,
   "id": "e53ad1c8",
   "metadata": {},
   "outputs": [],
   "source": [
    "oecd = combined[combined[\"REGION\"] == \"R5.2OECD\"]\n",
    "oecd = oecd.drop(columns=[\"REGION\"])"
   ]
  },
  {
   "cell_type": "code",
   "execution_count": 87,
   "id": "bfaf64df",
   "metadata": {},
   "outputs": [],
   "source": [
    "oecd = oecd.melt(id_vars=[\"SCENARIO\", \"VARIABLE\"], \n",
    "        var_name=\"Year\", \n",
    "        value_name=\"Value\")"
   ]
  },
  {
   "cell_type": "code",
   "execution_count": 88,
   "id": "a4d7421a",
   "metadata": {},
   "outputs": [],
   "source": [
    "oecd = pd.merge(oecd, naming, on=\"VARIABLE\", how=\"inner\")\n",
    "oecd = oecd.drop(columns=[\"VARIABLE\"])\n",
    "\n",
    "oecd = oecd.pivot_table(index=[\"SCENARIO\", \"Year\"], columns=\"Variable\",\n",
    "                     values=\"Value\", aggfunc='first').reset_index()"
   ]
  },
  {
   "cell_type": "code",
   "execution_count": 89,
   "id": "6d688fcd",
   "metadata": {},
   "outputs": [],
   "source": [
    "oecd = pd.merge(oecd, scenario_naming, on=\"SCENARIO\", how=\"inner\")\n",
    "oecd = oecd.drop(columns=[\"SCENARIO\"])"
   ]
  },
  {
   "cell_type": "code",
   "execution_count": 90,
   "id": "3b19e048",
   "metadata": {},
   "outputs": [],
   "source": [
    "oecd = pd.merge(oecd, annotations, on=\"Entity\")\n",
    "oecd = oecd[ [\"Entity\"] + [ col for col in oecd.columns if col != \"Entity\" ] ]"
   ]
  },
  {
   "cell_type": "code",
   "execution_count": 91,
   "id": "cafb504d",
   "metadata": {},
   "outputs": [],
   "source": [
    "oecd.to_csv(\"output/IPCC Scenarios - OECD (IIASA).csv\", index=False)"
   ]
  },
  {
   "cell_type": "code",
   "execution_count": 92,
   "id": "4f74d560",
   "metadata": {},
   "outputs": [],
   "source": [
    "## Reforming economies"
   ]
  },
  {
   "cell_type": "code",
   "execution_count": 93,
   "id": "b6b3009a",
   "metadata": {},
   "outputs": [],
   "source": [
    "ref = combined[combined[\"REGION\"] == \"R5.2REF\"]\n",
    "ref = ref.drop(columns=[\"REGION\"])"
   ]
  },
  {
   "cell_type": "code",
   "execution_count": 94,
   "id": "2acfe2cc",
   "metadata": {},
   "outputs": [],
   "source": [
    "ref = ref.melt(id_vars=[\"SCENARIO\", \"VARIABLE\"], \n",
    "        var_name=\"Year\", \n",
    "        value_name=\"Value\")"
   ]
  },
  {
   "cell_type": "code",
   "execution_count": 95,
   "id": "4d5fe0b3",
   "metadata": {},
   "outputs": [],
   "source": [
    "ref = pd.merge(ref, naming, on=\"VARIABLE\", how=\"inner\")\n",
    "ref = ref.drop(columns=[\"VARIABLE\"])\n",
    "\n",
    "ref = ref.pivot_table(index=[\"SCENARIO\", \"Year\"], columns=\"Variable\",\n",
    "                     values=\"Value\", aggfunc='first').reset_index()"
   ]
  },
  {
   "cell_type": "code",
   "execution_count": 96,
   "id": "f7f7be1c",
   "metadata": {},
   "outputs": [],
   "source": [
    "ref = pd.merge(ref, scenario_naming, on=\"SCENARIO\", how=\"inner\")\n",
    "ref = ref.drop(columns=[\"SCENARIO\"])"
   ]
  },
  {
   "cell_type": "code",
   "execution_count": 97,
   "id": "d1bf18ad",
   "metadata": {},
   "outputs": [],
   "source": [
    "ref = pd.merge(ref, annotations, on=\"Entity\")\n",
    "ref = ref[ [\"Entity\"] + [ col for col in ref.columns if col != \"Entity\" ] ]"
   ]
  },
  {
   "cell_type": "code",
   "execution_count": 98,
   "id": "2f15838e",
   "metadata": {},
   "outputs": [],
   "source": [
    "ref.to_csv(\"output/IPCC Scenarios - Reforming economies (IIASA).csv\", index=False)"
   ]
  }
 ],
 "metadata": {
  "kernelspec": {
   "display_name": "Python 3 (ipykernel)",
   "language": "python",
   "name": "python3"
  },
  "language_info": {
   "codemirror_mode": {
    "name": "ipython",
    "version": 3
   },
   "file_extension": ".py",
   "mimetype": "text/x-python",
   "name": "python",
   "nbconvert_exporter": "python",
   "pygments_lexer": "ipython3",
   "version": "3.9.7"
  }
 },
 "nbformat": 4,
 "nbformat_minor": 5
}
