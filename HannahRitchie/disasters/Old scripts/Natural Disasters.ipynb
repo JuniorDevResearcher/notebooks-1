{
 "cells": [
  {
   "cell_type": "code",
   "execution_count": 123,
   "metadata": {},
   "outputs": [],
   "source": [
    "import pandas as pd"
   ]
  },
  {
   "cell_type": "code",
   "execution_count": 124,
   "metadata": {},
   "outputs": [],
   "source": [
    "raw = pd.read_csv(\"inputs/disasters_emdat.csv\", encoding=\"latin1\", skiprows=6, usecols=[\"Year\", \"Disaster Type\", \"Country\", \"No Homeless\", \"Total Deaths\", \"No Injured\", \"No Affected\", \"No Homeless\", \"Total Affected\", \"Reconstruction Costs ('000 US$)\", \"Insured Damages ('000 US$)\", \"Total Damages ('000 US$)\"])"
   ]
  },
  {
   "cell_type": "code",
   "execution_count": 125,
   "metadata": {},
   "outputs": [],
   "source": [
    "raw = raw.rename(columns={\"Disaster Type\":\"disaster_type\",\n",
    "                          \"Total Deaths\":\"deaths\",\n",
    "                          \"No Injured\":\"injured\",\n",
    "                          \"No Affected\":\"affected\",\n",
    "                          \"No Homeless\":\"homeless\",\n",
    "                          \"Total Affected\":\"total_affected\",\n",
    "                          \"Reconstruction Costs ('000 US$)\":\"reconstruction_costs\",\n",
    "                          \"Insured Damages ('000 US$)\":\"insured_damages\",\n",
    "                          \"Total Damages ('000 US$)\":\"total_damages\"\n",
    "                         }\n",
    "                )"
   ]
  },
  {
   "cell_type": "code",
   "execution_count": 126,
   "metadata": {},
   "outputs": [],
   "source": [
    "deaths = raw.groupby([\"Year\",\"disaster_type\", \"Country\"])[\"deaths\"].sum().reset_index()\n",
    "injured = raw.groupby([\"Year\",\"disaster_type\", \"Country\"])[\"injured\"].sum().reset_index()\n",
    "affected = raw.groupby([\"Year\",\"disaster_type\", \"Country\"])[\"affected\"].sum().reset_index()\n",
    "homeless = raw.groupby([\"Year\",\"disaster_type\", \"Country\"])[\"homeless\"].sum().reset_index()\n",
    "total_affected = raw.groupby([\"Year\",\"disaster_type\", \"Country\"])[\"total_affected\"].sum().reset_index()\n",
    "reconstruction_costs = raw.groupby([\"Year\",\"disaster_type\", \"Country\"])[\"reconstruction_costs\"].sum().reset_index()\n",
    "insured_damages = raw.groupby([\"Year\",\"disaster_type\", \"Country\"])[\"insured_damages\"].sum().reset_index()\n",
    "total_damages = raw.groupby([\"Year\",\"disaster_type\", \"Country\"])[\"total_damages\"].sum().reset_index()"
   ]
  },
  {
   "cell_type": "code",
   "execution_count": 127,
   "metadata": {},
   "outputs": [],
   "source": [
    "combined = pd.merge(deaths, injured, how=\"outer\")\n",
    "combined = pd.merge(combined, affected, how=\"outer\")\n",
    "combined = pd.merge(combined, homeless, how=\"outer\")\n",
    "combined = pd.merge(combined, total_affected, how=\"outer\")\n",
    "combined = pd.merge(combined, reconstruction_costs, how=\"outer\")\n",
    "combined = pd.merge(combined, insured_damages, how=\"outer\")\n",
    "combined = pd.merge(combined, total_damages, how=\"outer\")"
   ]
  },
  {
   "cell_type": "code",
   "execution_count": 128,
   "metadata": {},
   "outputs": [
    {
     "name": "stderr",
     "output_type": "stream",
     "text": [
      "/Library/Frameworks/Python.framework/Versions/3.7/lib/python3.7/site-packages/ipykernel_launcher.py:1: FutureWarning: Indexing with multiple keys (implicitly converted to a tuple of keys) will be deprecated, use a list instead.\n",
      "  \"\"\"Entry point for launching an IPython kernel.\n"
     ]
    }
   ],
   "source": [
    "world = combined.groupby([\"Year\", \"disaster_type\"])[\"deaths\", \"injured\", \"affected\", \"homeless\", \"total_affected\", \"reconstruction_costs\", \"insured_damages\", \"total_damages\"].sum().reset_index()\n",
    "world[\"Country\"]=\"World\""
   ]
  },
  {
   "cell_type": "code",
   "execution_count": 129,
   "metadata": {},
   "outputs": [],
   "source": [
    "combined = pd.concat([combined, world])"
   ]
  },
  {
   "cell_type": "code",
   "execution_count": 130,
   "metadata": {},
   "outputs": [
    {
     "name": "stderr",
     "output_type": "stream",
     "text": [
      "/Library/Frameworks/Python.framework/Versions/3.7/lib/python3.7/site-packages/ipykernel_launcher.py:1: FutureWarning: Indexing with multiple keys (implicitly converted to a tuple of keys) will be deprecated, use a list instead.\n",
      "  \"\"\"Entry point for launching an IPython kernel.\n"
     ]
    }
   ],
   "source": [
    "totals = combined.groupby([\"Year\", \"Country\"])[\"deaths\", \"injured\", \"affected\", \"homeless\", \"total_affected\", \"reconstruction_costs\", \"insured_damages\", \"total_damages\"].sum().reset_index()\n",
    "totals[\"disaster_type\"]=\"All disasters\""
   ]
  },
  {
   "cell_type": "code",
   "execution_count": 131,
   "metadata": {},
   "outputs": [],
   "source": [
    "combined = pd.concat([combined, totals])"
   ]
  },
  {
   "cell_type": "code",
   "execution_count": 132,
   "metadata": {},
   "outputs": [],
   "source": [
    "countries = pd.read_csv(\"inputs/countries.csv\", encoding=\"latin1\")\n",
    "combined = pd.merge(combined, countries, how=\"outer\")\n",
    "combined = combined.drop(columns=[\"Country\"])"
   ]
  },
  {
   "cell_type": "code",
   "execution_count": 133,
   "metadata": {},
   "outputs": [],
   "source": [
    "population = pd.read_csv(\"inputs/population.csv\", encoding=\"latin1\")\n",
    "combined = pd.merge(combined, population, how=\"left\")"
   ]
  },
  {
   "cell_type": "code",
   "execution_count": 134,
   "metadata": {},
   "outputs": [],
   "source": [
    "# Need to normalise country names\n",
    "# Need to merge population data and calculate rates\n",
    "# Need to do count of number of disasters"
   ]
  },
  {
   "cell_type": "code",
   "execution_count": 135,
   "metadata": {},
   "outputs": [],
   "source": [
    "combined[\"death_rate_per_100k\"] = combined[\"deaths\"] / combined[\"Population\"] * 100000\n",
    "combined[\"injury_rate_per_100k\"] = combined[\"injured\"] / combined[\"Population\"] * 100000\n",
    "combined[\"affected_rate_per_100k\"] = combined[\"affected\"] / combined[\"Population\"] * 100000\n",
    "combined[\"homeless_rate_per_100k\"] = combined[\"homeless\"] / combined[\"Population\"] * 100000\n",
    "combined[\"total_affected_per_100k\"] = combined[\"total_affected\"] / combined[\"Population\"] * 100000 "
   ]
  },
  {
   "cell_type": "code",
   "execution_count": 136,
   "metadata": {},
   "outputs": [],
   "source": [
    "combined = combined.drop(columns=[\"Population\"])"
   ]
  },
  {
   "cell_type": "code",
   "execution_count": 137,
   "metadata": {},
   "outputs": [
    {
     "data": {
      "text/html": [
       "<div>\n",
       "<style scoped>\n",
       "    .dataframe tbody tr th:only-of-type {\n",
       "        vertical-align: middle;\n",
       "    }\n",
       "\n",
       "    .dataframe tbody tr th {\n",
       "        vertical-align: top;\n",
       "    }\n",
       "\n",
       "    .dataframe thead th {\n",
       "        text-align: right;\n",
       "    }\n",
       "</style>\n",
       "<table border=\"1\" class=\"dataframe\">\n",
       "  <thead>\n",
       "    <tr style=\"text-align: right;\">\n",
       "      <th></th>\n",
       "      <th>Year</th>\n",
       "      <th>disaster_type</th>\n",
       "      <th>deaths</th>\n",
       "      <th>injured</th>\n",
       "      <th>affected</th>\n",
       "      <th>homeless</th>\n",
       "      <th>total_affected</th>\n",
       "      <th>reconstruction_costs</th>\n",
       "      <th>insured_damages</th>\n",
       "      <th>total_damages</th>\n",
       "      <th>Entity</th>\n",
       "      <th>death_rate_per_100k</th>\n",
       "      <th>injury_rate_per_100k</th>\n",
       "      <th>affected_rate_per_100k</th>\n",
       "      <th>homeless_rate_per_100k</th>\n",
       "      <th>total_affected_per_100k</th>\n",
       "    </tr>\n",
       "  </thead>\n",
       "  <tbody>\n",
       "    <tr>\n",
       "      <th>0</th>\n",
       "      <td>1900</td>\n",
       "      <td>Drought</td>\n",
       "      <td>11000.0</td>\n",
       "      <td>0.0</td>\n",
       "      <td>0.0</td>\n",
       "      <td>0.0</td>\n",
       "      <td>0.0</td>\n",
       "      <td>0.0</td>\n",
       "      <td>0.0</td>\n",
       "      <td>0.0</td>\n",
       "      <td>Cape Verde</td>\n",
       "      <td>9685.656423</td>\n",
       "      <td>0.000000</td>\n",
       "      <td>0.000000</td>\n",
       "      <td>0.000000</td>\n",
       "      <td>0.000000</td>\n",
       "    </tr>\n",
       "    <tr>\n",
       "      <th>1</th>\n",
       "      <td>1910</td>\n",
       "      <td>Drought</td>\n",
       "      <td>0.0</td>\n",
       "      <td>0.0</td>\n",
       "      <td>0.0</td>\n",
       "      <td>0.0</td>\n",
       "      <td>0.0</td>\n",
       "      <td>0.0</td>\n",
       "      <td>0.0</td>\n",
       "      <td>0.0</td>\n",
       "      <td>Cape Verde</td>\n",
       "      <td>0.000000</td>\n",
       "      <td>0.000000</td>\n",
       "      <td>0.000000</td>\n",
       "      <td>0.000000</td>\n",
       "      <td>0.000000</td>\n",
       "    </tr>\n",
       "    <tr>\n",
       "      <th>2</th>\n",
       "      <td>1920</td>\n",
       "      <td>Drought</td>\n",
       "      <td>24000.0</td>\n",
       "      <td>0.0</td>\n",
       "      <td>0.0</td>\n",
       "      <td>0.0</td>\n",
       "      <td>0.0</td>\n",
       "      <td>0.0</td>\n",
       "      <td>0.0</td>\n",
       "      <td>0.0</td>\n",
       "      <td>Cape Verde</td>\n",
       "      <td>17699.115044</td>\n",
       "      <td>0.000000</td>\n",
       "      <td>0.000000</td>\n",
       "      <td>0.000000</td>\n",
       "      <td>0.000000</td>\n",
       "    </tr>\n",
       "    <tr>\n",
       "      <th>3</th>\n",
       "      <td>1940</td>\n",
       "      <td>Drought</td>\n",
       "      <td>20000.0</td>\n",
       "      <td>0.0</td>\n",
       "      <td>0.0</td>\n",
       "      <td>0.0</td>\n",
       "      <td>0.0</td>\n",
       "      <td>0.0</td>\n",
       "      <td>0.0</td>\n",
       "      <td>0.0</td>\n",
       "      <td>Cape Verde</td>\n",
       "      <td>12335.019119</td>\n",
       "      <td>0.000000</td>\n",
       "      <td>0.000000</td>\n",
       "      <td>0.000000</td>\n",
       "      <td>0.000000</td>\n",
       "    </tr>\n",
       "    <tr>\n",
       "      <th>4</th>\n",
       "      <td>1946</td>\n",
       "      <td>Drought</td>\n",
       "      <td>30000.0</td>\n",
       "      <td>0.0</td>\n",
       "      <td>0.0</td>\n",
       "      <td>0.0</td>\n",
       "      <td>0.0</td>\n",
       "      <td>0.0</td>\n",
       "      <td>0.0</td>\n",
       "      <td>0.0</td>\n",
       "      <td>Cape Verde</td>\n",
       "      <td>17536.475870</td>\n",
       "      <td>0.000000</td>\n",
       "      <td>0.000000</td>\n",
       "      <td>0.000000</td>\n",
       "      <td>0.000000</td>\n",
       "    </tr>\n",
       "    <tr>\n",
       "      <th>...</th>\n",
       "      <td>...</td>\n",
       "      <td>...</td>\n",
       "      <td>...</td>\n",
       "      <td>...</td>\n",
       "      <td>...</td>\n",
       "      <td>...</td>\n",
       "      <td>...</td>\n",
       "      <td>...</td>\n",
       "      <td>...</td>\n",
       "      <td>...</td>\n",
       "      <td>...</td>\n",
       "      <td>...</td>\n",
       "      <td>...</td>\n",
       "      <td>...</td>\n",
       "      <td>...</td>\n",
       "      <td>...</td>\n",
       "    </tr>\n",
       "    <tr>\n",
       "      <th>15303</th>\n",
       "      <td>2017</td>\n",
       "      <td>All disasters</td>\n",
       "      <td>9766.0</td>\n",
       "      <td>25430.0</td>\n",
       "      <td>103239897.0</td>\n",
       "      <td>590432.0</td>\n",
       "      <td>103855759.0</td>\n",
       "      <td>1241400.0</td>\n",
       "      <td>127084560.0</td>\n",
       "      <td>326082769.0</td>\n",
       "      <td>World</td>\n",
       "      <td>0.129388</td>\n",
       "      <td>0.336917</td>\n",
       "      <td>1367.803741</td>\n",
       "      <td>7.822510</td>\n",
       "      <td>1375.963167</td>\n",
       "    </tr>\n",
       "    <tr>\n",
       "      <th>15304</th>\n",
       "      <td>2018</td>\n",
       "      <td>All disasters</td>\n",
       "      <td>11791.0</td>\n",
       "      <td>74126.0</td>\n",
       "      <td>84970128.0</td>\n",
       "      <td>417216.0</td>\n",
       "      <td>85461470.0</td>\n",
       "      <td>1600000.0</td>\n",
       "      <td>45827300.0</td>\n",
       "      <td>133614166.0</td>\n",
       "      <td>World</td>\n",
       "      <td>0.154513</td>\n",
       "      <td>0.971368</td>\n",
       "      <td>1113.472841</td>\n",
       "      <td>5.467318</td>\n",
       "      <td>1119.911527</td>\n",
       "    </tr>\n",
       "    <tr>\n",
       "      <th>15305</th>\n",
       "      <td>2019</td>\n",
       "      <td>All disasters</td>\n",
       "      <td>11795.0</td>\n",
       "      <td>51885.0</td>\n",
       "      <td>107311365.0</td>\n",
       "      <td>389397.0</td>\n",
       "      <td>107752647.0</td>\n",
       "      <td>0.0</td>\n",
       "      <td>27233000.0</td>\n",
       "      <td>100940456.0</td>\n",
       "      <td>World</td>\n",
       "      <td>0.152914</td>\n",
       "      <td>0.672655</td>\n",
       "      <td>1391.220737</td>\n",
       "      <td>5.048274</td>\n",
       "      <td>1396.941665</td>\n",
       "    </tr>\n",
       "    <tr>\n",
       "      <th>15306</th>\n",
       "      <td>2020</td>\n",
       "      <td>All disasters</td>\n",
       "      <td>15071.0</td>\n",
       "      <td>7646.0</td>\n",
       "      <td>99255670.0</td>\n",
       "      <td>703769.0</td>\n",
       "      <td>99967085.0</td>\n",
       "      <td>9450000.0</td>\n",
       "      <td>39334000.0</td>\n",
       "      <td>172402491.0</td>\n",
       "      <td>World</td>\n",
       "      <td>0.193347</td>\n",
       "      <td>0.098091</td>\n",
       "      <td>1273.357702</td>\n",
       "      <td>9.028700</td>\n",
       "      <td>1282.484494</td>\n",
       "    </tr>\n",
       "    <tr>\n",
       "      <th>15307</th>\n",
       "      <td>2021</td>\n",
       "      <td>All disasters</td>\n",
       "      <td>6372.0</td>\n",
       "      <td>17356.0</td>\n",
       "      <td>53772981.0</td>\n",
       "      <td>31120.0</td>\n",
       "      <td>53821457.0</td>\n",
       "      <td>0.0</td>\n",
       "      <td>6081930.0</td>\n",
       "      <td>56482200.0</td>\n",
       "      <td>World</td>\n",
       "      <td>NaN</td>\n",
       "      <td>NaN</td>\n",
       "      <td>NaN</td>\n",
       "      <td>NaN</td>\n",
       "      <td>NaN</td>\n",
       "    </tr>\n",
       "  </tbody>\n",
       "</table>\n",
       "<p>15308 rows × 16 columns</p>\n",
       "</div>"
      ],
      "text/plain": [
       "       Year  disaster_type   deaths  injured     affected  homeless  \\\n",
       "0      1900        Drought  11000.0      0.0          0.0       0.0   \n",
       "1      1910        Drought      0.0      0.0          0.0       0.0   \n",
       "2      1920        Drought  24000.0      0.0          0.0       0.0   \n",
       "3      1940        Drought  20000.0      0.0          0.0       0.0   \n",
       "4      1946        Drought  30000.0      0.0          0.0       0.0   \n",
       "...     ...            ...      ...      ...          ...       ...   \n",
       "15303  2017  All disasters   9766.0  25430.0  103239897.0  590432.0   \n",
       "15304  2018  All disasters  11791.0  74126.0   84970128.0  417216.0   \n",
       "15305  2019  All disasters  11795.0  51885.0  107311365.0  389397.0   \n",
       "15306  2020  All disasters  15071.0   7646.0   99255670.0  703769.0   \n",
       "15307  2021  All disasters   6372.0  17356.0   53772981.0   31120.0   \n",
       "\n",
       "       total_affected  reconstruction_costs  insured_damages  total_damages  \\\n",
       "0                 0.0                   0.0              0.0            0.0   \n",
       "1                 0.0                   0.0              0.0            0.0   \n",
       "2                 0.0                   0.0              0.0            0.0   \n",
       "3                 0.0                   0.0              0.0            0.0   \n",
       "4                 0.0                   0.0              0.0            0.0   \n",
       "...               ...                   ...              ...            ...   \n",
       "15303     103855759.0             1241400.0      127084560.0    326082769.0   \n",
       "15304      85461470.0             1600000.0       45827300.0    133614166.0   \n",
       "15305     107752647.0                   0.0       27233000.0    100940456.0   \n",
       "15306      99967085.0             9450000.0       39334000.0    172402491.0   \n",
       "15307      53821457.0                   0.0        6081930.0     56482200.0   \n",
       "\n",
       "           Entity  death_rate_per_100k  injury_rate_per_100k  \\\n",
       "0      Cape Verde          9685.656423              0.000000   \n",
       "1      Cape Verde             0.000000              0.000000   \n",
       "2      Cape Verde         17699.115044              0.000000   \n",
       "3      Cape Verde         12335.019119              0.000000   \n",
       "4      Cape Verde         17536.475870              0.000000   \n",
       "...           ...                  ...                   ...   \n",
       "15303       World             0.129388              0.336917   \n",
       "15304       World             0.154513              0.971368   \n",
       "15305       World             0.152914              0.672655   \n",
       "15306       World             0.193347              0.098091   \n",
       "15307       World                  NaN                   NaN   \n",
       "\n",
       "       affected_rate_per_100k  homeless_rate_per_100k  total_affected_per_100k  \n",
       "0                    0.000000                0.000000                 0.000000  \n",
       "1                    0.000000                0.000000                 0.000000  \n",
       "2                    0.000000                0.000000                 0.000000  \n",
       "3                    0.000000                0.000000                 0.000000  \n",
       "4                    0.000000                0.000000                 0.000000  \n",
       "...                       ...                     ...                      ...  \n",
       "15303             1367.803741                7.822510              1375.963167  \n",
       "15304             1113.472841                5.467318              1119.911527  \n",
       "15305             1391.220737                5.048274              1396.941665  \n",
       "15306             1273.357702                9.028700              1282.484494  \n",
       "15307                     NaN                     NaN                      NaN  \n",
       "\n",
       "[15308 rows x 16 columns]"
      ]
     },
     "execution_count": 137,
     "metadata": {},
     "output_type": "execute_result"
    }
   ],
   "source": [
    "combined"
   ]
  },
  {
   "cell_type": "code",
   "execution_count": 138,
   "metadata": {},
   "outputs": [],
   "source": [
    "drought = combined[combined[\"disaster_type\"].str.contains(\"Drought\")]\n",
    "drought.columns = [str(col) + \"_drought\" for col in drought.columns]\n",
    "drought = drought.rename(columns={\"Year_drought\":\"Year\",\n",
    "                       \"Entity_drought\":\"Entity\"\n",
    "                       }\n",
    "              )"
   ]
  },
  {
   "cell_type": "code",
   "execution_count": 139,
   "metadata": {},
   "outputs": [],
   "source": [
    "earthquake = combined[combined[\"disaster_type\"].str.contains(\"Earthquake\")]\n",
    "earthquake.columns = [str(col) + \"_earthquake\" for col in earthquake.columns]\n",
    "earthquake = earthquake.rename(columns={\"Year_earthquake\":\"Year\",\n",
    "                                        \"Entity_earthquake\":\"Entity\"\n",
    "                                       }\n",
    "                              )"
   ]
  },
  {
   "cell_type": "code",
   "execution_count": 140,
   "metadata": {},
   "outputs": [],
   "source": [
    "all_disasters = combined[combined[\"disaster_type\"].str.contains(\"All disasters\")]\n",
    "all_disasters.columns = [str(col) + \"_all_disasters\" for col in all_disasters.columns]\n",
    "all_disasters = all_disasters.rename(columns={\"Year_all_disasters\":\"Year\",\n",
    "                                              \"Entity_all_disasters\":\"Entity\"\n",
    "                                             }\n",
    "                                    )"
   ]
  },
  {
   "cell_type": "code",
   "execution_count": 141,
   "metadata": {},
   "outputs": [],
   "source": [
    "volcanic = combined[combined[\"disaster_type\"].str.contains(\"Volcanic activity\")]\n",
    "volcanic.columns = [str(col) + \"_volcanic\" for col in volcanic.columns]\n",
    "volcanic = volcanic.rename(columns={\"Year_volcanic\":\"Year\",\n",
    "                                   \"Entity_volcanic\":\"Entity\"\n",
    "                                   }\n",
    "              )"
   ]
  },
  {
   "cell_type": "code",
   "execution_count": 142,
   "metadata": {},
   "outputs": [],
   "source": [
    "flood = combined[combined[\"disaster_type\"].str.contains(\"Flood\")]\n",
    "flood.columns = [str(col) + \"_flood\" for col in flood.columns]\n",
    "flood = flood.rename(columns={\"Year_flood\":\"Year\",\n",
    "                                   \"Entity_flood\":\"Entity\"\n",
    "                                   }\n",
    "              )"
   ]
  },
  {
   "cell_type": "code",
   "execution_count": 143,
   "metadata": {},
   "outputs": [
    {
     "name": "stderr",
     "output_type": "stream",
     "text": [
      "/Library/Frameworks/Python.framework/Versions/3.7/lib/python3.7/site-packages/pandas/core/strings.py:1954: UserWarning: This pattern has match groups. To actually get the groups, use str.extract.\n",
      "  return func(self, *args, **kwargs)\n"
     ]
    }
   ],
   "source": [
    "mass_movement = combined[combined[\"disaster_type\"].str.contains(\"Mass movement (dry)\")]\n",
    "mass_movement.columns = [str(col) + \"_mass_movement\" for col in mass_movement.columns]\n",
    "mass_movement = mass_movement.rename(columns={\"Year_mass_movement\":\"Year\",\n",
    "                                   \"Entity_mass_movement\":\"Entity\"\n",
    "                                   }\n",
    "              )"
   ]
  },
  {
   "cell_type": "code",
   "execution_count": 144,
   "metadata": {},
   "outputs": [],
   "source": [
    "storm = combined[combined[\"disaster_type\"].str.contains(\"Storm\")]\n",
    "storm.columns = [str(col) + \"_storm\" for col in storm.columns]\n",
    "storm = storm.rename(columns={\"Year_storm\":\"Year\",\n",
    "                              \"Entity_storm\":\"Entity\"\n",
    "                                   }\n",
    "              )"
   ]
  },
  {
   "cell_type": "code",
   "execution_count": 145,
   "metadata": {},
   "outputs": [],
   "source": [
    "landslide = combined[combined[\"disaster_type\"].str.contains(\"Landslide\")]\n",
    "landslide.columns = [str(col) + \"_landslide\" for col in landslide.columns]\n",
    "landslide = landslide.rename(columns={\"Year_landslide\":\"Year\",\n",
    "                              \"Entity_landslide\":\"Entity\"\n",
    "                                   }\n",
    "              )"
   ]
  },
  {
   "cell_type": "code",
   "execution_count": 146,
   "metadata": {},
   "outputs": [],
   "source": [
    "fog = combined[combined[\"disaster_type\"].str.contains(\"Fog\")]\n",
    "fog.columns = [str(col) + \"_fog\" for col in fog.columns]\n",
    "fog = fog.rename(columns={\"Year_fog\":\"Year\",\n",
    "                              \"Entity_fog\":\"Entity\"\n",
    "                                   }\n",
    "              )"
   ]
  },
  {
   "cell_type": "code",
   "execution_count": 147,
   "metadata": {},
   "outputs": [],
   "source": [
    "wildfire = combined[combined[\"disaster_type\"].str.contains(\"Wildfire\")]\n",
    "wildfire.columns = [str(col) + \"_wildfire\" for col in wildfire.columns]\n",
    "wildfire = wildfire.rename(columns={\"Year_wildfire\":\"Year\",\n",
    "                              \"Entity_wildfire\":\"Entity\"\n",
    "                                   }\n",
    "              )"
   ]
  },
  {
   "cell_type": "code",
   "execution_count": 148,
   "metadata": {},
   "outputs": [],
   "source": [
    "temperature = combined[combined[\"disaster_type\"].str.contains(\"Extreme temperature\")]\n",
    "temperature.columns = [str(col) + \"_temperature\" for col in temperature.columns]\n",
    "temperature = temperature.rename(columns={\"Year_temperature\":\"Year\",\n",
    "                                          \"Entity_temperature\":\"Entity\"\n",
    "                                         }\n",
    "                                )"
   ]
  },
  {
   "cell_type": "code",
   "execution_count": 149,
   "metadata": {},
   "outputs": [],
   "source": [
    "glacial_lake = combined[combined[\"disaster_type\"].str.contains(\"Glacial lake outburst\")]\n",
    "glacial_lake.columns = [str(col) + \"_glacial_lake\" for col in glacial_lake.columns]\n",
    "glacial_lake = glacial_lake.rename(columns={\"Year_glacial_lake\":\"Year\",\n",
    "                              \"Entity_glacial_lake\":\"Entity\"\n",
    "                                   }\n",
    "              )"
   ]
  },
  {
   "cell_type": "code",
   "execution_count": 150,
   "metadata": {},
   "outputs": [],
   "source": [
    "disasters = pd.merge(drought, earthquake, how=\"outer\")\n",
    "disasters = pd.merge(disasters, all_disasters, how=\"outer\")\n",
    "disasters = pd.merge(disasters, volcanic, how=\"outer\")\n",
    "disasters = pd.merge(disasters, flood, how=\"outer\")\n",
    "disasters = pd.merge(disasters, mass_movement, how=\"outer\")\n",
    "disasters = pd.merge(disasters, storm, how=\"outer\")\n",
    "disasters = pd.merge(disasters, landslide, how=\"outer\")\n",
    "disasters = pd.merge(disasters, fog, how=\"outer\")\n",
    "disasters = pd.merge(disasters, wildfire, how=\"outer\")\n",
    "disasters = pd.merge(disasters, temperature, how=\"outer\")\n",
    "disasters = pd.merge(disasters, glacial_lake, how=\"outer\")"
   ]
  },
  {
   "cell_type": "code",
   "execution_count": 151,
   "metadata": {},
   "outputs": [],
   "source": [
    "disasters = disasters.drop(columns=[\"disaster_type_drought\",\n",
    "                                   \"disaster_type_earthquake\",\n",
    "                                    \"disaster_type_all_disasters\",\n",
    "                                    \"disaster_type_landslide\",\n",
    "                                    \"disaster_type_fog\",\n",
    "                                    \"disaster_type_flood\",\n",
    "                                    \"disaster_type_mass_movement\",\n",
    "                                    \"disaster_type_storm\",\n",
    "                                    \"disaster_type_landslide\",\n",
    "                                    \"disaster_type_wildfire\",\n",
    "                                    \"disaster_type_temperature\",\n",
    "                                    \"disaster_type_glacial_lake\",\n",
    "                                    \"disaster_type_temperature\",\n",
    "                                    \"disaster_type_volcanic\"\n",
    "                                   ]\n",
    "                          )"
   ]
  },
  {
   "cell_type": "code",
   "execution_count": 152,
   "metadata": {},
   "outputs": [],
   "source": [
    "disasters = disasters[ [\"Entity\"] + [ col for col in disasters.columns if col != \"Entity\" ] ]\n",
    "disasters = disasters[disasters[\"Entity\"].notna()]\n",
    "disasters = disasters[(disasters.Year != 2021)]"
   ]
  },
  {
   "cell_type": "code",
   "execution_count": 153,
   "metadata": {},
   "outputs": [],
   "source": [
    "disasters.to_csv(\"output/Natural disasters (EMDAT).csv\", index=False)"
   ]
  }
 ],
 "metadata": {
  "kernelspec": {
   "display_name": "Python 3",
   "language": "python",
   "name": "python3"
  },
  "language_info": {
   "codemirror_mode": {
    "name": "ipython",
    "version": 3
   },
   "file_extension": ".py",
   "mimetype": "text/x-python",
   "name": "python",
   "nbconvert_exporter": "python",
   "pygments_lexer": "ipython3",
   "version": "3.7.3"
  }
 },
 "nbformat": 4,
 "nbformat_minor": 2
}
