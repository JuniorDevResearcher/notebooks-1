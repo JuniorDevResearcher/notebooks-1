{
 "cells": [
  {
   "cell_type": "markdown",
   "metadata": {
    "tags": []
   },
   "source": [
    "# Natural Disasters: Revision\n",
    "This is a revision of the original notebook \"Natural Disasters\" by Hannah."
   ]
  },
  {
   "cell_type": "code",
   "execution_count": 18,
   "metadata": {},
   "outputs": [],
   "source": [
    "import pandas as pd\n",
    "# Read\n",
    "raw = pd.read_csv(\n",
    "    \"inputs/disasters_emdat.csv\",\n",
    "    encoding=\"latin1\",\n",
    "    skiprows=6,\n",
    "    usecols=[\n",
    "        \"Year\",\n",
    "        \"Disaster Type\",\n",
    "        \"Country\",\n",
    "        \"No Homeless\",\n",
    "        \"Total Deaths\",\n",
    "        \"No Injured\",\n",
    "        \"No Affected\",\n",
    "        \"No Homeless\",\n",
    "        \"Total Affected\",\n",
    "        \"Reconstruction Costs ('000 US$)\",\n",
    "        \"Insured Damages ('000 US$)\",\n",
    "        \"Total Damages ('000 US$)\"\n",
    "    ],\n",
    ")"
   ]
  },
  {
   "cell_type": "code",
   "execution_count": 19,
   "metadata": {},
   "outputs": [],
   "source": [
    "# Column renaming\n",
    "raw = raw.rename(\n",
    "    columns={\n",
    "        \"Disaster Type\": \"disaster_type\",\n",
    "        \"Total Deaths\": \"deaths\",\n",
    "        \"No Injured\": \"injured\",\n",
    "        \"No Affected\": \"affected\",\n",
    "        \"No Homeless\": \"homeless\",\n",
    "        \"Total Affected\": \"total_affected\",\n",
    "        \"Reconstruction Costs ('000 US$)\": \"reconstruction_costs\",\n",
    "        \"Insured Damages ('000 US$)\": \"insured_damages\",\n",
    "        \"Total Damages ('000 US$)\": \"total_damages\",\n",
    "    }\n",
    ")"
   ]
  },
  {
   "cell_type": "code",
   "execution_count": 20,
   "metadata": {},
   "outputs": [],
   "source": [
    "# Get metrics\n",
    "combined = raw.groupby([\"Year\", \"disaster_type\", \"Country\"], as_index=False)[[\n",
    "    \"deaths\", \n",
    "    \"injured\", \n",
    "    \"affected\", \n",
    "    \"homeless\", \n",
    "    \"total_affected\", \n",
    "    \"reconstruction_costs\", \n",
    "    \"insured_damages\", \n",
    "    \"total_damages\"\n",
    "]].sum()"
   ]
  },
  {
   "cell_type": "code",
   "execution_count": 21,
   "metadata": {},
   "outputs": [
    {
     "name": "stdout",
     "output_type": "stream",
     "text": [
      "Countries without standardisation: ['Germany Fed Rep' 'Yemen Arab Rep' 'Yemen P Dem Rep' 'Germany Dem Rep']\n"
     ]
    }
   ],
   "source": [
    "# Standardize country names\n",
    "countries = pd.read_csv(\"inputs/countries.csv\", encoding=\"latin1\")\n",
    "combined = combined.merge(countries, on=\"Country\", how=\"left\")\n",
    "print(\"Countries without standardisation:\", combined.loc[combined.Entity.isna(), \"Country\"].unique())\n",
    "combined = combined.drop(columns=[\"Country\"])"
   ]
  },
  {
   "cell_type": "code",
   "execution_count": 22,
   "metadata": {
    "tags": []
   },
   "outputs": [],
   "source": [
    "# Obtain all disasters figures\n",
    "totals = combined.groupby([\"Year\", \"Entity\"], as_index=False).sum()\n",
    "totals = totals.assign(disaster_type=\"All disasters\")\n",
    "# Obtain all countries figures\n",
    "world = combined.groupby([\"Year\", \"disaster_type\"], as_index=False).sum()\n",
    "world = world.assign(Entity=\"World\")\n",
    "# Add\n",
    "combined = pd.concat([combined, world, totals])"
   ]
  },
  {
   "cell_type": "code",
   "execution_count": 23,
   "metadata": {},
   "outputs": [],
   "source": [
    "# Add population\n",
    "population = pd.read_csv(\"inputs/population.csv\", encoding=\"latin1\")\n",
    "combined = combined.merge(population, on=[\"Entity\", \"Year\"], how=\"left\")\n",
    "\n",
    "# Add rates\n",
    "columns = [\"deaths\", \"injured\", \"affected\", \"homeless\", \"total_affected\"]\n",
    "combined = combined.assign(\n",
    "    **{f\"{col}_rate_per_100k\": combined[col]/combined[\"Population\"]*100000 for col in columns}\n",
    ")\n",
    "combined = combined.drop(columns=[\"Population\"])"
   ]
  },
  {
   "cell_type": "code",
   "execution_count": 24,
   "metadata": {},
   "outputs": [],
   "source": [
    "# Add gdp\n",
    "gdp = pd.read_csv(\"inputs/gdp.csv\", encoding=\"latin1\")\n",
    "combined = combined.merge(gdp, on=[\"Entity\", \"Year\"], how=\"left\")\n",
    "\n",
    "# Add rates\n",
    "columns = [\"total_damages\"]\n",
    "combined = combined.assign(\n",
    "    **{f\"{col}_pct_gdp\": combined[col]/(combined[\"gdp\"]/1000) * 100 for col in columns}\n",
    ")\n",
    "combined = combined.drop(columns=[\"gdp\"])"
   ]
  },
  {
   "cell_type": "code",
   "execution_count": 25,
   "metadata": {},
   "outputs": [],
   "source": [
    "disasters = pd.pivot_table(combined, columns='disaster_type', index=[\"Year\", \"Entity\"])\n",
    "mapping = {\n",
    "    \"All disasters\": \"all_disasters\",\n",
    "    \"Drought\": \"drought\",\n",
    "    \"Earthquake\": \"earthquake\",\n",
    "    \"Extreme temperature\": \"temperature\",\n",
    "    \"Flood\": \"flood\",\n",
    "    \"Fog\": \"fog\",\n",
    "    \"Glacial lake outburst\": \"glacial_lake\",\n",
    "    \"Landslide\": \"landslide\",\n",
    "    \"Mass movement (dry)\": \"mass_movement\",\n",
    "    \"Storm\": \"storm\",\n",
    "    \"Volcanic activity\": \"volcanic\",\n",
    "    \"Wildfire\": \"wildfire\",\n",
    "}\n",
    "disasters.columns = [f\"{colname[0]}_{mapping[colname[1]]}\" for colname in disasters.columns]\n",
    "disasters = disasters.reset_index()"
   ]
  },
  {
   "cell_type": "code",
   "execution_count": 26,
   "metadata": {},
   "outputs": [],
   "source": [
    "# Final processing\n",
    "disasters = disasters[[\"Entity\"] + [col for col in disasters.columns if col != \"Entity\"]]\n",
    "disasters = disasters[disasters[\"Entity\"].notna()]\n",
    "disasters = disasters[(disasters.Year != 2021)]"
   ]
  },
  {
   "cell_type": "code",
   "execution_count": 27,
   "metadata": {},
   "outputs": [],
   "source": [
    "# Export\n",
    "disasters.to_csv(\"output/Natural disasters (EMDAT).csv\", index=False)"
   ]
  },
  {
   "cell_type": "code",
   "execution_count": 28,
   "metadata": {},
   "outputs": [],
   "source": [
    "# Decade and export\n",
    "disasters = disasters.assign(Year=combined.Year//10*10)\n",
    "disasters = disasters.groupby([\"Entity\", \"Year\"], as_index=False).mean()\n",
    "disasters.to_csv(\"output/Natural disasters (EMDAT – decadal).csv\", index=False)"
   ]
  }
 ],
 "metadata": {
  "kernelspec": {
   "display_name": "Python 3",
   "language": "python",
   "name": "python3"
  },
  "language_info": {
   "codemirror_mode": {
    "name": "ipython",
    "version": 3
   },
   "file_extension": ".py",
   "mimetype": "text/x-python",
   "name": "python",
   "nbconvert_exporter": "python",
   "pygments_lexer": "ipython3",
   "version": "3.7.3"
  }
 },
 "nbformat": 4,
 "nbformat_minor": 4
}
