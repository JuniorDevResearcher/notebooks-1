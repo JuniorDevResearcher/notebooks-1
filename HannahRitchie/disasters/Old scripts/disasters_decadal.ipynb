{
 "cells": [
  {
   "cell_type": "code",
   "execution_count": 1,
   "metadata": {},
   "outputs": [],
   "source": [
    "import pandas as pd"
   ]
  },
  {
   "cell_type": "code",
   "execution_count": 2,
   "metadata": {},
   "outputs": [],
   "source": [
    "raw = pd.read_csv(\"inputs/disasters_emdat.csv\", encoding=\"latin1\", skiprows=6, usecols=[\"Year\", \"Disaster Type\", \"Country\", \"No Homeless\", \"Total Deaths\", \"No Injured\", \"No Affected\", \"No Homeless\", \"Total Affected\", \"Reconstruction Costs ('000 US$)\", \"Insured Damages ('000 US$)\", \"Total Damages ('000 US$)\"])"
   ]
  },
  {
   "cell_type": "code",
   "execution_count": 3,
   "metadata": {},
   "outputs": [],
   "source": [
    "raw = raw.rename(columns={\"Disaster Type\":\"disaster_type\",\n",
    "                          \"Total Deaths\":\"deaths\",\n",
    "                          \"No Injured\":\"injured\",\n",
    "                          \"No Affected\":\"affected\",\n",
    "                          \"No Homeless\":\"homeless\",\n",
    "                          \"Total Affected\":\"total_affected\",\n",
    "                          \"Reconstruction Costs ('000 US$)\":\"reconstruction_costs\",\n",
    "                          \"Insured Damages ('000 US$)\":\"insured_damages\",\n",
    "                          \"Total Damages ('000 US$)\":\"total_damages\"\n",
    "                         }\n",
    "                )"
   ]
  },
  {
   "cell_type": "code",
   "execution_count": 4,
   "metadata": {},
   "outputs": [],
   "source": [
    "deaths = raw.groupby([\"Year\",\"disaster_type\", \"Country\"])[\"deaths\"].sum().reset_index()\n",
    "injured = raw.groupby([\"Year\",\"disaster_type\", \"Country\"])[\"injured\"].sum().reset_index()\n",
    "affected = raw.groupby([\"Year\",\"disaster_type\", \"Country\"])[\"affected\"].sum().reset_index()\n",
    "homeless = raw.groupby([\"Year\",\"disaster_type\", \"Country\"])[\"homeless\"].sum().reset_index()\n",
    "total_affected = raw.groupby([\"Year\",\"disaster_type\", \"Country\"])[\"total_affected\"].sum().reset_index()\n",
    "reconstruction_costs = raw.groupby([\"Year\",\"disaster_type\", \"Country\"])[\"reconstruction_costs\"].sum().reset_index()\n",
    "insured_damages = raw.groupby([\"Year\",\"disaster_type\", \"Country\"])[\"insured_damages\"].sum().reset_index()\n",
    "total_damages = raw.groupby([\"Year\",\"disaster_type\", \"Country\"])[\"total_damages\"].sum().reset_index()"
   ]
  },
  {
   "cell_type": "code",
   "execution_count": 5,
   "metadata": {},
   "outputs": [],
   "source": [
    "combined = pd.merge(deaths, injured, how=\"outer\")\n",
    "combined = pd.merge(combined, affected, how=\"outer\")\n",
    "combined = pd.merge(combined, homeless, how=\"outer\")\n",
    "combined = pd.merge(combined, total_affected, how=\"outer\")\n",
    "combined = pd.merge(combined, reconstruction_costs, how=\"outer\")\n",
    "combined = pd.merge(combined, insured_damages, how=\"outer\")\n",
    "combined = pd.merge(combined, total_damages, how=\"outer\")"
   ]
  },
  {
   "cell_type": "code",
   "execution_count": 6,
   "metadata": {},
   "outputs": [
    {
     "name": "stderr",
     "output_type": "stream",
     "text": [
      "/Library/Frameworks/Python.framework/Versions/3.7/lib/python3.7/site-packages/ipykernel_launcher.py:1: FutureWarning: Indexing with multiple keys (implicitly converted to a tuple of keys) will be deprecated, use a list instead.\n",
      "  \"\"\"Entry point for launching an IPython kernel.\n"
     ]
    }
   ],
   "source": [
    "world = combined.groupby([\"Year\", \"disaster_type\"])[\"deaths\", \"injured\", \"affected\", \"homeless\", \"total_affected\", \"reconstruction_costs\", \"insured_damages\", \"total_damages\"].sum().reset_index()\n",
    "world[\"Country\"]=\"World\""
   ]
  },
  {
   "cell_type": "code",
   "execution_count": 7,
   "metadata": {},
   "outputs": [],
   "source": [
    "combined = pd.concat([combined, world])"
   ]
  },
  {
   "cell_type": "code",
   "execution_count": 8,
   "metadata": {},
   "outputs": [
    {
     "name": "stderr",
     "output_type": "stream",
     "text": [
      "/Library/Frameworks/Python.framework/Versions/3.7/lib/python3.7/site-packages/ipykernel_launcher.py:1: FutureWarning: Indexing with multiple keys (implicitly converted to a tuple of keys) will be deprecated, use a list instead.\n",
      "  \"\"\"Entry point for launching an IPython kernel.\n"
     ]
    }
   ],
   "source": [
    "totals = combined.groupby([\"Year\", \"Country\"])[\"deaths\", \"injured\", \"affected\", \"homeless\", \"total_affected\", \"reconstruction_costs\", \"insured_damages\", \"total_damages\"].sum().reset_index()\n",
    "totals[\"disaster_type\"]=\"All disasters\""
   ]
  },
  {
   "cell_type": "code",
   "execution_count": 9,
   "metadata": {},
   "outputs": [],
   "source": [
    "combined = pd.concat([combined, totals])"
   ]
  },
  {
   "cell_type": "code",
   "execution_count": 10,
   "metadata": {},
   "outputs": [],
   "source": [
    "countries = pd.read_csv(\"inputs/countries.csv\", encoding=\"latin1\")\n",
    "combined = pd.merge(combined, countries, how=\"outer\")\n",
    "combined = combined.drop(columns=[\"Country\"])"
   ]
  },
  {
   "cell_type": "code",
   "execution_count": 11,
   "metadata": {},
   "outputs": [],
   "source": [
    "# Add `decade` column and remove `year` column\n",
    "combined = combined.assign(decade=combined.Year//10*10).drop(columns=[\"Year\"])\n",
    "# Group by country + decade and obtain mean values for all metrics\n",
    "combined_decade = combined.groupby([\"Entity\", \"decade\"], as_index=False).mean()"
   ]
  },
  {
   "cell_type": "code",
   "execution_count": 12,
   "metadata": {},
   "outputs": [],
   "source": [
    "combined = combined.rename(columns={\"Decade\":\"Year\"})"
   ]
  },
  {
   "cell_type": "code",
   "execution_count": 13,
   "metadata": {},
   "outputs": [],
   "source": [
    "population = pd.read_csv(\"inputs/population.csv\", encoding=\"latin1\")\n",
    "combined = pd.merge(combined, population, how=\"left\")"
   ]
  },
  {
   "cell_type": "code",
   "execution_count": 14,
   "metadata": {},
   "outputs": [],
   "source": [
    "combined[\"death_rate_per_100k\"] = combined[\"deaths\"] / combined[\"Population\"] * 100000\n",
    "combined[\"injury_rate_per_100k\"] = combined[\"injured\"] / combined[\"Population\"] * 100000\n",
    "combined[\"affected_rate_per_100k\"] = combined[\"affected\"] / combined[\"Population\"] * 100000\n",
    "combined[\"homeless_rate_per_100k\"] = combined[\"homeless\"] / combined[\"Population\"] * 100000\n",
    "combined[\"total_affected_per_100k\"] = combined[\"total_affected\"] / combined[\"Population\"] * 100000 "
   ]
  },
  {
   "cell_type": "code",
   "execution_count": 15,
   "metadata": {},
   "outputs": [],
   "source": [
    "combined = combined.drop(columns=[\"Population\"])"
   ]
  },
  {
   "cell_type": "code",
   "execution_count": 16,
   "metadata": {},
   "outputs": [
    {
     "data": {
      "text/html": [
       "<div>\n",
       "<style scoped>\n",
       "    .dataframe tbody tr th:only-of-type {\n",
       "        vertical-align: middle;\n",
       "    }\n",
       "\n",
       "    .dataframe tbody tr th {\n",
       "        vertical-align: top;\n",
       "    }\n",
       "\n",
       "    .dataframe thead th {\n",
       "        text-align: right;\n",
       "    }\n",
       "</style>\n",
       "<table border=\"1\" class=\"dataframe\">\n",
       "  <thead>\n",
       "    <tr style=\"text-align: right;\">\n",
       "      <th></th>\n",
       "      <th>disaster_type</th>\n",
       "      <th>deaths</th>\n",
       "      <th>injured</th>\n",
       "      <th>affected</th>\n",
       "      <th>homeless</th>\n",
       "      <th>total_affected</th>\n",
       "      <th>reconstruction_costs</th>\n",
       "      <th>insured_damages</th>\n",
       "      <th>total_damages</th>\n",
       "      <th>Entity</th>\n",
       "      <th>decade</th>\n",
       "      <th>Year</th>\n",
       "      <th>death_rate_per_100k</th>\n",
       "      <th>injury_rate_per_100k</th>\n",
       "      <th>affected_rate_per_100k</th>\n",
       "      <th>homeless_rate_per_100k</th>\n",
       "      <th>total_affected_per_100k</th>\n",
       "    </tr>\n",
       "  </thead>\n",
       "  <tbody>\n",
       "    <tr>\n",
       "      <th>0</th>\n",
       "      <td>Drought</td>\n",
       "      <td>11000.0</td>\n",
       "      <td>0.0</td>\n",
       "      <td>0.0</td>\n",
       "      <td>0.0</td>\n",
       "      <td>0.0</td>\n",
       "      <td>0.0</td>\n",
       "      <td>0.0</td>\n",
       "      <td>0.0</td>\n",
       "      <td>Cape Verde</td>\n",
       "      <td>1900</td>\n",
       "      <td>1800.0</td>\n",
       "      <td>19742.982267</td>\n",
       "      <td>0.000000</td>\n",
       "      <td>0.000000</td>\n",
       "      <td>0.000000</td>\n",
       "      <td>0.000000</td>\n",
       "    </tr>\n",
       "    <tr>\n",
       "      <th>1</th>\n",
       "      <td>Drought</td>\n",
       "      <td>11000.0</td>\n",
       "      <td>0.0</td>\n",
       "      <td>0.0</td>\n",
       "      <td>0.0</td>\n",
       "      <td>0.0</td>\n",
       "      <td>0.0</td>\n",
       "      <td>0.0</td>\n",
       "      <td>0.0</td>\n",
       "      <td>Cape Verde</td>\n",
       "      <td>1900</td>\n",
       "      <td>1801.0</td>\n",
       "      <td>19742.982267</td>\n",
       "      <td>0.000000</td>\n",
       "      <td>0.000000</td>\n",
       "      <td>0.000000</td>\n",
       "      <td>0.000000</td>\n",
       "    </tr>\n",
       "    <tr>\n",
       "      <th>2</th>\n",
       "      <td>Drought</td>\n",
       "      <td>11000.0</td>\n",
       "      <td>0.0</td>\n",
       "      <td>0.0</td>\n",
       "      <td>0.0</td>\n",
       "      <td>0.0</td>\n",
       "      <td>0.0</td>\n",
       "      <td>0.0</td>\n",
       "      <td>0.0</td>\n",
       "      <td>Cape Verde</td>\n",
       "      <td>1900</td>\n",
       "      <td>1802.0</td>\n",
       "      <td>19742.982267</td>\n",
       "      <td>0.000000</td>\n",
       "      <td>0.000000</td>\n",
       "      <td>0.000000</td>\n",
       "      <td>0.000000</td>\n",
       "    </tr>\n",
       "    <tr>\n",
       "      <th>3</th>\n",
       "      <td>Drought</td>\n",
       "      <td>11000.0</td>\n",
       "      <td>0.0</td>\n",
       "      <td>0.0</td>\n",
       "      <td>0.0</td>\n",
       "      <td>0.0</td>\n",
       "      <td>0.0</td>\n",
       "      <td>0.0</td>\n",
       "      <td>0.0</td>\n",
       "      <td>Cape Verde</td>\n",
       "      <td>1900</td>\n",
       "      <td>1803.0</td>\n",
       "      <td>19742.982267</td>\n",
       "      <td>0.000000</td>\n",
       "      <td>0.000000</td>\n",
       "      <td>0.000000</td>\n",
       "      <td>0.000000</td>\n",
       "    </tr>\n",
       "    <tr>\n",
       "      <th>4</th>\n",
       "      <td>Drought</td>\n",
       "      <td>11000.0</td>\n",
       "      <td>0.0</td>\n",
       "      <td>0.0</td>\n",
       "      <td>0.0</td>\n",
       "      <td>0.0</td>\n",
       "      <td>0.0</td>\n",
       "      <td>0.0</td>\n",
       "      <td>0.0</td>\n",
       "      <td>Cape Verde</td>\n",
       "      <td>1900</td>\n",
       "      <td>1804.0</td>\n",
       "      <td>19742.982267</td>\n",
       "      <td>0.000000</td>\n",
       "      <td>0.000000</td>\n",
       "      <td>0.000000</td>\n",
       "      <td>0.000000</td>\n",
       "    </tr>\n",
       "    <tr>\n",
       "      <th>...</th>\n",
       "      <td>...</td>\n",
       "      <td>...</td>\n",
       "      <td>...</td>\n",
       "      <td>...</td>\n",
       "      <td>...</td>\n",
       "      <td>...</td>\n",
       "      <td>...</td>\n",
       "      <td>...</td>\n",
       "      <td>...</td>\n",
       "      <td>...</td>\n",
       "      <td>...</td>\n",
       "      <td>...</td>\n",
       "      <td>...</td>\n",
       "      <td>...</td>\n",
       "      <td>...</td>\n",
       "      <td>...</td>\n",
       "      <td>...</td>\n",
       "    </tr>\n",
       "    <tr>\n",
       "      <th>3163373</th>\n",
       "      <td>All disasters</td>\n",
       "      <td>6372.0</td>\n",
       "      <td>17356.0</td>\n",
       "      <td>53772981.0</td>\n",
       "      <td>31120.0</td>\n",
       "      <td>53821457.0</td>\n",
       "      <td>0.0</td>\n",
       "      <td>6081930.0</td>\n",
       "      <td>56482200.0</td>\n",
       "      <td>World</td>\n",
       "      <td>2020</td>\n",
       "      <td>2016.0</td>\n",
       "      <td>0.085370</td>\n",
       "      <td>0.232529</td>\n",
       "      <td>720.429025</td>\n",
       "      <td>0.416933</td>\n",
       "      <td>721.078487</td>\n",
       "    </tr>\n",
       "    <tr>\n",
       "      <th>3163374</th>\n",
       "      <td>All disasters</td>\n",
       "      <td>6372.0</td>\n",
       "      <td>17356.0</td>\n",
       "      <td>53772981.0</td>\n",
       "      <td>31120.0</td>\n",
       "      <td>53821457.0</td>\n",
       "      <td>0.0</td>\n",
       "      <td>6081930.0</td>\n",
       "      <td>56482200.0</td>\n",
       "      <td>World</td>\n",
       "      <td>2020</td>\n",
       "      <td>2017.0</td>\n",
       "      <td>0.084421</td>\n",
       "      <td>0.229946</td>\n",
       "      <td>712.426946</td>\n",
       "      <td>0.412302</td>\n",
       "      <td>713.069195</td>\n",
       "    </tr>\n",
       "    <tr>\n",
       "      <th>3163375</th>\n",
       "      <td>All disasters</td>\n",
       "      <td>6372.0</td>\n",
       "      <td>17356.0</td>\n",
       "      <td>53772981.0</td>\n",
       "      <td>31120.0</td>\n",
       "      <td>53821457.0</td>\n",
       "      <td>0.0</td>\n",
       "      <td>6081930.0</td>\n",
       "      <td>56482200.0</td>\n",
       "      <td>World</td>\n",
       "      <td>2020</td>\n",
       "      <td>2018.0</td>\n",
       "      <td>0.083501</td>\n",
       "      <td>0.227438</td>\n",
       "      <td>704.656511</td>\n",
       "      <td>0.407805</td>\n",
       "      <td>705.291754</td>\n",
       "    </tr>\n",
       "    <tr>\n",
       "      <th>3163376</th>\n",
       "      <td>All disasters</td>\n",
       "      <td>6372.0</td>\n",
       "      <td>17356.0</td>\n",
       "      <td>53772981.0</td>\n",
       "      <td>31120.0</td>\n",
       "      <td>53821457.0</td>\n",
       "      <td>0.0</td>\n",
       "      <td>6081930.0</td>\n",
       "      <td>56482200.0</td>\n",
       "      <td>World</td>\n",
       "      <td>2020</td>\n",
       "      <td>2019.0</td>\n",
       "      <td>0.082609</td>\n",
       "      <td>0.225009</td>\n",
       "      <td>697.131066</td>\n",
       "      <td>0.403450</td>\n",
       "      <td>697.759525</td>\n",
       "    </tr>\n",
       "    <tr>\n",
       "      <th>3163377</th>\n",
       "      <td>All disasters</td>\n",
       "      <td>6372.0</td>\n",
       "      <td>17356.0</td>\n",
       "      <td>53772981.0</td>\n",
       "      <td>31120.0</td>\n",
       "      <td>53821457.0</td>\n",
       "      <td>0.0</td>\n",
       "      <td>6081930.0</td>\n",
       "      <td>56482200.0</td>\n",
       "      <td>World</td>\n",
       "      <td>2020</td>\n",
       "      <td>2020.0</td>\n",
       "      <td>0.081747</td>\n",
       "      <td>0.222661</td>\n",
       "      <td>689.857210</td>\n",
       "      <td>0.399241</td>\n",
       "      <td>690.479111</td>\n",
       "    </tr>\n",
       "  </tbody>\n",
       "</table>\n",
       "<p>3163378 rows × 17 columns</p>\n",
       "</div>"
      ],
      "text/plain": [
       "         disaster_type   deaths  injured    affected  homeless  \\\n",
       "0              Drought  11000.0      0.0         0.0       0.0   \n",
       "1              Drought  11000.0      0.0         0.0       0.0   \n",
       "2              Drought  11000.0      0.0         0.0       0.0   \n",
       "3              Drought  11000.0      0.0         0.0       0.0   \n",
       "4              Drought  11000.0      0.0         0.0       0.0   \n",
       "...                ...      ...      ...         ...       ...   \n",
       "3163373  All disasters   6372.0  17356.0  53772981.0   31120.0   \n",
       "3163374  All disasters   6372.0  17356.0  53772981.0   31120.0   \n",
       "3163375  All disasters   6372.0  17356.0  53772981.0   31120.0   \n",
       "3163376  All disasters   6372.0  17356.0  53772981.0   31120.0   \n",
       "3163377  All disasters   6372.0  17356.0  53772981.0   31120.0   \n",
       "\n",
       "         total_affected  reconstruction_costs  insured_damages  total_damages  \\\n",
       "0                   0.0                   0.0              0.0            0.0   \n",
       "1                   0.0                   0.0              0.0            0.0   \n",
       "2                   0.0                   0.0              0.0            0.0   \n",
       "3                   0.0                   0.0              0.0            0.0   \n",
       "4                   0.0                   0.0              0.0            0.0   \n",
       "...                 ...                   ...              ...            ...   \n",
       "3163373      53821457.0                   0.0        6081930.0     56482200.0   \n",
       "3163374      53821457.0                   0.0        6081930.0     56482200.0   \n",
       "3163375      53821457.0                   0.0        6081930.0     56482200.0   \n",
       "3163376      53821457.0                   0.0        6081930.0     56482200.0   \n",
       "3163377      53821457.0                   0.0        6081930.0     56482200.0   \n",
       "\n",
       "             Entity  decade    Year  death_rate_per_100k  \\\n",
       "0        Cape Verde    1900  1800.0         19742.982267   \n",
       "1        Cape Verde    1900  1801.0         19742.982267   \n",
       "2        Cape Verde    1900  1802.0         19742.982267   \n",
       "3        Cape Verde    1900  1803.0         19742.982267   \n",
       "4        Cape Verde    1900  1804.0         19742.982267   \n",
       "...             ...     ...     ...                  ...   \n",
       "3163373       World    2020  2016.0             0.085370   \n",
       "3163374       World    2020  2017.0             0.084421   \n",
       "3163375       World    2020  2018.0             0.083501   \n",
       "3163376       World    2020  2019.0             0.082609   \n",
       "3163377       World    2020  2020.0             0.081747   \n",
       "\n",
       "         injury_rate_per_100k  affected_rate_per_100k  homeless_rate_per_100k  \\\n",
       "0                    0.000000                0.000000                0.000000   \n",
       "1                    0.000000                0.000000                0.000000   \n",
       "2                    0.000000                0.000000                0.000000   \n",
       "3                    0.000000                0.000000                0.000000   \n",
       "4                    0.000000                0.000000                0.000000   \n",
       "...                       ...                     ...                     ...   \n",
       "3163373              0.232529              720.429025                0.416933   \n",
       "3163374              0.229946              712.426946                0.412302   \n",
       "3163375              0.227438              704.656511                0.407805   \n",
       "3163376              0.225009              697.131066                0.403450   \n",
       "3163377              0.222661              689.857210                0.399241   \n",
       "\n",
       "         total_affected_per_100k  \n",
       "0                       0.000000  \n",
       "1                       0.000000  \n",
       "2                       0.000000  \n",
       "3                       0.000000  \n",
       "4                       0.000000  \n",
       "...                          ...  \n",
       "3163373               721.078487  \n",
       "3163374               713.069195  \n",
       "3163375               705.291754  \n",
       "3163376               697.759525  \n",
       "3163377               690.479111  \n",
       "\n",
       "[3163378 rows x 17 columns]"
      ]
     },
     "execution_count": 16,
     "metadata": {},
     "output_type": "execute_result"
    }
   ],
   "source": [
    "combined"
   ]
  },
  {
   "cell_type": "code",
   "execution_count": 17,
   "metadata": {},
   "outputs": [],
   "source": [
    "drought = combined[combined[\"disaster_type\"].str.contains(\"Drought\")]\n",
    "drought.columns = [str(col) + \"_drought\" for col in drought.columns]\n",
    "drought = drought.rename(columns={\"Year_drought\":\"Year\",\n",
    "                       \"Entity_drought\":\"Entity\"\n",
    "                       }\n",
    "              )"
   ]
  },
  {
   "cell_type": "code",
   "execution_count": 18,
   "metadata": {},
   "outputs": [],
   "source": [
    "earthquake = combined[combined[\"disaster_type\"].str.contains(\"Earthquake\")]\n",
    "earthquake.columns = [str(col) + \"_earthquake\" for col in earthquake.columns]\n",
    "earthquake = earthquake.rename(columns={\"Year_earthquake\":\"Year\",\n",
    "                                        \"Entity_earthquake\":\"Entity\"\n",
    "                                       }\n",
    "                              )"
   ]
  },
  {
   "cell_type": "code",
   "execution_count": 19,
   "metadata": {},
   "outputs": [],
   "source": [
    "all_disasters = combined[combined[\"disaster_type\"].str.contains(\"All disasters\")]\n",
    "all_disasters.columns = [str(col) + \"_all_disasters\" for col in all_disasters.columns]\n",
    "all_disasters = all_disasters.rename(columns={\"Year_all_disasters\":\"Year\",\n",
    "                                              \"Entity_all_disasters\":\"Entity\"\n",
    "                                             }\n",
    "                                    )"
   ]
  },
  {
   "cell_type": "code",
   "execution_count": 20,
   "metadata": {},
   "outputs": [],
   "source": [
    "volcanic = combined[combined[\"disaster_type\"].str.contains(\"Volcanic activity\")]\n",
    "volcanic.columns = [str(col) + \"_volcanic\" for col in volcanic.columns]\n",
    "volcanic = volcanic.rename(columns={\"Year_volcanic\":\"Year\",\n",
    "                                   \"Entity_volcanic\":\"Entity\"\n",
    "                                   }\n",
    "              )"
   ]
  },
  {
   "cell_type": "code",
   "execution_count": 21,
   "metadata": {},
   "outputs": [],
   "source": [
    "flood = combined[combined[\"disaster_type\"].str.contains(\"Flood\")]\n",
    "flood.columns = [str(col) + \"_flood\" for col in flood.columns]\n",
    "flood = flood.rename(columns={\"Year_flood\":\"Year\",\n",
    "                                   \"Entity_flood\":\"Entity\"\n",
    "                                   }\n",
    "              )"
   ]
  },
  {
   "cell_type": "code",
   "execution_count": 22,
   "metadata": {},
   "outputs": [
    {
     "name": "stderr",
     "output_type": "stream",
     "text": [
      "/Library/Frameworks/Python.framework/Versions/3.7/lib/python3.7/site-packages/pandas/core/strings.py:1954: UserWarning: This pattern has match groups. To actually get the groups, use str.extract.\n",
      "  return func(self, *args, **kwargs)\n"
     ]
    }
   ],
   "source": [
    "mass_movement = combined[combined[\"disaster_type\"].str.contains(\"Mass movement (dry)\")]\n",
    "mass_movement.columns = [str(col) + \"_mass_movement\" for col in mass_movement.columns]\n",
    "mass_movement = mass_movement.rename(columns={\"Year_mass_movement\":\"Year\",\n",
    "                                   \"Entity_mass_movement\":\"Entity\"\n",
    "                                   }\n",
    "              )"
   ]
  },
  {
   "cell_type": "code",
   "execution_count": 23,
   "metadata": {},
   "outputs": [],
   "source": [
    "storm = combined[combined[\"disaster_type\"].str.contains(\"Storm\")]\n",
    "storm.columns = [str(col) + \"_storm\" for col in storm.columns]\n",
    "storm = storm.rename(columns={\"Year_storm\":\"Year\",\n",
    "                              \"Entity_storm\":\"Entity\"\n",
    "                                   }\n",
    "              )"
   ]
  },
  {
   "cell_type": "code",
   "execution_count": 24,
   "metadata": {},
   "outputs": [],
   "source": [
    "landslide = combined[combined[\"disaster_type\"].str.contains(\"Landslide\")]\n",
    "landslide.columns = [str(col) + \"_landslide\" for col in landslide.columns]\n",
    "landslide = landslide.rename(columns={\"Year_landslide\":\"Year\",\n",
    "                              \"Entity_landslide\":\"Entity\"\n",
    "                                   }\n",
    "              )"
   ]
  },
  {
   "cell_type": "code",
   "execution_count": 25,
   "metadata": {},
   "outputs": [],
   "source": [
    "fog = combined[combined[\"disaster_type\"].str.contains(\"Fog\")]\n",
    "fog.columns = [str(col) + \"_fog\" for col in fog.columns]\n",
    "fog = fog.rename(columns={\"Year_fog\":\"Year\",\n",
    "                              \"Entity_fog\":\"Entity\"\n",
    "                                   }\n",
    "              )"
   ]
  },
  {
   "cell_type": "code",
   "execution_count": 26,
   "metadata": {},
   "outputs": [],
   "source": [
    "wildfire = combined[combined[\"disaster_type\"].str.contains(\"Wildfire\")]\n",
    "wildfire.columns = [str(col) + \"_wildfire\" for col in wildfire.columns]\n",
    "wildfire = wildfire.rename(columns={\"Year_wildfire\":\"Year\",\n",
    "                              \"Entity_wildfire\":\"Entity\"\n",
    "                                   }\n",
    "              )"
   ]
  },
  {
   "cell_type": "code",
   "execution_count": 27,
   "metadata": {},
   "outputs": [],
   "source": [
    "temperature = combined[combined[\"disaster_type\"].str.contains(\"Extreme temperature\")]\n",
    "temperature.columns = [str(col) + \"_temperature\" for col in temperature.columns]\n",
    "temperature = temperature.rename(columns={\"Year_temperature\":\"Year\",\n",
    "                                          \"Entity_temperature\":\"Entity\"\n",
    "                                         }\n",
    "                                )"
   ]
  },
  {
   "cell_type": "code",
   "execution_count": 28,
   "metadata": {},
   "outputs": [],
   "source": [
    "glacial_lake = combined[combined[\"disaster_type\"].str.contains(\"Glacial lake outburst\")]\n",
    "glacial_lake.columns = [str(col) + \"_glacial_lake\" for col in glacial_lake.columns]\n",
    "glacial_lake = glacial_lake.rename(columns={\"Year_glacial_lake\":\"Year\",\n",
    "                              \"Entity_glacial_lake\":\"Entity\"\n",
    "                                   }\n",
    "              )"
   ]
  },
  {
   "cell_type": "code",
   "execution_count": 29,
   "metadata": {},
   "outputs": [
    {
     "ename": "KeyboardInterrupt",
     "evalue": "",
     "output_type": "error",
     "traceback": [
      "\u001b[0;31m---------------------------------------------------------------------------\u001b[0m",
      "\u001b[0;31mKeyboardInterrupt\u001b[0m                         Traceback (most recent call last)",
      "\u001b[0;32m<ipython-input-29-820117cfc849>\u001b[0m in \u001b[0;36m<module>\u001b[0;34m\u001b[0m\n\u001b[1;32m      1\u001b[0m \u001b[0mdisasters\u001b[0m \u001b[0;34m=\u001b[0m \u001b[0mpd\u001b[0m\u001b[0;34m.\u001b[0m\u001b[0mmerge\u001b[0m\u001b[0;34m(\u001b[0m\u001b[0mdrought\u001b[0m\u001b[0;34m,\u001b[0m \u001b[0mearthquake\u001b[0m\u001b[0;34m,\u001b[0m \u001b[0mhow\u001b[0m\u001b[0;34m=\u001b[0m\u001b[0;34m\"outer\"\u001b[0m\u001b[0;34m)\u001b[0m\u001b[0;34m\u001b[0m\u001b[0;34m\u001b[0m\u001b[0m\n\u001b[0;32m----> 2\u001b[0;31m \u001b[0mdisasters\u001b[0m \u001b[0;34m=\u001b[0m \u001b[0mpd\u001b[0m\u001b[0;34m.\u001b[0m\u001b[0mmerge\u001b[0m\u001b[0;34m(\u001b[0m\u001b[0mdisasters\u001b[0m\u001b[0;34m,\u001b[0m \u001b[0mall_disasters\u001b[0m\u001b[0;34m,\u001b[0m \u001b[0mhow\u001b[0m\u001b[0;34m=\u001b[0m\u001b[0;34m\"outer\"\u001b[0m\u001b[0;34m)\u001b[0m\u001b[0;34m\u001b[0m\u001b[0;34m\u001b[0m\u001b[0m\n\u001b[0m",
      "\u001b[0;32m/Library/Frameworks/Python.framework/Versions/3.7/lib/python3.7/site-packages/pandas/core/reshape/merge.py\u001b[0m in \u001b[0;36mmerge\u001b[0;34m(left, right, how, on, left_on, right_on, left_index, right_index, sort, suffixes, copy, indicator, validate)\u001b[0m\n\u001b[1;32m     86\u001b[0m         \u001b[0mvalidate\u001b[0m\u001b[0;34m=\u001b[0m\u001b[0mvalidate\u001b[0m\u001b[0;34m,\u001b[0m\u001b[0;34m\u001b[0m\u001b[0;34m\u001b[0m\u001b[0m\n\u001b[1;32m     87\u001b[0m     )\n\u001b[0;32m---> 88\u001b[0;31m     \u001b[0;32mreturn\u001b[0m \u001b[0mop\u001b[0m\u001b[0;34m.\u001b[0m\u001b[0mget_result\u001b[0m\u001b[0;34m(\u001b[0m\u001b[0;34m)\u001b[0m\u001b[0;34m\u001b[0m\u001b[0;34m\u001b[0m\u001b[0m\n\u001b[0m\u001b[1;32m     89\u001b[0m \u001b[0;34m\u001b[0m\u001b[0m\n\u001b[1;32m     90\u001b[0m \u001b[0;34m\u001b[0m\u001b[0m\n",
      "\u001b[0;32m/Library/Frameworks/Python.framework/Versions/3.7/lib/python3.7/site-packages/pandas/core/reshape/merge.py\u001b[0m in \u001b[0;36mget_result\u001b[0;34m(self)\u001b[0m\n\u001b[1;32m    657\u001b[0m             \u001b[0maxes\u001b[0m\u001b[0;34m=\u001b[0m\u001b[0;34m[\u001b[0m\u001b[0mllabels\u001b[0m\u001b[0;34m.\u001b[0m\u001b[0mappend\u001b[0m\u001b[0;34m(\u001b[0m\u001b[0mrlabels\u001b[0m\u001b[0;34m)\u001b[0m\u001b[0;34m,\u001b[0m \u001b[0mjoin_index\u001b[0m\u001b[0;34m]\u001b[0m\u001b[0;34m,\u001b[0m\u001b[0;34m\u001b[0m\u001b[0;34m\u001b[0m\u001b[0m\n\u001b[1;32m    658\u001b[0m             \u001b[0mconcat_axis\u001b[0m\u001b[0;34m=\u001b[0m\u001b[0;36m0\u001b[0m\u001b[0;34m,\u001b[0m\u001b[0;34m\u001b[0m\u001b[0;34m\u001b[0m\u001b[0m\n\u001b[0;32m--> 659\u001b[0;31m             \u001b[0mcopy\u001b[0m\u001b[0;34m=\u001b[0m\u001b[0mself\u001b[0m\u001b[0;34m.\u001b[0m\u001b[0mcopy\u001b[0m\u001b[0;34m,\u001b[0m\u001b[0;34m\u001b[0m\u001b[0;34m\u001b[0m\u001b[0m\n\u001b[0m\u001b[1;32m    660\u001b[0m         )\n\u001b[1;32m    661\u001b[0m \u001b[0;34m\u001b[0m\u001b[0m\n",
      "\u001b[0;32m/Library/Frameworks/Python.framework/Versions/3.7/lib/python3.7/site-packages/pandas/core/internals/managers.py\u001b[0m in \u001b[0;36mconcatenate_block_managers\u001b[0;34m(mgrs_indexers, axes, concat_axis, copy)\u001b[0m\n\u001b[1;32m   2020\u001b[0m         \u001b[0;32melse\u001b[0m\u001b[0;34m:\u001b[0m\u001b[0;34m\u001b[0m\u001b[0;34m\u001b[0m\u001b[0m\n\u001b[1;32m   2021\u001b[0m             b = make_block(\n\u001b[0;32m-> 2022\u001b[0;31m                 \u001b[0mconcatenate_join_units\u001b[0m\u001b[0;34m(\u001b[0m\u001b[0mjoin_units\u001b[0m\u001b[0;34m,\u001b[0m \u001b[0mconcat_axis\u001b[0m\u001b[0;34m,\u001b[0m \u001b[0mcopy\u001b[0m\u001b[0;34m=\u001b[0m\u001b[0mcopy\u001b[0m\u001b[0;34m)\u001b[0m\u001b[0;34m,\u001b[0m\u001b[0;34m\u001b[0m\u001b[0;34m\u001b[0m\u001b[0m\n\u001b[0m\u001b[1;32m   2023\u001b[0m                 \u001b[0mplacement\u001b[0m\u001b[0;34m=\u001b[0m\u001b[0mplacement\u001b[0m\u001b[0;34m,\u001b[0m\u001b[0;34m\u001b[0m\u001b[0;34m\u001b[0m\u001b[0m\n\u001b[1;32m   2024\u001b[0m             )\n",
      "\u001b[0;32m/Library/Frameworks/Python.framework/Versions/3.7/lib/python3.7/site-packages/pandas/core/internals/concat.py\u001b[0m in \u001b[0;36mconcatenate_join_units\u001b[0;34m(join_units, concat_axis, copy)\u001b[0m\n\u001b[1;32m    246\u001b[0m     to_concat = [\n\u001b[1;32m    247\u001b[0m         \u001b[0mju\u001b[0m\u001b[0;34m.\u001b[0m\u001b[0mget_reindexed_values\u001b[0m\u001b[0;34m(\u001b[0m\u001b[0mempty_dtype\u001b[0m\u001b[0;34m=\u001b[0m\u001b[0mempty_dtype\u001b[0m\u001b[0;34m,\u001b[0m \u001b[0mupcasted_na\u001b[0m\u001b[0;34m=\u001b[0m\u001b[0mupcasted_na\u001b[0m\u001b[0;34m)\u001b[0m\u001b[0;34m\u001b[0m\u001b[0;34m\u001b[0m\u001b[0m\n\u001b[0;32m--> 248\u001b[0;31m         \u001b[0;32mfor\u001b[0m \u001b[0mju\u001b[0m \u001b[0;32min\u001b[0m \u001b[0mjoin_units\u001b[0m\u001b[0;34m\u001b[0m\u001b[0;34m\u001b[0m\u001b[0m\n\u001b[0m\u001b[1;32m    249\u001b[0m     ]\n\u001b[1;32m    250\u001b[0m \u001b[0;34m\u001b[0m\u001b[0m\n",
      "\u001b[0;32m/Library/Frameworks/Python.framework/Versions/3.7/lib/python3.7/site-packages/pandas/core/internals/concat.py\u001b[0m in \u001b[0;36m<listcomp>\u001b[0;34m(.0)\u001b[0m\n\u001b[1;32m    246\u001b[0m     to_concat = [\n\u001b[1;32m    247\u001b[0m         \u001b[0mju\u001b[0m\u001b[0;34m.\u001b[0m\u001b[0mget_reindexed_values\u001b[0m\u001b[0;34m(\u001b[0m\u001b[0mempty_dtype\u001b[0m\u001b[0;34m=\u001b[0m\u001b[0mempty_dtype\u001b[0m\u001b[0;34m,\u001b[0m \u001b[0mupcasted_na\u001b[0m\u001b[0;34m=\u001b[0m\u001b[0mupcasted_na\u001b[0m\u001b[0;34m)\u001b[0m\u001b[0;34m\u001b[0m\u001b[0;34m\u001b[0m\u001b[0m\n\u001b[0;32m--> 248\u001b[0;31m         \u001b[0;32mfor\u001b[0m \u001b[0mju\u001b[0m \u001b[0;32min\u001b[0m \u001b[0mjoin_units\u001b[0m\u001b[0;34m\u001b[0m\u001b[0;34m\u001b[0m\u001b[0m\n\u001b[0m\u001b[1;32m    249\u001b[0m     ]\n\u001b[1;32m    250\u001b[0m \u001b[0;34m\u001b[0m\u001b[0m\n",
      "\u001b[0;32m/Library/Frameworks/Python.framework/Versions/3.7/lib/python3.7/site-packages/pandas/core/internals/concat.py\u001b[0m in \u001b[0;36mget_reindexed_values\u001b[0;34m(self, empty_dtype, upcasted_na)\u001b[0m\n\u001b[1;32m    229\u001b[0m         \u001b[0;32melse\u001b[0m\u001b[0;34m:\u001b[0m\u001b[0;34m\u001b[0m\u001b[0;34m\u001b[0m\u001b[0m\n\u001b[1;32m    230\u001b[0m             \u001b[0;32mfor\u001b[0m \u001b[0max\u001b[0m\u001b[0;34m,\u001b[0m \u001b[0mindexer\u001b[0m \u001b[0;32min\u001b[0m \u001b[0mself\u001b[0m\u001b[0;34m.\u001b[0m\u001b[0mindexers\u001b[0m\u001b[0;34m.\u001b[0m\u001b[0mitems\u001b[0m\u001b[0;34m(\u001b[0m\u001b[0;34m)\u001b[0m\u001b[0;34m:\u001b[0m\u001b[0;34m\u001b[0m\u001b[0;34m\u001b[0m\u001b[0m\n\u001b[0;32m--> 231\u001b[0;31m                 \u001b[0mvalues\u001b[0m \u001b[0;34m=\u001b[0m \u001b[0malgos\u001b[0m\u001b[0;34m.\u001b[0m\u001b[0mtake_nd\u001b[0m\u001b[0;34m(\u001b[0m\u001b[0mvalues\u001b[0m\u001b[0;34m,\u001b[0m \u001b[0mindexer\u001b[0m\u001b[0;34m,\u001b[0m \u001b[0maxis\u001b[0m\u001b[0;34m=\u001b[0m\u001b[0max\u001b[0m\u001b[0;34m,\u001b[0m \u001b[0mfill_value\u001b[0m\u001b[0;34m=\u001b[0m\u001b[0mfill_value\u001b[0m\u001b[0;34m)\u001b[0m\u001b[0;34m\u001b[0m\u001b[0;34m\u001b[0m\u001b[0m\n\u001b[0m\u001b[1;32m    232\u001b[0m \u001b[0;34m\u001b[0m\u001b[0m\n\u001b[1;32m    233\u001b[0m         \u001b[0;32mreturn\u001b[0m \u001b[0mvalues\u001b[0m\u001b[0;34m\u001b[0m\u001b[0;34m\u001b[0m\u001b[0m\n",
      "\u001b[0;32m/Library/Frameworks/Python.framework/Versions/3.7/lib/python3.7/site-packages/pandas/core/algorithms.py\u001b[0m in \u001b[0;36mtake_nd\u001b[0;34m(arr, indexer, axis, out, fill_value, allow_fill)\u001b[0m\n\u001b[1;32m   1660\u001b[0m         \u001b[0marr\u001b[0m\u001b[0;34m.\u001b[0m\u001b[0mndim\u001b[0m\u001b[0;34m,\u001b[0m \u001b[0marr\u001b[0m\u001b[0;34m.\u001b[0m\u001b[0mdtype\u001b[0m\u001b[0;34m,\u001b[0m \u001b[0mout\u001b[0m\u001b[0;34m.\u001b[0m\u001b[0mdtype\u001b[0m\u001b[0;34m,\u001b[0m \u001b[0maxis\u001b[0m\u001b[0;34m=\u001b[0m\u001b[0maxis\u001b[0m\u001b[0;34m,\u001b[0m \u001b[0mmask_info\u001b[0m\u001b[0;34m=\u001b[0m\u001b[0mmask_info\u001b[0m\u001b[0;34m\u001b[0m\u001b[0;34m\u001b[0m\u001b[0m\n\u001b[1;32m   1661\u001b[0m     )\n\u001b[0;32m-> 1662\u001b[0;31m     \u001b[0mfunc\u001b[0m\u001b[0;34m(\u001b[0m\u001b[0marr\u001b[0m\u001b[0;34m,\u001b[0m \u001b[0mindexer\u001b[0m\u001b[0;34m,\u001b[0m \u001b[0mout\u001b[0m\u001b[0;34m,\u001b[0m \u001b[0mfill_value\u001b[0m\u001b[0;34m)\u001b[0m\u001b[0;34m\u001b[0m\u001b[0;34m\u001b[0m\u001b[0m\n\u001b[0m\u001b[1;32m   1663\u001b[0m \u001b[0;34m\u001b[0m\u001b[0m\n\u001b[1;32m   1664\u001b[0m     \u001b[0;32mif\u001b[0m \u001b[0mflip_order\u001b[0m\u001b[0;34m:\u001b[0m\u001b[0;34m\u001b[0m\u001b[0;34m\u001b[0m\u001b[0m\n",
      "\u001b[0;31mKeyboardInterrupt\u001b[0m: "
     ]
    }
   ],
   "source": [
    "disasters = pd.merge(drought, earthquake, how=\"outer\")\n",
    "disasters = pd.merge(disasters, all_disasters, how=\"outer\")\n",
    "disasters = pd.merge(disasters, volcanic, how=\"outer\")\n",
    "disasters = pd.merge(disasters, flood, how=\"outer\")\n",
    "disasters = pd.merge(disasters, mass_movement, how=\"outer\")\n",
    "disasters = pd.merge(disasters, storm, how=\"outer\")\n",
    "disasters = pd.merge(disasters, landslide, how=\"outer\")\n",
    "disasters = pd.merge(disasters, fog, how=\"outer\")\n",
    "disasters = pd.merge(disasters, wildfire, how=\"outer\")\n",
    "disasters = pd.merge(disasters, temperature, how=\"outer\")\n",
    "disasters = pd.merge(disasters, glacial_lake, how=\"outer\")"
   ]
  },
  {
   "cell_type": "code",
   "execution_count": null,
   "metadata": {},
   "outputs": [],
   "source": [
    "disasters = disasters.drop(columns=[\"disaster_type_drought\",\n",
    "                                   \"disaster_type_earthquake\",\n",
    "                                    \"disaster_type_all_disasters\",\n",
    "                                    \"disaster_type_landslide\",\n",
    "                                    \"disaster_type_fog\",\n",
    "                                    \"disaster_type_flood\",\n",
    "                                    \"disaster_type_mass_movement\",\n",
    "                                    \"disaster_type_storm\",\n",
    "                                    \"disaster_type_landslide\",\n",
    "                                    \"disaster_type_wildfire\",\n",
    "                                    \"disaster_type_temperature\",\n",
    "                                    \"disaster_type_glacial_lake\",\n",
    "                                    \"disaster_type_temperature\",\n",
    "                                    \"disaster_type_volcanic\"\n",
    "                                   ]\n",
    "                          )"
   ]
  },
  {
   "cell_type": "code",
   "execution_count": null,
   "metadata": {},
   "outputs": [],
   "source": [
    "disasters = disasters[ [\"Entity\"] + [ col for col in disasters.columns if col != \"Entity\" ] ]\n",
    "disasters = disasters[disasters[\"Entity\"].notna()]\n",
    "disasters = disasters[(disasters.Year != 2021)]"
   ]
  },
  {
   "cell_type": "code",
   "execution_count": null,
   "metadata": {},
   "outputs": [],
   "source": [
    "disasters.to_csv(\"output/Natural disasters (EMDAT – decadal).csv\", index=False)"
   ]
  }
 ],
 "metadata": {
  "kernelspec": {
   "display_name": "Python 3",
   "language": "python",
   "name": "python3"
  },
  "language_info": {
   "codemirror_mode": {
    "name": "ipython",
    "version": 3
   },
   "file_extension": ".py",
   "mimetype": "text/x-python",
   "name": "python",
   "nbconvert_exporter": "python",
   "pygments_lexer": "ipython3",
   "version": "3.7.3"
  }
 },
 "nbformat": 4,
 "nbformat_minor": 2
}
