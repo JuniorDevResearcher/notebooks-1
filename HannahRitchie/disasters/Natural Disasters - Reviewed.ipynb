{
 "cells": [
  {
   "cell_type": "markdown",
   "metadata": {
    "tags": []
   },
   "source": [
    "# Natural Disasters: Revision\n",
    "This is a revision of the original notebook \"Natural Disasters\" by Hannah."
   ]
  },
  {
   "cell_type": "code",
   "execution_count": 1,
   "metadata": {},
   "outputs": [],
   "source": [
    "import pandas as pd\n",
    "import numpy as np"
   ]
  },
  {
   "cell_type": "markdown",
   "metadata": {},
   "source": [
    "## Read"
   ]
  },
  {
   "cell_type": "code",
   "execution_count": 2,
   "metadata": {},
   "outputs": [],
   "source": [
    "# Read\n",
    "raw = pd.read_csv(\n",
    "    \"inputs/disasters_emdat.csv\",\n",
    "    encoding=\"latin1\",\n",
    "    skiprows=6,\n",
    "    usecols=[\n",
    "        \"Year\",\n",
    "        \"Disaster Type\",\n",
    "        \"Country\",\n",
    "        \"No Homeless\",\n",
    "        \"Total Deaths\",\n",
    "        \"No Injured\",\n",
    "        \"No Affected\",\n",
    "        \"No Homeless\",\n",
    "        \"Total Affected\",\n",
    "        \"Reconstruction Costs ('000 US$)\",\n",
    "        \"Insured Damages ('000 US$)\",\n",
    "        \"Total Damages ('000 US$)\"\n",
    "    ],\n",
    ")"
   ]
  },
  {
   "cell_type": "code",
   "execution_count": 3,
   "metadata": {},
   "outputs": [
    {
     "data": {
      "text/plain": [
       "<AxesSubplot:xlabel='Total Deaths', ylabel=\"Total Damages ('000 US$)\">"
      ]
     },
     "execution_count": 3,
     "metadata": {},
     "output_type": "execute_result"
    },
    {
     "data": {
      "image/png": "[encoded data removed]",
      "text/plain": [
       "<Figure size 432x288 with 1 Axes>"
      ]
     },
     "metadata": {
      "needs_background": "light"
     },
     "output_type": "display_data"
    }
   ],
   "source": [
    "raw.plot(x=\"Total Deaths\", y=\"Total Damages ('000 US$)\", kind=\"scatter\")"
   ]
  },
  {
   "cell_type": "markdown",
   "metadata": {},
   "source": [
    "## Harmonize names"
   ]
  },
  {
   "cell_type": "code",
   "execution_count": 4,
   "metadata": {},
   "outputs": [],
   "source": [
    "# Column renaming\n",
    "raw = raw.rename(\n",
    "    columns={\n",
    "        \"Disaster Type\": \"disaster_type\",\n",
    "        \"Total Deaths\": \"deaths\",\n",
    "        \"No Injured\": \"injured\",\n",
    "        \"No Affected\": \"affected\",\n",
    "        \"No Homeless\": \"homeless\",\n",
    "        \"Total Affected\": \"total_affected\",\n",
    "        \"Reconstruction Costs ('000 US$)\": \"reconstruction_costs\",\n",
    "        \"Insured Damages ('000 US$)\": \"insured_damages\",\n",
    "        \"Total Damages ('000 US$)\": \"total_damages\",\n",
    "    }\n",
    ")"
   ]
  },
  {
   "cell_type": "code",
   "execution_count": 5,
   "metadata": {},
   "outputs": [],
   "source": [
    "# Get metrics\n",
    "combined = raw.groupby([\"Year\", \"disaster_type\", \"Country\"], as_index=False)[[\n",
    "    \"deaths\", \n",
    "    \"injured\", \n",
    "    \"affected\", \n",
    "    \"homeless\", \n",
    "    \"total_affected\", \n",
    "    \"reconstruction_costs\", \n",
    "    \"insured_damages\", \n",
    "    \"total_damages\"\n",
    "]].sum()"
   ]
  },
  {
   "cell_type": "code",
   "execution_count": 6,
   "metadata": {},
   "outputs": [
    {
     "name": "stdout",
     "output_type": "stream",
     "text": [
      "Countries without standardisation: ['Germany Fed Rep' 'Yemen Arab Rep' 'Yemen P Dem Rep' 'Germany Dem Rep']\n"
     ]
    }
   ],
   "source": [
    "# Standardize country names\n",
    "countries = pd.read_csv(\"inputs/countries.csv\", encoding=\"latin1\")\n",
    "combined = combined.merge(countries, on=\"Country\", how=\"left\")\n",
    "print(\"Countries without standardisation:\", combined.loc[combined.Entity.isna(), \"Country\"].unique())\n",
    "combined = combined.drop(columns=[\"Country\"])"
   ]
  },
  {
   "cell_type": "markdown",
   "metadata": {},
   "source": [
    "## Processing\n",
    "### Subnational to national"
   ]
  },
  {
   "cell_type": "code",
   "execution_count": 7,
   "metadata": {},
   "outputs": [],
   "source": [
    "# Add subnational regions'data to their parent countries' data\n",
    "subnational = pd.read_csv(\"inputs/subnational.csv\")\n",
    "map_sub = dict(zip(subnational[\"region\"], subnational[\"country\"]))\n",
    "combined[\"Entity\"] = combined[\"Entity\"].replace(map_sub)\n",
    "combined = combined.groupby([\"Entity\", \"Year\", \"disaster_type\"], as_index=False).sum()"
   ]
  },
  {
   "cell_type": "markdown",
   "metadata": {},
   "source": [
    "### All disasters value"
   ]
  },
  {
   "cell_type": "code",
   "execution_count": 8,
   "metadata": {
    "tags": []
   },
   "outputs": [],
   "source": [
    "# Obtain all disasters figures\n",
    "totals = combined.groupby([\"Year\", \"Entity\"], as_index=False).sum()\n",
    "totals = totals.assign(disaster_type=\"All disasters\")\n",
    "combined = pd.concat([combined, totals])"
   ]
  },
  {
   "cell_type": "markdown",
   "metadata": {},
   "source": [
    "### Supra-national entities"
   ]
  },
  {
   "cell_type": "code",
   "execution_count": 9,
   "metadata": {},
   "outputs": [],
   "source": [
    "def aggregate_regions(df, mapping, column_entity, group):\n",
    "    \"Aggregate metrics for regions.\"\n",
    "    df = df[-df[column_entity].isin(mapping.values())]\n",
    "    df = df.replace(mapping)\n",
    "    df = df.groupby(group, as_index=False).sum()\n",
    "    miss = set(df[column_entity]).difference(set(mapping.values()))\n",
    "    print(f\"Missing: {miss}\")\n",
    "    df = df[df[column_entity].isin(set(mapping.values()))]\n",
    "    return df"
   ]
  },
  {
   "cell_type": "code",
   "execution_count": 10,
   "metadata": {},
   "outputs": [],
   "source": [
    "# Add supra-national entities (continents, income groups, world)\n",
    "# Load mappings\n",
    "continents_map = pd.read_csv(\"inputs/continent.csv\")\n",
    "continents_map = dict(zip(continents_map.Entity, continents_map.continent))\n",
    "income_map = pd.read_csv(\"inputs/income.csv\")\n",
    "income_map = dict(zip(income_map.Entity, income_map.income_group))"
   ]
  },
  {
   "cell_type": "code",
   "execution_count": 11,
   "metadata": {},
   "outputs": [
    {
     "name": "stdout",
     "output_type": "stream",
     "text": [
      "Missing: {'Serbia-Montenegro', 'Soviet Union'}\n",
      "Missing: {'Serbia-Montenegro', 'Soviet Union', 'Yugoslavia', 'Czechoslovakia'}\n"
     ]
    }
   ],
   "source": [
    "# Create and add new entities\n",
    "continents = aggregate_regions(combined, continents_map, \"Entity\", [\"Entity\", \"Year\", \"disaster_type\"])\n",
    "income = aggregate_regions(combined, income_map, \"Entity\", [\"Entity\", \"Year\", \"disaster_type\"])\n",
    "world = combined.groupby([\"Year\", \"disaster_type\"], as_index=False).sum().assign(Entity=\"World\")"
   ]
  },
  {
   "cell_type": "code",
   "execution_count": 12,
   "metadata": {},
   "outputs": [],
   "source": [
    "# Merge region data\n",
    "combined = pd.concat([combined, continents, income, world])"
   ]
  },
  {
   "cell_type": "markdown",
   "metadata": {},
   "source": [
    "### Population"
   ]
  },
  {
   "cell_type": "code",
   "execution_count": 13,
   "metadata": {},
   "outputs": [],
   "source": [
    "# Add population\n",
    "population = pd.read_csv(\"inputs/population.csv\", encoding=\"latin1\")\n",
    "# population_cont = aggregate_regions(population, continents_map, \"Entity\", [\"Entity\", \"Year\"])\n",
    "# population_inc = aggregate_regions(population, income_map, \"Entity\", [\"Entity\", \"Year\"])\n",
    "# population = pd.concat([population, population_cont, population_inc])\n",
    "combined = combined.merge(population, on=[\"Entity\", \"Year\"], how=\"left\")"
   ]
  },
  {
   "cell_type": "markdown",
   "metadata": {
    "tags": []
   },
   "source": [
    "### GDP"
   ]
  },
  {
   "cell_type": "code",
   "execution_count": 14,
   "metadata": {},
   "outputs": [],
   "source": [
    "# Add gdp\n",
    "gdp = pd.read_csv(\"inputs/gdp.csv\", encoding=\"latin1\")\n",
    "# gdp_cont = aggregate_regions(gdp, continents_map, \"Entity\", [\"Entity\", \"Year\"])\n",
    "# gdp_inc = aggregate_regions(gdp, income_map, \"Entity\", [\"Entity\", \"Year\"])\n",
    "# gdp = pd.concat([gdp, gdp_cont, gdp_inc])\n",
    "combined = combined.merge(gdp, on=[\"Entity\", \"Year\"], how=\"left\")"
   ]
  },
  {
   "cell_type": "markdown",
   "metadata": {},
   "source": [
    "### Rates"
   ]
  },
  {
   "cell_type": "code",
   "execution_count": 15,
   "metadata": {},
   "outputs": [],
   "source": [
    "# Add rates (population)\n",
    "columns = [\"deaths\", \"injured\", \"affected\", \"homeless\", \"total_affected\"]\n",
    "combined = combined.assign(\n",
    "    **{f\"{col}_rate_per_100k\": combined[col]/combined[\"Population\"]*100000 for col in columns}\n",
    ")\n",
    "#combined = combined.drop(columns=[\"Population\"])"
   ]
  },
  {
   "cell_type": "code",
   "execution_count": 16,
   "metadata": {},
   "outputs": [],
   "source": [
    "# Add rates (gdp)\n",
    "columns = [\"total_damages\"]\n",
    "combined = combined.assign(\n",
    "    **{f\"{col}_pct_gdp\": combined[col]/(combined[\"gdp\"]/1000) * 100 for col in columns}\n",
    ")\n",
    "# combined = combined.drop(columns=[\"gdp\"])"
   ]
  },
  {
   "cell_type": "code",
   "execution_count": 17,
   "metadata": {},
   "outputs": [],
   "source": [
    "# Drop population and gdp columns\n",
    "combined = combined.drop(columns=[\"Population\", \"gdp\"])"
   ]
  },
  {
   "cell_type": "markdown",
   "metadata": {},
   "source": [
    "### Reshape dataset"
   ]
  },
  {
   "cell_type": "code",
   "execution_count": 18,
   "metadata": {},
   "outputs": [],
   "source": [
    "disasters = pd.pivot_table(combined, columns='disaster_type', index=[\"Year\", \"Entity\"])\n",
    "mapping = {\n",
    "    \"All disasters\": \"all_disasters\",\n",
    "    \"Drought\": \"drought\",\n",
    "    \"Earthquake\": \"earthquake\",\n",
    "    \"Extreme temperature\": \"temperature\",\n",
    "    \"Flood\": \"flood\",\n",
    "    \"Fog\": \"fog\",\n",
    "    \"Glacial lake outburst\": \"glacial_lake\",\n",
    "    \"Landslide\": \"landslide\",\n",
    "    \"Mass movement (dry)\": \"mass_movement\",\n",
    "    \"Storm\": \"storm\",\n",
    "    \"Volcanic activity\": \"volcanic\",\n",
    "    \"Wildfire\": \"wildfire\",\n",
    "}\n",
    "disasters.columns = [f\"{colname[0]}_{mapping[colname[1]]}\" for colname in disasters.columns]\n",
    "disasters = disasters.reset_index()"
   ]
  },
  {
   "cell_type": "code",
   "execution_count": 19,
   "metadata": {},
   "outputs": [
    {
     "data": {
      "text/html": [
       "<div>\n",
       "<style scoped>\n",
       "    .dataframe tbody tr th:only-of-type {\n",
       "        vertical-align: middle;\n",
       "    }\n",
       "\n",
       "    .dataframe tbody tr th {\n",
       "        vertical-align: top;\n",
       "    }\n",
       "\n",
       "    .dataframe thead th {\n",
       "        text-align: right;\n",
       "    }\n",
       "</style>\n",
       "<table border=\"1\" class=\"dataframe\">\n",
       "  <thead>\n",
       "    <tr style=\"text-align: right;\">\n",
       "      <th></th>\n",
       "      <th>Year</th>\n",
       "      <th>Entity</th>\n",
       "      <th>affected_all_disasters</th>\n",
       "      <th>affected_drought</th>\n",
       "      <th>affected_earthquake</th>\n",
       "      <th>affected_temperature</th>\n",
       "      <th>affected_flood</th>\n",
       "      <th>affected_fog</th>\n",
       "      <th>affected_glacial_lake</th>\n",
       "      <th>affected_landslide</th>\n",
       "      <th>...</th>\n",
       "      <th>total_damages_pct_gdp_all_disasters</th>\n",
       "      <th>total_damages_pct_gdp_drought</th>\n",
       "      <th>total_damages_pct_gdp_earthquake</th>\n",
       "      <th>total_damages_pct_gdp_temperature</th>\n",
       "      <th>total_damages_pct_gdp_flood</th>\n",
       "      <th>total_damages_pct_gdp_landslide</th>\n",
       "      <th>total_damages_pct_gdp_mass_movement</th>\n",
       "      <th>total_damages_pct_gdp_storm</th>\n",
       "      <th>total_damages_pct_gdp_volcanic</th>\n",
       "      <th>total_damages_pct_gdp_wildfire</th>\n",
       "    </tr>\n",
       "  </thead>\n",
       "  <tbody>\n",
       "    <tr>\n",
       "      <th>0</th>\n",
       "      <td>1900</td>\n",
       "      <td>Africa</td>\n",
       "      <td>0.0</td>\n",
       "      <td>0.0</td>\n",
       "      <td>NaN</td>\n",
       "      <td>NaN</td>\n",
       "      <td>NaN</td>\n",
       "      <td>NaN</td>\n",
       "      <td>NaN</td>\n",
       "      <td>NaN</td>\n",
       "      <td>...</td>\n",
       "      <td>NaN</td>\n",
       "      <td>NaN</td>\n",
       "      <td>NaN</td>\n",
       "      <td>NaN</td>\n",
       "      <td>NaN</td>\n",
       "      <td>NaN</td>\n",
       "      <td>NaN</td>\n",
       "      <td>NaN</td>\n",
       "      <td>NaN</td>\n",
       "      <td>NaN</td>\n",
       "    </tr>\n",
       "    <tr>\n",
       "      <th>1</th>\n",
       "      <td>1900</td>\n",
       "      <td>Asia</td>\n",
       "      <td>0.0</td>\n",
       "      <td>0.0</td>\n",
       "      <td>0.0</td>\n",
       "      <td>NaN</td>\n",
       "      <td>NaN</td>\n",
       "      <td>NaN</td>\n",
       "      <td>NaN</td>\n",
       "      <td>NaN</td>\n",
       "      <td>...</td>\n",
       "      <td>NaN</td>\n",
       "      <td>NaN</td>\n",
       "      <td>NaN</td>\n",
       "      <td>NaN</td>\n",
       "      <td>NaN</td>\n",
       "      <td>NaN</td>\n",
       "      <td>NaN</td>\n",
       "      <td>NaN</td>\n",
       "      <td>NaN</td>\n",
       "      <td>NaN</td>\n",
       "    </tr>\n",
       "    <tr>\n",
       "      <th>2</th>\n",
       "      <td>1900</td>\n",
       "      <td>Cape Verde</td>\n",
       "      <td>0.0</td>\n",
       "      <td>0.0</td>\n",
       "      <td>NaN</td>\n",
       "      <td>NaN</td>\n",
       "      <td>NaN</td>\n",
       "      <td>NaN</td>\n",
       "      <td>NaN</td>\n",
       "      <td>NaN</td>\n",
       "      <td>...</td>\n",
       "      <td>NaN</td>\n",
       "      <td>NaN</td>\n",
       "      <td>NaN</td>\n",
       "      <td>NaN</td>\n",
       "      <td>NaN</td>\n",
       "      <td>NaN</td>\n",
       "      <td>NaN</td>\n",
       "      <td>NaN</td>\n",
       "      <td>NaN</td>\n",
       "      <td>NaN</td>\n",
       "    </tr>\n",
       "    <tr>\n",
       "      <th>3</th>\n",
       "      <td>1900</td>\n",
       "      <td>High income</td>\n",
       "      <td>0.0</td>\n",
       "      <td>NaN</td>\n",
       "      <td>NaN</td>\n",
       "      <td>NaN</td>\n",
       "      <td>NaN</td>\n",
       "      <td>NaN</td>\n",
       "      <td>NaN</td>\n",
       "      <td>NaN</td>\n",
       "      <td>...</td>\n",
       "      <td>NaN</td>\n",
       "      <td>NaN</td>\n",
       "      <td>NaN</td>\n",
       "      <td>NaN</td>\n",
       "      <td>NaN</td>\n",
       "      <td>NaN</td>\n",
       "      <td>NaN</td>\n",
       "      <td>NaN</td>\n",
       "      <td>NaN</td>\n",
       "      <td>NaN</td>\n",
       "    </tr>\n",
       "    <tr>\n",
       "      <th>4</th>\n",
       "      <td>1900</td>\n",
       "      <td>India</td>\n",
       "      <td>0.0</td>\n",
       "      <td>0.0</td>\n",
       "      <td>NaN</td>\n",
       "      <td>NaN</td>\n",
       "      <td>NaN</td>\n",
       "      <td>NaN</td>\n",
       "      <td>NaN</td>\n",
       "      <td>NaN</td>\n",
       "      <td>...</td>\n",
       "      <td>NaN</td>\n",
       "      <td>NaN</td>\n",
       "      <td>NaN</td>\n",
       "      <td>NaN</td>\n",
       "      <td>NaN</td>\n",
       "      <td>NaN</td>\n",
       "      <td>NaN</td>\n",
       "      <td>NaN</td>\n",
       "      <td>NaN</td>\n",
       "      <td>NaN</td>\n",
       "    </tr>\n",
       "  </tbody>\n",
       "</table>\n",
       "<p>5 rows × 163 columns</p>\n",
       "</div>"
      ],
      "text/plain": [
       "   Year       Entity  affected_all_disasters  affected_drought  \\\n",
       "0  1900       Africa                     0.0               0.0   \n",
       "1  1900         Asia                     0.0               0.0   \n",
       "2  1900   Cape Verde                     0.0               0.0   \n",
       "3  1900  High income                     0.0               NaN   \n",
       "4  1900        India                     0.0               0.0   \n",
       "\n",
       "   affected_earthquake  affected_temperature  affected_flood  affected_fog  \\\n",
       "0                  NaN                   NaN             NaN           NaN   \n",
       "1                  0.0                   NaN             NaN           NaN   \n",
       "2                  NaN                   NaN             NaN           NaN   \n",
       "3                  NaN                   NaN             NaN           NaN   \n",
       "4                  NaN                   NaN             NaN           NaN   \n",
       "\n",
       "   affected_glacial_lake  affected_landslide  ...  \\\n",
       "0                    NaN                 NaN  ...   \n",
       "1                    NaN                 NaN  ...   \n",
       "2                    NaN                 NaN  ...   \n",
       "3                    NaN                 NaN  ...   \n",
       "4                    NaN                 NaN  ...   \n",
       "\n",
       "   total_damages_pct_gdp_all_disasters  total_damages_pct_gdp_drought  \\\n",
       "0                                  NaN                            NaN   \n",
       "1                                  NaN                            NaN   \n",
       "2                                  NaN                            NaN   \n",
       "3                                  NaN                            NaN   \n",
       "4                                  NaN                            NaN   \n",
       "\n",
       "   total_damages_pct_gdp_earthquake  total_damages_pct_gdp_temperature  \\\n",
       "0                               NaN                                NaN   \n",
       "1                               NaN                                NaN   \n",
       "2                               NaN                                NaN   \n",
       "3                               NaN                                NaN   \n",
       "4                               NaN                                NaN   \n",
       "\n",
       "   total_damages_pct_gdp_flood  total_damages_pct_gdp_landslide  \\\n",
       "0                          NaN                              NaN   \n",
       "1                          NaN                              NaN   \n",
       "2                          NaN                              NaN   \n",
       "3                          NaN                              NaN   \n",
       "4                          NaN                              NaN   \n",
       "\n",
       "   total_damages_pct_gdp_mass_movement  total_damages_pct_gdp_storm  \\\n",
       "0                                  NaN                          NaN   \n",
       "1                                  NaN                          NaN   \n",
       "2                                  NaN                          NaN   \n",
       "3                                  NaN                          NaN   \n",
       "4                                  NaN                          NaN   \n",
       "\n",
       "   total_damages_pct_gdp_volcanic  total_damages_pct_gdp_wildfire  \n",
       "0                             NaN                             NaN  \n",
       "1                             NaN                             NaN  \n",
       "2                             NaN                             NaN  \n",
       "3                             NaN                             NaN  \n",
       "4                             NaN                             NaN  \n",
       "\n",
       "[5 rows x 163 columns]"
      ]
     },
     "execution_count": 19,
     "metadata": {},
     "output_type": "execute_result"
    }
   ],
   "source": [
    "disasters.head()"
   ]
  },
  {
   "cell_type": "code",
   "execution_count": 20,
   "metadata": {},
   "outputs": [],
   "source": [
    "# Final processing\n",
    "disasters = disasters[[\"Entity\"] + [col for col in disasters.columns if col != \"Entity\"]]\n",
    "disasters = disasters[disasters[\"Entity\"].notna()]\n",
    "disasters = disasters[(disasters.Year != 2021)]"
   ]
  },
  {
   "cell_type": "markdown",
   "metadata": {},
   "source": [
    "### Decade dataset"
   ]
  },
  {
   "cell_type": "code",
   "execution_count": 21,
   "metadata": {},
   "outputs": [],
   "source": [
    "# Decade\n",
    "disasters_dec = disasters.assign(Year=disasters.Year//10*10)\n",
    "disasters_dec = disasters_dec.groupby([\"Entity\", \"Year\"], as_index=False).sum()#/10\n",
    "# Get average\n",
    "cols = [col for col in disasters_dec.columns if col not in [\"Entity\", \"Year\"]]\n",
    "disasters_dec[cols] = disasters_dec[cols]/10"
   ]
  },
  {
   "cell_type": "code",
   "execution_count": 22,
   "metadata": {},
   "outputs": [],
   "source": [
    "# Add missing decades, fill nulls with zeroes\n",
    "COLS_FILLNA = [x for x in disasters_dec.columns if x not in [\"Entity\", \"Year\"]]\n",
    "\n",
    "\n",
    "def complete_country_decades(x):\n",
    "    # Build year dataframe\n",
    "    years = np.arange(x.Year.min(), x.Year.max()+1, 10)\n",
    "    df_year = pd.DataFrame({\"Year\": years})\n",
    "    # Add years to main df\n",
    "    x = x.merge(df_year, how=\"right\")\n",
    "    x[\"Entity\"] = x[\"Entity\"].fillna(method=\"ffill\")\n",
    "    # Fill NaNs\n",
    "    x[COLS_FILLNA] = x[COLS_FILLNA].fillna(0)\n",
    "    return x\n",
    "\n",
    "\n",
    "disasters_dec = disasters_dec.groupby(\"Entity\", as_index=False).apply(complete_country_decades)\n",
    "disasters_dec = disasters_dec.reset_index(drop=True)"
   ]
  },
  {
   "cell_type": "markdown",
   "metadata": {},
   "source": [
    "## Export"
   ]
  },
  {
   "cell_type": "code",
   "execution_count": 23,
   "metadata": {},
   "outputs": [],
   "source": [
    "# Export\n",
    "disasters.sort_values([\"Entity\", \"Year\"]).to_csv(\"output/Natural disasters (EMDAT).csv\", index=False)\n",
    "disasters_dec.sort_values([\"Entity\", \"Year\"]).to_csv(\"output/Natural disasters (EMDAT – decadal).csv\", index=False)"
   ]
  },
  {
   "cell_type": "code",
   "execution_count": null,
   "metadata": {},
   "outputs": [],
   "source": []
  },
  {
   "cell_type": "code",
   "execution_count": null,
   "metadata": {},
   "outputs": [],
   "source": []
  }
 ],
 "metadata": {
  "kernelspec": {
   "display_name": "Python 3 (ipykernel)",
   "language": "python",
   "name": "python3"
  },
  "language_info": {
   "codemirror_mode": {
    "name": "ipython",
    "version": 3
   },
   "file_extension": ".py",
   "mimetype": "text/x-python",
   "name": "python",
   "nbconvert_exporter": "python",
   "pygments_lexer": "ipython3",
   "version": "3.9.7"
  }
 },
 "nbformat": 4,
 "nbformat_minor": 4
}
