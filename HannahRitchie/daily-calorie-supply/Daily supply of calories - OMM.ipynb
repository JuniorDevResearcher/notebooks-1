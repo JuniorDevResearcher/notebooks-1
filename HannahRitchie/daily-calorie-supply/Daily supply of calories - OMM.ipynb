{
 "cells": [
  {
   "cell_type": "code",
   "execution_count": 51,
   "id": "fa6026b3",
   "metadata": {},
   "outputs": [],
   "source": [
    "import pandas as pd"
   ]
  },
  {
   "cell_type": "code",
   "execution_count": 52,
   "id": "f7df3a39",
   "metadata": {},
   "outputs": [],
   "source": [
    "#This is a manual input file constructed by Hannah from various sources such as books, PDFs and old records. Documented in our sources.\n",
    "pre_1961 = pd.read_csv(\"inputs/daily-calories-pre1960.csv\", encoding=\"latin1\")"
   ]
  },
  {
   "cell_type": "code",
   "execution_count": 53,
   "id": "9737778e",
   "metadata": {},
   "outputs": [],
   "source": [
    "#This is taking the data downloaded from our global food explorer (https://ourworldindata.org/explorers/global-food). But when we have the FAO bulk importer updated, this could instead pull this variable from our internal API?\n",
    "\n",
    "post_1961 = pd.read_csv(\"inputs/global-food.csv\", usecols=[\"Country\", \n",
    "                                                           \"Year\", \n",
    "                                                           \"Food supply (kcal per capita per day)\"\n",
    "                                                          ],\n",
    "                        encoding=\"latin1\"\n",
    "                       )"
   ]
  },
  {
   "cell_type": "code",
   "execution_count": 54,
   "id": "2b61a323",
   "metadata": {},
   "outputs": [],
   "source": [
    "post_1961 = post_1961.rename(columns={\"Country\":\"Entity\",\n",
    "                                     \"Food supply (kcal per capita per day)\":\"daily_caloric_supply\"\n",
    "                                     }\n",
    "                            )"
   ]
  },
  {
   "cell_type": "code",
   "execution_count": 55,
   "id": "c86e0178",
   "metadata": {},
   "outputs": [],
   "source": [
    "#Take manual data pre-1961, and take UN FAO data from 1961 onwards\n",
    "combined = pd.concat([pre_1961, post_1961])"
   ]
  },
  {
   "cell_type": "code",
   "execution_count": 56,
   "id": "4c22e0c0",
   "metadata": {},
   "outputs": [],
   "source": [
    "combined.to_csv(\"output/Daily supply of calories (OMM).csv\", index=False)"
   ]
  }
 ],
 "metadata": {
  "kernelspec": {
   "display_name": "Python 3 (ipykernel)",
   "language": "python",
   "name": "python3"
  },
  "language_info": {
   "codemirror_mode": {
    "name": "ipython",
    "version": 3
   },
   "file_extension": ".py",
   "mimetype": "text/x-python",
   "name": "python",
   "nbconvert_exporter": "python",
   "pygments_lexer": "ipython3",
   "version": "3.9.7"
  }
 },
 "nbformat": 4,
 "nbformat_minor": 5
}
