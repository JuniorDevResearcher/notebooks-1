{
 "cells": [
  {
   "cell_type": "code",
   "execution_count": 10,
   "id": "fa6026b3",
   "metadata": {},
   "outputs": [],
   "source": [
    "import pandas as pd"
   ]
  },
  {
   "cell_type": "code",
   "execution_count": 11,
   "id": "f7df3a39",
   "metadata": {},
   "outputs": [],
   "source": [
    "#This is a manual input file constructed from various sources such as books, PDFs and old records. Documented in our sources document: https://ourworldindata.org/calorie-supply-sources.\n",
    "pre_1961 = pd.read_csv(\"inputs/daily-calories-pre1960.csv\", encoding=\"latin1\")"
   ]
  },
  {
   "cell_type": "code",
   "execution_count": 12,
   "id": "9737778e",
   "metadata": {},
   "outputs": [],
   "source": [
    "# Source URL: https://www.fao.org/faostat/en/#data/FBS\n",
    "# Select all countries\n",
    "# Item: select 'Items aggregated': 'Grand Total +(Total)'\n",
    "# Elements: select 'Food supply (kcal/capita/day)'\n",
    "# Years: select all years\n",
    "post_1961 = pd.read_csv(\"inputs/global-food.csv\", usecols=[\"Country\", \"Year\", \"Food supply (kcal per capita per day)\"],encoding=\"latin1\")"
   ]
  },
  {
   "cell_type": "code",
   "execution_count": 13,
   "id": "2b61a323",
   "metadata": {},
   "outputs": [],
   "source": [
    "post_1961 = post_1961.rename(columns={\"Country\":\"Entity\",\n",
    "                                     \"Food supply (kcal per capita per day)\":\"daily_caloric_supply\"\n",
    "                                     }\n",
    "                            )"
   ]
  },
  {
   "cell_type": "code",
   "execution_count": 14,
   "id": "c86e0178",
   "metadata": {},
   "outputs": [],
   "source": [
    "#Take manual data pre-1961, and take UN FAO data from 1961 onwards\n",
    "combined = pd.concat([pre_1961, post_1961])"
   ]
  },
  {
   "cell_type": "code",
   "execution_count": 15,
   "id": "4c22e0c0",
   "metadata": {},
   "outputs": [],
   "source": [
    "combined.to_csv(\"output/Daily supply of calories per person (OWID based on UN FAO & historical sources).csv\", index=False)"
   ]
  }
 ],
 "metadata": {
  "kernelspec": {
   "display_name": "Python 3 (ipykernel)",
   "language": "python",
   "name": "python3"
  },
  "language_info": {
   "codemirror_mode": {
    "name": "ipython",
    "version": 3
   },
   "file_extension": ".py",
   "mimetype": "text/x-python",
   "name": "python",
   "nbconvert_exporter": "python",
   "pygments_lexer": "ipython3",
   "version": "3.9.7"
  }
 },
 "nbformat": 4,
 "nbformat_minor": 5
}
