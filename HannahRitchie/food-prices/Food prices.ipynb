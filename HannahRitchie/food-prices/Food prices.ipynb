{
 "cells": [
  {
   "cell_type": "code",
   "execution_count": 377,
   "id": "def3b54a",
   "metadata": {},
   "outputs": [],
   "source": [
    "import pandas as pd"
   ]
  },
  {
   "cell_type": "code",
   "execution_count": 378,
   "id": "47f8fb06",
   "metadata": {},
   "outputs": [],
   "source": [
    "food_prices = pd.read_csv(\"inputs/food_prices.csv\")"
   ]
  },
  {
   "cell_type": "code",
   "execution_count": 379,
   "id": "b292b4db",
   "metadata": {},
   "outputs": [],
   "source": [
    "food_prices = food_prices.drop(columns=[\"Country Code\",\n",
    "                                       \"Classification Code\",\n",
    "                                       \"Classification Name\",\n",
    "                                       \"Series Code\"\n",
    "                                       ]\n",
    "                              )"
   ]
  },
  {
   "cell_type": "code",
   "execution_count": 380,
   "id": "d0366733",
   "metadata": {},
   "outputs": [],
   "source": [
    "food_prices = food_prices.rename(columns={\"2017 [YR2017]\": 2017,\n",
    "                                         \"2018 [YR2018]\": 2018,\n",
    "                                         \"2019 [YR2019]\": 2019,\n",
    "                                         \"2020 [YR2020]\": 2020,\n",
    "                                        }\n",
    "                                )"
   ]
  },
  {
   "cell_type": "code",
   "execution_count": 381,
   "id": "d40a2d39",
   "metadata": {},
   "outputs": [],
   "source": [
    "metrics = pd.read_csv(\"inputs/metrics.csv\", encoding=\"latin1\")"
   ]
  },
  {
   "cell_type": "code",
   "execution_count": 382,
   "id": "09ac6b25",
   "metadata": {},
   "outputs": [],
   "source": [
    "food_prices = pd.merge(food_prices, metrics)\n",
    "food_prices = food_prices.drop(columns=[\"Series Name\"])"
   ]
  },
  {
   "cell_type": "code",
   "execution_count": 384,
   "id": "d623e449",
   "metadata": {},
   "outputs": [],
   "source": [
    "countries = pd.read_csv(\"inputs/countries.csv\", encoding=\"latin1\")"
   ]
  },
  {
   "cell_type": "code",
   "execution_count": 385,
   "id": "b4b100f6",
   "metadata": {},
   "outputs": [],
   "source": [
    "food_prices = pd.merge(food_prices, countries)\n",
    "food_prices = food_prices.drop(columns=[\"Country Name\"])"
   ]
  },
  {
   "cell_type": "code",
   "execution_count": 386,
   "id": "e9f81be4",
   "metadata": {},
   "outputs": [],
   "source": [
    "food_prices = food_prices.melt(id_vars=[\"Entity\", \"metric\"],\n",
    "                               var_name=\"Year\",\n",
    "                               value_name=\"Value\")"
   ]
  },
  {
   "cell_type": "code",
   "execution_count": 388,
   "id": "86866494",
   "metadata": {},
   "outputs": [],
   "source": [
    "food_prices = food_prices.replace(to_replace =\"..\",\n",
    "                                  value =\"\")\n",
    "food_prices = food_prices.dropna(subset = [\"Entity\", \"metric\", \"Year\"])"
   ]
  },
  {
   "cell_type": "code",
   "execution_count": 390,
   "id": "70255234",
   "metadata": {},
   "outputs": [],
   "source": [
    "food_prices = food_prices.pivot(index=[\"Entity\", \"Year\"], columns=\"metric\", values=\"Value\").reset_index()"
   ]
  },
  {
   "cell_type": "code",
   "execution_count": 391,
   "id": "037cb6b1",
   "metadata": {},
   "outputs": [],
   "source": [
    "food_prices.to_csv(\"output/Food affordability (World Bank; FAO, 2022).csv\", index=False)"
   ]
  }
 ],
 "metadata": {
  "kernelspec": {
   "display_name": "Python 3 (ipykernel)",
   "language": "python",
   "name": "python3"
  },
  "language_info": {
   "codemirror_mode": {
    "name": "ipython",
    "version": 3
   },
   "file_extension": ".py",
   "mimetype": "text/x-python",
   "name": "python",
   "nbconvert_exporter": "python",
   "pygments_lexer": "ipython3",
   "version": "3.8.9"
  }
 },
 "nbformat": 4,
 "nbformat_minor": 5
}
