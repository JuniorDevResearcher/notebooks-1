{
 "cells": [
  {
   "cell_type": "code",
   "execution_count": 80,
   "id": "142d2f1f",
   "metadata": {},
   "outputs": [],
   "source": [
    "import pandas as pd"
   ]
  },
  {
   "cell_type": "code",
   "execution_count": 81,
   "id": "62e22f6f",
   "metadata": {},
   "outputs": [],
   "source": [
    "# Stunting source: Prevalence of stunting is sourced from UNICEF, WHO via the World Bank Indicators\n",
    "# URL: https://databank.worldbank.org/source/world-development-indicators\n",
    "# Variable name: Prevalence of stunting, height for age (% of children under 5)\n",
    "#\n",
    "# Under-five population: Sourced from the UN World Populations Prospects\n",
    "# URL: https://population.un.org/wpp/\n",
    "# Variable name: Estimates, 1950 - 2020: Total population by broad age group, both sexes combined (thousands) - Population under age 5"
   ]
  },
  {
   "cell_type": "code",
   "execution_count": 82,
   "id": "ad458b1a",
   "metadata": {},
   "outputs": [],
   "source": [
    "stunting = pd.read_csv(\"inputs/stunting.csv\", encoding=\"latin1\")"
   ]
  },
  {
   "cell_type": "code",
   "execution_count": 83,
   "id": "95505028",
   "metadata": {},
   "outputs": [],
   "source": [
    "stunting[\"number_stunted\"] = (stunting[\"under-five-population\"] * 1000) / 100 * stunting[\"stunting-prevalence\"]"
   ]
  },
  {
   "cell_type": "code",
   "execution_count": 84,
   "id": "2c9cd4d9",
   "metadata": {},
   "outputs": [
    {
     "data": {
      "text/html": [
       "<div>\n",
       "<style scoped>\n",
       "    .dataframe tbody tr th:only-of-type {\n",
       "        vertical-align: middle;\n",
       "    }\n",
       "\n",
       "    .dataframe tbody tr th {\n",
       "        vertical-align: top;\n",
       "    }\n",
       "\n",
       "    .dataframe thead th {\n",
       "        text-align: right;\n",
       "    }\n",
       "</style>\n",
       "<table border=\"1\" class=\"dataframe\">\n",
       "  <thead>\n",
       "    <tr style=\"text-align: right;\">\n",
       "      <th></th>\n",
       "      <th>Entity</th>\n",
       "      <th>Year</th>\n",
       "      <th>stunting-prevalence</th>\n",
       "      <th>under-five-population</th>\n",
       "      <th>number_stunted</th>\n",
       "    </tr>\n",
       "  </thead>\n",
       "  <tbody>\n",
       "    <tr>\n",
       "      <th>0</th>\n",
       "      <td>Afghanistan</td>\n",
       "      <td>1997</td>\n",
       "      <td>53.2</td>\n",
       "      <td>3838.877</td>\n",
       "      <td>2042282.564</td>\n",
       "    </tr>\n",
       "    <tr>\n",
       "      <th>1</th>\n",
       "      <td>Afghanistan</td>\n",
       "      <td>2004</td>\n",
       "      <td>59.3</td>\n",
       "      <td>4789.353</td>\n",
       "      <td>2840086.329</td>\n",
       "    </tr>\n",
       "    <tr>\n",
       "      <th>2</th>\n",
       "      <td>Afghanistan</td>\n",
       "      <td>2013</td>\n",
       "      <td>40.4</td>\n",
       "      <td>5444.573</td>\n",
       "      <td>2199607.492</td>\n",
       "    </tr>\n",
       "    <tr>\n",
       "      <th>3</th>\n",
       "      <td>Afghanistan</td>\n",
       "      <td>2018</td>\n",
       "      <td>38.2</td>\n",
       "      <td>5601.443</td>\n",
       "      <td>2139751.226</td>\n",
       "    </tr>\n",
       "    <tr>\n",
       "      <th>4</th>\n",
       "      <td>Afghanistan</td>\n",
       "      <td>1950</td>\n",
       "      <td>NaN</td>\n",
       "      <td>1291.622</td>\n",
       "      <td>NaN</td>\n",
       "    </tr>\n",
       "    <tr>\n",
       "      <th>...</th>\n",
       "      <td>...</td>\n",
       "      <td>...</td>\n",
       "      <td>...</td>\n",
       "      <td>...</td>\n",
       "      <td>...</td>\n",
       "    </tr>\n",
       "    <tr>\n",
       "      <th>17464</th>\n",
       "      <td>Zimbabwe</td>\n",
       "      <td>2013</td>\n",
       "      <td>NaN</td>\n",
       "      <td>2192.852</td>\n",
       "      <td>NaN</td>\n",
       "    </tr>\n",
       "    <tr>\n",
       "      <th>17465</th>\n",
       "      <td>Zimbabwe</td>\n",
       "      <td>2016</td>\n",
       "      <td>NaN</td>\n",
       "      <td>2279.248</td>\n",
       "      <td>NaN</td>\n",
       "    </tr>\n",
       "    <tr>\n",
       "      <th>17466</th>\n",
       "      <td>Zimbabwe</td>\n",
       "      <td>2017</td>\n",
       "      <td>NaN</td>\n",
       "      <td>2252.615</td>\n",
       "      <td>NaN</td>\n",
       "    </tr>\n",
       "    <tr>\n",
       "      <th>17467</th>\n",
       "      <td>Zimbabwe</td>\n",
       "      <td>2018</td>\n",
       "      <td>NaN</td>\n",
       "      <td>2196.377</td>\n",
       "      <td>NaN</td>\n",
       "    </tr>\n",
       "    <tr>\n",
       "      <th>17468</th>\n",
       "      <td>Zimbabwe</td>\n",
       "      <td>2020</td>\n",
       "      <td>NaN</td>\n",
       "      <td>2097.448</td>\n",
       "      <td>NaN</td>\n",
       "    </tr>\n",
       "  </tbody>\n",
       "</table>\n",
       "<p>17469 rows × 5 columns</p>\n",
       "</div>"
      ],
      "text/plain": [
       "            Entity  Year  stunting-prevalence  under-five-population  \\\n",
       "0      Afghanistan  1997                 53.2               3838.877   \n",
       "1      Afghanistan  2004                 59.3               4789.353   \n",
       "2      Afghanistan  2013                 40.4               5444.573   \n",
       "3      Afghanistan  2018                 38.2               5601.443   \n",
       "4      Afghanistan  1950                  NaN               1291.622   \n",
       "...            ...   ...                  ...                    ...   \n",
       "17464     Zimbabwe  2013                  NaN               2192.852   \n",
       "17465     Zimbabwe  2016                  NaN               2279.248   \n",
       "17466     Zimbabwe  2017                  NaN               2252.615   \n",
       "17467     Zimbabwe  2018                  NaN               2196.377   \n",
       "17468     Zimbabwe  2020                  NaN               2097.448   \n",
       "\n",
       "       number_stunted  \n",
       "0         2042282.564  \n",
       "1         2840086.329  \n",
       "2         2199607.492  \n",
       "3         2139751.226  \n",
       "4                 NaN  \n",
       "...               ...  \n",
       "17464             NaN  \n",
       "17465             NaN  \n",
       "17466             NaN  \n",
       "17467             NaN  \n",
       "17468             NaN  \n",
       "\n",
       "[17469 rows x 5 columns]"
      ]
     },
     "execution_count": 84,
     "metadata": {},
     "output_type": "execute_result"
    }
   ],
   "source": [
    "stunting"
   ]
  },
  {
   "cell_type": "code",
   "execution_count": 85,
   "id": "8c1fdb9e",
   "metadata": {},
   "outputs": [],
   "source": [
    "stunting = stunting.drop(columns=[\"stunting-prevalence\", \"under-five-population\"])"
   ]
  },
  {
   "cell_type": "code",
   "execution_count": 86,
   "id": "2bad24cd",
   "metadata": {},
   "outputs": [],
   "source": [
    "stunting.to_csv(\"output/Number of children stunted (OWID based on WHO).csv\", index=False)"
   ]
  },
  {
   "cell_type": "code",
   "execution_count": null,
   "id": "256fcb37",
   "metadata": {},
   "outputs": [],
   "source": []
  }
 ],
 "metadata": {
  "kernelspec": {
   "display_name": "Python 3 (ipykernel)",
   "language": "python",
   "name": "python3"
  },
  "language_info": {
   "codemirror_mode": {
    "name": "ipython",
    "version": 3
   },
   "file_extension": ".py",
   "mimetype": "text/x-python",
   "name": "python",
   "nbconvert_exporter": "python",
   "pygments_lexer": "ipython3",
   "version": "3.9.7"
  }
 },
 "nbformat": 4,
 "nbformat_minor": 5
}
