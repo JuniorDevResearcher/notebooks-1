{
 "cells": [
  {
   "cell_type": "markdown",
   "id": "7467e870",
   "metadata": {},
   "source": [
    "# Poverty and inequality datasets from PIP, WID and LIS"
   ]
  },
  {
   "cell_type": "code",
   "execution_count": 3,
   "id": "d09ed121",
   "metadata": {},
   "outputs": [],
   "source": [
    "import pandas as pd\n",
    "import numpy as np\n",
    "from pathlib import Path\n",
    "import plotly.express as px\n",
    "import plotly.io as pio"
   ]
  },
  {
   "cell_type": "code",
   "execution_count": 2,
   "id": "43299404",
   "metadata": {},
   "outputs": [],
   "source": [
    "country = \"all\" #ISO3 codes\n",
    "year = \"all\" #YYYY\n",
    "povline = 7.23 #Number, dollars\n",
    "formatfile = \"csv\" #json, csv, rds\n",
    "fill_gaps = \"true\" #Interpolate/extrapolate, boolean\n",
    "welfare_type = \"all\" #Welfare measure: all, consumption, income\n",
    "reporting_level = \"all\" #Reporting coverage: all, national, rural, urban\n",
    "#popshare = 0.1 #Proportion of the population living below the poverty line. Will be ignored if povline is specified\n",
    "\n",
    "#version #pip/v1/versions defaults to most recent version\n",
    "\n",
    "pip_path = \"https://api.worldbank.org/pip/v1/pip?\" + \"country=\" + country + \"&year=\" + year + \"&povline=\" + str(povline) + \"&format=\" + formatfile + \"&fill_gaps=\" + fill_gaps + \"&welfare_type=\" + welfare_type + \"&reporting_level=\" + reporting_level #+ \"&popshare=\" + str(popshare)\n",
    "#pip_path = \"https://api.worldbank.org/pip/v1/pip?country=all&year=all&povline=1.9&format=csv&fill_gaps=true\" #orignal version\n",
    "\n",
    "pip = pd.read_csv(pip_path)"
   ]
  },
  {
   "cell_type": "code",
   "execution_count": 20,
   "id": "90f3f2d3",
   "metadata": {},
   "outputs": [],
   "source": [
    "country = \"all\" #ISO3 codes\n",
    "year = \"all\" #YYYY\n",
    "povline = 7.23 #Number, dollars\n",
    "formatfile = \"csv\" #json, csv, rds\n",
    "fill_gaps = \"true\" #Interpolate/extrapolate, boolean\n",
    "welfare_type = \"all\" #Welfare measure: all, consumption, income\n",
    "reporting_level = \"all\" #Reporting coverage: all, national, rural, urban\n",
    "#popshare = 0.1 #Proportion of the population living below the poverty line. Will be ignored if povline is specified\n",
    "\n",
    "#version #pip/v1/versions defaults to most recent version\n",
    "\n",
    "pip_path = \"https://api.worldbank.org/pip/v1/pip?\" + \"country=\" + country + \"&year=\" + year + \"&povline=\" + str(povline) + \"&format=\" + formatfile + \"&fill_gaps=\" + fill_gaps + \"&welfare_type=\" + welfare_type + \"&reporting_level=\" + reporting_level #+ \"&popshare=\" + str(popshare)\n",
    "#pip_path = \"https://api.worldbank.org/pip/v1/pip?country=all&year=all&povline=1.9&format=csv&fill_gaps=true\" #orignal version\n",
    "\n",
    "pip2 = pd.read_csv(pip_path)\n",
    "pip2['pl_check'] = pip2['poverty_line'] == povline"
   ]
  },
  {
   "cell_type": "code",
   "execution_count": 22,
   "id": "40e8bca4",
   "metadata": {},
   "outputs": [
    {
     "data": {
      "text/html": [
       "<div>\n",
       "<style scoped>\n",
       "    .dataframe tbody tr th:only-of-type {\n",
       "        vertical-align: middle;\n",
       "    }\n",
       "\n",
       "    .dataframe tbody tr th {\n",
       "        vertical-align: top;\n",
       "    }\n",
       "\n",
       "    .dataframe thead th {\n",
       "        text-align: right;\n",
       "    }\n",
       "</style>\n",
       "<table border=\"1\" class=\"dataframe\">\n",
       "  <thead>\n",
       "    <tr style=\"text-align: right;\">\n",
       "      <th></th>\n",
       "      <th>poverty_line</th>\n",
       "      <th>pl_check</th>\n",
       "    </tr>\n",
       "  </thead>\n",
       "  <tbody>\n",
       "    <tr>\n",
       "      <th>0</th>\n",
       "      <td>7.23</td>\n",
       "      <td>False</td>\n",
       "    </tr>\n",
       "    <tr>\n",
       "      <th>1</th>\n",
       "      <td>7.23</td>\n",
       "      <td>False</td>\n",
       "    </tr>\n",
       "    <tr>\n",
       "      <th>2</th>\n",
       "      <td>7.23</td>\n",
       "      <td>False</td>\n",
       "    </tr>\n",
       "    <tr>\n",
       "      <th>3</th>\n",
       "      <td>7.23</td>\n",
       "      <td>False</td>\n",
       "    </tr>\n",
       "    <tr>\n",
       "      <th>4</th>\n",
       "      <td>7.23</td>\n",
       "      <td>False</td>\n",
       "    </tr>\n",
       "    <tr>\n",
       "      <th>...</th>\n",
       "      <td>...</td>\n",
       "      <td>...</td>\n",
       "    </tr>\n",
       "    <tr>\n",
       "      <th>737</th>\n",
       "      <td>7.23</td>\n",
       "      <td>False</td>\n",
       "    </tr>\n",
       "    <tr>\n",
       "      <th>738</th>\n",
       "      <td>7.23</td>\n",
       "      <td>False</td>\n",
       "    </tr>\n",
       "    <tr>\n",
       "      <th>739</th>\n",
       "      <td>7.23</td>\n",
       "      <td>False</td>\n",
       "    </tr>\n",
       "    <tr>\n",
       "      <th>740</th>\n",
       "      <td>7.23</td>\n",
       "      <td>False</td>\n",
       "    </tr>\n",
       "    <tr>\n",
       "      <th>741</th>\n",
       "      <td>7.23</td>\n",
       "      <td>False</td>\n",
       "    </tr>\n",
       "  </tbody>\n",
       "</table>\n",
       "<p>742 rows × 2 columns</p>\n",
       "</div>"
      ],
      "text/plain": [
       "     poverty_line  pl_check\n",
       "0            7.23     False\n",
       "1            7.23     False\n",
       "2            7.23     False\n",
       "3            7.23     False\n",
       "4            7.23     False\n",
       "..            ...       ...\n",
       "737          7.23     False\n",
       "738          7.23     False\n",
       "739          7.23     False\n",
       "740          7.23     False\n",
       "741          7.23     False\n",
       "\n",
       "[742 rows x 2 columns]"
      ]
     },
     "execution_count": 22,
     "metadata": {},
     "output_type": "execute_result"
    }
   ],
   "source": [
    "diff = pip2[~pip2['pl_check']].copy().reset_index(drop=True)\n",
    "diff[['poverty_line', 'pl_check']]"
   ]
  },
  {
   "cell_type": "code",
   "execution_count": null,
   "id": "9ca27682",
   "metadata": {},
   "outputs": [],
   "source": []
  },
  {
   "cell_type": "code",
   "execution_count": 24,
   "id": "cee27191",
   "metadata": {},
   "outputs": [],
   "source": [
    "diff.to_excel('diff.xlsx')"
   ]
  },
  {
   "cell_type": "code",
   "execution_count": 25,
   "id": "3d7fa327",
   "metadata": {},
   "outputs": [],
   "source": [
    "pip2.to_excel('pip2.xlsx')"
   ]
  },
  {
   "cell_type": "code",
   "execution_count": 26,
   "id": "b3e1100c",
   "metadata": {},
   "outputs": [
    {
     "data": {
      "text/plain": [
       "region_name              object\n",
       "region_code              object\n",
       "country_name             object\n",
       "country_code             object\n",
       "reporting_year            int64\n",
       "reporting_level          object\n",
       "survey_acronym          float64\n",
       "survey_coverage         float64\n",
       "survey_year             float64\n",
       "welfare_type             object\n",
       "survey_comparability    float64\n",
       "comparable_spell        float64\n",
       "poverty_line            float64\n",
       "headcount               float64\n",
       "poverty_gap             float64\n",
       "poverty_severity        float64\n",
       "watts                   float64\n",
       "mean                    float64\n",
       "median                  float64\n",
       "mld                     float64\n",
       "gini                    float64\n",
       "polarization            float64\n",
       "decile1                 float64\n",
       "decile2                 float64\n",
       "decile3                 float64\n",
       "decile4                 float64\n",
       "decile5                 float64\n",
       "decile6                 float64\n",
       "decile7                 float64\n",
       "decile8                 float64\n",
       "decile9                 float64\n",
       "decile10                float64\n",
       "cpi                     float64\n",
       "ppp                     float64\n",
       "reporting_pop           float64\n",
       "reporting_gdp           float64\n",
       "reporting_pce           float64\n",
       "is_interpolated            bool\n",
       "distribution_type        object\n",
       "estimation_type          object\n",
       "pl_check                   bool\n",
       "dtype: object"
      ]
     },
     "execution_count": 26,
     "metadata": {},
     "output_type": "execute_result"
    }
   ],
   "source": [
    "pip2.dtypes"
   ]
  },
  {
   "cell_type": "code",
   "execution_count": null,
   "id": "36cb3d3e",
   "metadata": {},
   "outputs": [],
   "source": [
    "pip.compare(pip2)"
   ]
  },
  {
   "cell_type": "code",
   "execution_count": 5,
   "id": "0c25316e",
   "metadata": {},
   "outputs": [
    {
     "data": {
      "text/html": [
       "<div>\n",
       "<style scoped>\n",
       "    .dataframe tbody tr th:only-of-type {\n",
       "        vertical-align: middle;\n",
       "    }\n",
       "\n",
       "    .dataframe tbody tr th {\n",
       "        vertical-align: top;\n",
       "    }\n",
       "\n",
       "    .dataframe thead th {\n",
       "        text-align: right;\n",
       "    }\n",
       "</style>\n",
       "<table border=\"1\" class=\"dataframe\">\n",
       "  <thead>\n",
       "    <tr style=\"text-align: right;\">\n",
       "      <th></th>\n",
       "      <th>region_name</th>\n",
       "      <th>region_code</th>\n",
       "      <th>country_name</th>\n",
       "      <th>country_code</th>\n",
       "      <th>reporting_year</th>\n",
       "      <th>reporting_level</th>\n",
       "      <th>survey_acronym</th>\n",
       "      <th>survey_coverage</th>\n",
       "      <th>survey_year</th>\n",
       "      <th>welfare_type</th>\n",
       "      <th>...</th>\n",
       "      <th>decile9</th>\n",
       "      <th>decile10</th>\n",
       "      <th>cpi</th>\n",
       "      <th>ppp</th>\n",
       "      <th>reporting_pop</th>\n",
       "      <th>reporting_gdp</th>\n",
       "      <th>reporting_pce</th>\n",
       "      <th>is_interpolated</th>\n",
       "      <th>distribution_type</th>\n",
       "      <th>estimation_type</th>\n",
       "    </tr>\n",
       "  </thead>\n",
       "  <tbody>\n",
       "    <tr>\n",
       "      <th>0</th>\n",
       "      <td>East Asia and Pacific</td>\n",
       "      <td>EAP</td>\n",
       "      <td>China</td>\n",
       "      <td>CHN</td>\n",
       "      <td>1981</td>\n",
       "      <td>rural</td>\n",
       "      <td>NaN</td>\n",
       "      <td>NaN</td>\n",
       "      <td>NaN</td>\n",
       "      <td>income</td>\n",
       "      <td>...</td>\n",
       "      <td>0.141663</td>\n",
       "      <td>0.205191</td>\n",
       "      <td>NaN</td>\n",
       "      <td>3.039222</td>\n",
       "      <td>7.939352e+08</td>\n",
       "      <td>447.118997</td>\n",
       "      <td>NaN</td>\n",
       "      <td>False</td>\n",
       "      <td>aggregate</td>\n",
       "      <td>survey</td>\n",
       "    </tr>\n",
       "    <tr>\n",
       "      <th>1</th>\n",
       "      <td>East Asia and Pacific</td>\n",
       "      <td>EAP</td>\n",
       "      <td>China</td>\n",
       "      <td>CHN</td>\n",
       "      <td>1982</td>\n",
       "      <td>rural</td>\n",
       "      <td>NaN</td>\n",
       "      <td>NaN</td>\n",
       "      <td>NaN</td>\n",
       "      <td>income</td>\n",
       "      <td>...</td>\n",
       "      <td>NaN</td>\n",
       "      <td>NaN</td>\n",
       "      <td>NaN</td>\n",
       "      <td>3.039222</td>\n",
       "      <td>7.978062e+08</td>\n",
       "      <td>480.310474</td>\n",
       "      <td>NaN</td>\n",
       "      <td>True</td>\n",
       "      <td>aggregate</td>\n",
       "      <td>interpolation</td>\n",
       "    </tr>\n",
       "    <tr>\n",
       "      <th>2</th>\n",
       "      <td>East Asia and Pacific</td>\n",
       "      <td>EAP</td>\n",
       "      <td>China</td>\n",
       "      <td>CHN</td>\n",
       "      <td>1983</td>\n",
       "      <td>rural</td>\n",
       "      <td>NaN</td>\n",
       "      <td>NaN</td>\n",
       "      <td>NaN</td>\n",
       "      <td>income</td>\n",
       "      <td>...</td>\n",
       "      <td>NaN</td>\n",
       "      <td>NaN</td>\n",
       "      <td>NaN</td>\n",
       "      <td>3.039222</td>\n",
       "      <td>8.028379e+08</td>\n",
       "      <td>524.408437</td>\n",
       "      <td>NaN</td>\n",
       "      <td>True</td>\n",
       "      <td>aggregate</td>\n",
       "      <td>interpolation</td>\n",
       "    </tr>\n",
       "    <tr>\n",
       "      <th>3</th>\n",
       "      <td>East Asia and Pacific</td>\n",
       "      <td>EAP</td>\n",
       "      <td>China</td>\n",
       "      <td>CHN</td>\n",
       "      <td>1981</td>\n",
       "      <td>urban</td>\n",
       "      <td>NaN</td>\n",
       "      <td>NaN</td>\n",
       "      <td>NaN</td>\n",
       "      <td>income</td>\n",
       "      <td>...</td>\n",
       "      <td>0.131814</td>\n",
       "      <td>0.171814</td>\n",
       "      <td>NaN</td>\n",
       "      <td>3.905400</td>\n",
       "      <td>1.999498e+08</td>\n",
       "      <td>447.118997</td>\n",
       "      <td>NaN</td>\n",
       "      <td>False</td>\n",
       "      <td>aggregate</td>\n",
       "      <td>survey</td>\n",
       "    </tr>\n",
       "    <tr>\n",
       "      <th>4</th>\n",
       "      <td>East Asia and Pacific</td>\n",
       "      <td>EAP</td>\n",
       "      <td>China</td>\n",
       "      <td>CHN</td>\n",
       "      <td>1982</td>\n",
       "      <td>urban</td>\n",
       "      <td>NaN</td>\n",
       "      <td>NaN</td>\n",
       "      <td>NaN</td>\n",
       "      <td>income</td>\n",
       "      <td>...</td>\n",
       "      <td>NaN</td>\n",
       "      <td>NaN</td>\n",
       "      <td>NaN</td>\n",
       "      <td>3.905400</td>\n",
       "      <td>2.108238e+08</td>\n",
       "      <td>480.310474</td>\n",
       "      <td>NaN</td>\n",
       "      <td>True</td>\n",
       "      <td>aggregate</td>\n",
       "      <td>interpolation</td>\n",
       "    </tr>\n",
       "    <tr>\n",
       "      <th>...</th>\n",
       "      <td>...</td>\n",
       "      <td>...</td>\n",
       "      <td>...</td>\n",
       "      <td>...</td>\n",
       "      <td>...</td>\n",
       "      <td>...</td>\n",
       "      <td>...</td>\n",
       "      <td>...</td>\n",
       "      <td>...</td>\n",
       "      <td>...</td>\n",
       "      <td>...</td>\n",
       "      <td>...</td>\n",
       "      <td>...</td>\n",
       "      <td>...</td>\n",
       "      <td>...</td>\n",
       "      <td>...</td>\n",
       "      <td>...</td>\n",
       "      <td>...</td>\n",
       "      <td>...</td>\n",
       "      <td>...</td>\n",
       "      <td>...</td>\n",
       "    </tr>\n",
       "    <tr>\n",
       "      <th>6679</th>\n",
       "      <td>East Asia and Pacific</td>\n",
       "      <td>EAP</td>\n",
       "      <td>Indonesia</td>\n",
       "      <td>IDN</td>\n",
       "      <td>2018</td>\n",
       "      <td>national</td>\n",
       "      <td>NaN</td>\n",
       "      <td>NaN</td>\n",
       "      <td>NaN</td>\n",
       "      <td>consumption</td>\n",
       "      <td>...</td>\n",
       "      <td>0.156042</td>\n",
       "      <td>0.293438</td>\n",
       "      <td>NaN</td>\n",
       "      <td>NaN</td>\n",
       "      <td>2.676705e+08</td>\n",
       "      <td>3732.867111</td>\n",
       "      <td>2142.205498</td>\n",
       "      <td>False</td>\n",
       "      <td>micro</td>\n",
       "      <td>survey</td>\n",
       "    </tr>\n",
       "    <tr>\n",
       "      <th>6680</th>\n",
       "      <td>South Asia</td>\n",
       "      <td>SAS</td>\n",
       "      <td>India</td>\n",
       "      <td>IND</td>\n",
       "      <td>2018</td>\n",
       "      <td>national</td>\n",
       "      <td>NaN</td>\n",
       "      <td>NaN</td>\n",
       "      <td>NaN</td>\n",
       "      <td>consumption</td>\n",
       "      <td>...</td>\n",
       "      <td>0.142784</td>\n",
       "      <td>0.301427</td>\n",
       "      <td>NaN</td>\n",
       "      <td>NaN</td>\n",
       "      <td>1.352642e+09</td>\n",
       "      <td>1890.759172</td>\n",
       "      <td>1040.229347</td>\n",
       "      <td>True</td>\n",
       "      <td>micro</td>\n",
       "      <td>extrapolation</td>\n",
       "    </tr>\n",
       "    <tr>\n",
       "      <th>6681</th>\n",
       "      <td>East Asia and Pacific</td>\n",
       "      <td>EAP</td>\n",
       "      <td>China</td>\n",
       "      <td>CHN</td>\n",
       "      <td>2019</td>\n",
       "      <td>national</td>\n",
       "      <td>NaN</td>\n",
       "      <td>NaN</td>\n",
       "      <td>NaN</td>\n",
       "      <td>consumption</td>\n",
       "      <td>...</td>\n",
       "      <td>0.158389</td>\n",
       "      <td>0.294964</td>\n",
       "      <td>NaN</td>\n",
       "      <td>NaN</td>\n",
       "      <td>1.407745e+09</td>\n",
       "      <td>10155.417556</td>\n",
       "      <td>4112.405794</td>\n",
       "      <td>False</td>\n",
       "      <td>aggregate</td>\n",
       "      <td>survey</td>\n",
       "    </tr>\n",
       "    <tr>\n",
       "      <th>6682</th>\n",
       "      <td>East Asia and Pacific</td>\n",
       "      <td>EAP</td>\n",
       "      <td>Indonesia</td>\n",
       "      <td>IDN</td>\n",
       "      <td>2019</td>\n",
       "      <td>national</td>\n",
       "      <td>NaN</td>\n",
       "      <td>NaN</td>\n",
       "      <td>NaN</td>\n",
       "      <td>consumption</td>\n",
       "      <td>...</td>\n",
       "      <td>0.154198</td>\n",
       "      <td>0.289178</td>\n",
       "      <td>NaN</td>\n",
       "      <td>NaN</td>\n",
       "      <td>2.706256e+08</td>\n",
       "      <td>3877.382977</td>\n",
       "      <td>2228.159630</td>\n",
       "      <td>False</td>\n",
       "      <td>micro</td>\n",
       "      <td>survey</td>\n",
       "    </tr>\n",
       "    <tr>\n",
       "      <th>6683</th>\n",
       "      <td>South Asia</td>\n",
       "      <td>SAS</td>\n",
       "      <td>India</td>\n",
       "      <td>IND</td>\n",
       "      <td>2019</td>\n",
       "      <td>national</td>\n",
       "      <td>NaN</td>\n",
       "      <td>NaN</td>\n",
       "      <td>NaN</td>\n",
       "      <td>consumption</td>\n",
       "      <td>...</td>\n",
       "      <td>0.142784</td>\n",
       "      <td>0.301427</td>\n",
       "      <td>NaN</td>\n",
       "      <td>NaN</td>\n",
       "      <td>1.366418e+09</td>\n",
       "      <td>1958.427183</td>\n",
       "      <td>1069.644299</td>\n",
       "      <td>True</td>\n",
       "      <td>micro</td>\n",
       "      <td>extrapolation</td>\n",
       "    </tr>\n",
       "  </tbody>\n",
       "</table>\n",
       "<p>6684 rows × 40 columns</p>\n",
       "</div>"
      ],
      "text/plain": [
       "                region_name region_code country_name country_code  \\\n",
       "0     East Asia and Pacific         EAP        China          CHN   \n",
       "1     East Asia and Pacific         EAP        China          CHN   \n",
       "2     East Asia and Pacific         EAP        China          CHN   \n",
       "3     East Asia and Pacific         EAP        China          CHN   \n",
       "4     East Asia and Pacific         EAP        China          CHN   \n",
       "...                     ...         ...          ...          ...   \n",
       "6679  East Asia and Pacific         EAP    Indonesia          IDN   \n",
       "6680             South Asia         SAS        India          IND   \n",
       "6681  East Asia and Pacific         EAP        China          CHN   \n",
       "6682  East Asia and Pacific         EAP    Indonesia          IDN   \n",
       "6683             South Asia         SAS        India          IND   \n",
       "\n",
       "      reporting_year reporting_level  survey_acronym  survey_coverage  \\\n",
       "0               1981           rural             NaN              NaN   \n",
       "1               1982           rural             NaN              NaN   \n",
       "2               1983           rural             NaN              NaN   \n",
       "3               1981           urban             NaN              NaN   \n",
       "4               1982           urban             NaN              NaN   \n",
       "...              ...             ...             ...              ...   \n",
       "6679            2018        national             NaN              NaN   \n",
       "6680            2018        national             NaN              NaN   \n",
       "6681            2019        national             NaN              NaN   \n",
       "6682            2019        national             NaN              NaN   \n",
       "6683            2019        national             NaN              NaN   \n",
       "\n",
       "      survey_year welfare_type  ...   decile9  decile10  cpi       ppp  \\\n",
       "0             NaN       income  ...  0.141663  0.205191  NaN  3.039222   \n",
       "1             NaN       income  ...       NaN       NaN  NaN  3.039222   \n",
       "2             NaN       income  ...       NaN       NaN  NaN  3.039222   \n",
       "3             NaN       income  ...  0.131814  0.171814  NaN  3.905400   \n",
       "4             NaN       income  ...       NaN       NaN  NaN  3.905400   \n",
       "...           ...          ...  ...       ...       ...  ...       ...   \n",
       "6679          NaN  consumption  ...  0.156042  0.293438  NaN       NaN   \n",
       "6680          NaN  consumption  ...  0.142784  0.301427  NaN       NaN   \n",
       "6681          NaN  consumption  ...  0.158389  0.294964  NaN       NaN   \n",
       "6682          NaN  consumption  ...  0.154198  0.289178  NaN       NaN   \n",
       "6683          NaN  consumption  ...  0.142784  0.301427  NaN       NaN   \n",
       "\n",
       "      reporting_pop  reporting_gdp  reporting_pce  is_interpolated  \\\n",
       "0      7.939352e+08     447.118997            NaN            False   \n",
       "1      7.978062e+08     480.310474            NaN             True   \n",
       "2      8.028379e+08     524.408437            NaN             True   \n",
       "3      1.999498e+08     447.118997            NaN            False   \n",
       "4      2.108238e+08     480.310474            NaN             True   \n",
       "...             ...            ...            ...              ...   \n",
       "6679   2.676705e+08    3732.867111    2142.205498            False   \n",
       "6680   1.352642e+09    1890.759172    1040.229347             True   \n",
       "6681   1.407745e+09   10155.417556    4112.405794            False   \n",
       "6682   2.706256e+08    3877.382977    2228.159630            False   \n",
       "6683   1.366418e+09    1958.427183    1069.644299             True   \n",
       "\n",
       "      distribution_type  estimation_type  \n",
       "0             aggregate           survey  \n",
       "1             aggregate    interpolation  \n",
       "2             aggregate    interpolation  \n",
       "3             aggregate           survey  \n",
       "4             aggregate    interpolation  \n",
       "...                 ...              ...  \n",
       "6679              micro           survey  \n",
       "6680              micro    extrapolation  \n",
       "6681          aggregate           survey  \n",
       "6682              micro           survey  \n",
       "6683              micro    extrapolation  \n",
       "\n",
       "[6684 rows x 40 columns]"
      ]
     },
     "execution_count": 5,
     "metadata": {},
     "output_type": "execute_result"
    }
   ],
   "source": [
    "pip"
   ]
  },
  {
   "cell_type": "code",
   "execution_count": 6,
   "id": "5468a065",
   "metadata": {},
   "outputs": [
    {
     "data": {
      "text/plain": [
       "Index(['region_name', 'region_code', 'country_name', 'country_code',\n",
       "       'reporting_year', 'reporting_level', 'survey_acronym',\n",
       "       'survey_coverage', 'survey_year', 'welfare_type',\n",
       "       'survey_comparability', 'comparable_spell', 'poverty_line', 'headcount',\n",
       "       'poverty_gap', 'poverty_severity', 'watts', 'mean', 'median', 'mld',\n",
       "       'gini', 'polarization', 'decile1', 'decile2', 'decile3', 'decile4',\n",
       "       'decile5', 'decile6', 'decile7', 'decile8', 'decile9', 'decile10',\n",
       "       'cpi', 'ppp', 'reporting_pop', 'reporting_gdp', 'reporting_pce',\n",
       "       'is_interpolated', 'distribution_type', 'estimation_type'],\n",
       "      dtype='object')"
      ]
     },
     "execution_count": 6,
     "metadata": {},
     "output_type": "execute_result"
    }
   ],
   "source": [
    "pip.columns"
   ]
  },
  {
   "cell_type": "markdown",
   "id": "ae05f36e",
   "metadata": {},
   "source": [
    "https://worldbank.github.io/PIP-Methodology/\n",
    "\n",
    "https://wid.world/gpinter/"
   ]
  },
  {
   "cell_type": "code",
   "execution_count": 7,
   "id": "02cd4156",
   "metadata": {},
   "outputs": [],
   "source": [
    "pip.to_csv('pip.csv')\n",
    "pip2.to_csv('pip2.csv')"
   ]
  },
  {
   "cell_type": "code",
   "execution_count": 9,
   "id": "9d07090e",
   "metadata": {},
   "outputs": [
    {
     "data": {
      "text/plain": [
       "array([0.000e+00, 1.000e-01, 2.000e-01, ..., 1.998e+02, 1.999e+02,\n",
       "       2.000e+02])"
      ]
     },
     "execution_count": 9,
     "metadata": {},
     "output_type": "execute_result"
    }
   ],
   "source": [
    "np.arange(0,200.1,0.1)"
   ]
  },
  {
   "cell_type": "code",
   "execution_count": null,
   "id": "96c988ac",
   "metadata": {},
   "outputs": [],
   "source": [
    "pip_complete = pd.DataFrame()\n",
    "\n",
    "for i in np.arange(0,200.1,0.1):\n",
    "    country = \"all\" #ISO3 codes\n",
    "    year = \"all\" #YYYY\n",
    "    povline = i #Number, dollars\n",
    "    formatfile = \"csv\" #json, csv, rds\n",
    "    fill_gaps = \"true\" #Interpolate/extrapolate, boolean\n",
    "    welfare_type = \"all\" #Welfare measure: all, consumption, income\n",
    "    reporting_level = \"all\" #Reporting coverage: all, national, rural, urban\n",
    "    #popshare = 0.1 #Proportion of the population living below the poverty line. Will be ignored if povline is specified\n",
    "\n",
    "    #version #pip/v1/versions defaults to most recent version\n",
    "\n",
    "    pip_path = \"https://api.worldbank.org/pip/v1/pip?\" + \"country=\" + country + \"&year=\" + year + \"&povline=\" + str(povline) + \"&format=\" + formatfile + \"&fill_gaps=\" + fill_gaps + \"&welfare_type=\" + welfare_type + \"&reporting_level=\" + reporting_level #+ \"&popshare=\" + str(popshare)\n",
    "    #pip_path = \"https://api.worldbank.org/pip/v1/pip?country=all&year=all&povline=1.9&format=csv&fill_gaps=true\" #orignal version\n",
    "\n",
    "    pip = pd.read_csv(pip_path)\n",
    "    pip2['pl_check'] = pip2['poverty_line'] == i\n",
    "    \n",
    "    pip_complete = pd.concat([pip_complete, pip], ignore_index=True)"
   ]
  },
  {
   "cell_type": "code",
   "execution_count": null,
   "id": "71ca2c3b",
   "metadata": {},
   "outputs": [],
   "source": [
    "pip_complete_path = Path('data/pip.csv')\n",
    "pip_complete.to_csv(pip_complete_path, index=False)"
   ]
  },
  {
   "cell_type": "code",
   "execution_count": null,
   "id": "fdb89cc8",
   "metadata": {},
   "outputs": [],
   "source": [
    "pip_complete_path = Path('data/pip.dta')\n",
    "pip_complete.to_stata(pip_complete_path, write_index=False)"
   ]
  },
  {
   "cell_type": "code",
   "execution_count": null,
   "id": "e86d6793",
   "metadata": {},
   "outputs": [],
   "source": []
  },
  {
   "cell_type": "markdown",
   "id": "831f44d5",
   "metadata": {},
   "source": [
    "## Consistency test\n",
    "PovcalNet used to show different results from the input. This is checked here with PIP. The same file is generated 20 times:"
   ]
  },
  {
   "cell_type": "code",
   "execution_count": 489,
   "id": "da143968",
   "metadata": {},
   "outputs": [],
   "source": [
    "for i in range(1,21):\n",
    "\n",
    "    country = \"all\" #ISO3 codes\n",
    "    year = \"all\" #YYYY\n",
    "    povline = 7.23 #Number, dollars\n",
    "    formatfile = \"csv\" #json, csv, rds\n",
    "    fill_gaps = \"true\" #Interpolate/extrapolate, boolean\n",
    "    welfare_type = \"all\" #Welfare measure: all, consumption, income\n",
    "    reporting_level = \"all\" #Reporting coverage: all, national, rural, urban\n",
    "    #popshare = 0.1 #Proportion of the population living below the poverty line. Will be ignored if povline is specified\n",
    "\n",
    "    #version #pip/v1/versions defaults to most recent version\n",
    "\n",
    "    pip_path = \"https://api.worldbank.org/pip/v1/pip?\" + \"country=\" + country + \"&year=\" + year + \"&povline=\" + str(povline) + \"&format=\" + formatfile + \"&fill_gaps=\" + fill_gaps + \"&welfare_type=\" + welfare_type + \"&reporting_level=\" + reporting_level #+ \"&popshare=\" + str(popshare)\n",
    "    #pip_path = \"https://api.worldbank.org/pip/v1/pip?country=all&year=all&povline=1.9&format=csv&fill_gaps=true\" #orignal version\n",
    "\n",
    "    pip = pd.read_csv(pip_path)\n",
    "    pip['pl_check'] = pip['poverty_line'] == povline\n",
    "    \n",
    "    Path('consistency_test/').mkdir(parents=True, exist_ok=True)\n",
    "    folder = Path('consistency_test/')\n",
    "    filename = 'pip' + str(i) + '.csv'\n",
    "    file = folder / filename\n",
    "    \n",
    "    pip.to_csv(file, index=False)"
   ]
  },
  {
   "cell_type": "markdown",
   "id": "823d1e27",
   "metadata": {},
   "source": [
    "The 20 files are loaded:"
   ]
  },
  {
   "cell_type": "code",
   "execution_count": 490,
   "id": "8b964b81",
   "metadata": {},
   "outputs": [],
   "source": [
    "file = [Path('consistency_test/pip1.csv'),\n",
    "       Path('consistency_test/pip2.csv'),\n",
    "       Path('consistency_test/pip3.csv'),\n",
    "       Path('consistency_test/pip4.csv'),\n",
    "       Path('consistency_test/pip5.csv'),\n",
    "       Path('consistency_test/pip6.csv'),\n",
    "       Path('consistency_test/pip7.csv'),\n",
    "       Path('consistency_test/pip8.csv'),\n",
    "       Path('consistency_test/pip9.csv'),\n",
    "       Path('consistency_test/pip10.csv'),\n",
    "       Path('consistency_test/pip11.csv'),\n",
    "       Path('consistency_test/pip12.csv'),\n",
    "       Path('consistency_test/pip13.csv'),\n",
    "       Path('consistency_test/pip14.csv'),\n",
    "       Path('consistency_test/pip15.csv'),\n",
    "       Path('consistency_test/pip16.csv'),\n",
    "       Path('consistency_test/pip17.csv'),\n",
    "       Path('consistency_test/pip18.csv'),\n",
    "       Path('consistency_test/pip19.csv'),\n",
    "       Path('consistency_test/pip20.csv')]\n",
    "\n",
    "pip1,pip2,pip3,pip4,pip5,pip6,pip7,pip8,pip9,pip10,pip11,pip12,pip13,pip14,pip15,pip16,pip17,pip18,pip19,pip20 = [pd.read_csv(i) for i in file]\n"
   ]
  },
  {
   "cell_type": "markdown",
   "id": "47e04547",
   "metadata": {},
   "source": [
    "And these 20 files are compared in pairs. If there is a dataframe generated with the difference it means not all the files are the same. It has not been the case with PIP. "
   ]
  },
  {
   "cell_type": "code",
   "execution_count": 491,
   "id": "bc22963e",
   "metadata": {},
   "outputs": [
    {
     "data": {
      "text/html": [
       "<div>\n",
       "<style scoped>\n",
       "    .dataframe tbody tr th:only-of-type {\n",
       "        vertical-align: middle;\n",
       "    }\n",
       "\n",
       "    .dataframe tbody tr th {\n",
       "        vertical-align: top;\n",
       "    }\n",
       "\n",
       "    .dataframe thead tr th {\n",
       "        text-align: left;\n",
       "    }\n",
       "</style>\n",
       "<table border=\"1\" class=\"dataframe\">\n",
       "  <thead>\n",
       "  </thead>\n",
       "  <tbody>\n",
       "  </tbody>\n",
       "</table>\n",
       "</div>"
      ],
      "text/plain": [
       "Empty DataFrame\n",
       "Columns: []\n",
       "Index: []"
      ]
     },
     "execution_count": 491,
     "metadata": {},
     "output_type": "execute_result"
    }
   ],
   "source": [
    "pip1.compare(pip2)"
   ]
  },
  {
   "cell_type": "code",
   "execution_count": 492,
   "id": "2e8a6f7e",
   "metadata": {},
   "outputs": [
    {
     "data": {
      "text/html": [
       "<div>\n",
       "<style scoped>\n",
       "    .dataframe tbody tr th:only-of-type {\n",
       "        vertical-align: middle;\n",
       "    }\n",
       "\n",
       "    .dataframe tbody tr th {\n",
       "        vertical-align: top;\n",
       "    }\n",
       "\n",
       "    .dataframe thead tr th {\n",
       "        text-align: left;\n",
       "    }\n",
       "</style>\n",
       "<table border=\"1\" class=\"dataframe\">\n",
       "  <thead>\n",
       "  </thead>\n",
       "  <tbody>\n",
       "  </tbody>\n",
       "</table>\n",
       "</div>"
      ],
      "text/plain": [
       "Empty DataFrame\n",
       "Columns: []\n",
       "Index: []"
      ]
     },
     "execution_count": 492,
     "metadata": {},
     "output_type": "execute_result"
    }
   ],
   "source": [
    "pip2.compare(pip3)"
   ]
  },
  {
   "cell_type": "code",
   "execution_count": 493,
   "id": "6cbee06e",
   "metadata": {},
   "outputs": [
    {
     "data": {
      "text/html": [
       "<div>\n",
       "<style scoped>\n",
       "    .dataframe tbody tr th:only-of-type {\n",
       "        vertical-align: middle;\n",
       "    }\n",
       "\n",
       "    .dataframe tbody tr th {\n",
       "        vertical-align: top;\n",
       "    }\n",
       "\n",
       "    .dataframe thead tr th {\n",
       "        text-align: left;\n",
       "    }\n",
       "</style>\n",
       "<table border=\"1\" class=\"dataframe\">\n",
       "  <thead>\n",
       "  </thead>\n",
       "  <tbody>\n",
       "  </tbody>\n",
       "</table>\n",
       "</div>"
      ],
      "text/plain": [
       "Empty DataFrame\n",
       "Columns: []\n",
       "Index: []"
      ]
     },
     "execution_count": 493,
     "metadata": {},
     "output_type": "execute_result"
    }
   ],
   "source": [
    "pip3.compare(pip4)"
   ]
  },
  {
   "cell_type": "code",
   "execution_count": 494,
   "id": "cc08a2c4",
   "metadata": {},
   "outputs": [
    {
     "data": {
      "text/html": [
       "<div>\n",
       "<style scoped>\n",
       "    .dataframe tbody tr th:only-of-type {\n",
       "        vertical-align: middle;\n",
       "    }\n",
       "\n",
       "    .dataframe tbody tr th {\n",
       "        vertical-align: top;\n",
       "    }\n",
       "\n",
       "    .dataframe thead tr th {\n",
       "        text-align: left;\n",
       "    }\n",
       "</style>\n",
       "<table border=\"1\" class=\"dataframe\">\n",
       "  <thead>\n",
       "  </thead>\n",
       "  <tbody>\n",
       "  </tbody>\n",
       "</table>\n",
       "</div>"
      ],
      "text/plain": [
       "Empty DataFrame\n",
       "Columns: []\n",
       "Index: []"
      ]
     },
     "execution_count": 494,
     "metadata": {},
     "output_type": "execute_result"
    }
   ],
   "source": [
    "pip4.compare(pip5)"
   ]
  },
  {
   "cell_type": "code",
   "execution_count": 495,
   "id": "277f2289",
   "metadata": {},
   "outputs": [
    {
     "data": {
      "text/html": [
       "<div>\n",
       "<style scoped>\n",
       "    .dataframe tbody tr th:only-of-type {\n",
       "        vertical-align: middle;\n",
       "    }\n",
       "\n",
       "    .dataframe tbody tr th {\n",
       "        vertical-align: top;\n",
       "    }\n",
       "\n",
       "    .dataframe thead tr th {\n",
       "        text-align: left;\n",
       "    }\n",
       "</style>\n",
       "<table border=\"1\" class=\"dataframe\">\n",
       "  <thead>\n",
       "  </thead>\n",
       "  <tbody>\n",
       "  </tbody>\n",
       "</table>\n",
       "</div>"
      ],
      "text/plain": [
       "Empty DataFrame\n",
       "Columns: []\n",
       "Index: []"
      ]
     },
     "execution_count": 495,
     "metadata": {},
     "output_type": "execute_result"
    }
   ],
   "source": [
    "pip5.compare(pip6)"
   ]
  },
  {
   "cell_type": "code",
   "execution_count": 496,
   "id": "891a70ab",
   "metadata": {},
   "outputs": [
    {
     "data": {
      "text/html": [
       "<div>\n",
       "<style scoped>\n",
       "    .dataframe tbody tr th:only-of-type {\n",
       "        vertical-align: middle;\n",
       "    }\n",
       "\n",
       "    .dataframe tbody tr th {\n",
       "        vertical-align: top;\n",
       "    }\n",
       "\n",
       "    .dataframe thead tr th {\n",
       "        text-align: left;\n",
       "    }\n",
       "</style>\n",
       "<table border=\"1\" class=\"dataframe\">\n",
       "  <thead>\n",
       "  </thead>\n",
       "  <tbody>\n",
       "  </tbody>\n",
       "</table>\n",
       "</div>"
      ],
      "text/plain": [
       "Empty DataFrame\n",
       "Columns: []\n",
       "Index: []"
      ]
     },
     "execution_count": 496,
     "metadata": {},
     "output_type": "execute_result"
    }
   ],
   "source": [
    "pip6.compare(pip7)"
   ]
  },
  {
   "cell_type": "code",
   "execution_count": 497,
   "id": "6f7e8035",
   "metadata": {},
   "outputs": [
    {
     "data": {
      "text/html": [
       "<div>\n",
       "<style scoped>\n",
       "    .dataframe tbody tr th:only-of-type {\n",
       "        vertical-align: middle;\n",
       "    }\n",
       "\n",
       "    .dataframe tbody tr th {\n",
       "        vertical-align: top;\n",
       "    }\n",
       "\n",
       "    .dataframe thead tr th {\n",
       "        text-align: left;\n",
       "    }\n",
       "</style>\n",
       "<table border=\"1\" class=\"dataframe\">\n",
       "  <thead>\n",
       "  </thead>\n",
       "  <tbody>\n",
       "  </tbody>\n",
       "</table>\n",
       "</div>"
      ],
      "text/plain": [
       "Empty DataFrame\n",
       "Columns: []\n",
       "Index: []"
      ]
     },
     "execution_count": 497,
     "metadata": {},
     "output_type": "execute_result"
    }
   ],
   "source": [
    "pip7.compare(pip8)"
   ]
  },
  {
   "cell_type": "code",
   "execution_count": 498,
   "id": "50ff6ff0",
   "metadata": {},
   "outputs": [
    {
     "data": {
      "text/html": [
       "<div>\n",
       "<style scoped>\n",
       "    .dataframe tbody tr th:only-of-type {\n",
       "        vertical-align: middle;\n",
       "    }\n",
       "\n",
       "    .dataframe tbody tr th {\n",
       "        vertical-align: top;\n",
       "    }\n",
       "\n",
       "    .dataframe thead tr th {\n",
       "        text-align: left;\n",
       "    }\n",
       "</style>\n",
       "<table border=\"1\" class=\"dataframe\">\n",
       "  <thead>\n",
       "  </thead>\n",
       "  <tbody>\n",
       "  </tbody>\n",
       "</table>\n",
       "</div>"
      ],
      "text/plain": [
       "Empty DataFrame\n",
       "Columns: []\n",
       "Index: []"
      ]
     },
     "execution_count": 498,
     "metadata": {},
     "output_type": "execute_result"
    }
   ],
   "source": [
    "pip8.compare(pip9)"
   ]
  },
  {
   "cell_type": "code",
   "execution_count": 499,
   "id": "354c8f5f",
   "metadata": {},
   "outputs": [
    {
     "data": {
      "text/html": [
       "<div>\n",
       "<style scoped>\n",
       "    .dataframe tbody tr th:only-of-type {\n",
       "        vertical-align: middle;\n",
       "    }\n",
       "\n",
       "    .dataframe tbody tr th {\n",
       "        vertical-align: top;\n",
       "    }\n",
       "\n",
       "    .dataframe thead tr th {\n",
       "        text-align: left;\n",
       "    }\n",
       "</style>\n",
       "<table border=\"1\" class=\"dataframe\">\n",
       "  <thead>\n",
       "  </thead>\n",
       "  <tbody>\n",
       "  </tbody>\n",
       "</table>\n",
       "</div>"
      ],
      "text/plain": [
       "Empty DataFrame\n",
       "Columns: []\n",
       "Index: []"
      ]
     },
     "execution_count": 499,
     "metadata": {},
     "output_type": "execute_result"
    }
   ],
   "source": [
    "pip9.compare(pip10)"
   ]
  },
  {
   "cell_type": "code",
   "execution_count": 500,
   "id": "ab5b92dc",
   "metadata": {},
   "outputs": [
    {
     "data": {
      "text/html": [
       "<div>\n",
       "<style scoped>\n",
       "    .dataframe tbody tr th:only-of-type {\n",
       "        vertical-align: middle;\n",
       "    }\n",
       "\n",
       "    .dataframe tbody tr th {\n",
       "        vertical-align: top;\n",
       "    }\n",
       "\n",
       "    .dataframe thead tr th {\n",
       "        text-align: left;\n",
       "    }\n",
       "</style>\n",
       "<table border=\"1\" class=\"dataframe\">\n",
       "  <thead>\n",
       "  </thead>\n",
       "  <tbody>\n",
       "  </tbody>\n",
       "</table>\n",
       "</div>"
      ],
      "text/plain": [
       "Empty DataFrame\n",
       "Columns: []\n",
       "Index: []"
      ]
     },
     "execution_count": 500,
     "metadata": {},
     "output_type": "execute_result"
    }
   ],
   "source": [
    "pip10.compare(pip11)"
   ]
  },
  {
   "cell_type": "code",
   "execution_count": 501,
   "id": "1da2d9d3",
   "metadata": {},
   "outputs": [
    {
     "data": {
      "text/html": [
       "<div>\n",
       "<style scoped>\n",
       "    .dataframe tbody tr th:only-of-type {\n",
       "        vertical-align: middle;\n",
       "    }\n",
       "\n",
       "    .dataframe tbody tr th {\n",
       "        vertical-align: top;\n",
       "    }\n",
       "\n",
       "    .dataframe thead tr th {\n",
       "        text-align: left;\n",
       "    }\n",
       "</style>\n",
       "<table border=\"1\" class=\"dataframe\">\n",
       "  <thead>\n",
       "  </thead>\n",
       "  <tbody>\n",
       "  </tbody>\n",
       "</table>\n",
       "</div>"
      ],
      "text/plain": [
       "Empty DataFrame\n",
       "Columns: []\n",
       "Index: []"
      ]
     },
     "execution_count": 501,
     "metadata": {},
     "output_type": "execute_result"
    }
   ],
   "source": [
    "pip11.compare(pip12)"
   ]
  },
  {
   "cell_type": "code",
   "execution_count": 502,
   "id": "8577cd85",
   "metadata": {},
   "outputs": [
    {
     "data": {
      "text/html": [
       "<div>\n",
       "<style scoped>\n",
       "    .dataframe tbody tr th:only-of-type {\n",
       "        vertical-align: middle;\n",
       "    }\n",
       "\n",
       "    .dataframe tbody tr th {\n",
       "        vertical-align: top;\n",
       "    }\n",
       "\n",
       "    .dataframe thead tr th {\n",
       "        text-align: left;\n",
       "    }\n",
       "</style>\n",
       "<table border=\"1\" class=\"dataframe\">\n",
       "  <thead>\n",
       "  </thead>\n",
       "  <tbody>\n",
       "  </tbody>\n",
       "</table>\n",
       "</div>"
      ],
      "text/plain": [
       "Empty DataFrame\n",
       "Columns: []\n",
       "Index: []"
      ]
     },
     "execution_count": 502,
     "metadata": {},
     "output_type": "execute_result"
    }
   ],
   "source": [
    "pip12.compare(pip13)"
   ]
  },
  {
   "cell_type": "code",
   "execution_count": 503,
   "id": "60e5e674",
   "metadata": {},
   "outputs": [
    {
     "data": {
      "text/html": [
       "<div>\n",
       "<style scoped>\n",
       "    .dataframe tbody tr th:only-of-type {\n",
       "        vertical-align: middle;\n",
       "    }\n",
       "\n",
       "    .dataframe tbody tr th {\n",
       "        vertical-align: top;\n",
       "    }\n",
       "\n",
       "    .dataframe thead tr th {\n",
       "        text-align: left;\n",
       "    }\n",
       "</style>\n",
       "<table border=\"1\" class=\"dataframe\">\n",
       "  <thead>\n",
       "  </thead>\n",
       "  <tbody>\n",
       "  </tbody>\n",
       "</table>\n",
       "</div>"
      ],
      "text/plain": [
       "Empty DataFrame\n",
       "Columns: []\n",
       "Index: []"
      ]
     },
     "execution_count": 503,
     "metadata": {},
     "output_type": "execute_result"
    }
   ],
   "source": [
    "pip13.compare(pip14)"
   ]
  },
  {
   "cell_type": "code",
   "execution_count": 504,
   "id": "4ef78273",
   "metadata": {},
   "outputs": [
    {
     "data": {
      "text/html": [
       "<div>\n",
       "<style scoped>\n",
       "    .dataframe tbody tr th:only-of-type {\n",
       "        vertical-align: middle;\n",
       "    }\n",
       "\n",
       "    .dataframe tbody tr th {\n",
       "        vertical-align: top;\n",
       "    }\n",
       "\n",
       "    .dataframe thead tr th {\n",
       "        text-align: left;\n",
       "    }\n",
       "</style>\n",
       "<table border=\"1\" class=\"dataframe\">\n",
       "  <thead>\n",
       "  </thead>\n",
       "  <tbody>\n",
       "  </tbody>\n",
       "</table>\n",
       "</div>"
      ],
      "text/plain": [
       "Empty DataFrame\n",
       "Columns: []\n",
       "Index: []"
      ]
     },
     "execution_count": 504,
     "metadata": {},
     "output_type": "execute_result"
    }
   ],
   "source": [
    "pip14.compare(pip15)"
   ]
  },
  {
   "cell_type": "code",
   "execution_count": 505,
   "id": "e08923aa",
   "metadata": {},
   "outputs": [
    {
     "data": {
      "text/html": [
       "<div>\n",
       "<style scoped>\n",
       "    .dataframe tbody tr th:only-of-type {\n",
       "        vertical-align: middle;\n",
       "    }\n",
       "\n",
       "    .dataframe tbody tr th {\n",
       "        vertical-align: top;\n",
       "    }\n",
       "\n",
       "    .dataframe thead tr th {\n",
       "        text-align: left;\n",
       "    }\n",
       "</style>\n",
       "<table border=\"1\" class=\"dataframe\">\n",
       "  <thead>\n",
       "  </thead>\n",
       "  <tbody>\n",
       "  </tbody>\n",
       "</table>\n",
       "</div>"
      ],
      "text/plain": [
       "Empty DataFrame\n",
       "Columns: []\n",
       "Index: []"
      ]
     },
     "execution_count": 505,
     "metadata": {},
     "output_type": "execute_result"
    }
   ],
   "source": [
    "pip15.compare(pip16)"
   ]
  },
  {
   "cell_type": "code",
   "execution_count": 506,
   "id": "83ad84ad",
   "metadata": {},
   "outputs": [
    {
     "data": {
      "text/html": [
       "<div>\n",
       "<style scoped>\n",
       "    .dataframe tbody tr th:only-of-type {\n",
       "        vertical-align: middle;\n",
       "    }\n",
       "\n",
       "    .dataframe tbody tr th {\n",
       "        vertical-align: top;\n",
       "    }\n",
       "\n",
       "    .dataframe thead tr th {\n",
       "        text-align: left;\n",
       "    }\n",
       "</style>\n",
       "<table border=\"1\" class=\"dataframe\">\n",
       "  <thead>\n",
       "  </thead>\n",
       "  <tbody>\n",
       "  </tbody>\n",
       "</table>\n",
       "</div>"
      ],
      "text/plain": [
       "Empty DataFrame\n",
       "Columns: []\n",
       "Index: []"
      ]
     },
     "execution_count": 506,
     "metadata": {},
     "output_type": "execute_result"
    }
   ],
   "source": [
    "pip16.compare(pip17)"
   ]
  },
  {
   "cell_type": "code",
   "execution_count": 507,
   "id": "5637845f",
   "metadata": {},
   "outputs": [
    {
     "data": {
      "text/html": [
       "<div>\n",
       "<style scoped>\n",
       "    .dataframe tbody tr th:only-of-type {\n",
       "        vertical-align: middle;\n",
       "    }\n",
       "\n",
       "    .dataframe tbody tr th {\n",
       "        vertical-align: top;\n",
       "    }\n",
       "\n",
       "    .dataframe thead tr th {\n",
       "        text-align: left;\n",
       "    }\n",
       "</style>\n",
       "<table border=\"1\" class=\"dataframe\">\n",
       "  <thead>\n",
       "  </thead>\n",
       "  <tbody>\n",
       "  </tbody>\n",
       "</table>\n",
       "</div>"
      ],
      "text/plain": [
       "Empty DataFrame\n",
       "Columns: []\n",
       "Index: []"
      ]
     },
     "execution_count": 507,
     "metadata": {},
     "output_type": "execute_result"
    }
   ],
   "source": [
    "pip17.compare(pip18)"
   ]
  },
  {
   "cell_type": "code",
   "execution_count": 508,
   "id": "ca9b0e4e",
   "metadata": {},
   "outputs": [
    {
     "data": {
      "text/html": [
       "<div>\n",
       "<style scoped>\n",
       "    .dataframe tbody tr th:only-of-type {\n",
       "        vertical-align: middle;\n",
       "    }\n",
       "\n",
       "    .dataframe tbody tr th {\n",
       "        vertical-align: top;\n",
       "    }\n",
       "\n",
       "    .dataframe thead tr th {\n",
       "        text-align: left;\n",
       "    }\n",
       "</style>\n",
       "<table border=\"1\" class=\"dataframe\">\n",
       "  <thead>\n",
       "  </thead>\n",
       "  <tbody>\n",
       "  </tbody>\n",
       "</table>\n",
       "</div>"
      ],
      "text/plain": [
       "Empty DataFrame\n",
       "Columns: []\n",
       "Index: []"
      ]
     },
     "execution_count": 508,
     "metadata": {},
     "output_type": "execute_result"
    }
   ],
   "source": [
    "pip18.compare(pip19)"
   ]
  },
  {
   "cell_type": "code",
   "execution_count": 509,
   "id": "8249ae6b",
   "metadata": {},
   "outputs": [
    {
     "data": {
      "text/html": [
       "<div>\n",
       "<style scoped>\n",
       "    .dataframe tbody tr th:only-of-type {\n",
       "        vertical-align: middle;\n",
       "    }\n",
       "\n",
       "    .dataframe tbody tr th {\n",
       "        vertical-align: top;\n",
       "    }\n",
       "\n",
       "    .dataframe thead tr th {\n",
       "        text-align: left;\n",
       "    }\n",
       "</style>\n",
       "<table border=\"1\" class=\"dataframe\">\n",
       "  <thead>\n",
       "  </thead>\n",
       "  <tbody>\n",
       "  </tbody>\n",
       "</table>\n",
       "</div>"
      ],
      "text/plain": [
       "Empty DataFrame\n",
       "Columns: []\n",
       "Index: []"
      ]
     },
     "execution_count": 509,
     "metadata": {},
     "output_type": "execute_result"
    }
   ],
   "source": [
    "pip19.compare(pip20)"
   ]
  },
  {
   "cell_type": "code",
   "execution_count": null,
   "id": "4966f5f8",
   "metadata": {},
   "outputs": [],
   "source": []
  },
  {
   "cell_type": "code",
   "execution_count": null,
   "id": "d7fa64ce",
   "metadata": {},
   "outputs": [],
   "source": []
  }
 ],
 "metadata": {
  "kernelspec": {
   "display_name": "Python 3",
   "language": "python",
   "name": "python3"
  },
  "language_info": {
   "codemirror_mode": {
    "name": "ipython",
    "version": 3
   },
   "file_extension": ".py",
   "mimetype": "text/x-python",
   "name": "python",
   "nbconvert_exporter": "python",
   "pygments_lexer": "ipython3",
   "version": "3.8.8"
  }
 },
 "nbformat": 4,
 "nbformat_minor": 5
}
