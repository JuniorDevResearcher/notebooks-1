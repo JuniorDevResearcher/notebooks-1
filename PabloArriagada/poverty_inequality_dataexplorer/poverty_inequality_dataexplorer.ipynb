{
 "cells": [
  {
   "cell_type": "markdown",
   "id": "7467e870",
   "metadata": {},
   "source": [
    "# Poverty and inequality datasets from PIP, WID and LIS"
   ]
  },
  {
   "cell_type": "code",
   "execution_count": 514,
   "id": "d09ed121",
   "metadata": {},
   "outputs": [],
   "source": [
    "import pandas as pd\n",
    "import numpy as np\n",
    "from pathlib import Path\n",
    "import plotly.express as px\n",
    "import plotly.io as pio\n",
    "import time"
   ]
  },
  {
   "cell_type": "code",
   "execution_count": 44,
   "id": "90f3f2d3",
   "metadata": {},
   "outputs": [
    {
     "name": "stdout",
     "output_type": "stream",
     "text": [
      "--- 2.566288709640503 seconds ---\n"
     ]
    }
   ],
   "source": [
    "start_time = time.time()\n",
    "\n",
    "country = \"all\" #ISO3 codes\n",
    "year = \"all\" #YYYY\n",
    "povline = 1.9 #Number, dollars\n",
    "formatfile = \"csv\" #json, csv, rds\n",
    "fill_gaps = \"true\" #Interpolate/extrapolate, boolean\n",
    "welfare_type = \"all\" #Welfare measure: all, consumption, income\n",
    "reporting_level = \"all\" #Reporting coverage: all, national, rural, urban\n",
    "#popshare = 0.1 #Proportion of the population living below the poverty line. Will be ignored if povline is specified\n",
    "\n",
    "#version #pip/v1/versions defaults to most recent version\n",
    "\n",
    "pip_path = \"https://api.worldbank.org/pip/v1/pip?\" + \"country=\" + country + \"&year=\" + year + \"&povline=\" + str(povline) + \"&format=\" + formatfile + \"&fill_gaps=\" + fill_gaps + \"&welfare_type=\" + welfare_type + \"&reporting_level=\" + reporting_level #+ \"&popshare=\" + str(popshare)\n",
    "#pip_path = \"https://api.worldbank.org/pip/v1/pip?country=all&year=all&povline=1.9&format=csv&fill_gaps=true\" #orignal version\n",
    "\n",
    "pip = pd.read_csv(pip_path)\n",
    "#pip['pl_check'] = pip['poverty_line'] == povline\n",
    "\n",
    "print(\"--- %s seconds ---\" % (time.time() - start_time)) #Printing the running time"
   ]
  },
  {
   "cell_type": "code",
   "execution_count": 45,
   "id": "0c25316e",
   "metadata": {},
   "outputs": [
    {
     "data": {
      "text/html": [
       "<div>\n",
       "<style scoped>\n",
       "    .dataframe tbody tr th:only-of-type {\n",
       "        vertical-align: middle;\n",
       "    }\n",
       "\n",
       "    .dataframe tbody tr th {\n",
       "        vertical-align: top;\n",
       "    }\n",
       "\n",
       "    .dataframe thead th {\n",
       "        text-align: right;\n",
       "    }\n",
       "</style>\n",
       "<table border=\"1\" class=\"dataframe\">\n",
       "  <thead>\n",
       "    <tr style=\"text-align: right;\">\n",
       "      <th></th>\n",
       "      <th>region_name</th>\n",
       "      <th>region_code</th>\n",
       "      <th>country_name</th>\n",
       "      <th>country_code</th>\n",
       "      <th>reporting_year</th>\n",
       "      <th>reporting_level</th>\n",
       "      <th>survey_acronym</th>\n",
       "      <th>survey_coverage</th>\n",
       "      <th>survey_year</th>\n",
       "      <th>welfare_type</th>\n",
       "      <th>...</th>\n",
       "      <th>decile9</th>\n",
       "      <th>decile10</th>\n",
       "      <th>cpi</th>\n",
       "      <th>ppp</th>\n",
       "      <th>reporting_pop</th>\n",
       "      <th>reporting_gdp</th>\n",
       "      <th>reporting_pce</th>\n",
       "      <th>is_interpolated</th>\n",
       "      <th>distribution_type</th>\n",
       "      <th>estimation_type</th>\n",
       "    </tr>\n",
       "  </thead>\n",
       "  <tbody>\n",
       "    <tr>\n",
       "      <th>0</th>\n",
       "      <td>East Asia and Pacific</td>\n",
       "      <td>EAP</td>\n",
       "      <td>China</td>\n",
       "      <td>CHN</td>\n",
       "      <td>1981</td>\n",
       "      <td>rural</td>\n",
       "      <td>NaN</td>\n",
       "      <td>NaN</td>\n",
       "      <td>NaN</td>\n",
       "      <td>income</td>\n",
       "      <td>...</td>\n",
       "      <td>0.141663</td>\n",
       "      <td>0.205191</td>\n",
       "      <td>NaN</td>\n",
       "      <td>3.039222</td>\n",
       "      <td>7.939352e+08</td>\n",
       "      <td>447.118997</td>\n",
       "      <td>NaN</td>\n",
       "      <td>False</td>\n",
       "      <td>aggregate</td>\n",
       "      <td>survey</td>\n",
       "    </tr>\n",
       "    <tr>\n",
       "      <th>1</th>\n",
       "      <td>East Asia and Pacific</td>\n",
       "      <td>EAP</td>\n",
       "      <td>China</td>\n",
       "      <td>CHN</td>\n",
       "      <td>1982</td>\n",
       "      <td>rural</td>\n",
       "      <td>NaN</td>\n",
       "      <td>NaN</td>\n",
       "      <td>NaN</td>\n",
       "      <td>income</td>\n",
       "      <td>...</td>\n",
       "      <td>NaN</td>\n",
       "      <td>NaN</td>\n",
       "      <td>NaN</td>\n",
       "      <td>3.039222</td>\n",
       "      <td>7.978062e+08</td>\n",
       "      <td>480.310474</td>\n",
       "      <td>NaN</td>\n",
       "      <td>True</td>\n",
       "      <td>aggregate</td>\n",
       "      <td>interpolation</td>\n",
       "    </tr>\n",
       "    <tr>\n",
       "      <th>2</th>\n",
       "      <td>East Asia and Pacific</td>\n",
       "      <td>EAP</td>\n",
       "      <td>China</td>\n",
       "      <td>CHN</td>\n",
       "      <td>1983</td>\n",
       "      <td>rural</td>\n",
       "      <td>NaN</td>\n",
       "      <td>NaN</td>\n",
       "      <td>NaN</td>\n",
       "      <td>income</td>\n",
       "      <td>...</td>\n",
       "      <td>NaN</td>\n",
       "      <td>NaN</td>\n",
       "      <td>NaN</td>\n",
       "      <td>3.039222</td>\n",
       "      <td>8.028379e+08</td>\n",
       "      <td>524.408437</td>\n",
       "      <td>NaN</td>\n",
       "      <td>True</td>\n",
       "      <td>aggregate</td>\n",
       "      <td>interpolation</td>\n",
       "    </tr>\n",
       "    <tr>\n",
       "      <th>3</th>\n",
       "      <td>East Asia and Pacific</td>\n",
       "      <td>EAP</td>\n",
       "      <td>China</td>\n",
       "      <td>CHN</td>\n",
       "      <td>1981</td>\n",
       "      <td>urban</td>\n",
       "      <td>NaN</td>\n",
       "      <td>NaN</td>\n",
       "      <td>NaN</td>\n",
       "      <td>income</td>\n",
       "      <td>...</td>\n",
       "      <td>0.131814</td>\n",
       "      <td>0.171814</td>\n",
       "      <td>NaN</td>\n",
       "      <td>3.905400</td>\n",
       "      <td>1.999498e+08</td>\n",
       "      <td>447.118997</td>\n",
       "      <td>NaN</td>\n",
       "      <td>False</td>\n",
       "      <td>aggregate</td>\n",
       "      <td>survey</td>\n",
       "    </tr>\n",
       "    <tr>\n",
       "      <th>4</th>\n",
       "      <td>East Asia and Pacific</td>\n",
       "      <td>EAP</td>\n",
       "      <td>China</td>\n",
       "      <td>CHN</td>\n",
       "      <td>1982</td>\n",
       "      <td>urban</td>\n",
       "      <td>NaN</td>\n",
       "      <td>NaN</td>\n",
       "      <td>NaN</td>\n",
       "      <td>income</td>\n",
       "      <td>...</td>\n",
       "      <td>NaN</td>\n",
       "      <td>NaN</td>\n",
       "      <td>NaN</td>\n",
       "      <td>3.905400</td>\n",
       "      <td>2.108238e+08</td>\n",
       "      <td>480.310474</td>\n",
       "      <td>NaN</td>\n",
       "      <td>True</td>\n",
       "      <td>aggregate</td>\n",
       "      <td>interpolation</td>\n",
       "    </tr>\n",
       "    <tr>\n",
       "      <th>...</th>\n",
       "      <td>...</td>\n",
       "      <td>...</td>\n",
       "      <td>...</td>\n",
       "      <td>...</td>\n",
       "      <td>...</td>\n",
       "      <td>...</td>\n",
       "      <td>...</td>\n",
       "      <td>...</td>\n",
       "      <td>...</td>\n",
       "      <td>...</td>\n",
       "      <td>...</td>\n",
       "      <td>...</td>\n",
       "      <td>...</td>\n",
       "      <td>...</td>\n",
       "      <td>...</td>\n",
       "      <td>...</td>\n",
       "      <td>...</td>\n",
       "      <td>...</td>\n",
       "      <td>...</td>\n",
       "      <td>...</td>\n",
       "      <td>...</td>\n",
       "    </tr>\n",
       "    <tr>\n",
       "      <th>6677</th>\n",
       "      <td>East Asia and Pacific</td>\n",
       "      <td>EAP</td>\n",
       "      <td>Indonesia</td>\n",
       "      <td>IDN</td>\n",
       "      <td>2018</td>\n",
       "      <td>national</td>\n",
       "      <td>NaN</td>\n",
       "      <td>NaN</td>\n",
       "      <td>NaN</td>\n",
       "      <td>consumption</td>\n",
       "      <td>...</td>\n",
       "      <td>0.156042</td>\n",
       "      <td>0.293438</td>\n",
       "      <td>NaN</td>\n",
       "      <td>NaN</td>\n",
       "      <td>2.676705e+08</td>\n",
       "      <td>3732.867111</td>\n",
       "      <td>2142.205498</td>\n",
       "      <td>False</td>\n",
       "      <td>micro</td>\n",
       "      <td>survey</td>\n",
       "    </tr>\n",
       "    <tr>\n",
       "      <th>6678</th>\n",
       "      <td>South Asia</td>\n",
       "      <td>SAS</td>\n",
       "      <td>India</td>\n",
       "      <td>IND</td>\n",
       "      <td>2018</td>\n",
       "      <td>national</td>\n",
       "      <td>NaN</td>\n",
       "      <td>NaN</td>\n",
       "      <td>NaN</td>\n",
       "      <td>consumption</td>\n",
       "      <td>...</td>\n",
       "      <td>0.142784</td>\n",
       "      <td>0.301427</td>\n",
       "      <td>NaN</td>\n",
       "      <td>NaN</td>\n",
       "      <td>1.352642e+09</td>\n",
       "      <td>1890.759172</td>\n",
       "      <td>993.417519</td>\n",
       "      <td>True</td>\n",
       "      <td>micro</td>\n",
       "      <td>extrapolation</td>\n",
       "    </tr>\n",
       "    <tr>\n",
       "      <th>6679</th>\n",
       "      <td>East Asia and Pacific</td>\n",
       "      <td>EAP</td>\n",
       "      <td>China</td>\n",
       "      <td>CHN</td>\n",
       "      <td>2019</td>\n",
       "      <td>national</td>\n",
       "      <td>NaN</td>\n",
       "      <td>NaN</td>\n",
       "      <td>NaN</td>\n",
       "      <td>consumption</td>\n",
       "      <td>...</td>\n",
       "      <td>0.158389</td>\n",
       "      <td>0.294964</td>\n",
       "      <td>NaN</td>\n",
       "      <td>NaN</td>\n",
       "      <td>1.407745e+09</td>\n",
       "      <td>10155.417556</td>\n",
       "      <td>4112.405794</td>\n",
       "      <td>False</td>\n",
       "      <td>aggregate</td>\n",
       "      <td>survey</td>\n",
       "    </tr>\n",
       "    <tr>\n",
       "      <th>6680</th>\n",
       "      <td>East Asia and Pacific</td>\n",
       "      <td>EAP</td>\n",
       "      <td>Indonesia</td>\n",
       "      <td>IDN</td>\n",
       "      <td>2019</td>\n",
       "      <td>national</td>\n",
       "      <td>NaN</td>\n",
       "      <td>NaN</td>\n",
       "      <td>NaN</td>\n",
       "      <td>consumption</td>\n",
       "      <td>...</td>\n",
       "      <td>0.154198</td>\n",
       "      <td>0.289178</td>\n",
       "      <td>NaN</td>\n",
       "      <td>NaN</td>\n",
       "      <td>2.706256e+08</td>\n",
       "      <td>3877.382977</td>\n",
       "      <td>2228.159630</td>\n",
       "      <td>False</td>\n",
       "      <td>micro</td>\n",
       "      <td>survey</td>\n",
       "    </tr>\n",
       "    <tr>\n",
       "      <th>6681</th>\n",
       "      <td>South Asia</td>\n",
       "      <td>SAS</td>\n",
       "      <td>India</td>\n",
       "      <td>IND</td>\n",
       "      <td>2019</td>\n",
       "      <td>national</td>\n",
       "      <td>NaN</td>\n",
       "      <td>NaN</td>\n",
       "      <td>NaN</td>\n",
       "      <td>consumption</td>\n",
       "      <td>...</td>\n",
       "      <td>0.142784</td>\n",
       "      <td>0.301427</td>\n",
       "      <td>NaN</td>\n",
       "      <td>NaN</td>\n",
       "      <td>1.366418e+09</td>\n",
       "      <td>1958.427183</td>\n",
       "      <td>1026.361471</td>\n",
       "      <td>True</td>\n",
       "      <td>micro</td>\n",
       "      <td>extrapolation</td>\n",
       "    </tr>\n",
       "  </tbody>\n",
       "</table>\n",
       "<p>6682 rows × 40 columns</p>\n",
       "</div>"
      ],
      "text/plain": [
       "                region_name region_code country_name country_code  \\\n",
       "0     East Asia and Pacific         EAP        China          CHN   \n",
       "1     East Asia and Pacific         EAP        China          CHN   \n",
       "2     East Asia and Pacific         EAP        China          CHN   \n",
       "3     East Asia and Pacific         EAP        China          CHN   \n",
       "4     East Asia and Pacific         EAP        China          CHN   \n",
       "...                     ...         ...          ...          ...   \n",
       "6677  East Asia and Pacific         EAP    Indonesia          IDN   \n",
       "6678             South Asia         SAS        India          IND   \n",
       "6679  East Asia and Pacific         EAP        China          CHN   \n",
       "6680  East Asia and Pacific         EAP    Indonesia          IDN   \n",
       "6681             South Asia         SAS        India          IND   \n",
       "\n",
       "      reporting_year reporting_level  survey_acronym  survey_coverage  \\\n",
       "0               1981           rural             NaN              NaN   \n",
       "1               1982           rural             NaN              NaN   \n",
       "2               1983           rural             NaN              NaN   \n",
       "3               1981           urban             NaN              NaN   \n",
       "4               1982           urban             NaN              NaN   \n",
       "...              ...             ...             ...              ...   \n",
       "6677            2018        national             NaN              NaN   \n",
       "6678            2018        national             NaN              NaN   \n",
       "6679            2019        national             NaN              NaN   \n",
       "6680            2019        national             NaN              NaN   \n",
       "6681            2019        national             NaN              NaN   \n",
       "\n",
       "      survey_year welfare_type  ...   decile9  decile10  cpi       ppp  \\\n",
       "0             NaN       income  ...  0.141663  0.205191  NaN  3.039222   \n",
       "1             NaN       income  ...       NaN       NaN  NaN  3.039222   \n",
       "2             NaN       income  ...       NaN       NaN  NaN  3.039222   \n",
       "3             NaN       income  ...  0.131814  0.171814  NaN  3.905400   \n",
       "4             NaN       income  ...       NaN       NaN  NaN  3.905400   \n",
       "...           ...          ...  ...       ...       ...  ...       ...   \n",
       "6677          NaN  consumption  ...  0.156042  0.293438  NaN       NaN   \n",
       "6678          NaN  consumption  ...  0.142784  0.301427  NaN       NaN   \n",
       "6679          NaN  consumption  ...  0.158389  0.294964  NaN       NaN   \n",
       "6680          NaN  consumption  ...  0.154198  0.289178  NaN       NaN   \n",
       "6681          NaN  consumption  ...  0.142784  0.301427  NaN       NaN   \n",
       "\n",
       "      reporting_pop  reporting_gdp  reporting_pce  is_interpolated  \\\n",
       "0      7.939352e+08     447.118997            NaN            False   \n",
       "1      7.978062e+08     480.310474            NaN             True   \n",
       "2      8.028379e+08     524.408437            NaN             True   \n",
       "3      1.999498e+08     447.118997            NaN            False   \n",
       "4      2.108238e+08     480.310474            NaN             True   \n",
       "...             ...            ...            ...              ...   \n",
       "6677   2.676705e+08    3732.867111    2142.205498            False   \n",
       "6678   1.352642e+09    1890.759172     993.417519             True   \n",
       "6679   1.407745e+09   10155.417556    4112.405794            False   \n",
       "6680   2.706256e+08    3877.382977    2228.159630            False   \n",
       "6681   1.366418e+09    1958.427183    1026.361471             True   \n",
       "\n",
       "      distribution_type  estimation_type  \n",
       "0             aggregate           survey  \n",
       "1             aggregate    interpolation  \n",
       "2             aggregate    interpolation  \n",
       "3             aggregate           survey  \n",
       "4             aggregate    interpolation  \n",
       "...                 ...              ...  \n",
       "6677              micro           survey  \n",
       "6678              micro    extrapolation  \n",
       "6679          aggregate           survey  \n",
       "6680              micro           survey  \n",
       "6681              micro    extrapolation  \n",
       "\n",
       "[6682 rows x 40 columns]"
      ]
     },
     "execution_count": 45,
     "metadata": {},
     "output_type": "execute_result"
    }
   ],
   "source": [
    "pip"
   ]
  },
  {
   "cell_type": "code",
   "execution_count": 46,
   "id": "5859a180",
   "metadata": {},
   "outputs": [],
   "source": [
    "file = Path('pip.csv')\n",
    "pip_old = pd.read_csv(file)"
   ]
  },
  {
   "cell_type": "code",
   "execution_count": 54,
   "id": "b63bc6cc",
   "metadata": {},
   "outputs": [
    {
     "data": {
      "text/plain": [
       "['both', 'left_only']\n",
       "Categories (3, object): ['left_only', 'right_only', 'both']"
      ]
     },
     "execution_count": 54,
     "metadata": {},
     "output_type": "execute_result"
    }
   ],
   "source": [
    "hola = pd.merge(pip_old, pip, how='left', on=['country_code', 'reporting_year', 'reporting_level', 'welfare_type'], indicator=True)\n",
    "hola['_merge'].unique()"
   ]
  },
  {
   "cell_type": "code",
   "execution_count": 55,
   "id": "e06a41a6",
   "metadata": {},
   "outputs": [
    {
     "data": {
      "text/plain": [
       "Index(['Unnamed: 0', 'region_name_x', 'region_code_x', 'country_name_x',\n",
       "       'country_code', 'reporting_year', 'reporting_level', 'survey_acronym_x',\n",
       "       'survey_coverage_x', 'survey_year_x', 'welfare_type',\n",
       "       'survey_comparability_x', 'comparable_spell_x', 'poverty_line_x',\n",
       "       'headcount_x', 'poverty_gap_x', 'poverty_severity_x', 'watts_x',\n",
       "       'mean_x', 'median_x', 'mld_x', 'gini_x', 'polarization_x', 'decile1_x',\n",
       "       'decile2_x', 'decile3_x', 'decile4_x', 'decile5_x', 'decile6_x',\n",
       "       'decile7_x', 'decile8_x', 'decile9_x', 'decile10_x', 'cpi_x', 'ppp_x',\n",
       "       'reporting_pop_x', 'reporting_gdp_x', 'reporting_pce_x',\n",
       "       'is_interpolated_x', 'distribution_type_x', 'estimation_type_x',\n",
       "       'region_name_y', 'region_code_y', 'country_name_y', 'survey_acronym_y',\n",
       "       'survey_coverage_y', 'survey_year_y', 'survey_comparability_y',\n",
       "       'comparable_spell_y', 'poverty_line_y', 'headcount_y', 'poverty_gap_y',\n",
       "       'poverty_severity_y', 'watts_y', 'mean_y', 'median_y', 'mld_y',\n",
       "       'gini_y', 'polarization_y', 'decile1_y', 'decile2_y', 'decile3_y',\n",
       "       'decile4_y', 'decile5_y', 'decile6_y', 'decile7_y', 'decile8_y',\n",
       "       'decile9_y', 'decile10_y', 'cpi_y', 'ppp_y', 'reporting_pop_y',\n",
       "       'reporting_gdp_y', 'reporting_pce_y', 'is_interpolated_y',\n",
       "       'distribution_type_y', 'estimation_type_y', '_merge'],\n",
       "      dtype='object')"
      ]
     },
     "execution_count": 55,
     "metadata": {},
     "output_type": "execute_result"
    }
   ],
   "source": [
    "hola.columns"
   ]
  },
  {
   "cell_type": "code",
   "execution_count": 56,
   "id": "4c1721b5",
   "metadata": {},
   "outputs": [
    {
     "data": {
      "text/html": [
       "<div>\n",
       "<style scoped>\n",
       "    .dataframe tbody tr th:only-of-type {\n",
       "        vertical-align: middle;\n",
       "    }\n",
       "\n",
       "    .dataframe tbody tr th {\n",
       "        vertical-align: top;\n",
       "    }\n",
       "\n",
       "    .dataframe thead th {\n",
       "        text-align: right;\n",
       "    }\n",
       "</style>\n",
       "<table border=\"1\" class=\"dataframe\">\n",
       "  <thead>\n",
       "    <tr style=\"text-align: right;\">\n",
       "      <th></th>\n",
       "      <th>Unnamed: 0</th>\n",
       "      <th>region_name_x</th>\n",
       "      <th>region_code_x</th>\n",
       "      <th>country_name_x</th>\n",
       "      <th>country_code</th>\n",
       "      <th>reporting_year</th>\n",
       "      <th>reporting_level</th>\n",
       "      <th>survey_acronym_x</th>\n",
       "      <th>survey_coverage_x</th>\n",
       "      <th>survey_year_x</th>\n",
       "      <th>...</th>\n",
       "      <th>decile10_y</th>\n",
       "      <th>cpi_y</th>\n",
       "      <th>ppp_y</th>\n",
       "      <th>reporting_pop_y</th>\n",
       "      <th>reporting_gdp_y</th>\n",
       "      <th>reporting_pce_y</th>\n",
       "      <th>is_interpolated_y</th>\n",
       "      <th>distribution_type_y</th>\n",
       "      <th>estimation_type_y</th>\n",
       "      <th>_merge</th>\n",
       "    </tr>\n",
       "  </thead>\n",
       "  <tbody>\n",
       "    <tr>\n",
       "      <th>802</th>\n",
       "      <td>802</td>\n",
       "      <td>East Asia and Pacific</td>\n",
       "      <td>EAP</td>\n",
       "      <td>Samoa</td>\n",
       "      <td>WSM</td>\n",
       "      <td>1981</td>\n",
       "      <td>national</td>\n",
       "      <td>NaN</td>\n",
       "      <td>NaN</td>\n",
       "      <td>NaN</td>\n",
       "      <td>...</td>\n",
       "      <td>NaN</td>\n",
       "      <td>NaN</td>\n",
       "      <td>NaN</td>\n",
       "      <td>NaN</td>\n",
       "      <td>NaN</td>\n",
       "      <td>NaN</td>\n",
       "      <td>NaN</td>\n",
       "      <td>NaN</td>\n",
       "      <td>NaN</td>\n",
       "      <td>left_only</td>\n",
       "    </tr>\n",
       "    <tr>\n",
       "      <th>6156</th>\n",
       "      <td>6156</td>\n",
       "      <td>Sub-Saharan Africa</td>\n",
       "      <td>SSA</td>\n",
       "      <td>Somalia</td>\n",
       "      <td>SOM</td>\n",
       "      <td>2011</td>\n",
       "      <td>national</td>\n",
       "      <td>NaN</td>\n",
       "      <td>NaN</td>\n",
       "      <td>NaN</td>\n",
       "      <td>...</td>\n",
       "      <td>NaN</td>\n",
       "      <td>NaN</td>\n",
       "      <td>NaN</td>\n",
       "      <td>NaN</td>\n",
       "      <td>NaN</td>\n",
       "      <td>NaN</td>\n",
       "      <td>NaN</td>\n",
       "      <td>NaN</td>\n",
       "      <td>NaN</td>\n",
       "      <td>left_only</td>\n",
       "    </tr>\n",
       "  </tbody>\n",
       "</table>\n",
       "<p>2 rows × 78 columns</p>\n",
       "</div>"
      ],
      "text/plain": [
       "      Unnamed: 0          region_name_x region_code_x country_name_x  \\\n",
       "802          802  East Asia and Pacific           EAP          Samoa   \n",
       "6156        6156     Sub-Saharan Africa           SSA        Somalia   \n",
       "\n",
       "     country_code  reporting_year reporting_level  survey_acronym_x  \\\n",
       "802           WSM            1981        national               NaN   \n",
       "6156          SOM            2011        national               NaN   \n",
       "\n",
       "      survey_coverage_x  survey_year_x  ... decile10_y  cpi_y  ppp_y  \\\n",
       "802                 NaN            NaN  ...        NaN    NaN    NaN   \n",
       "6156                NaN            NaN  ...        NaN    NaN    NaN   \n",
       "\n",
       "      reporting_pop_y  reporting_gdp_y  reporting_pce_y  is_interpolated_y  \\\n",
       "802               NaN              NaN              NaN                NaN   \n",
       "6156              NaN              NaN              NaN                NaN   \n",
       "\n",
       "      distribution_type_y  estimation_type_y     _merge  \n",
       "802                   NaN                NaN  left_only  \n",
       "6156                  NaN                NaN  left_only  \n",
       "\n",
       "[2 rows x 78 columns]"
      ]
     },
     "execution_count": 56,
     "metadata": {},
     "output_type": "execute_result"
    }
   ],
   "source": [
    "hola[hola['_merge']=='left_only']"
   ]
  },
  {
   "cell_type": "code",
   "execution_count": 57,
   "id": "abc9f1ac",
   "metadata": {},
   "outputs": [
    {
     "data": {
      "text/html": [
       "<div>\n",
       "<style scoped>\n",
       "    .dataframe tbody tr th:only-of-type {\n",
       "        vertical-align: middle;\n",
       "    }\n",
       "\n",
       "    .dataframe tbody tr th {\n",
       "        vertical-align: top;\n",
       "    }\n",
       "\n",
       "    .dataframe thead th {\n",
       "        text-align: right;\n",
       "    }\n",
       "</style>\n",
       "<table border=\"1\" class=\"dataframe\">\n",
       "  <thead>\n",
       "    <tr style=\"text-align: right;\">\n",
       "      <th></th>\n",
       "      <th>Unnamed: 0</th>\n",
       "      <th>region_name_x</th>\n",
       "      <th>region_code_x</th>\n",
       "      <th>country_name_x</th>\n",
       "      <th>country_code</th>\n",
       "      <th>reporting_year</th>\n",
       "      <th>reporting_level</th>\n",
       "      <th>survey_acronym_x</th>\n",
       "      <th>survey_coverage_x</th>\n",
       "      <th>survey_year_x</th>\n",
       "      <th>...</th>\n",
       "      <th>decile10_y</th>\n",
       "      <th>cpi_y</th>\n",
       "      <th>ppp_y</th>\n",
       "      <th>reporting_pop_y</th>\n",
       "      <th>reporting_gdp_y</th>\n",
       "      <th>reporting_pce_y</th>\n",
       "      <th>is_interpolated_y</th>\n",
       "      <th>distribution_type_y</th>\n",
       "      <th>estimation_type_y</th>\n",
       "      <th>_merge</th>\n",
       "    </tr>\n",
       "  </thead>\n",
       "  <tbody>\n",
       "  </tbody>\n",
       "</table>\n",
       "<p>0 rows × 78 columns</p>\n",
       "</div>"
      ],
      "text/plain": [
       "Empty DataFrame\n",
       "Columns: [Unnamed: 0, region_name_x, region_code_x, country_name_x, country_code, reporting_year, reporting_level, survey_acronym_x, survey_coverage_x, survey_year_x, welfare_type, survey_comparability_x, comparable_spell_x, poverty_line_x, headcount_x, poverty_gap_x, poverty_severity_x, watts_x, mean_x, median_x, mld_x, gini_x, polarization_x, decile1_x, decile2_x, decile3_x, decile4_x, decile5_x, decile6_x, decile7_x, decile8_x, decile9_x, decile10_x, cpi_x, ppp_x, reporting_pop_x, reporting_gdp_x, reporting_pce_x, is_interpolated_x, distribution_type_x, estimation_type_x, region_name_y, region_code_y, country_name_y, survey_acronym_y, survey_coverage_y, survey_year_y, survey_comparability_y, comparable_spell_y, poverty_line_y, headcount_y, poverty_gap_y, poverty_severity_y, watts_y, mean_y, median_y, mld_y, gini_y, polarization_y, decile1_y, decile2_y, decile3_y, decile4_y, decile5_y, decile6_y, decile7_y, decile8_y, decile9_y, decile10_y, cpi_y, ppp_y, reporting_pop_y, reporting_gdp_y, reporting_pce_y, is_interpolated_y, distribution_type_y, estimation_type_y, _merge]\n",
       "Index: []\n",
       "\n",
       "[0 rows x 78 columns]"
      ]
     },
     "execution_count": 57,
     "metadata": {},
     "output_type": "execute_result"
    }
   ],
   "source": [
    "hola[hola['_merge']=='right_only']"
   ]
  },
  {
   "cell_type": "code",
   "execution_count": 51,
   "id": "9fe01a2d",
   "metadata": {},
   "outputs": [
    {
     "data": {
      "text/html": [
       "<div>\n",
       "<style scoped>\n",
       "    .dataframe tbody tr th:only-of-type {\n",
       "        vertical-align: middle;\n",
       "    }\n",
       "\n",
       "    .dataframe tbody tr th {\n",
       "        vertical-align: top;\n",
       "    }\n",
       "\n",
       "    .dataframe thead th {\n",
       "        text-align: right;\n",
       "    }\n",
       "</style>\n",
       "<table border=\"1\" class=\"dataframe\">\n",
       "  <thead>\n",
       "    <tr style=\"text-align: right;\">\n",
       "      <th></th>\n",
       "      <th>region_name_x</th>\n",
       "      <th>region_code_x</th>\n",
       "      <th>country_name_x</th>\n",
       "      <th>country_code</th>\n",
       "      <th>reporting_year</th>\n",
       "      <th>reporting_level</th>\n",
       "      <th>survey_acronym_x</th>\n",
       "      <th>survey_coverage_x</th>\n",
       "      <th>survey_year_x</th>\n",
       "      <th>welfare_type</th>\n",
       "      <th>...</th>\n",
       "      <th>decile10_y</th>\n",
       "      <th>cpi_y</th>\n",
       "      <th>ppp_y</th>\n",
       "      <th>reporting_pop_y</th>\n",
       "      <th>reporting_gdp_y</th>\n",
       "      <th>reporting_pce_y</th>\n",
       "      <th>is_interpolated_y</th>\n",
       "      <th>distribution_type_y</th>\n",
       "      <th>estimation_type_y</th>\n",
       "      <th>_merge</th>\n",
       "    </tr>\n",
       "  </thead>\n",
       "  <tbody>\n",
       "  </tbody>\n",
       "</table>\n",
       "<p>0 rows × 78 columns</p>\n",
       "</div>"
      ],
      "text/plain": [
       "Empty DataFrame\n",
       "Columns: [region_name_x, region_code_x, country_name_x, country_code, reporting_year, reporting_level, survey_acronym_x, survey_coverage_x, survey_year_x, welfare_type, survey_comparability_x, comparable_spell_x, poverty_line_x, headcount_x, poverty_gap_x, poverty_severity_x, watts_x, mean_x, median_x, mld_x, gini_x, polarization_x, decile1_x, decile2_x, decile3_x, decile4_x, decile5_x, decile6_x, decile7_x, decile8_x, decile9_x, decile10_x, cpi_x, ppp_x, reporting_pop_x, reporting_gdp_x, reporting_pce_x, is_interpolated_x, distribution_type_x, estimation_type_x, Unnamed: 0, region_name_y, region_code_y, country_name_y, survey_acronym_y, survey_coverage_y, survey_year_y, survey_comparability_y, comparable_spell_y, poverty_line_y, headcount_y, poverty_gap_y, poverty_severity_y, watts_y, mean_y, median_y, mld_y, gini_y, polarization_y, decile1_y, decile2_y, decile3_y, decile4_y, decile5_y, decile6_y, decile7_y, decile8_y, decile9_y, decile10_y, cpi_y, ppp_y, reporting_pop_y, reporting_gdp_y, reporting_pce_y, is_interpolated_y, distribution_type_y, estimation_type_y, _merge]\n",
       "Index: []\n",
       "\n",
       "[0 rows x 78 columns]"
      ]
     },
     "execution_count": 51,
     "metadata": {},
     "output_type": "execute_result"
    }
   ],
   "source": [
    "hola[hola['_merge'].isnull()]"
   ]
  },
  {
   "cell_type": "code",
   "execution_count": 52,
   "id": "522904f8",
   "metadata": {},
   "outputs": [],
   "source": [
    "hola.to_csv('hola_merge.csv')"
   ]
  },
  {
   "cell_type": "code",
   "execution_count": 20,
   "id": "6213e47d",
   "metadata": {},
   "outputs": [],
   "source": [
    "pip.to_csv('pip_new.csv')"
   ]
  },
  {
   "cell_type": "code",
   "execution_count": 6,
   "id": "5468a065",
   "metadata": {},
   "outputs": [
    {
     "data": {
      "text/plain": [
       "Index(['region_name', 'region_code', 'country_name', 'country_code',\n",
       "       'reporting_year', 'reporting_level', 'survey_acronym',\n",
       "       'survey_coverage', 'survey_year', 'welfare_type',\n",
       "       'survey_comparability', 'comparable_spell', 'poverty_line', 'headcount',\n",
       "       'poverty_gap', 'poverty_severity', 'watts', 'mean', 'median', 'mld',\n",
       "       'gini', 'polarization', 'decile1', 'decile2', 'decile3', 'decile4',\n",
       "       'decile5', 'decile6', 'decile7', 'decile8', 'decile9', 'decile10',\n",
       "       'cpi', 'ppp', 'reporting_pop', 'reporting_gdp', 'reporting_pce',\n",
       "       'is_interpolated', 'distribution_type', 'estimation_type'],\n",
       "      dtype='object')"
      ]
     },
     "execution_count": 6,
     "metadata": {},
     "output_type": "execute_result"
    }
   ],
   "source": [
    "pip.columns"
   ]
  },
  {
   "cell_type": "markdown",
   "id": "ae05f36e",
   "metadata": {},
   "source": [
    "https://worldbank.github.io/PIP-Methodology/\n",
    "\n",
    "https://wid.world/gpinter/"
   ]
  },
  {
   "cell_type": "code",
   "execution_count": 9,
   "id": "9d07090e",
   "metadata": {},
   "outputs": [
    {
     "data": {
      "text/plain": [
       "array([0.000e+00, 1.000e-01, 2.000e-01, ..., 1.998e+02, 1.999e+02,\n",
       "       2.000e+02])"
      ]
     },
     "execution_count": 9,
     "metadata": {},
     "output_type": "execute_result"
    }
   ],
   "source": [
    "np.arange(0,200.1,0.1)"
   ]
  },
  {
   "cell_type": "code",
   "execution_count": 510,
   "id": "96c988ac",
   "metadata": {},
   "outputs": [
    {
     "ename": "KeyboardInterrupt",
     "evalue": "",
     "output_type": "error",
     "traceback": [
      "\u001b[1;31m---------------------------------------------------------------------------\u001b[0m",
      "\u001b[1;31mKeyboardInterrupt\u001b[0m                         Traceback (most recent call last)",
      "\u001b[1;32m<ipython-input-510-fd97db3eefcf>\u001b[0m in \u001b[0;36m<module>\u001b[1;34m\u001b[0m\n\u001b[0;32m     16\u001b[0m     \u001b[1;31m#pip_path = \"https://api.worldbank.org/pip/v1/pip?country=all&year=all&povline=1.9&format=csv&fill_gaps=true\" #orignal version\u001b[0m\u001b[1;33m\u001b[0m\u001b[1;33m\u001b[0m\u001b[1;33m\u001b[0m\u001b[0m\n\u001b[0;32m     17\u001b[0m \u001b[1;33m\u001b[0m\u001b[0m\n\u001b[1;32m---> 18\u001b[1;33m     \u001b[0mpip\u001b[0m \u001b[1;33m=\u001b[0m \u001b[0mpd\u001b[0m\u001b[1;33m.\u001b[0m\u001b[0mread_csv\u001b[0m\u001b[1;33m(\u001b[0m\u001b[0mpip_path\u001b[0m\u001b[1;33m)\u001b[0m\u001b[1;33m\u001b[0m\u001b[1;33m\u001b[0m\u001b[0m\n\u001b[0m\u001b[0;32m     19\u001b[0m     \u001b[0mpip2\u001b[0m\u001b[1;33m[\u001b[0m\u001b[1;34m'pl_check'\u001b[0m\u001b[1;33m]\u001b[0m \u001b[1;33m=\u001b[0m \u001b[0mpip2\u001b[0m\u001b[1;33m[\u001b[0m\u001b[1;34m'poverty_line'\u001b[0m\u001b[1;33m]\u001b[0m \u001b[1;33m==\u001b[0m \u001b[0mi\u001b[0m\u001b[1;33m\u001b[0m\u001b[1;33m\u001b[0m\u001b[0m\n\u001b[0;32m     20\u001b[0m \u001b[1;33m\u001b[0m\u001b[0m\n",
      "\u001b[1;32m~\\AppData\\Roaming\\Python\\Python38\\site-packages\\pandas\\util\\_decorators.py\u001b[0m in \u001b[0;36mwrapper\u001b[1;34m(*args, **kwargs)\u001b[0m\n\u001b[0;32m    309\u001b[0m                     \u001b[0mstacklevel\u001b[0m\u001b[1;33m=\u001b[0m\u001b[0mstacklevel\u001b[0m\u001b[1;33m,\u001b[0m\u001b[1;33m\u001b[0m\u001b[1;33m\u001b[0m\u001b[0m\n\u001b[0;32m    310\u001b[0m                 )\n\u001b[1;32m--> 311\u001b[1;33m             \u001b[1;32mreturn\u001b[0m \u001b[0mfunc\u001b[0m\u001b[1;33m(\u001b[0m\u001b[1;33m*\u001b[0m\u001b[0margs\u001b[0m\u001b[1;33m,\u001b[0m \u001b[1;33m**\u001b[0m\u001b[0mkwargs\u001b[0m\u001b[1;33m)\u001b[0m\u001b[1;33m\u001b[0m\u001b[1;33m\u001b[0m\u001b[0m\n\u001b[0m\u001b[0;32m    312\u001b[0m \u001b[1;33m\u001b[0m\u001b[0m\n\u001b[0;32m    313\u001b[0m         \u001b[1;32mreturn\u001b[0m \u001b[0mwrapper\u001b[0m\u001b[1;33m\u001b[0m\u001b[1;33m\u001b[0m\u001b[0m\n",
      "\u001b[1;32m~\\AppData\\Roaming\\Python\\Python38\\site-packages\\pandas\\io\\parsers\\readers.py\u001b[0m in \u001b[0;36mread_csv\u001b[1;34m(filepath_or_buffer, sep, delimiter, header, names, index_col, usecols, squeeze, prefix, mangle_dupe_cols, dtype, engine, converters, true_values, false_values, skipinitialspace, skiprows, skipfooter, nrows, na_values, keep_default_na, na_filter, verbose, skip_blank_lines, parse_dates, infer_datetime_format, keep_date_col, date_parser, dayfirst, cache_dates, iterator, chunksize, compression, thousands, decimal, lineterminator, quotechar, quoting, doublequote, escapechar, comment, encoding, encoding_errors, dialect, error_bad_lines, warn_bad_lines, on_bad_lines, delim_whitespace, low_memory, memory_map, float_precision, storage_options)\u001b[0m\n\u001b[0;32m    678\u001b[0m     \u001b[0mkwds\u001b[0m\u001b[1;33m.\u001b[0m\u001b[0mupdate\u001b[0m\u001b[1;33m(\u001b[0m\u001b[0mkwds_defaults\u001b[0m\u001b[1;33m)\u001b[0m\u001b[1;33m\u001b[0m\u001b[1;33m\u001b[0m\u001b[0m\n\u001b[0;32m    679\u001b[0m \u001b[1;33m\u001b[0m\u001b[0m\n\u001b[1;32m--> 680\u001b[1;33m     \u001b[1;32mreturn\u001b[0m \u001b[0m_read\u001b[0m\u001b[1;33m(\u001b[0m\u001b[0mfilepath_or_buffer\u001b[0m\u001b[1;33m,\u001b[0m \u001b[0mkwds\u001b[0m\u001b[1;33m)\u001b[0m\u001b[1;33m\u001b[0m\u001b[1;33m\u001b[0m\u001b[0m\n\u001b[0m\u001b[0;32m    681\u001b[0m \u001b[1;33m\u001b[0m\u001b[0m\n\u001b[0;32m    682\u001b[0m \u001b[1;33m\u001b[0m\u001b[0m\n",
      "\u001b[1;32m~\\AppData\\Roaming\\Python\\Python38\\site-packages\\pandas\\io\\parsers\\readers.py\u001b[0m in \u001b[0;36m_read\u001b[1;34m(filepath_or_buffer, kwds)\u001b[0m\n\u001b[0;32m    573\u001b[0m \u001b[1;33m\u001b[0m\u001b[0m\n\u001b[0;32m    574\u001b[0m     \u001b[1;31m# Create the parser.\u001b[0m\u001b[1;33m\u001b[0m\u001b[1;33m\u001b[0m\u001b[1;33m\u001b[0m\u001b[0m\n\u001b[1;32m--> 575\u001b[1;33m     \u001b[0mparser\u001b[0m \u001b[1;33m=\u001b[0m \u001b[0mTextFileReader\u001b[0m\u001b[1;33m(\u001b[0m\u001b[0mfilepath_or_buffer\u001b[0m\u001b[1;33m,\u001b[0m \u001b[1;33m**\u001b[0m\u001b[0mkwds\u001b[0m\u001b[1;33m)\u001b[0m\u001b[1;33m\u001b[0m\u001b[1;33m\u001b[0m\u001b[0m\n\u001b[0m\u001b[0;32m    576\u001b[0m \u001b[1;33m\u001b[0m\u001b[0m\n\u001b[0;32m    577\u001b[0m     \u001b[1;32mif\u001b[0m \u001b[0mchunksize\u001b[0m \u001b[1;32mor\u001b[0m \u001b[0miterator\u001b[0m\u001b[1;33m:\u001b[0m\u001b[1;33m\u001b[0m\u001b[1;33m\u001b[0m\u001b[0m\n",
      "\u001b[1;32m~\\AppData\\Roaming\\Python\\Python38\\site-packages\\pandas\\io\\parsers\\readers.py\u001b[0m in \u001b[0;36m__init__\u001b[1;34m(self, f, engine, **kwds)\u001b[0m\n\u001b[0;32m    931\u001b[0m \u001b[1;33m\u001b[0m\u001b[0m\n\u001b[0;32m    932\u001b[0m         \u001b[0mself\u001b[0m\u001b[1;33m.\u001b[0m\u001b[0mhandles\u001b[0m\u001b[1;33m:\u001b[0m \u001b[0mIOHandles\u001b[0m \u001b[1;33m|\u001b[0m \u001b[1;32mNone\u001b[0m \u001b[1;33m=\u001b[0m \u001b[1;32mNone\u001b[0m\u001b[1;33m\u001b[0m\u001b[1;33m\u001b[0m\u001b[0m\n\u001b[1;32m--> 933\u001b[1;33m         \u001b[0mself\u001b[0m\u001b[1;33m.\u001b[0m\u001b[0m_engine\u001b[0m \u001b[1;33m=\u001b[0m \u001b[0mself\u001b[0m\u001b[1;33m.\u001b[0m\u001b[0m_make_engine\u001b[0m\u001b[1;33m(\u001b[0m\u001b[0mf\u001b[0m\u001b[1;33m,\u001b[0m \u001b[0mself\u001b[0m\u001b[1;33m.\u001b[0m\u001b[0mengine\u001b[0m\u001b[1;33m)\u001b[0m\u001b[1;33m\u001b[0m\u001b[1;33m\u001b[0m\u001b[0m\n\u001b[0m\u001b[0;32m    934\u001b[0m \u001b[1;33m\u001b[0m\u001b[0m\n\u001b[0;32m    935\u001b[0m     \u001b[1;32mdef\u001b[0m \u001b[0mclose\u001b[0m\u001b[1;33m(\u001b[0m\u001b[0mself\u001b[0m\u001b[1;33m)\u001b[0m\u001b[1;33m:\u001b[0m\u001b[1;33m\u001b[0m\u001b[1;33m\u001b[0m\u001b[0m\n",
      "\u001b[1;32m~\\AppData\\Roaming\\Python\\Python38\\site-packages\\pandas\\io\\parsers\\readers.py\u001b[0m in \u001b[0;36m_make_engine\u001b[1;34m(self, f, engine)\u001b[0m\n\u001b[0;32m   1215\u001b[0m             \u001b[1;31m# \"Union[str, PathLike[str], ReadCsvBuffer[bytes], ReadCsvBuffer[str]]\"\u001b[0m\u001b[1;33m\u001b[0m\u001b[1;33m\u001b[0m\u001b[1;33m\u001b[0m\u001b[0m\n\u001b[0;32m   1216\u001b[0m             \u001b[1;31m# , \"str\", \"bool\", \"Any\", \"Any\", \"Any\", \"Any\", \"Any\"\u001b[0m\u001b[1;33m\u001b[0m\u001b[1;33m\u001b[0m\u001b[1;33m\u001b[0m\u001b[0m\n\u001b[1;32m-> 1217\u001b[1;33m             self.handles = get_handle(  # type: ignore[call-overload]\n\u001b[0m\u001b[0;32m   1218\u001b[0m                 \u001b[0mf\u001b[0m\u001b[1;33m,\u001b[0m\u001b[1;33m\u001b[0m\u001b[1;33m\u001b[0m\u001b[0m\n\u001b[0;32m   1219\u001b[0m                 \u001b[0mmode\u001b[0m\u001b[1;33m,\u001b[0m\u001b[1;33m\u001b[0m\u001b[1;33m\u001b[0m\u001b[0m\n",
      "\u001b[1;32m~\\AppData\\Roaming\\Python\\Python38\\site-packages\\pandas\\io\\common.py\u001b[0m in \u001b[0;36mget_handle\u001b[1;34m(path_or_buf, mode, encoding, compression, memory_map, is_text, errors, storage_options)\u001b[0m\n\u001b[0;32m    668\u001b[0m \u001b[1;33m\u001b[0m\u001b[0m\n\u001b[0;32m    669\u001b[0m     \u001b[1;31m# open URLs\u001b[0m\u001b[1;33m\u001b[0m\u001b[1;33m\u001b[0m\u001b[1;33m\u001b[0m\u001b[0m\n\u001b[1;32m--> 670\u001b[1;33m     ioargs = _get_filepath_or_buffer(\n\u001b[0m\u001b[0;32m    671\u001b[0m         \u001b[0mpath_or_buf\u001b[0m\u001b[1;33m,\u001b[0m\u001b[1;33m\u001b[0m\u001b[1;33m\u001b[0m\u001b[0m\n\u001b[0;32m    672\u001b[0m         \u001b[0mencoding\u001b[0m\u001b[1;33m=\u001b[0m\u001b[0mencoding\u001b[0m\u001b[1;33m,\u001b[0m\u001b[1;33m\u001b[0m\u001b[1;33m\u001b[0m\u001b[0m\n",
      "\u001b[1;32m~\\AppData\\Roaming\\Python\\Python38\\site-packages\\pandas\\io\\common.py\u001b[0m in \u001b[0;36m_get_filepath_or_buffer\u001b[1;34m(filepath_or_buffer, encoding, compression, mode, storage_options)\u001b[0m\n\u001b[0;32m    337\u001b[0m         \u001b[1;31m# assuming storage_options is to be interpreted as headers\u001b[0m\u001b[1;33m\u001b[0m\u001b[1;33m\u001b[0m\u001b[1;33m\u001b[0m\u001b[0m\n\u001b[0;32m    338\u001b[0m         \u001b[0mreq_info\u001b[0m \u001b[1;33m=\u001b[0m \u001b[0murllib\u001b[0m\u001b[1;33m.\u001b[0m\u001b[0mrequest\u001b[0m\u001b[1;33m.\u001b[0m\u001b[0mRequest\u001b[0m\u001b[1;33m(\u001b[0m\u001b[0mfilepath_or_buffer\u001b[0m\u001b[1;33m,\u001b[0m \u001b[0mheaders\u001b[0m\u001b[1;33m=\u001b[0m\u001b[0mstorage_options\u001b[0m\u001b[1;33m)\u001b[0m\u001b[1;33m\u001b[0m\u001b[1;33m\u001b[0m\u001b[0m\n\u001b[1;32m--> 339\u001b[1;33m         \u001b[1;32mwith\u001b[0m \u001b[0murlopen\u001b[0m\u001b[1;33m(\u001b[0m\u001b[0mreq_info\u001b[0m\u001b[1;33m)\u001b[0m \u001b[1;32mas\u001b[0m \u001b[0mreq\u001b[0m\u001b[1;33m:\u001b[0m\u001b[1;33m\u001b[0m\u001b[1;33m\u001b[0m\u001b[0m\n\u001b[0m\u001b[0;32m    340\u001b[0m             \u001b[0mcontent_encoding\u001b[0m \u001b[1;33m=\u001b[0m \u001b[0mreq\u001b[0m\u001b[1;33m.\u001b[0m\u001b[0mheaders\u001b[0m\u001b[1;33m.\u001b[0m\u001b[0mget\u001b[0m\u001b[1;33m(\u001b[0m\u001b[1;34m\"Content-Encoding\"\u001b[0m\u001b[1;33m,\u001b[0m \u001b[1;32mNone\u001b[0m\u001b[1;33m)\u001b[0m\u001b[1;33m\u001b[0m\u001b[1;33m\u001b[0m\u001b[0m\n\u001b[0;32m    341\u001b[0m             \u001b[1;32mif\u001b[0m \u001b[0mcontent_encoding\u001b[0m \u001b[1;33m==\u001b[0m \u001b[1;34m\"gzip\"\u001b[0m\u001b[1;33m:\u001b[0m\u001b[1;33m\u001b[0m\u001b[1;33m\u001b[0m\u001b[0m\n",
      "\u001b[1;32m~\\AppData\\Roaming\\Python\\Python38\\site-packages\\pandas\\io\\common.py\u001b[0m in \u001b[0;36murlopen\u001b[1;34m(*args, **kwargs)\u001b[0m\n\u001b[0;32m    237\u001b[0m     \u001b[1;32mimport\u001b[0m \u001b[0murllib\u001b[0m\u001b[1;33m.\u001b[0m\u001b[0mrequest\u001b[0m\u001b[1;33m\u001b[0m\u001b[1;33m\u001b[0m\u001b[0m\n\u001b[0;32m    238\u001b[0m \u001b[1;33m\u001b[0m\u001b[0m\n\u001b[1;32m--> 239\u001b[1;33m     \u001b[1;32mreturn\u001b[0m \u001b[0murllib\u001b[0m\u001b[1;33m.\u001b[0m\u001b[0mrequest\u001b[0m\u001b[1;33m.\u001b[0m\u001b[0murlopen\u001b[0m\u001b[1;33m(\u001b[0m\u001b[1;33m*\u001b[0m\u001b[0margs\u001b[0m\u001b[1;33m,\u001b[0m \u001b[1;33m**\u001b[0m\u001b[0mkwargs\u001b[0m\u001b[1;33m)\u001b[0m\u001b[1;33m\u001b[0m\u001b[1;33m\u001b[0m\u001b[0m\n\u001b[0m\u001b[0;32m    240\u001b[0m \u001b[1;33m\u001b[0m\u001b[0m\n\u001b[0;32m    241\u001b[0m \u001b[1;33m\u001b[0m\u001b[0m\n",
      "\u001b[1;32mC:\\ProgramData\\Anaconda3\\lib\\urllib\\request.py\u001b[0m in \u001b[0;36murlopen\u001b[1;34m(url, data, timeout, cafile, capath, cadefault, context)\u001b[0m\n\u001b[0;32m    220\u001b[0m     \u001b[1;32melse\u001b[0m\u001b[1;33m:\u001b[0m\u001b[1;33m\u001b[0m\u001b[1;33m\u001b[0m\u001b[0m\n\u001b[0;32m    221\u001b[0m         \u001b[0mopener\u001b[0m \u001b[1;33m=\u001b[0m \u001b[0m_opener\u001b[0m\u001b[1;33m\u001b[0m\u001b[1;33m\u001b[0m\u001b[0m\n\u001b[1;32m--> 222\u001b[1;33m     \u001b[1;32mreturn\u001b[0m \u001b[0mopener\u001b[0m\u001b[1;33m.\u001b[0m\u001b[0mopen\u001b[0m\u001b[1;33m(\u001b[0m\u001b[0murl\u001b[0m\u001b[1;33m,\u001b[0m \u001b[0mdata\u001b[0m\u001b[1;33m,\u001b[0m \u001b[0mtimeout\u001b[0m\u001b[1;33m)\u001b[0m\u001b[1;33m\u001b[0m\u001b[1;33m\u001b[0m\u001b[0m\n\u001b[0m\u001b[0;32m    223\u001b[0m \u001b[1;33m\u001b[0m\u001b[0m\n\u001b[0;32m    224\u001b[0m \u001b[1;32mdef\u001b[0m \u001b[0minstall_opener\u001b[0m\u001b[1;33m(\u001b[0m\u001b[0mopener\u001b[0m\u001b[1;33m)\u001b[0m\u001b[1;33m:\u001b[0m\u001b[1;33m\u001b[0m\u001b[1;33m\u001b[0m\u001b[0m\n",
      "\u001b[1;32mC:\\ProgramData\\Anaconda3\\lib\\urllib\\request.py\u001b[0m in \u001b[0;36mopen\u001b[1;34m(self, fullurl, data, timeout)\u001b[0m\n\u001b[0;32m    523\u001b[0m \u001b[1;33m\u001b[0m\u001b[0m\n\u001b[0;32m    524\u001b[0m         \u001b[0msys\u001b[0m\u001b[1;33m.\u001b[0m\u001b[0maudit\u001b[0m\u001b[1;33m(\u001b[0m\u001b[1;34m'urllib.Request'\u001b[0m\u001b[1;33m,\u001b[0m \u001b[0mreq\u001b[0m\u001b[1;33m.\u001b[0m\u001b[0mfull_url\u001b[0m\u001b[1;33m,\u001b[0m \u001b[0mreq\u001b[0m\u001b[1;33m.\u001b[0m\u001b[0mdata\u001b[0m\u001b[1;33m,\u001b[0m \u001b[0mreq\u001b[0m\u001b[1;33m.\u001b[0m\u001b[0mheaders\u001b[0m\u001b[1;33m,\u001b[0m \u001b[0mreq\u001b[0m\u001b[1;33m.\u001b[0m\u001b[0mget_method\u001b[0m\u001b[1;33m(\u001b[0m\u001b[1;33m)\u001b[0m\u001b[1;33m)\u001b[0m\u001b[1;33m\u001b[0m\u001b[1;33m\u001b[0m\u001b[0m\n\u001b[1;32m--> 525\u001b[1;33m         \u001b[0mresponse\u001b[0m \u001b[1;33m=\u001b[0m \u001b[0mself\u001b[0m\u001b[1;33m.\u001b[0m\u001b[0m_open\u001b[0m\u001b[1;33m(\u001b[0m\u001b[0mreq\u001b[0m\u001b[1;33m,\u001b[0m \u001b[0mdata\u001b[0m\u001b[1;33m)\u001b[0m\u001b[1;33m\u001b[0m\u001b[1;33m\u001b[0m\u001b[0m\n\u001b[0m\u001b[0;32m    526\u001b[0m \u001b[1;33m\u001b[0m\u001b[0m\n\u001b[0;32m    527\u001b[0m         \u001b[1;31m# post-process response\u001b[0m\u001b[1;33m\u001b[0m\u001b[1;33m\u001b[0m\u001b[1;33m\u001b[0m\u001b[0m\n",
      "\u001b[1;32mC:\\ProgramData\\Anaconda3\\lib\\urllib\\request.py\u001b[0m in \u001b[0;36m_open\u001b[1;34m(self, req, data)\u001b[0m\n\u001b[0;32m    540\u001b[0m \u001b[1;33m\u001b[0m\u001b[0m\n\u001b[0;32m    541\u001b[0m         \u001b[0mprotocol\u001b[0m \u001b[1;33m=\u001b[0m \u001b[0mreq\u001b[0m\u001b[1;33m.\u001b[0m\u001b[0mtype\u001b[0m\u001b[1;33m\u001b[0m\u001b[1;33m\u001b[0m\u001b[0m\n\u001b[1;32m--> 542\u001b[1;33m         result = self._call_chain(self.handle_open, protocol, protocol +\n\u001b[0m\u001b[0;32m    543\u001b[0m                                   '_open', req)\n\u001b[0;32m    544\u001b[0m         \u001b[1;32mif\u001b[0m \u001b[0mresult\u001b[0m\u001b[1;33m:\u001b[0m\u001b[1;33m\u001b[0m\u001b[1;33m\u001b[0m\u001b[0m\n",
      "\u001b[1;32mC:\\ProgramData\\Anaconda3\\lib\\urllib\\request.py\u001b[0m in \u001b[0;36m_call_chain\u001b[1;34m(self, chain, kind, meth_name, *args)\u001b[0m\n\u001b[0;32m    500\u001b[0m         \u001b[1;32mfor\u001b[0m \u001b[0mhandler\u001b[0m \u001b[1;32min\u001b[0m \u001b[0mhandlers\u001b[0m\u001b[1;33m:\u001b[0m\u001b[1;33m\u001b[0m\u001b[1;33m\u001b[0m\u001b[0m\n\u001b[0;32m    501\u001b[0m             \u001b[0mfunc\u001b[0m \u001b[1;33m=\u001b[0m \u001b[0mgetattr\u001b[0m\u001b[1;33m(\u001b[0m\u001b[0mhandler\u001b[0m\u001b[1;33m,\u001b[0m \u001b[0mmeth_name\u001b[0m\u001b[1;33m)\u001b[0m\u001b[1;33m\u001b[0m\u001b[1;33m\u001b[0m\u001b[0m\n\u001b[1;32m--> 502\u001b[1;33m             \u001b[0mresult\u001b[0m \u001b[1;33m=\u001b[0m \u001b[0mfunc\u001b[0m\u001b[1;33m(\u001b[0m\u001b[1;33m*\u001b[0m\u001b[0margs\u001b[0m\u001b[1;33m)\u001b[0m\u001b[1;33m\u001b[0m\u001b[1;33m\u001b[0m\u001b[0m\n\u001b[0m\u001b[0;32m    503\u001b[0m             \u001b[1;32mif\u001b[0m \u001b[0mresult\u001b[0m \u001b[1;32mis\u001b[0m \u001b[1;32mnot\u001b[0m \u001b[1;32mNone\u001b[0m\u001b[1;33m:\u001b[0m\u001b[1;33m\u001b[0m\u001b[1;33m\u001b[0m\u001b[0m\n\u001b[0;32m    504\u001b[0m                 \u001b[1;32mreturn\u001b[0m \u001b[0mresult\u001b[0m\u001b[1;33m\u001b[0m\u001b[1;33m\u001b[0m\u001b[0m\n",
      "\u001b[1;32mC:\\ProgramData\\Anaconda3\\lib\\urllib\\request.py\u001b[0m in \u001b[0;36mhttps_open\u001b[1;34m(self, req)\u001b[0m\n\u001b[0;32m   1395\u001b[0m \u001b[1;33m\u001b[0m\u001b[0m\n\u001b[0;32m   1396\u001b[0m         \u001b[1;32mdef\u001b[0m \u001b[0mhttps_open\u001b[0m\u001b[1;33m(\u001b[0m\u001b[0mself\u001b[0m\u001b[1;33m,\u001b[0m \u001b[0mreq\u001b[0m\u001b[1;33m)\u001b[0m\u001b[1;33m:\u001b[0m\u001b[1;33m\u001b[0m\u001b[1;33m\u001b[0m\u001b[0m\n\u001b[1;32m-> 1397\u001b[1;33m             return self.do_open(http.client.HTTPSConnection, req,\n\u001b[0m\u001b[0;32m   1398\u001b[0m                 context=self._context, check_hostname=self._check_hostname)\n\u001b[0;32m   1399\u001b[0m \u001b[1;33m\u001b[0m\u001b[0m\n",
      "\u001b[1;32mC:\\ProgramData\\Anaconda3\\lib\\urllib\\request.py\u001b[0m in \u001b[0;36mdo_open\u001b[1;34m(self, http_class, req, **http_conn_args)\u001b[0m\n\u001b[0;32m   1356\u001b[0m             \u001b[1;32mexcept\u001b[0m \u001b[0mOSError\u001b[0m \u001b[1;32mas\u001b[0m \u001b[0merr\u001b[0m\u001b[1;33m:\u001b[0m \u001b[1;31m# timeout error\u001b[0m\u001b[1;33m\u001b[0m\u001b[1;33m\u001b[0m\u001b[0m\n\u001b[0;32m   1357\u001b[0m                 \u001b[1;32mraise\u001b[0m \u001b[0mURLError\u001b[0m\u001b[1;33m(\u001b[0m\u001b[0merr\u001b[0m\u001b[1;33m)\u001b[0m\u001b[1;33m\u001b[0m\u001b[1;33m\u001b[0m\u001b[0m\n\u001b[1;32m-> 1358\u001b[1;33m             \u001b[0mr\u001b[0m \u001b[1;33m=\u001b[0m \u001b[0mh\u001b[0m\u001b[1;33m.\u001b[0m\u001b[0mgetresponse\u001b[0m\u001b[1;33m(\u001b[0m\u001b[1;33m)\u001b[0m\u001b[1;33m\u001b[0m\u001b[1;33m\u001b[0m\u001b[0m\n\u001b[0m\u001b[0;32m   1359\u001b[0m         \u001b[1;32mexcept\u001b[0m\u001b[1;33m:\u001b[0m\u001b[1;33m\u001b[0m\u001b[1;33m\u001b[0m\u001b[0m\n\u001b[0;32m   1360\u001b[0m             \u001b[0mh\u001b[0m\u001b[1;33m.\u001b[0m\u001b[0mclose\u001b[0m\u001b[1;33m(\u001b[0m\u001b[1;33m)\u001b[0m\u001b[1;33m\u001b[0m\u001b[1;33m\u001b[0m\u001b[0m\n",
      "\u001b[1;32mC:\\ProgramData\\Anaconda3\\lib\\http\\client.py\u001b[0m in \u001b[0;36mgetresponse\u001b[1;34m(self)\u001b[0m\n\u001b[0;32m   1345\u001b[0m         \u001b[1;32mtry\u001b[0m\u001b[1;33m:\u001b[0m\u001b[1;33m\u001b[0m\u001b[1;33m\u001b[0m\u001b[0m\n\u001b[0;32m   1346\u001b[0m             \u001b[1;32mtry\u001b[0m\u001b[1;33m:\u001b[0m\u001b[1;33m\u001b[0m\u001b[1;33m\u001b[0m\u001b[0m\n\u001b[1;32m-> 1347\u001b[1;33m                 \u001b[0mresponse\u001b[0m\u001b[1;33m.\u001b[0m\u001b[0mbegin\u001b[0m\u001b[1;33m(\u001b[0m\u001b[1;33m)\u001b[0m\u001b[1;33m\u001b[0m\u001b[1;33m\u001b[0m\u001b[0m\n\u001b[0m\u001b[0;32m   1348\u001b[0m             \u001b[1;32mexcept\u001b[0m \u001b[0mConnectionError\u001b[0m\u001b[1;33m:\u001b[0m\u001b[1;33m\u001b[0m\u001b[1;33m\u001b[0m\u001b[0m\n\u001b[0;32m   1349\u001b[0m                 \u001b[0mself\u001b[0m\u001b[1;33m.\u001b[0m\u001b[0mclose\u001b[0m\u001b[1;33m(\u001b[0m\u001b[1;33m)\u001b[0m\u001b[1;33m\u001b[0m\u001b[1;33m\u001b[0m\u001b[0m\n",
      "\u001b[1;32mC:\\ProgramData\\Anaconda3\\lib\\http\\client.py\u001b[0m in \u001b[0;36mbegin\u001b[1;34m(self)\u001b[0m\n\u001b[0;32m    305\u001b[0m         \u001b[1;31m# read until we get a non-100 response\u001b[0m\u001b[1;33m\u001b[0m\u001b[1;33m\u001b[0m\u001b[1;33m\u001b[0m\u001b[0m\n\u001b[0;32m    306\u001b[0m         \u001b[1;32mwhile\u001b[0m \u001b[1;32mTrue\u001b[0m\u001b[1;33m:\u001b[0m\u001b[1;33m\u001b[0m\u001b[1;33m\u001b[0m\u001b[0m\n\u001b[1;32m--> 307\u001b[1;33m             \u001b[0mversion\u001b[0m\u001b[1;33m,\u001b[0m \u001b[0mstatus\u001b[0m\u001b[1;33m,\u001b[0m \u001b[0mreason\u001b[0m \u001b[1;33m=\u001b[0m \u001b[0mself\u001b[0m\u001b[1;33m.\u001b[0m\u001b[0m_read_status\u001b[0m\u001b[1;33m(\u001b[0m\u001b[1;33m)\u001b[0m\u001b[1;33m\u001b[0m\u001b[1;33m\u001b[0m\u001b[0m\n\u001b[0m\u001b[0;32m    308\u001b[0m             \u001b[1;32mif\u001b[0m \u001b[0mstatus\u001b[0m \u001b[1;33m!=\u001b[0m \u001b[0mCONTINUE\u001b[0m\u001b[1;33m:\u001b[0m\u001b[1;33m\u001b[0m\u001b[1;33m\u001b[0m\u001b[0m\n\u001b[0;32m    309\u001b[0m                 \u001b[1;32mbreak\u001b[0m\u001b[1;33m\u001b[0m\u001b[1;33m\u001b[0m\u001b[0m\n",
      "\u001b[1;32mC:\\ProgramData\\Anaconda3\\lib\\http\\client.py\u001b[0m in \u001b[0;36m_read_status\u001b[1;34m(self)\u001b[0m\n\u001b[0;32m    266\u001b[0m \u001b[1;33m\u001b[0m\u001b[0m\n\u001b[0;32m    267\u001b[0m     \u001b[1;32mdef\u001b[0m \u001b[0m_read_status\u001b[0m\u001b[1;33m(\u001b[0m\u001b[0mself\u001b[0m\u001b[1;33m)\u001b[0m\u001b[1;33m:\u001b[0m\u001b[1;33m\u001b[0m\u001b[1;33m\u001b[0m\u001b[0m\n\u001b[1;32m--> 268\u001b[1;33m         \u001b[0mline\u001b[0m \u001b[1;33m=\u001b[0m \u001b[0mstr\u001b[0m\u001b[1;33m(\u001b[0m\u001b[0mself\u001b[0m\u001b[1;33m.\u001b[0m\u001b[0mfp\u001b[0m\u001b[1;33m.\u001b[0m\u001b[0mreadline\u001b[0m\u001b[1;33m(\u001b[0m\u001b[0m_MAXLINE\u001b[0m \u001b[1;33m+\u001b[0m \u001b[1;36m1\u001b[0m\u001b[1;33m)\u001b[0m\u001b[1;33m,\u001b[0m \u001b[1;34m\"iso-8859-1\"\u001b[0m\u001b[1;33m)\u001b[0m\u001b[1;33m\u001b[0m\u001b[1;33m\u001b[0m\u001b[0m\n\u001b[0m\u001b[0;32m    269\u001b[0m         \u001b[1;32mif\u001b[0m \u001b[0mlen\u001b[0m\u001b[1;33m(\u001b[0m\u001b[0mline\u001b[0m\u001b[1;33m)\u001b[0m \u001b[1;33m>\u001b[0m \u001b[0m_MAXLINE\u001b[0m\u001b[1;33m:\u001b[0m\u001b[1;33m\u001b[0m\u001b[1;33m\u001b[0m\u001b[0m\n\u001b[0;32m    270\u001b[0m             \u001b[1;32mraise\u001b[0m \u001b[0mLineTooLong\u001b[0m\u001b[1;33m(\u001b[0m\u001b[1;34m\"status line\"\u001b[0m\u001b[1;33m)\u001b[0m\u001b[1;33m\u001b[0m\u001b[1;33m\u001b[0m\u001b[0m\n",
      "\u001b[1;32mC:\\ProgramData\\Anaconda3\\lib\\socket.py\u001b[0m in \u001b[0;36mreadinto\u001b[1;34m(self, b)\u001b[0m\n\u001b[0;32m    667\u001b[0m         \u001b[1;32mwhile\u001b[0m \u001b[1;32mTrue\u001b[0m\u001b[1;33m:\u001b[0m\u001b[1;33m\u001b[0m\u001b[1;33m\u001b[0m\u001b[0m\n\u001b[0;32m    668\u001b[0m             \u001b[1;32mtry\u001b[0m\u001b[1;33m:\u001b[0m\u001b[1;33m\u001b[0m\u001b[1;33m\u001b[0m\u001b[0m\n\u001b[1;32m--> 669\u001b[1;33m                 \u001b[1;32mreturn\u001b[0m \u001b[0mself\u001b[0m\u001b[1;33m.\u001b[0m\u001b[0m_sock\u001b[0m\u001b[1;33m.\u001b[0m\u001b[0mrecv_into\u001b[0m\u001b[1;33m(\u001b[0m\u001b[0mb\u001b[0m\u001b[1;33m)\u001b[0m\u001b[1;33m\u001b[0m\u001b[1;33m\u001b[0m\u001b[0m\n\u001b[0m\u001b[0;32m    670\u001b[0m             \u001b[1;32mexcept\u001b[0m \u001b[0mtimeout\u001b[0m\u001b[1;33m:\u001b[0m\u001b[1;33m\u001b[0m\u001b[1;33m\u001b[0m\u001b[0m\n\u001b[0;32m    671\u001b[0m                 \u001b[0mself\u001b[0m\u001b[1;33m.\u001b[0m\u001b[0m_timeout_occurred\u001b[0m \u001b[1;33m=\u001b[0m \u001b[1;32mTrue\u001b[0m\u001b[1;33m\u001b[0m\u001b[1;33m\u001b[0m\u001b[0m\n",
      "\u001b[1;32mC:\\ProgramData\\Anaconda3\\lib\\ssl.py\u001b[0m in \u001b[0;36mrecv_into\u001b[1;34m(self, buffer, nbytes, flags)\u001b[0m\n\u001b[0;32m   1239\u001b[0m                   \u001b[1;34m\"non-zero flags not allowed in calls to recv_into() on %s\"\u001b[0m \u001b[1;33m%\u001b[0m\u001b[1;33m\u001b[0m\u001b[1;33m\u001b[0m\u001b[0m\n\u001b[0;32m   1240\u001b[0m                   self.__class__)\n\u001b[1;32m-> 1241\u001b[1;33m             \u001b[1;32mreturn\u001b[0m \u001b[0mself\u001b[0m\u001b[1;33m.\u001b[0m\u001b[0mread\u001b[0m\u001b[1;33m(\u001b[0m\u001b[0mnbytes\u001b[0m\u001b[1;33m,\u001b[0m \u001b[0mbuffer\u001b[0m\u001b[1;33m)\u001b[0m\u001b[1;33m\u001b[0m\u001b[1;33m\u001b[0m\u001b[0m\n\u001b[0m\u001b[0;32m   1242\u001b[0m         \u001b[1;32melse\u001b[0m\u001b[1;33m:\u001b[0m\u001b[1;33m\u001b[0m\u001b[1;33m\u001b[0m\u001b[0m\n\u001b[0;32m   1243\u001b[0m             \u001b[1;32mreturn\u001b[0m \u001b[0msuper\u001b[0m\u001b[1;33m(\u001b[0m\u001b[1;33m)\u001b[0m\u001b[1;33m.\u001b[0m\u001b[0mrecv_into\u001b[0m\u001b[1;33m(\u001b[0m\u001b[0mbuffer\u001b[0m\u001b[1;33m,\u001b[0m \u001b[0mnbytes\u001b[0m\u001b[1;33m,\u001b[0m \u001b[0mflags\u001b[0m\u001b[1;33m)\u001b[0m\u001b[1;33m\u001b[0m\u001b[1;33m\u001b[0m\u001b[0m\n",
      "\u001b[1;32mC:\\ProgramData\\Anaconda3\\lib\\ssl.py\u001b[0m in \u001b[0;36mread\u001b[1;34m(self, len, buffer)\u001b[0m\n\u001b[0;32m   1097\u001b[0m         \u001b[1;32mtry\u001b[0m\u001b[1;33m:\u001b[0m\u001b[1;33m\u001b[0m\u001b[1;33m\u001b[0m\u001b[0m\n\u001b[0;32m   1098\u001b[0m             \u001b[1;32mif\u001b[0m \u001b[0mbuffer\u001b[0m \u001b[1;32mis\u001b[0m \u001b[1;32mnot\u001b[0m \u001b[1;32mNone\u001b[0m\u001b[1;33m:\u001b[0m\u001b[1;33m\u001b[0m\u001b[1;33m\u001b[0m\u001b[0m\n\u001b[1;32m-> 1099\u001b[1;33m                 \u001b[1;32mreturn\u001b[0m \u001b[0mself\u001b[0m\u001b[1;33m.\u001b[0m\u001b[0m_sslobj\u001b[0m\u001b[1;33m.\u001b[0m\u001b[0mread\u001b[0m\u001b[1;33m(\u001b[0m\u001b[0mlen\u001b[0m\u001b[1;33m,\u001b[0m \u001b[0mbuffer\u001b[0m\u001b[1;33m)\u001b[0m\u001b[1;33m\u001b[0m\u001b[1;33m\u001b[0m\u001b[0m\n\u001b[0m\u001b[0;32m   1100\u001b[0m             \u001b[1;32melse\u001b[0m\u001b[1;33m:\u001b[0m\u001b[1;33m\u001b[0m\u001b[1;33m\u001b[0m\u001b[0m\n\u001b[0;32m   1101\u001b[0m                 \u001b[1;32mreturn\u001b[0m \u001b[0mself\u001b[0m\u001b[1;33m.\u001b[0m\u001b[0m_sslobj\u001b[0m\u001b[1;33m.\u001b[0m\u001b[0mread\u001b[0m\u001b[1;33m(\u001b[0m\u001b[0mlen\u001b[0m\u001b[1;33m)\u001b[0m\u001b[1;33m\u001b[0m\u001b[1;33m\u001b[0m\u001b[0m\n",
      "\u001b[1;31mKeyboardInterrupt\u001b[0m: "
     ]
    }
   ],
   "source": [
    "pip_complete = pd.DataFrame()\n",
    "\n",
    "for i in np.arange(0,200.1,0.1):\n",
    "    country = \"all\" #ISO3 codes\n",
    "    year = \"all\" #YYYY\n",
    "    povline = i #Number, dollars\n",
    "    formatfile = \"csv\" #json, csv, rds\n",
    "    fill_gaps = \"true\" #Interpolate/extrapolate, boolean\n",
    "    welfare_type = \"all\" #Welfare measure: all, consumption, income\n",
    "    reporting_level = \"all\" #Reporting coverage: all, national, rural, urban\n",
    "    #popshare = 0.1 #Proportion of the population living below the poverty line. Will be ignored if povline is specified\n",
    "\n",
    "    #version #pip/v1/versions defaults to most recent version\n",
    "\n",
    "    pip_path = \"https://api.worldbank.org/pip/v1/pip?\" + \"country=\" + country + \"&year=\" + year + \"&povline=\" + str(povline) + \"&format=\" + formatfile + \"&fill_gaps=\" + fill_gaps + \"&welfare_type=\" + welfare_type + \"&reporting_level=\" + reporting_level #+ \"&popshare=\" + str(popshare)\n",
    "    #pip_path = \"https://api.worldbank.org/pip/v1/pip?country=all&year=all&povline=1.9&format=csv&fill_gaps=true\" #orignal version\n",
    "\n",
    "    pip = pd.read_csv(pip_path)\n",
    "    pip2['pl_check'] = pip2['poverty_line'] == i\n",
    "    \n",
    "    pip_complete = pd.concat([pip_complete, pip], ignore_index=True)"
   ]
  },
  {
   "cell_type": "code",
   "execution_count": 560,
   "id": "d4fbd7d0",
   "metadata": {},
   "outputs": [
    {
     "name": "stdout",
     "output_type": "stream",
     "text": [
      "--- 3613.6979591846466 seconds ---\n"
     ]
    }
   ],
   "source": [
    "#Example: one country\n",
    "start_time = time.time()\n",
    "\n",
    "pip_complete = pd.DataFrame()\n",
    "\n",
    "for i in np.arange(0,200.1,0.1):\n",
    "    country = \"CHL\" #ISO3 codes\n",
    "    year = \"all\" #YYYY\n",
    "    povline = i #Number, dollars\n",
    "    formatfile = \"csv\" #json, csv, rds\n",
    "    fill_gaps = \"true\" #Interpolate/extrapolate, boolean\n",
    "    welfare_type = \"all\" #Welfare measure: all, consumption, income\n",
    "    reporting_level = \"all\" #Reporting coverage: all, national, rural, urban\n",
    "    #popshare = 0.1 #Proportion of the population living below the poverty line. Will be ignored if povline is specified\n",
    "\n",
    "    #version #pip/v1/versions defaults to most recent version\n",
    "\n",
    "    pip_path = \"https://api.worldbank.org/pip/v1/pip?\" + \"country=\" + country + \"&year=\" + year + \"&povline=\" + str(povline) + \"&format=\" + formatfile + \"&fill_gaps=\" + fill_gaps + \"&welfare_type=\" + welfare_type + \"&reporting_level=\" + reporting_level #+ \"&popshare=\" + str(popshare)\n",
    "    #pip_path = \"https://api.worldbank.org/pip/v1/pip?country=all&year=all&povline=1.9&format=csv&fill_gaps=true\" #orignal version\n",
    "\n",
    "    pip = pd.read_csv(pip_path)\n",
    "    pip2['pl_check'] = pip2['poverty_line'] == i\n",
    "    \n",
    "    pip_complete = pd.concat([pip_complete, pip], ignore_index=True)\n",
    "    \n",
    "print(\"--- %s seconds ---\" % (time.time() - start_time)) #Printing the running time"
   ]
  },
  {
   "cell_type": "code",
   "execution_count": 561,
   "id": "7fb0e13e",
   "metadata": {},
   "outputs": [],
   "source": [
    "pip_complete_path = Path('data/pipchile.csv')\n",
    "pip_complete.to_csv(pip_complete_path, index=False)\n",
    "\n",
    "pip_complete_path = Path('data/pipchile.dta')\n",
    "pip_complete.to_stata(pip_complete_path, write_index=False)"
   ]
  },
  {
   "cell_type": "code",
   "execution_count": null,
   "id": "71ca2c3b",
   "metadata": {},
   "outputs": [],
   "source": [
    "pip_complete_path = Path('data/pip.csv')\n",
    "pip_complete.to_csv(pip_complete_path, index=False)"
   ]
  },
  {
   "cell_type": "code",
   "execution_count": null,
   "id": "fdb89cc8",
   "metadata": {},
   "outputs": [],
   "source": [
    "pip_complete_path = Path('data/pip.dta')\n",
    "pip_complete.to_stata(pip_complete_path, write_index=False)"
   ]
  },
  {
   "cell_type": "code",
   "execution_count": null,
   "id": "e86d6793",
   "metadata": {},
   "outputs": [],
   "source": []
  },
  {
   "cell_type": "markdown",
   "id": "8f2ddd5a",
   "metadata": {},
   "source": [
    "## Consistency test\n",
    "PovcalNet used to show different results from the input. This is checked here with PIP. The same file is generated 20 times:"
   ]
  },
  {
   "cell_type": "code",
   "execution_count": 539,
   "id": "e5de5db6",
   "metadata": {},
   "outputs": [
    {
     "name": "stdout",
     "output_type": "stream",
     "text": [
      "--- 63.452796936035156 seconds ---\n"
     ]
    }
   ],
   "source": [
    "start_time = time.time()\n",
    "\n",
    "for i in range(1,21):\n",
    "\n",
    "    country = \"all\" #ISO3 codes\n",
    "    year = \"all\" #YYYY\n",
    "    povline = 7.23 #Number, dollars\n",
    "    formatfile = \"csv\" #json, csv, rds\n",
    "    fill_gaps = \"true\" #Interpolate/extrapolate, boolean\n",
    "    welfare_type = \"all\" #Welfare measure: all, consumption, income\n",
    "    reporting_level = \"all\" #Reporting coverage: all, national, rural, urban\n",
    "    #popshare = 0.1 #Proportion of the population living below the poverty line. Will be ignored if povline is specified\n",
    "\n",
    "    #version #pip/v1/versions defaults to most recent version\n",
    "\n",
    "    pip_path = \"https://api.worldbank.org/pip/v1/pip?\" + \"country=\" + country + \"&year=\" + year + \"&povline=\" + str(povline) + \"&format=\" + formatfile + \"&fill_gaps=\" + fill_gaps + \"&welfare_type=\" + welfare_type + \"&reporting_level=\" + reporting_level #+ \"&popshare=\" + str(popshare)\n",
    "    #pip_path = \"https://api.worldbank.org/pip/v1/pip?country=all&year=all&povline=1.9&format=csv&fill_gaps=true\" #orignal version\n",
    "\n",
    "    pip = pd.read_csv(pip_path)\n",
    "    pip['pl_check'] = pip['poverty_line'] == povline\n",
    "    \n",
    "    Path('consistency_test/').mkdir(parents=True, exist_ok=True)\n",
    "    folder = Path('consistency_test/')\n",
    "    filename = 'pip' + str(i) + '.csv'\n",
    "    file = folder / filename\n",
    "    \n",
    "    pip.to_csv(file, index=False)\n",
    "    \n",
    "print(\"--- %s seconds ---\" % (time.time() - start_time)) #Printing the running time"
   ]
  },
  {
   "cell_type": "markdown",
   "id": "5761fdcb",
   "metadata": {},
   "source": [
    "The 20 files are loaded:"
   ]
  },
  {
   "cell_type": "code",
   "execution_count": 540,
   "id": "649312f9",
   "metadata": {},
   "outputs": [],
   "source": [
    "file = [Path('consistency_test/pip1.csv'),\n",
    "       Path('consistency_test/pip2.csv'),\n",
    "       Path('consistency_test/pip3.csv'),\n",
    "       Path('consistency_test/pip4.csv'),\n",
    "       Path('consistency_test/pip5.csv'),\n",
    "       Path('consistency_test/pip6.csv'),\n",
    "       Path('consistency_test/pip7.csv'),\n",
    "       Path('consistency_test/pip8.csv'),\n",
    "       Path('consistency_test/pip9.csv'),\n",
    "       Path('consistency_test/pip10.csv'),\n",
    "       Path('consistency_test/pip11.csv'),\n",
    "       Path('consistency_test/pip12.csv'),\n",
    "       Path('consistency_test/pip13.csv'),\n",
    "       Path('consistency_test/pip14.csv'),\n",
    "       Path('consistency_test/pip15.csv'),\n",
    "       Path('consistency_test/pip16.csv'),\n",
    "       Path('consistency_test/pip17.csv'),\n",
    "       Path('consistency_test/pip18.csv'),\n",
    "       Path('consistency_test/pip19.csv'),\n",
    "       Path('consistency_test/pip20.csv')]\n",
    "\n",
    "pip1,pip2,pip3,pip4,pip5,pip6,pip7,pip8,pip9,pip10,pip11,pip12,pip13,pip14,pip15,pip16,pip17,pip18,pip19,pip20 = [pd.read_csv(i) for i in file]\n"
   ]
  },
  {
   "cell_type": "markdown",
   "id": "c7fcddc0",
   "metadata": {},
   "source": [
    "And these 20 files are compared in pairs. If there is a dataframe generated with the difference it means not all the files are the same. It has not been the case with PIP. "
   ]
  },
  {
   "cell_type": "code",
   "execution_count": 541,
   "id": "01e599d1",
   "metadata": {},
   "outputs": [
    {
     "data": {
      "text/html": [
       "<div>\n",
       "<style scoped>\n",
       "    .dataframe tbody tr th:only-of-type {\n",
       "        vertical-align: middle;\n",
       "    }\n",
       "\n",
       "    .dataframe tbody tr th {\n",
       "        vertical-align: top;\n",
       "    }\n",
       "\n",
       "    .dataframe thead tr th {\n",
       "        text-align: left;\n",
       "    }\n",
       "</style>\n",
       "<table border=\"1\" class=\"dataframe\">\n",
       "  <thead>\n",
       "  </thead>\n",
       "  <tbody>\n",
       "  </tbody>\n",
       "</table>\n",
       "</div>"
      ],
      "text/plain": [
       "Empty DataFrame\n",
       "Columns: []\n",
       "Index: []"
      ]
     },
     "execution_count": 541,
     "metadata": {},
     "output_type": "execute_result"
    }
   ],
   "source": [
    "pip1.compare(pip2)"
   ]
  },
  {
   "cell_type": "code",
   "execution_count": 542,
   "id": "b334fecd",
   "metadata": {},
   "outputs": [
    {
     "data": {
      "text/html": [
       "<div>\n",
       "<style scoped>\n",
       "    .dataframe tbody tr th:only-of-type {\n",
       "        vertical-align: middle;\n",
       "    }\n",
       "\n",
       "    .dataframe tbody tr th {\n",
       "        vertical-align: top;\n",
       "    }\n",
       "\n",
       "    .dataframe thead tr th {\n",
       "        text-align: left;\n",
       "    }\n",
       "</style>\n",
       "<table border=\"1\" class=\"dataframe\">\n",
       "  <thead>\n",
       "  </thead>\n",
       "  <tbody>\n",
       "  </tbody>\n",
       "</table>\n",
       "</div>"
      ],
      "text/plain": [
       "Empty DataFrame\n",
       "Columns: []\n",
       "Index: []"
      ]
     },
     "execution_count": 542,
     "metadata": {},
     "output_type": "execute_result"
    }
   ],
   "source": [
    "pip2.compare(pip3)"
   ]
  },
  {
   "cell_type": "code",
   "execution_count": 543,
   "id": "8edd9b0f",
   "metadata": {},
   "outputs": [
    {
     "data": {
      "text/html": [
       "<div>\n",
       "<style scoped>\n",
       "    .dataframe tbody tr th:only-of-type {\n",
       "        vertical-align: middle;\n",
       "    }\n",
       "\n",
       "    .dataframe tbody tr th {\n",
       "        vertical-align: top;\n",
       "    }\n",
       "\n",
       "    .dataframe thead tr th {\n",
       "        text-align: left;\n",
       "    }\n",
       "</style>\n",
       "<table border=\"1\" class=\"dataframe\">\n",
       "  <thead>\n",
       "  </thead>\n",
       "  <tbody>\n",
       "  </tbody>\n",
       "</table>\n",
       "</div>"
      ],
      "text/plain": [
       "Empty DataFrame\n",
       "Columns: []\n",
       "Index: []"
      ]
     },
     "execution_count": 543,
     "metadata": {},
     "output_type": "execute_result"
    }
   ],
   "source": [
    "pip3.compare(pip4)"
   ]
  },
  {
   "cell_type": "code",
   "execution_count": 544,
   "id": "92be7a67",
   "metadata": {},
   "outputs": [
    {
     "data": {
      "text/html": [
       "<div>\n",
       "<style scoped>\n",
       "    .dataframe tbody tr th:only-of-type {\n",
       "        vertical-align: middle;\n",
       "    }\n",
       "\n",
       "    .dataframe tbody tr th {\n",
       "        vertical-align: top;\n",
       "    }\n",
       "\n",
       "    .dataframe thead tr th {\n",
       "        text-align: left;\n",
       "    }\n",
       "</style>\n",
       "<table border=\"1\" class=\"dataframe\">\n",
       "  <thead>\n",
       "  </thead>\n",
       "  <tbody>\n",
       "  </tbody>\n",
       "</table>\n",
       "</div>"
      ],
      "text/plain": [
       "Empty DataFrame\n",
       "Columns: []\n",
       "Index: []"
      ]
     },
     "execution_count": 544,
     "metadata": {},
     "output_type": "execute_result"
    }
   ],
   "source": [
    "pip4.compare(pip5)"
   ]
  },
  {
   "cell_type": "code",
   "execution_count": 545,
   "id": "273d6698",
   "metadata": {},
   "outputs": [
    {
     "data": {
      "text/html": [
       "<div>\n",
       "<style scoped>\n",
       "    .dataframe tbody tr th:only-of-type {\n",
       "        vertical-align: middle;\n",
       "    }\n",
       "\n",
       "    .dataframe tbody tr th {\n",
       "        vertical-align: top;\n",
       "    }\n",
       "\n",
       "    .dataframe thead tr th {\n",
       "        text-align: left;\n",
       "    }\n",
       "</style>\n",
       "<table border=\"1\" class=\"dataframe\">\n",
       "  <thead>\n",
       "  </thead>\n",
       "  <tbody>\n",
       "  </tbody>\n",
       "</table>\n",
       "</div>"
      ],
      "text/plain": [
       "Empty DataFrame\n",
       "Columns: []\n",
       "Index: []"
      ]
     },
     "execution_count": 545,
     "metadata": {},
     "output_type": "execute_result"
    }
   ],
   "source": [
    "pip5.compare(pip6)"
   ]
  },
  {
   "cell_type": "code",
   "execution_count": 546,
   "id": "c05f7b15",
   "metadata": {},
   "outputs": [
    {
     "data": {
      "text/html": [
       "<div>\n",
       "<style scoped>\n",
       "    .dataframe tbody tr th:only-of-type {\n",
       "        vertical-align: middle;\n",
       "    }\n",
       "\n",
       "    .dataframe tbody tr th {\n",
       "        vertical-align: top;\n",
       "    }\n",
       "\n",
       "    .dataframe thead tr th {\n",
       "        text-align: left;\n",
       "    }\n",
       "</style>\n",
       "<table border=\"1\" class=\"dataframe\">\n",
       "  <thead>\n",
       "  </thead>\n",
       "  <tbody>\n",
       "  </tbody>\n",
       "</table>\n",
       "</div>"
      ],
      "text/plain": [
       "Empty DataFrame\n",
       "Columns: []\n",
       "Index: []"
      ]
     },
     "execution_count": 546,
     "metadata": {},
     "output_type": "execute_result"
    }
   ],
   "source": [
    "pip6.compare(pip7)"
   ]
  },
  {
   "cell_type": "code",
   "execution_count": 547,
   "id": "c84973c5",
   "metadata": {},
   "outputs": [
    {
     "data": {
      "text/html": [
       "<div>\n",
       "<style scoped>\n",
       "    .dataframe tbody tr th:only-of-type {\n",
       "        vertical-align: middle;\n",
       "    }\n",
       "\n",
       "    .dataframe tbody tr th {\n",
       "        vertical-align: top;\n",
       "    }\n",
       "\n",
       "    .dataframe thead tr th {\n",
       "        text-align: left;\n",
       "    }\n",
       "</style>\n",
       "<table border=\"1\" class=\"dataframe\">\n",
       "  <thead>\n",
       "  </thead>\n",
       "  <tbody>\n",
       "  </tbody>\n",
       "</table>\n",
       "</div>"
      ],
      "text/plain": [
       "Empty DataFrame\n",
       "Columns: []\n",
       "Index: []"
      ]
     },
     "execution_count": 547,
     "metadata": {},
     "output_type": "execute_result"
    }
   ],
   "source": [
    "pip7.compare(pip8)"
   ]
  },
  {
   "cell_type": "code",
   "execution_count": 548,
   "id": "2cdd49fc",
   "metadata": {},
   "outputs": [
    {
     "data": {
      "text/html": [
       "<div>\n",
       "<style scoped>\n",
       "    .dataframe tbody tr th:only-of-type {\n",
       "        vertical-align: middle;\n",
       "    }\n",
       "\n",
       "    .dataframe tbody tr th {\n",
       "        vertical-align: top;\n",
       "    }\n",
       "\n",
       "    .dataframe thead tr th {\n",
       "        text-align: left;\n",
       "    }\n",
       "</style>\n",
       "<table border=\"1\" class=\"dataframe\">\n",
       "  <thead>\n",
       "  </thead>\n",
       "  <tbody>\n",
       "  </tbody>\n",
       "</table>\n",
       "</div>"
      ],
      "text/plain": [
       "Empty DataFrame\n",
       "Columns: []\n",
       "Index: []"
      ]
     },
     "execution_count": 548,
     "metadata": {},
     "output_type": "execute_result"
    }
   ],
   "source": [
    "pip8.compare(pip9)"
   ]
  },
  {
   "cell_type": "code",
   "execution_count": 549,
   "id": "6dc24496",
   "metadata": {},
   "outputs": [
    {
     "data": {
      "text/html": [
       "<div>\n",
       "<style scoped>\n",
       "    .dataframe tbody tr th:only-of-type {\n",
       "        vertical-align: middle;\n",
       "    }\n",
       "\n",
       "    .dataframe tbody tr th {\n",
       "        vertical-align: top;\n",
       "    }\n",
       "\n",
       "    .dataframe thead tr th {\n",
       "        text-align: left;\n",
       "    }\n",
       "</style>\n",
       "<table border=\"1\" class=\"dataframe\">\n",
       "  <thead>\n",
       "  </thead>\n",
       "  <tbody>\n",
       "  </tbody>\n",
       "</table>\n",
       "</div>"
      ],
      "text/plain": [
       "Empty DataFrame\n",
       "Columns: []\n",
       "Index: []"
      ]
     },
     "execution_count": 549,
     "metadata": {},
     "output_type": "execute_result"
    }
   ],
   "source": [
    "pip9.compare(pip10)"
   ]
  },
  {
   "cell_type": "code",
   "execution_count": 550,
   "id": "b2b0f3c8",
   "metadata": {},
   "outputs": [
    {
     "data": {
      "text/html": [
       "<div>\n",
       "<style scoped>\n",
       "    .dataframe tbody tr th:only-of-type {\n",
       "        vertical-align: middle;\n",
       "    }\n",
       "\n",
       "    .dataframe tbody tr th {\n",
       "        vertical-align: top;\n",
       "    }\n",
       "\n",
       "    .dataframe thead tr th {\n",
       "        text-align: left;\n",
       "    }\n",
       "</style>\n",
       "<table border=\"1\" class=\"dataframe\">\n",
       "  <thead>\n",
       "  </thead>\n",
       "  <tbody>\n",
       "  </tbody>\n",
       "</table>\n",
       "</div>"
      ],
      "text/plain": [
       "Empty DataFrame\n",
       "Columns: []\n",
       "Index: []"
      ]
     },
     "execution_count": 550,
     "metadata": {},
     "output_type": "execute_result"
    }
   ],
   "source": [
    "pip10.compare(pip11)"
   ]
  },
  {
   "cell_type": "code",
   "execution_count": 551,
   "id": "e94c6a93",
   "metadata": {},
   "outputs": [
    {
     "data": {
      "text/html": [
       "<div>\n",
       "<style scoped>\n",
       "    .dataframe tbody tr th:only-of-type {\n",
       "        vertical-align: middle;\n",
       "    }\n",
       "\n",
       "    .dataframe tbody tr th {\n",
       "        vertical-align: top;\n",
       "    }\n",
       "\n",
       "    .dataframe thead tr th {\n",
       "        text-align: left;\n",
       "    }\n",
       "</style>\n",
       "<table border=\"1\" class=\"dataframe\">\n",
       "  <thead>\n",
       "  </thead>\n",
       "  <tbody>\n",
       "  </tbody>\n",
       "</table>\n",
       "</div>"
      ],
      "text/plain": [
       "Empty DataFrame\n",
       "Columns: []\n",
       "Index: []"
      ]
     },
     "execution_count": 551,
     "metadata": {},
     "output_type": "execute_result"
    }
   ],
   "source": [
    "pip11.compare(pip12)"
   ]
  },
  {
   "cell_type": "code",
   "execution_count": 552,
   "id": "1565dae4",
   "metadata": {},
   "outputs": [
    {
     "data": {
      "text/html": [
       "<div>\n",
       "<style scoped>\n",
       "    .dataframe tbody tr th:only-of-type {\n",
       "        vertical-align: middle;\n",
       "    }\n",
       "\n",
       "    .dataframe tbody tr th {\n",
       "        vertical-align: top;\n",
       "    }\n",
       "\n",
       "    .dataframe thead tr th {\n",
       "        text-align: left;\n",
       "    }\n",
       "</style>\n",
       "<table border=\"1\" class=\"dataframe\">\n",
       "  <thead>\n",
       "  </thead>\n",
       "  <tbody>\n",
       "  </tbody>\n",
       "</table>\n",
       "</div>"
      ],
      "text/plain": [
       "Empty DataFrame\n",
       "Columns: []\n",
       "Index: []"
      ]
     },
     "execution_count": 552,
     "metadata": {},
     "output_type": "execute_result"
    }
   ],
   "source": [
    "pip12.compare(pip13)"
   ]
  },
  {
   "cell_type": "code",
   "execution_count": 553,
   "id": "5f0e59c9",
   "metadata": {},
   "outputs": [
    {
     "data": {
      "text/html": [
       "<div>\n",
       "<style scoped>\n",
       "    .dataframe tbody tr th:only-of-type {\n",
       "        vertical-align: middle;\n",
       "    }\n",
       "\n",
       "    .dataframe tbody tr th {\n",
       "        vertical-align: top;\n",
       "    }\n",
       "\n",
       "    .dataframe thead tr th {\n",
       "        text-align: left;\n",
       "    }\n",
       "</style>\n",
       "<table border=\"1\" class=\"dataframe\">\n",
       "  <thead>\n",
       "  </thead>\n",
       "  <tbody>\n",
       "  </tbody>\n",
       "</table>\n",
       "</div>"
      ],
      "text/plain": [
       "Empty DataFrame\n",
       "Columns: []\n",
       "Index: []"
      ]
     },
     "execution_count": 553,
     "metadata": {},
     "output_type": "execute_result"
    }
   ],
   "source": [
    "pip13.compare(pip14)"
   ]
  },
  {
   "cell_type": "code",
   "execution_count": 554,
   "id": "12634bfc",
   "metadata": {},
   "outputs": [
    {
     "data": {
      "text/html": [
       "<div>\n",
       "<style scoped>\n",
       "    .dataframe tbody tr th:only-of-type {\n",
       "        vertical-align: middle;\n",
       "    }\n",
       "\n",
       "    .dataframe tbody tr th {\n",
       "        vertical-align: top;\n",
       "    }\n",
       "\n",
       "    .dataframe thead tr th {\n",
       "        text-align: left;\n",
       "    }\n",
       "</style>\n",
       "<table border=\"1\" class=\"dataframe\">\n",
       "  <thead>\n",
       "  </thead>\n",
       "  <tbody>\n",
       "  </tbody>\n",
       "</table>\n",
       "</div>"
      ],
      "text/plain": [
       "Empty DataFrame\n",
       "Columns: []\n",
       "Index: []"
      ]
     },
     "execution_count": 554,
     "metadata": {},
     "output_type": "execute_result"
    }
   ],
   "source": [
    "pip14.compare(pip15)"
   ]
  },
  {
   "cell_type": "code",
   "execution_count": 555,
   "id": "038ef7b4",
   "metadata": {},
   "outputs": [
    {
     "data": {
      "text/html": [
       "<div>\n",
       "<style scoped>\n",
       "    .dataframe tbody tr th:only-of-type {\n",
       "        vertical-align: middle;\n",
       "    }\n",
       "\n",
       "    .dataframe tbody tr th {\n",
       "        vertical-align: top;\n",
       "    }\n",
       "\n",
       "    .dataframe thead tr th {\n",
       "        text-align: left;\n",
       "    }\n",
       "</style>\n",
       "<table border=\"1\" class=\"dataframe\">\n",
       "  <thead>\n",
       "  </thead>\n",
       "  <tbody>\n",
       "  </tbody>\n",
       "</table>\n",
       "</div>"
      ],
      "text/plain": [
       "Empty DataFrame\n",
       "Columns: []\n",
       "Index: []"
      ]
     },
     "execution_count": 555,
     "metadata": {},
     "output_type": "execute_result"
    }
   ],
   "source": [
    "pip15.compare(pip16)"
   ]
  },
  {
   "cell_type": "code",
   "execution_count": 556,
   "id": "94ba5764",
   "metadata": {},
   "outputs": [
    {
     "data": {
      "text/html": [
       "<div>\n",
       "<style scoped>\n",
       "    .dataframe tbody tr th:only-of-type {\n",
       "        vertical-align: middle;\n",
       "    }\n",
       "\n",
       "    .dataframe tbody tr th {\n",
       "        vertical-align: top;\n",
       "    }\n",
       "\n",
       "    .dataframe thead tr th {\n",
       "        text-align: left;\n",
       "    }\n",
       "</style>\n",
       "<table border=\"1\" class=\"dataframe\">\n",
       "  <thead>\n",
       "  </thead>\n",
       "  <tbody>\n",
       "  </tbody>\n",
       "</table>\n",
       "</div>"
      ],
      "text/plain": [
       "Empty DataFrame\n",
       "Columns: []\n",
       "Index: []"
      ]
     },
     "execution_count": 556,
     "metadata": {},
     "output_type": "execute_result"
    }
   ],
   "source": [
    "pip16.compare(pip17)"
   ]
  },
  {
   "cell_type": "code",
   "execution_count": 557,
   "id": "c0bcc975",
   "metadata": {},
   "outputs": [
    {
     "data": {
      "text/html": [
       "<div>\n",
       "<style scoped>\n",
       "    .dataframe tbody tr th:only-of-type {\n",
       "        vertical-align: middle;\n",
       "    }\n",
       "\n",
       "    .dataframe tbody tr th {\n",
       "        vertical-align: top;\n",
       "    }\n",
       "\n",
       "    .dataframe thead tr th {\n",
       "        text-align: left;\n",
       "    }\n",
       "</style>\n",
       "<table border=\"1\" class=\"dataframe\">\n",
       "  <thead>\n",
       "  </thead>\n",
       "  <tbody>\n",
       "  </tbody>\n",
       "</table>\n",
       "</div>"
      ],
      "text/plain": [
       "Empty DataFrame\n",
       "Columns: []\n",
       "Index: []"
      ]
     },
     "execution_count": 557,
     "metadata": {},
     "output_type": "execute_result"
    }
   ],
   "source": [
    "pip17.compare(pip18)"
   ]
  },
  {
   "cell_type": "code",
   "execution_count": 558,
   "id": "ce63b90c",
   "metadata": {},
   "outputs": [
    {
     "data": {
      "text/html": [
       "<div>\n",
       "<style scoped>\n",
       "    .dataframe tbody tr th:only-of-type {\n",
       "        vertical-align: middle;\n",
       "    }\n",
       "\n",
       "    .dataframe tbody tr th {\n",
       "        vertical-align: top;\n",
       "    }\n",
       "\n",
       "    .dataframe thead tr th {\n",
       "        text-align: left;\n",
       "    }\n",
       "</style>\n",
       "<table border=\"1\" class=\"dataframe\">\n",
       "  <thead>\n",
       "  </thead>\n",
       "  <tbody>\n",
       "  </tbody>\n",
       "</table>\n",
       "</div>"
      ],
      "text/plain": [
       "Empty DataFrame\n",
       "Columns: []\n",
       "Index: []"
      ]
     },
     "execution_count": 558,
     "metadata": {},
     "output_type": "execute_result"
    }
   ],
   "source": [
    "pip18.compare(pip19)"
   ]
  },
  {
   "cell_type": "code",
   "execution_count": 559,
   "id": "5c556405",
   "metadata": {},
   "outputs": [
    {
     "data": {
      "text/html": [
       "<div>\n",
       "<style scoped>\n",
       "    .dataframe tbody tr th:only-of-type {\n",
       "        vertical-align: middle;\n",
       "    }\n",
       "\n",
       "    .dataframe tbody tr th {\n",
       "        vertical-align: top;\n",
       "    }\n",
       "\n",
       "    .dataframe thead tr th {\n",
       "        text-align: left;\n",
       "    }\n",
       "</style>\n",
       "<table border=\"1\" class=\"dataframe\">\n",
       "  <thead>\n",
       "  </thead>\n",
       "  <tbody>\n",
       "  </tbody>\n",
       "</table>\n",
       "</div>"
      ],
      "text/plain": [
       "Empty DataFrame\n",
       "Columns: []\n",
       "Index: []"
      ]
     },
     "execution_count": 559,
     "metadata": {},
     "output_type": "execute_result"
    }
   ],
   "source": [
    "pip19.compare(pip20)"
   ]
  },
  {
   "cell_type": "code",
   "execution_count": null,
   "id": "ee6e0477",
   "metadata": {},
   "outputs": [],
   "source": []
  },
  {
   "cell_type": "code",
   "execution_count": null,
   "id": "879c8016",
   "metadata": {},
   "outputs": [],
   "source": []
  }
 ],
 "metadata": {
  "kernelspec": {
   "display_name": "Python 3 (ipykernel)",
   "language": "python",
   "name": "python3"
  },
  "language_info": {
   "codemirror_mode": {
    "name": "ipython",
    "version": 3
   },
   "file_extension": ".py",
   "mimetype": "text/x-python",
   "name": "python",
   "nbconvert_exporter": "python",
   "pygments_lexer": "ipython3",
   "version": "3.9.12"
  }
 },
 "nbformat": 4,
 "nbformat_minor": 5
}
