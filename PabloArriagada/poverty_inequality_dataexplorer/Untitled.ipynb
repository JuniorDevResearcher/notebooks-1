{
 "cells": [
  {
   "cell_type": "code",
   "execution_count": null,
   "id": "92967707",
   "metadata": {},
   "outputs": [],
   "source": [
    "import pandas as pd\n",
    "import numpy as np\n",
    "from pathlib import Path\n",
    "import plotly.express as px\n",
    "import plotly.io as pio\n",
    "\n",
    "pip_complete = pd.DataFrame()\n",
    "\n",
    "for i in np.arange(0,0.6,0.1):\n",
    "    country = \"all\" #ISO3 codes\n",
    "    year = \"all\" #YYYY\n",
    "    povline = i #Number, dollars\n",
    "    formatfile = \"csv\" #json, csv, rds\n",
    "    fill_gaps = \"true\" #Interpolate/extrapolate, boolean\n",
    "    welfare_type = \"all\" #Welfare measure: all, consumption, income\n",
    "    reporting_level = \"all\" #Reporting coverage: all, national, rural, urban\n",
    "    #popshare = 0.1 #Proportion of the population living below the poverty line. Will be ignored if povline is specified\n",
    "\n",
    "    #version #pip/v1/versions defaults to most recent version\n",
    "\n",
    "    pip_path = \"https://api.worldbank.org/pip/v1/pip?\" + \"country=\" + country + \"&year=\" + year + \"&povline=\" + str(povline) + \"&format=\" + formatfile + \"&fill_gaps=\" + fill_gaps + \"&welfare_type=\" + welfare_type + \"&reporting_level=\" + reporting_level #+ \"&popshare=\" + str(popshare)\n",
    "    #pip_path = \"https://api.worldbank.org/pip/v1/pip?country=all&year=all&povline=1.9&format=csv&fill_gaps=true\" #orignal version\n",
    "\n",
    "    pip = pd.read_csv(pip_path)\n",
    "    \n",
    "    pip_complete = pd.concat([pip_complete, pip], ignore_index=True)"
   ]
  },
  {
   "cell_type": "code",
   "execution_count": null,
   "id": "e033db6d",
   "metadata": {},
   "outputs": [],
   "source": [
    "pip_complete_path = Path('data/pipprueba.csv')\n",
    "pip_complete.to_csv(pip_complete_path, index=False)"
   ]
  },
  {
   "cell_type": "code",
   "execution_count": null,
   "id": "17b66a0d",
   "metadata": {},
   "outputs": [],
   "source": []
  }
 ],
 "metadata": {
  "kernelspec": {
   "display_name": "Python 3",
   "language": "python",
   "name": "python3"
  },
  "language_info": {
   "codemirror_mode": {
    "name": "ipython",
    "version": 3
   },
   "file_extension": ".py",
   "mimetype": "text/x-python",
   "name": "python",
   "nbconvert_exporter": "python",
   "pygments_lexer": "ipython3",
   "version": "3.8.8"
  }
 },
 "nbformat": 4,
 "nbformat_minor": 5
}
