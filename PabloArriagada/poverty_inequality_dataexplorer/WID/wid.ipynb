{
 "cells": [
  {
   "cell_type": "markdown",
   "id": "2620fc6f-ea76-42e3-96c1-751ea39180b8",
   "metadata": {
    "tags": []
   },
   "source": [
    "# World Inequality Database"
   ]
  },
  {
   "cell_type": "markdown",
   "id": "0145f9a0-da4c-41f0-81c6-8e117b212078",
   "metadata": {},
   "source": [
    "The [World Inequality Database (WID.world)](https://wid.world/wid-world/) aims to provide open and convenient access to the most extensive available database on the historical evolution of the world distribution of income and wealth, both within countries and between countries. The dataset addresses some of the main limitations household surveys produce in national statistics of this kind: under-coverage at the top of the distribution due to non-response (the richest tend to not answer this kind of surveys or omit their income) or measurement error (the richest underreport their income for convenience or not actually knowing an exact figure if all their activities are added). The problem is handled with the combination of fiscal and national accounts data along household surveys based on the work of the leading researchers in the area: Anthony B. Atkinson, Thomas Piketty, Emmanuel Saez, Facundo Alvaredo, Gabriel Zucman, and hundreds of others. The initiative is based in the Paris School of Economics (as the [World Inequality Lab](https://inequalitylab.world/)) and compiles the World Inequality Report, a yearly publication about how inequality has evolved until the last year.\n",
    "\n",
    "Besides income and wealth distribution data, the WID has recently added carbon emissions to generate carbon inequality indices. It also offers decomposed stats on national income. The data can be obtained from the website and by R and Stata commands."
   ]
  },
  {
   "cell_type": "markdown",
   "id": "2e7d5100-0d3b-4b69-ab7b-20790ed562f0",
   "metadata": {
    "tags": []
   },
   "source": [
    "## Distributions considered in this analysis"
   ]
  },
  {
   "cell_type": "markdown",
   "id": "b6fffe96-8b9a-48a2-99ec-d870db468ea4",
   "metadata": {},
   "source": [
    "Three income distributions are considered, coming in three different csv files:\n",
    "- **wid_pretax_992j_dist.csv** is the pretax income distribution `ptinc`, which includes social insurance benefits (and remove corresponding contributions), but exclude other forms of redistribution (income tax, social assistance benefits, etc.).\n",
    "- **wid_posttax_nat_992j_dist.csv** is the post-tax national income distribution `diinc`, which includes both in-kind and in-cash redistribution.\n",
    "- **wid_posttax_dis_992j_dist.csv** is the post-tax disposable income distribution `cainc`, which excludes in-kind transfers (because the distribution of in-kind transfers requires a lot of assumptions).\n",
    "\n",
    "These distributions are the main DINA (distributional national accounts) income variables available at WID. DINA income concepts are distributed income concepts that are consistent with national accounts aggregates. The precise definitions are outlined in the [DINA guidelines](https://wid.world/es/news-article/2020-distributional-national-accounts-guidelines-dina-4/) and country-specific papers. \n",
    "\n",
    "All of these distributions are generated using equal-split adults (j) as the population unit, meaning that the unit is the individual, but that income or wealth is distributed equally among all household members. The age group is individuals over age 20 (992, adult population), which excludes children (with 0 income in most of the cases). Extrapolations and interpolations are excluded from these files, as WID discourages its use at the level of individual countries (see the `exclude` description at `help wid` in Stata). More information about the variables and definitions can be found on [WID's codes dictionary](https://wid.world/codes-dictionary/).\n",
    "\n",
    "The distributions analysed in this notebook come from commands given in the `wid` function in Stata. These commands are located in the `wid_distribution.do` file from this same folder. Opening the file and pressing the *Execute (do)* button will generate the most recent data from WID. Both `.csv` and `.dta` files are available for analysis."
   ]
  },
  {
   "cell_type": "markdown",
   "id": "2b113a4a-ee3b-4cd5-9d58-707150508253",
   "metadata": {
    "tags": []
   },
   "source": [
    "## Main variables"
   ]
  },
  {
   "cell_type": "code",
   "execution_count": 1,
   "id": "d10f487f-3df2-4874-9128-3c8bd22e6e50",
   "metadata": {},
   "outputs": [],
   "source": [
    "import pandas as pd\n",
    "import numpy as np\n",
    "from pathlib import Path\n",
    "import time\n",
    "import seaborn as sns\n",
    "\n",
    "#keep_default_na and na_values are included because there is a country labeled NA, Namibia, which becomes null without the parameters\n",
    "\n",
    "file = Path('wid_pretax_992j_dist.csv')\n",
    "wid_pretax = pd.read_csv(file, keep_default_na=False,\n",
    "                         na_values=['-1.#IND', '1.#QNAN', '1.#IND', '-1.#QNAN', '#N/A N/A', '#N/A', 'N/A', 'n/a', '', '#NA', \n",
    "                                    'NULL', 'null', 'NaN', '-NaN', 'nan', '-nan', ''])\n",
    "\n",
    "file = Path('wid_posttax_nat_992j_dist.csv')\n",
    "wid_posttax_nat = pd.read_csv(file, keep_default_na=False,\n",
    "                              na_values=['-1.#IND', '1.#QNAN', '1.#IND', '-1.#QNAN', '#N/A N/A', '#N/A', 'N/A', 'n/a', '', '#NA',\n",
    "                                         'NULL', 'null', 'NaN', '-NaN', 'nan', '-nan', ''])\n",
    "\n",
    "file = Path('wid_posttax_dis_992j_dist.csv')\n",
    "wid_posttax_dis = pd.read_csv(file, keep_default_na=False,\n",
    "                              na_values=['-1.#IND', '1.#QNAN', '1.#IND', '-1.#QNAN', '#N/A N/A', '#N/A', 'N/A', 'n/a', '', '#NA', \n",
    "                                         'NULL', 'null', 'NaN', '-NaN', 'nan', '-nan', ''])\n",
    "\n",
    "#The variable 'country_year' is created, to identify unique distributions:\n",
    "wid_pretax['country_year'] = wid_pretax['country'] + wid_pretax['year'].astype(str)\n",
    "wid_posttax_nat['country_year'] = wid_posttax_nat['country'] + wid_posttax_nat['year'].astype(str)\n",
    "wid_posttax_dis['country_year'] = wid_posttax_dis['country'] + wid_posttax_dis['year'].astype(str)"
   ]
  },
  {
   "cell_type": "markdown",
   "id": "b6065c0c-b45c-4e60-a72b-e804fbf866e9",
   "metadata": {},
   "source": [
    "The key variables that come following transformations in Stata are:\n",
    "- **country** mostly follows the ISO 3166-1 alpha-2 standard, but also includes world regions, country subregions (rural and urban China, for example), former countries and countries not officially included in the standard. All the countries available are extracted. See https://wid.world/codes-dictionary/#country-code\n",
    "- **year** is the year of the distribution. All available years are extracted.\n",
    "- **percentile** is the percentile (or, more broadly, quantile) of the distribution. They are in the format *pXpY*, where X and Y are both numbers between 0 and 100. X correspond to the percentile for the lower bound of the group, and Y to the percentile for the upper bound (hence X < Y). 130 different quantiles are extracted, from p0p1 to p99p100, tenths of a percentile in the top 1% (p99p99.1, p99.1p99.2, p99.2p99.3, …, p99.8p99.9, p99.9p100), hundreds of a percentile in the top 0.1% (p99.9p99.91, p99.92p99.93, …, p99.98p99.99, p99.99p100), and thousands of a percentile in the top 0.01% (p99.99p99.991, p99.992p99.993, … , p99.998p99.999, p99.999p100). See https://wid.world/codes-dictionary/#percentile-code \n",
    "- **p** represent the same variable *percentile*, but presented in a more simple way to sort the dataset: the lower bound X is extracted from *pXpY* and divided by 100 to get only numbers from 0 to 1.\n",
    "- **threshold** is the minimum level of income that gets you into a group. For example, the income threshold of the group p90p100 is the income of the poorest individuals in the top 10%. By definition, it is equal to the income threshold of the groups p90p99 or p90p91.\n",
    "- **average** is the average income of the people in the group. For example, the wealth average of the group p90p99 is the average income of the top 10% excluding the top 1%.\n",
    "- **share** is the income of the group, divided by the total for the whole population. For example, the income of the group p99p100 is the top 1% income share.\n",
    "\n",
    "Threshold and average data is converted to 2017 USD PPP with the `xlcusp` command in Stata (see https://wid.world/codes-dictionary/#exchange-rate). The variables **age** and **pop** (age group and population unit, respectively) are also in the dataset, but mainly for internal reference as it is the same value for each observation (992 and j). Although there are more age groups and population units available to query, most of them do not return results as massive as with the 992 and j combination or they just do not return data (see the options [here](https://wid.world/codes-dictionary/#three-digit-code) and [here](https://wid.world/codes-dictionary/#one-letter-code))."
   ]
  },
  {
   "cell_type": "markdown",
   "id": "4b5a1b75-a744-4d3f-8cb0-6333ff2b21a6",
   "metadata": {},
   "source": [
    "Basic descriptive statistics are presented for the three distributions:"
   ]
  },
  {
   "cell_type": "code",
   "execution_count": 2,
   "id": "640a728c-d439-4d57-b954-f45bb307f1ab",
   "metadata": {},
   "outputs": [
    {
     "data": {
      "text/html": [
       "<div>\n",
       "<style scoped>\n",
       "    .dataframe tbody tr th:only-of-type {\n",
       "        vertical-align: middle;\n",
       "    }\n",
       "\n",
       "    .dataframe tbody tr th {\n",
       "        vertical-align: top;\n",
       "    }\n",
       "\n",
       "    .dataframe thead th {\n",
       "        text-align: right;\n",
       "    }\n",
       "</style>\n",
       "<table border=\"1\" class=\"dataframe\">\n",
       "  <thead>\n",
       "    <tr style=\"text-align: right;\">\n",
       "      <th></th>\n",
       "      <th>country</th>\n",
       "      <th>year</th>\n",
       "      <th>percentile</th>\n",
       "      <th>p</th>\n",
       "      <th>threshold</th>\n",
       "      <th>average</th>\n",
       "      <th>share</th>\n",
       "      <th>inv_paretolorenz</th>\n",
       "      <th>age</th>\n",
       "      <th>pop</th>\n",
       "      <th>country_year</th>\n",
       "    </tr>\n",
       "  </thead>\n",
       "  <tbody>\n",
       "    <tr>\n",
       "      <th>count</th>\n",
       "      <td>731157</td>\n",
       "      <td>731157.000000</td>\n",
       "      <td>731157</td>\n",
       "      <td>731157.000000</td>\n",
       "      <td>5.301080e+05</td>\n",
       "      <td>5.320890e+05</td>\n",
       "      <td>731157.000000</td>\n",
       "      <td>2.202000e+04</td>\n",
       "      <td>731157.0</td>\n",
       "      <td>731157</td>\n",
       "      <td>731157</td>\n",
       "    </tr>\n",
       "    <tr>\n",
       "      <th>unique</th>\n",
       "      <td>225</td>\n",
       "      <td>NaN</td>\n",
       "      <td>130</td>\n",
       "      <td>NaN</td>\n",
       "      <td>NaN</td>\n",
       "      <td>NaN</td>\n",
       "      <td>NaN</td>\n",
       "      <td>NaN</td>\n",
       "      <td>NaN</td>\n",
       "      <td>1</td>\n",
       "      <td>6454</td>\n",
       "    </tr>\n",
       "    <tr>\n",
       "      <th>top</th>\n",
       "      <td>US</td>\n",
       "      <td>NaN</td>\n",
       "      <td>p99.9p100</td>\n",
       "      <td>NaN</td>\n",
       "      <td>NaN</td>\n",
       "      <td>NaN</td>\n",
       "      <td>NaN</td>\n",
       "      <td>NaN</td>\n",
       "      <td>NaN</td>\n",
       "      <td>j</td>\n",
       "      <td>AE1998</td>\n",
       "    </tr>\n",
       "    <tr>\n",
       "      <th>freq</th>\n",
       "      <td>13780</td>\n",
       "      <td>NaN</td>\n",
       "      <td>6358</td>\n",
       "      <td>NaN</td>\n",
       "      <td>NaN</td>\n",
       "      <td>NaN</td>\n",
       "      <td>NaN</td>\n",
       "      <td>NaN</td>\n",
       "      <td>NaN</td>\n",
       "      <td>731157</td>\n",
       "      <td>130</td>\n",
       "    </tr>\n",
       "    <tr>\n",
       "      <th>mean</th>\n",
       "      <td>NaN</td>\n",
       "      <td>1997.424206</td>\n",
       "      <td>NaN</td>\n",
       "      <td>0.612528</td>\n",
       "      <td>3.845721e+05</td>\n",
       "      <td>5.253262e+05</td>\n",
       "      <td>0.009878</td>\n",
       "      <td>1.125843e+05</td>\n",
       "      <td>992.0</td>\n",
       "      <td>NaN</td>\n",
       "      <td>NaN</td>\n",
       "    </tr>\n",
       "    <tr>\n",
       "      <th>std</th>\n",
       "      <td>NaN</td>\n",
       "      <td>17.986790</td>\n",
       "      <td>NaN</td>\n",
       "      <td>0.330383</td>\n",
       "      <td>2.101428e+06</td>\n",
       "      <td>3.507536e+06</td>\n",
       "      <td>0.020805</td>\n",
       "      <td>1.784960e+06</td>\n",
       "      <td>0.0</td>\n",
       "      <td>NaN</td>\n",
       "      <td>NaN</td>\n",
       "    </tr>\n",
       "    <tr>\n",
       "      <th>min</th>\n",
       "      <td>NaN</td>\n",
       "      <td>1870.000000</td>\n",
       "      <td>NaN</td>\n",
       "      <td>0.000000</td>\n",
       "      <td>-1.396364e+05</td>\n",
       "      <td>-6.981829e+04</td>\n",
       "      <td>-0.037000</td>\n",
       "      <td>9.999999e-01</td>\n",
       "      <td>992.0</td>\n",
       "      <td>NaN</td>\n",
       "      <td>NaN</td>\n",
       "    </tr>\n",
       "    <tr>\n",
       "      <th>25%</th>\n",
       "      <td>NaN</td>\n",
       "      <td>1989.000000</td>\n",
       "      <td>NaN</td>\n",
       "      <td>0.320000</td>\n",
       "      <td>4.664600e+03</td>\n",
       "      <td>5.764000e+03</td>\n",
       "      <td>0.002300</td>\n",
       "      <td>1.681378e+00</td>\n",
       "      <td>992.0</td>\n",
       "      <td>NaN</td>\n",
       "      <td>NaN</td>\n",
       "    </tr>\n",
       "    <tr>\n",
       "      <th>50%</th>\n",
       "      <td>NaN</td>\n",
       "      <td>2001.000000</td>\n",
       "      <td>NaN</td>\n",
       "      <td>0.650000</td>\n",
       "      <td>2.008982e+04</td>\n",
       "      <td>2.223688e+04</td>\n",
       "      <td>0.005600</td>\n",
       "      <td>2.208449e+00</td>\n",
       "      <td>992.0</td>\n",
       "      <td>NaN</td>\n",
       "      <td>NaN</td>\n",
       "    </tr>\n",
       "    <tr>\n",
       "      <th>75%</th>\n",
       "      <td>NaN</td>\n",
       "      <td>2010.000000</td>\n",
       "      <td>NaN</td>\n",
       "      <td>0.970000</td>\n",
       "      <td>7.836561e+04</td>\n",
       "      <td>9.356016e+04</td>\n",
       "      <td>0.010700</td>\n",
       "      <td>2.583091e+00</td>\n",
       "      <td>992.0</td>\n",
       "      <td>NaN</td>\n",
       "      <td>NaN</td>\n",
       "    </tr>\n",
       "    <tr>\n",
       "      <th>max</th>\n",
       "      <td>NaN</td>\n",
       "      <td>2021.000000</td>\n",
       "      <td>NaN</td>\n",
       "      <td>0.999990</td>\n",
       "      <td>3.425009e+08</td>\n",
       "      <td>8.711651e+08</td>\n",
       "      <td>1.314900</td>\n",
       "      <td>5.443422e+07</td>\n",
       "      <td>992.0</td>\n",
       "      <td>NaN</td>\n",
       "      <td>NaN</td>\n",
       "    </tr>\n",
       "  </tbody>\n",
       "</table>\n",
       "</div>"
      ],
      "text/plain": [
       "       country           year percentile              p     threshold  \\\n",
       "count   731157  731157.000000     731157  731157.000000  5.301080e+05   \n",
       "unique     225            NaN        130            NaN           NaN   \n",
       "top         US            NaN  p99.9p100            NaN           NaN   \n",
       "freq     13780            NaN       6358            NaN           NaN   \n",
       "mean       NaN    1997.424206        NaN       0.612528  3.845721e+05   \n",
       "std        NaN      17.986790        NaN       0.330383  2.101428e+06   \n",
       "min        NaN    1870.000000        NaN       0.000000 -1.396364e+05   \n",
       "25%        NaN    1989.000000        NaN       0.320000  4.664600e+03   \n",
       "50%        NaN    2001.000000        NaN       0.650000  2.008982e+04   \n",
       "75%        NaN    2010.000000        NaN       0.970000  7.836561e+04   \n",
       "max        NaN    2021.000000        NaN       0.999990  3.425009e+08   \n",
       "\n",
       "             average          share  inv_paretolorenz       age     pop  \\\n",
       "count   5.320890e+05  731157.000000      2.202000e+04  731157.0  731157   \n",
       "unique           NaN            NaN               NaN       NaN       1   \n",
       "top              NaN            NaN               NaN       NaN       j   \n",
       "freq             NaN            NaN               NaN       NaN  731157   \n",
       "mean    5.253262e+05       0.009878      1.125843e+05     992.0     NaN   \n",
       "std     3.507536e+06       0.020805      1.784960e+06       0.0     NaN   \n",
       "min    -6.981829e+04      -0.037000      9.999999e-01     992.0     NaN   \n",
       "25%     5.764000e+03       0.002300      1.681378e+00     992.0     NaN   \n",
       "50%     2.223688e+04       0.005600      2.208449e+00     992.0     NaN   \n",
       "75%     9.356016e+04       0.010700      2.583091e+00     992.0     NaN   \n",
       "max     8.711651e+08       1.314900      5.443422e+07     992.0     NaN   \n",
       "\n",
       "       country_year  \n",
       "count        731157  \n",
       "unique         6454  \n",
       "top          AE1998  \n",
       "freq            130  \n",
       "mean            NaN  \n",
       "std             NaN  \n",
       "min             NaN  \n",
       "25%             NaN  \n",
       "50%             NaN  \n",
       "75%             NaN  \n",
       "max             NaN  "
      ]
     },
     "execution_count": 2,
     "metadata": {},
     "output_type": "execute_result"
    }
   ],
   "source": [
    "wid_pretax.describe(include='all')"
   ]
  },
  {
   "cell_type": "markdown",
   "id": "dc11ac7f-9cb9-4b42-988c-0a5bd048bd78",
   "metadata": {},
   "source": [
    "With 731,157 observations, the pretax income distribution file is with difference the largest out of the three. It also contains 224 different countries/regions, almost 5 times the number of the post-tax files. This makes up for a total of 6451 different distributions (different country-years available). Although there is data starting from the year 1870, the data is concentrated mostly in the last three decades (the median of the *year* variable is 2001). "
   ]
  },
  {
   "cell_type": "code",
   "execution_count": 3,
   "id": "4a4d0949-81aa-4cc8-8c5b-d1d84de80227",
   "metadata": {},
   "outputs": [
    {
     "data": {
      "text/html": [
       "<div>\n",
       "<style scoped>\n",
       "    .dataframe tbody tr th:only-of-type {\n",
       "        vertical-align: middle;\n",
       "    }\n",
       "\n",
       "    .dataframe tbody tr th {\n",
       "        vertical-align: top;\n",
       "    }\n",
       "\n",
       "    .dataframe thead th {\n",
       "        text-align: right;\n",
       "    }\n",
       "</style>\n",
       "<table border=\"1\" class=\"dataframe\">\n",
       "  <thead>\n",
       "    <tr style=\"text-align: right;\">\n",
       "      <th></th>\n",
       "      <th>country</th>\n",
       "      <th>year</th>\n",
       "      <th>percentile</th>\n",
       "      <th>p</th>\n",
       "      <th>threshold</th>\n",
       "      <th>average</th>\n",
       "      <th>share</th>\n",
       "      <th>inv_paretolorenz</th>\n",
       "      <th>age</th>\n",
       "      <th>pop</th>\n",
       "      <th>country_year</th>\n",
       "    </tr>\n",
       "  </thead>\n",
       "  <tbody>\n",
       "    <tr>\n",
       "      <th>count</th>\n",
       "      <td>191034</td>\n",
       "      <td>191034.000000</td>\n",
       "      <td>191034</td>\n",
       "      <td>191034.000000</td>\n",
       "      <td>1.696500e+05</td>\n",
       "      <td>1.696500e+05</td>\n",
       "      <td>191034.000000</td>\n",
       "      <td>5876.000000</td>\n",
       "      <td>191034.0</td>\n",
       "      <td>191034</td>\n",
       "      <td>191034</td>\n",
       "    </tr>\n",
       "    <tr>\n",
       "      <th>unique</th>\n",
       "      <td>48</td>\n",
       "      <td>NaN</td>\n",
       "      <td>130</td>\n",
       "      <td>NaN</td>\n",
       "      <td>NaN</td>\n",
       "      <td>NaN</td>\n",
       "      <td>NaN</td>\n",
       "      <td>NaN</td>\n",
       "      <td>NaN</td>\n",
       "      <td>1</td>\n",
       "      <td>1533</td>\n",
       "    </tr>\n",
       "    <tr>\n",
       "      <th>top</th>\n",
       "      <td>US</td>\n",
       "      <td>NaN</td>\n",
       "      <td>p99p100</td>\n",
       "      <td>NaN</td>\n",
       "      <td>NaN</td>\n",
       "      <td>NaN</td>\n",
       "      <td>NaN</td>\n",
       "      <td>NaN</td>\n",
       "      <td>NaN</td>\n",
       "      <td>j</td>\n",
       "      <td>AL1996</td>\n",
       "    </tr>\n",
       "    <tr>\n",
       "      <th>freq</th>\n",
       "      <td>13780</td>\n",
       "      <td>NaN</td>\n",
       "      <td>1533</td>\n",
       "      <td>NaN</td>\n",
       "      <td>NaN</td>\n",
       "      <td>NaN</td>\n",
       "      <td>NaN</td>\n",
       "      <td>NaN</td>\n",
       "      <td>NaN</td>\n",
       "      <td>191034</td>\n",
       "      <td>130</td>\n",
       "    </tr>\n",
       "    <tr>\n",
       "      <th>mean</th>\n",
       "      <td>NaN</td>\n",
       "      <td>1998.023551</td>\n",
       "      <td>NaN</td>\n",
       "      <td>0.611196</td>\n",
       "      <td>2.935455e+05</td>\n",
       "      <td>3.912583e+05</td>\n",
       "      <td>0.008559</td>\n",
       "      <td>1.972184</td>\n",
       "      <td>992.0</td>\n",
       "      <td>NaN</td>\n",
       "      <td>NaN</td>\n",
       "    </tr>\n",
       "    <tr>\n",
       "      <th>std</th>\n",
       "      <td>NaN</td>\n",
       "      <td>16.279737</td>\n",
       "      <td>NaN</td>\n",
       "      <td>0.330177</td>\n",
       "      <td>1.223517e+06</td>\n",
       "      <td>2.213586e+06</td>\n",
       "      <td>0.009196</td>\n",
       "      <td>0.528526</td>\n",
       "      <td>0.0</td>\n",
       "      <td>NaN</td>\n",
       "      <td>NaN</td>\n",
       "    </tr>\n",
       "    <tr>\n",
       "      <th>min</th>\n",
       "      <td>NaN</td>\n",
       "      <td>1900.000000</td>\n",
       "      <td>NaN</td>\n",
       "      <td>0.000000</td>\n",
       "      <td>-2.331180e+07</td>\n",
       "      <td>-5.420606e+05</td>\n",
       "      <td>-0.108200</td>\n",
       "      <td>1.000000</td>\n",
       "      <td>992.0</td>\n",
       "      <td>NaN</td>\n",
       "      <td>NaN</td>\n",
       "    </tr>\n",
       "    <tr>\n",
       "      <th>25%</th>\n",
       "      <td>NaN</td>\n",
       "      <td>1989.000000</td>\n",
       "      <td>NaN</td>\n",
       "      <td>0.320000</td>\n",
       "      <td>1.905012e+04</td>\n",
       "      <td>1.932018e+04</td>\n",
       "      <td>0.003700</td>\n",
       "      <td>1.622764</td>\n",
       "      <td>992.0</td>\n",
       "      <td>NaN</td>\n",
       "      <td>NaN</td>\n",
       "    </tr>\n",
       "    <tr>\n",
       "      <th>50%</th>\n",
       "      <td>NaN</td>\n",
       "      <td>2001.000000</td>\n",
       "      <td>NaN</td>\n",
       "      <td>0.650000</td>\n",
       "      <td>3.773512e+04</td>\n",
       "      <td>3.810682e+04</td>\n",
       "      <td>0.007100</td>\n",
       "      <td>1.864115</td>\n",
       "      <td>992.0</td>\n",
       "      <td>NaN</td>\n",
       "      <td>NaN</td>\n",
       "    </tr>\n",
       "    <tr>\n",
       "      <th>75%</th>\n",
       "      <td>NaN</td>\n",
       "      <td>2010.000000</td>\n",
       "      <td>NaN</td>\n",
       "      <td>0.970000</td>\n",
       "      <td>9.102725e+04</td>\n",
       "      <td>9.493897e+04</td>\n",
       "      <td>0.010900</td>\n",
       "      <td>2.194164</td>\n",
       "      <td>992.0</td>\n",
       "      <td>NaN</td>\n",
       "      <td>NaN</td>\n",
       "    </tr>\n",
       "    <tr>\n",
       "      <th>max</th>\n",
       "      <td>NaN</td>\n",
       "      <td>2020.000000</td>\n",
       "      <td>NaN</td>\n",
       "      <td>0.999990</td>\n",
       "      <td>6.422674e+07</td>\n",
       "      <td>1.706076e+08</td>\n",
       "      <td>0.220200</td>\n",
       "      <td>6.889863</td>\n",
       "      <td>992.0</td>\n",
       "      <td>NaN</td>\n",
       "      <td>NaN</td>\n",
       "    </tr>\n",
       "  </tbody>\n",
       "</table>\n",
       "</div>"
      ],
      "text/plain": [
       "       country           year percentile              p     threshold  \\\n",
       "count   191034  191034.000000     191034  191034.000000  1.696500e+05   \n",
       "unique      48            NaN        130            NaN           NaN   \n",
       "top         US            NaN    p99p100            NaN           NaN   \n",
       "freq     13780            NaN       1533            NaN           NaN   \n",
       "mean       NaN    1998.023551        NaN       0.611196  2.935455e+05   \n",
       "std        NaN      16.279737        NaN       0.330177  1.223517e+06   \n",
       "min        NaN    1900.000000        NaN       0.000000 -2.331180e+07   \n",
       "25%        NaN    1989.000000        NaN       0.320000  1.905012e+04   \n",
       "50%        NaN    2001.000000        NaN       0.650000  3.773512e+04   \n",
       "75%        NaN    2010.000000        NaN       0.970000  9.102725e+04   \n",
       "max        NaN    2020.000000        NaN       0.999990  6.422674e+07   \n",
       "\n",
       "             average          share  inv_paretolorenz       age     pop  \\\n",
       "count   1.696500e+05  191034.000000       5876.000000  191034.0  191034   \n",
       "unique           NaN            NaN               NaN       NaN       1   \n",
       "top              NaN            NaN               NaN       NaN       j   \n",
       "freq             NaN            NaN               NaN       NaN  191034   \n",
       "mean    3.912583e+05       0.008559          1.972184     992.0     NaN   \n",
       "std     2.213586e+06       0.009196          0.528526       0.0     NaN   \n",
       "min    -5.420606e+05      -0.108200          1.000000     992.0     NaN   \n",
       "25%     1.932018e+04       0.003700          1.622764     992.0     NaN   \n",
       "50%     3.810682e+04       0.007100          1.864115     992.0     NaN   \n",
       "75%     9.493897e+04       0.010900          2.194164     992.0     NaN   \n",
       "max     1.706076e+08       0.220200          6.889863     992.0     NaN   \n",
       "\n",
       "       country_year  \n",
       "count        191034  \n",
       "unique         1533  \n",
       "top          AL1996  \n",
       "freq            130  \n",
       "mean            NaN  \n",
       "std             NaN  \n",
       "min             NaN  \n",
       "25%             NaN  \n",
       "50%             NaN  \n",
       "75%             NaN  \n",
       "max             NaN  "
      ]
     },
     "execution_count": 3,
     "metadata": {},
     "output_type": "execute_result"
    }
   ],
   "source": [
    "wid_posttax_nat.describe(include='all')"
   ]
  },
  {
   "cell_type": "markdown",
   "id": "4380a26a-49f5-47f4-98a4-ba45994e15eb",
   "metadata": {},
   "source": [
    "The post-tax national income distribution file contains 191,034 observations for only 48 countries, which make 1533 different distributions. The minimum year is 1900, although the distributions are again concentrated more recently (median 2001)."
   ]
  },
  {
   "cell_type": "code",
   "execution_count": 4,
   "id": "83ead7e2-848c-402f-9c1f-981feacfa5cd",
   "metadata": {},
   "outputs": [
    {
     "data": {
      "text/html": [
       "<div>\n",
       "<style scoped>\n",
       "    .dataframe tbody tr th:only-of-type {\n",
       "        vertical-align: middle;\n",
       "    }\n",
       "\n",
       "    .dataframe tbody tr th {\n",
       "        vertical-align: top;\n",
       "    }\n",
       "\n",
       "    .dataframe thead th {\n",
       "        text-align: right;\n",
       "    }\n",
       "</style>\n",
       "<table border=\"1\" class=\"dataframe\">\n",
       "  <thead>\n",
       "    <tr style=\"text-align: right;\">\n",
       "      <th></th>\n",
       "      <th>country</th>\n",
       "      <th>year</th>\n",
       "      <th>percentile</th>\n",
       "      <th>p</th>\n",
       "      <th>threshold</th>\n",
       "      <th>average</th>\n",
       "      <th>share</th>\n",
       "      <th>inv_paretolorenz</th>\n",
       "      <th>age</th>\n",
       "      <th>pop</th>\n",
       "      <th>country_year</th>\n",
       "    </tr>\n",
       "  </thead>\n",
       "  <tbody>\n",
       "    <tr>\n",
       "      <th>count</th>\n",
       "      <td>177572</td>\n",
       "      <td>177572.000000</td>\n",
       "      <td>177572</td>\n",
       "      <td>177572.000000</td>\n",
       "      <td>1.558700e+05</td>\n",
       "      <td>1.558700e+05</td>\n",
       "      <td>177572.000000</td>\n",
       "      <td>5452.000000</td>\n",
       "      <td>177572.0</td>\n",
       "      <td>177572</td>\n",
       "      <td>177572</td>\n",
       "    </tr>\n",
       "    <tr>\n",
       "      <th>unique</th>\n",
       "      <td>48</td>\n",
       "      <td>NaN</td>\n",
       "      <td>130</td>\n",
       "      <td>NaN</td>\n",
       "      <td>NaN</td>\n",
       "      <td>NaN</td>\n",
       "      <td>NaN</td>\n",
       "      <td>NaN</td>\n",
       "      <td>NaN</td>\n",
       "      <td>1</td>\n",
       "      <td>1533</td>\n",
       "    </tr>\n",
       "    <tr>\n",
       "      <th>top</th>\n",
       "      <td>FR</td>\n",
       "      <td>NaN</td>\n",
       "      <td>p99p100</td>\n",
       "      <td>NaN</td>\n",
       "      <td>NaN</td>\n",
       "      <td>NaN</td>\n",
       "      <td>NaN</td>\n",
       "      <td>NaN</td>\n",
       "      <td>NaN</td>\n",
       "      <td>j</td>\n",
       "      <td>AL1996</td>\n",
       "    </tr>\n",
       "    <tr>\n",
       "      <th>freq</th>\n",
       "      <td>5394</td>\n",
       "      <td>NaN</td>\n",
       "      <td>1533</td>\n",
       "      <td>NaN</td>\n",
       "      <td>NaN</td>\n",
       "      <td>NaN</td>\n",
       "      <td>NaN</td>\n",
       "      <td>NaN</td>\n",
       "      <td>NaN</td>\n",
       "      <td>177572</td>\n",
       "      <td>130</td>\n",
       "    </tr>\n",
       "    <tr>\n",
       "      <th>mean</th>\n",
       "      <td>NaN</td>\n",
       "      <td>2000.489210</td>\n",
       "      <td>NaN</td>\n",
       "      <td>0.611895</td>\n",
       "      <td>2.245611e+05</td>\n",
       "      <td>3.134349e+05</td>\n",
       "      <td>0.008684</td>\n",
       "      <td>2.108109</td>\n",
       "      <td>992.0</td>\n",
       "      <td>NaN</td>\n",
       "      <td>NaN</td>\n",
       "    </tr>\n",
       "    <tr>\n",
       "      <th>std</th>\n",
       "      <td>NaN</td>\n",
       "      <td>11.308023</td>\n",
       "      <td>NaN</td>\n",
       "      <td>0.330284</td>\n",
       "      <td>8.362206e+05</td>\n",
       "      <td>1.701817e+06</td>\n",
       "      <td>0.009994</td>\n",
       "      <td>0.540296</td>\n",
       "      <td>0.0</td>\n",
       "      <td>NaN</td>\n",
       "      <td>NaN</td>\n",
       "    </tr>\n",
       "    <tr>\n",
       "      <th>min</th>\n",
       "      <td>NaN</td>\n",
       "      <td>1900.000000</td>\n",
       "      <td>NaN</td>\n",
       "      <td>0.000000</td>\n",
       "      <td>-1.901357e+07</td>\n",
       "      <td>-4.424091e+05</td>\n",
       "      <td>-0.117900</td>\n",
       "      <td>1.000103</td>\n",
       "      <td>992.0</td>\n",
       "      <td>NaN</td>\n",
       "      <td>NaN</td>\n",
       "    </tr>\n",
       "    <tr>\n",
       "      <th>25%</th>\n",
       "      <td>NaN</td>\n",
       "      <td>1991.000000</td>\n",
       "      <td>NaN</td>\n",
       "      <td>0.320000</td>\n",
       "      <td>1.415995e+04</td>\n",
       "      <td>1.477483e+04</td>\n",
       "      <td>0.003500</td>\n",
       "      <td>1.679212</td>\n",
       "      <td>992.0</td>\n",
       "      <td>NaN</td>\n",
       "      <td>NaN</td>\n",
       "    </tr>\n",
       "    <tr>\n",
       "      <th>50%</th>\n",
       "      <td>NaN</td>\n",
       "      <td>2002.000000</td>\n",
       "      <td>NaN</td>\n",
       "      <td>0.650000</td>\n",
       "      <td>2.847279e+04</td>\n",
       "      <td>2.976164e+04</td>\n",
       "      <td>0.006900</td>\n",
       "      <td>2.072798</td>\n",
       "      <td>992.0</td>\n",
       "      <td>NaN</td>\n",
       "      <td>NaN</td>\n",
       "    </tr>\n",
       "    <tr>\n",
       "      <th>75%</th>\n",
       "      <td>NaN</td>\n",
       "      <td>2010.000000</td>\n",
       "      <td>NaN</td>\n",
       "      <td>0.970000</td>\n",
       "      <td>7.100878e+04</td>\n",
       "      <td>7.743828e+04</td>\n",
       "      <td>0.011100</td>\n",
       "      <td>2.461455</td>\n",
       "      <td>992.0</td>\n",
       "      <td>NaN</td>\n",
       "      <td>NaN</td>\n",
       "    </tr>\n",
       "    <tr>\n",
       "      <th>max</th>\n",
       "      <td>NaN</td>\n",
       "      <td>2020.000000</td>\n",
       "      <td>NaN</td>\n",
       "      <td>0.999990</td>\n",
       "      <td>5.140730e+07</td>\n",
       "      <td>1.477681e+08</td>\n",
       "      <td>0.228100</td>\n",
       "      <td>7.032377</td>\n",
       "      <td>992.0</td>\n",
       "      <td>NaN</td>\n",
       "      <td>NaN</td>\n",
       "    </tr>\n",
       "  </tbody>\n",
       "</table>\n",
       "</div>"
      ],
      "text/plain": [
       "       country           year percentile              p     threshold  \\\n",
       "count   177572  177572.000000     177572  177572.000000  1.558700e+05   \n",
       "unique      48            NaN        130            NaN           NaN   \n",
       "top         FR            NaN    p99p100            NaN           NaN   \n",
       "freq      5394            NaN       1533            NaN           NaN   \n",
       "mean       NaN    2000.489210        NaN       0.611895  2.245611e+05   \n",
       "std        NaN      11.308023        NaN       0.330284  8.362206e+05   \n",
       "min        NaN    1900.000000        NaN       0.000000 -1.901357e+07   \n",
       "25%        NaN    1991.000000        NaN       0.320000  1.415995e+04   \n",
       "50%        NaN    2002.000000        NaN       0.650000  2.847279e+04   \n",
       "75%        NaN    2010.000000        NaN       0.970000  7.100878e+04   \n",
       "max        NaN    2020.000000        NaN       0.999990  5.140730e+07   \n",
       "\n",
       "             average          share  inv_paretolorenz       age     pop  \\\n",
       "count   1.558700e+05  177572.000000       5452.000000  177572.0  177572   \n",
       "unique           NaN            NaN               NaN       NaN       1   \n",
       "top              NaN            NaN               NaN       NaN       j   \n",
       "freq             NaN            NaN               NaN       NaN  177572   \n",
       "mean    3.134349e+05       0.008684          2.108109     992.0     NaN   \n",
       "std     1.701817e+06       0.009994          0.540296       0.0     NaN   \n",
       "min    -4.424091e+05      -0.117900          1.000103     992.0     NaN   \n",
       "25%     1.477483e+04       0.003500          1.679212     992.0     NaN   \n",
       "50%     2.976164e+04       0.006900          2.072798     992.0     NaN   \n",
       "75%     7.743828e+04       0.011100          2.461455     992.0     NaN   \n",
       "max     1.477681e+08       0.228100          7.032377     992.0     NaN   \n",
       "\n",
       "       country_year  \n",
       "count        177572  \n",
       "unique         1533  \n",
       "top          AL1996  \n",
       "freq            130  \n",
       "mean            NaN  \n",
       "std             NaN  \n",
       "min             NaN  \n",
       "25%             NaN  \n",
       "50%             NaN  \n",
       "75%             NaN  \n",
       "max             NaN  "
      ]
     },
     "execution_count": 4,
     "metadata": {},
     "output_type": "execute_result"
    }
   ],
   "source": [
    "wid_posttax_dis.describe(include='all')"
   ]
  },
  {
   "cell_type": "markdown",
   "id": "c669f717-310c-4ac6-945b-3baf32dc6670",
   "metadata": {},
   "source": [
    "The post-tax disposable income file is the one with less observations (177,552) for 48 countries making 1533 different distributions again. The minimum year is 1900 (median 2002)."
   ]
  },
  {
   "cell_type": "markdown",
   "id": "09823aa8-0a5d-4071-b89f-6c416373f4f2",
   "metadata": {},
   "source": [
    "## Sanity checks for the income distributions"
   ]
  },
  {
   "cell_type": "markdown",
   "id": "9a99e4c9-8586-41c6-b869-2757c1d711d3",
   "metadata": {},
   "source": [
    "The distributions are explored more in detail to find and correct (if possible) errors in the original data. "
   ]
  },
  {
   "cell_type": "markdown",
   "id": "319379d2-db1c-4e81-add6-bfa659c01b24",
   "metadata": {},
   "source": [
    "### The same quantiles available for each country-year"
   ]
  },
  {
   "cell_type": "markdown",
   "id": "c25111b3-8dcc-4bc2-8b20-fd870d555b3a",
   "metadata": {},
   "source": [
    "It is very important that the distribution contains all 130 quantiles requested by the original query in Stata, to be able to estimate inequality statistics properly.\n",
    "One way to see if this holds is by counting the different occurrences of *percentile* for each distribution. The dataframes are grouped by country and year for this purpose."
   ]
  },
  {
   "cell_type": "markdown",
   "id": "ea9b279d",
   "metadata": {},
   "source": [
    "#### Pretax income"
   ]
  },
  {
   "cell_type": "code",
   "execution_count": 5,
   "id": "eeac1db6-4383-4e57-bfbc-6961a4a3a28a",
   "metadata": {},
   "outputs": [
    {
     "data": {
      "text/html": [
       "<div>\n",
       "<style scoped>\n",
       "    .dataframe tbody tr th:only-of-type {\n",
       "        vertical-align: middle;\n",
       "    }\n",
       "\n",
       "    .dataframe tbody tr th {\n",
       "        vertical-align: top;\n",
       "    }\n",
       "\n",
       "    .dataframe thead th {\n",
       "        text-align: right;\n",
       "    }\n",
       "</style>\n",
       "<table border=\"1\" class=\"dataframe\">\n",
       "  <thead>\n",
       "    <tr style=\"text-align: right;\">\n",
       "      <th></th>\n",
       "      <th>country</th>\n",
       "      <th>year</th>\n",
       "      <th>country_year</th>\n",
       "      <th>percentile</th>\n",
       "      <th>p</th>\n",
       "      <th>threshold</th>\n",
       "      <th>average</th>\n",
       "      <th>share</th>\n",
       "      <th>inv_paretolorenz</th>\n",
       "      <th>age</th>\n",
       "      <th>pop</th>\n",
       "    </tr>\n",
       "  </thead>\n",
       "  <tbody>\n",
       "    <tr>\n",
       "      <th>0</th>\n",
       "      <td>AR</td>\n",
       "      <td>1932</td>\n",
       "      <td>AR1932</td>\n",
       "      <td>3</td>\n",
       "      <td>3</td>\n",
       "      <td>0</td>\n",
       "      <td>0</td>\n",
       "      <td>3</td>\n",
       "      <td>0</td>\n",
       "      <td>1</td>\n",
       "      <td>1</td>\n",
       "    </tr>\n",
       "    <tr>\n",
       "      <th>1</th>\n",
       "      <td>AR</td>\n",
       "      <td>1933</td>\n",
       "      <td>AR1933</td>\n",
       "      <td>3</td>\n",
       "      <td>3</td>\n",
       "      <td>0</td>\n",
       "      <td>0</td>\n",
       "      <td>3</td>\n",
       "      <td>0</td>\n",
       "      <td>1</td>\n",
       "      <td>1</td>\n",
       "    </tr>\n",
       "    <tr>\n",
       "      <th>2</th>\n",
       "      <td>AR</td>\n",
       "      <td>1934</td>\n",
       "      <td>AR1934</td>\n",
       "      <td>3</td>\n",
       "      <td>3</td>\n",
       "      <td>0</td>\n",
       "      <td>0</td>\n",
       "      <td>3</td>\n",
       "      <td>0</td>\n",
       "      <td>1</td>\n",
       "      <td>1</td>\n",
       "    </tr>\n",
       "    <tr>\n",
       "      <th>3</th>\n",
       "      <td>AR</td>\n",
       "      <td>1935</td>\n",
       "      <td>AR1935</td>\n",
       "      <td>3</td>\n",
       "      <td>3</td>\n",
       "      <td>0</td>\n",
       "      <td>0</td>\n",
       "      <td>3</td>\n",
       "      <td>0</td>\n",
       "      <td>1</td>\n",
       "      <td>1</td>\n",
       "    </tr>\n",
       "    <tr>\n",
       "      <th>4</th>\n",
       "      <td>AR</td>\n",
       "      <td>1936</td>\n",
       "      <td>AR1936</td>\n",
       "      <td>3</td>\n",
       "      <td>3</td>\n",
       "      <td>0</td>\n",
       "      <td>0</td>\n",
       "      <td>3</td>\n",
       "      <td>0</td>\n",
       "      <td>1</td>\n",
       "      <td>1</td>\n",
       "    </tr>\n",
       "    <tr>\n",
       "      <th>...</th>\n",
       "      <td>...</td>\n",
       "      <td>...</td>\n",
       "      <td>...</td>\n",
       "      <td>...</td>\n",
       "      <td>...</td>\n",
       "      <td>...</td>\n",
       "      <td>...</td>\n",
       "      <td>...</td>\n",
       "      <td>...</td>\n",
       "      <td>...</td>\n",
       "      <td>...</td>\n",
       "    </tr>\n",
       "    <tr>\n",
       "      <th>846</th>\n",
       "      <td>ZW</td>\n",
       "      <td>1974</td>\n",
       "      <td>ZW1974</td>\n",
       "      <td>2</td>\n",
       "      <td>2</td>\n",
       "      <td>0</td>\n",
       "      <td>2</td>\n",
       "      <td>2</td>\n",
       "      <td>0</td>\n",
       "      <td>1</td>\n",
       "      <td>1</td>\n",
       "    </tr>\n",
       "    <tr>\n",
       "      <th>847</th>\n",
       "      <td>ZW</td>\n",
       "      <td>1975</td>\n",
       "      <td>ZW1975</td>\n",
       "      <td>2</td>\n",
       "      <td>2</td>\n",
       "      <td>0</td>\n",
       "      <td>2</td>\n",
       "      <td>2</td>\n",
       "      <td>0</td>\n",
       "      <td>1</td>\n",
       "      <td>1</td>\n",
       "    </tr>\n",
       "    <tr>\n",
       "      <th>848</th>\n",
       "      <td>ZW</td>\n",
       "      <td>1976</td>\n",
       "      <td>ZW1976</td>\n",
       "      <td>2</td>\n",
       "      <td>2</td>\n",
       "      <td>0</td>\n",
       "      <td>2</td>\n",
       "      <td>2</td>\n",
       "      <td>0</td>\n",
       "      <td>1</td>\n",
       "      <td>1</td>\n",
       "    </tr>\n",
       "    <tr>\n",
       "      <th>849</th>\n",
       "      <td>ZW</td>\n",
       "      <td>1977</td>\n",
       "      <td>ZW1977</td>\n",
       "      <td>2</td>\n",
       "      <td>2</td>\n",
       "      <td>0</td>\n",
       "      <td>2</td>\n",
       "      <td>2</td>\n",
       "      <td>0</td>\n",
       "      <td>1</td>\n",
       "      <td>1</td>\n",
       "    </tr>\n",
       "    <tr>\n",
       "      <th>850</th>\n",
       "      <td>ZW</td>\n",
       "      <td>1978</td>\n",
       "      <td>ZW1978</td>\n",
       "      <td>2</td>\n",
       "      <td>2</td>\n",
       "      <td>0</td>\n",
       "      <td>2</td>\n",
       "      <td>2</td>\n",
       "      <td>0</td>\n",
       "      <td>1</td>\n",
       "      <td>1</td>\n",
       "    </tr>\n",
       "  </tbody>\n",
       "</table>\n",
       "<p>851 rows × 11 columns</p>\n",
       "</div>"
      ],
      "text/plain": [
       "    country  year country_year  percentile  p  threshold  average  share  \\\n",
       "0        AR  1932       AR1932           3  3          0        0      3   \n",
       "1        AR  1933       AR1933           3  3          0        0      3   \n",
       "2        AR  1934       AR1934           3  3          0        0      3   \n",
       "3        AR  1935       AR1935           3  3          0        0      3   \n",
       "4        AR  1936       AR1936           3  3          0        0      3   \n",
       "..      ...   ...          ...         ... ..        ...      ...    ...   \n",
       "846      ZW  1974       ZW1974           2  2          0        2      2   \n",
       "847      ZW  1975       ZW1975           2  2          0        2      2   \n",
       "848      ZW  1976       ZW1976           2  2          0        2      2   \n",
       "849      ZW  1977       ZW1977           2  2          0        2      2   \n",
       "850      ZW  1978       ZW1978           2  2          0        2      2   \n",
       "\n",
       "     inv_paretolorenz  age  pop  \n",
       "0                   0    1    1  \n",
       "1                   0    1    1  \n",
       "2                   0    1    1  \n",
       "3                   0    1    1  \n",
       "4                   0    1    1  \n",
       "..                ...  ...  ...  \n",
       "846                 0    1    1  \n",
       "847                 0    1    1  \n",
       "848                 0    1    1  \n",
       "849                 0    1    1  \n",
       "850                 0    1    1  \n",
       "\n",
       "[851 rows x 11 columns]"
      ]
     },
     "execution_count": 5,
     "metadata": {},
     "output_type": "execute_result"
    }
   ],
   "source": [
    "pretax_count = wid_pretax.groupby(['country', 'year', 'country_year']).nunique() #counts unique values for the variables\n",
    "pretax_not130 = pretax_count[pretax_count['percentile']!=130].reset_index() #new dataframe with new indices\n",
    "pretax_not130"
   ]
  },
  {
   "cell_type": "markdown",
   "id": "c26c52d3",
   "metadata": {},
   "source": [
    "In the case of the pretax data there are 851 different distributions that do not have the 130 quantiles. The main stats of this group are in the following table."
   ]
  },
  {
   "cell_type": "code",
   "execution_count": 6,
   "id": "65617d60",
   "metadata": {},
   "outputs": [
    {
     "data": {
      "text/html": [
       "<div>\n",
       "<style scoped>\n",
       "    .dataframe tbody tr th:only-of-type {\n",
       "        vertical-align: middle;\n",
       "    }\n",
       "\n",
       "    .dataframe tbody tr th {\n",
       "        vertical-align: top;\n",
       "    }\n",
       "\n",
       "    .dataframe thead th {\n",
       "        text-align: right;\n",
       "    }\n",
       "</style>\n",
       "<table border=\"1\" class=\"dataframe\">\n",
       "  <thead>\n",
       "    <tr style=\"text-align: right;\">\n",
       "      <th></th>\n",
       "      <th>country</th>\n",
       "      <th>year</th>\n",
       "      <th>country_year</th>\n",
       "      <th>percentile</th>\n",
       "      <th>p</th>\n",
       "      <th>threshold</th>\n",
       "      <th>average</th>\n",
       "      <th>share</th>\n",
       "      <th>inv_paretolorenz</th>\n",
       "      <th>age</th>\n",
       "      <th>pop</th>\n",
       "    </tr>\n",
       "  </thead>\n",
       "  <tbody>\n",
       "    <tr>\n",
       "      <th>count</th>\n",
       "      <td>851</td>\n",
       "      <td>851.000000</td>\n",
       "      <td>851</td>\n",
       "      <td>851.000000</td>\n",
       "      <td>851.000000</td>\n",
       "      <td>851.0</td>\n",
       "      <td>851.000000</td>\n",
       "      <td>851.000000</td>\n",
       "      <td>851.0</td>\n",
       "      <td>851.0</td>\n",
       "      <td>851.0</td>\n",
       "    </tr>\n",
       "    <tr>\n",
       "      <th>unique</th>\n",
       "      <td>21</td>\n",
       "      <td>NaN</td>\n",
       "      <td>851</td>\n",
       "      <td>NaN</td>\n",
       "      <td>NaN</td>\n",
       "      <td>NaN</td>\n",
       "      <td>NaN</td>\n",
       "      <td>NaN</td>\n",
       "      <td>NaN</td>\n",
       "      <td>NaN</td>\n",
       "      <td>NaN</td>\n",
       "    </tr>\n",
       "    <tr>\n",
       "      <th>top</th>\n",
       "      <td>JP</td>\n",
       "      <td>NaN</td>\n",
       "      <td>AR1932</td>\n",
       "      <td>NaN</td>\n",
       "      <td>NaN</td>\n",
       "      <td>NaN</td>\n",
       "      <td>NaN</td>\n",
       "      <td>NaN</td>\n",
       "      <td>NaN</td>\n",
       "      <td>NaN</td>\n",
       "      <td>NaN</td>\n",
       "    </tr>\n",
       "    <tr>\n",
       "      <th>freq</th>\n",
       "      <td>93</td>\n",
       "      <td>NaN</td>\n",
       "      <td>1</td>\n",
       "      <td>NaN</td>\n",
       "      <td>NaN</td>\n",
       "      <td>NaN</td>\n",
       "      <td>NaN</td>\n",
       "      <td>NaN</td>\n",
       "      <td>NaN</td>\n",
       "      <td>NaN</td>\n",
       "      <td>NaN</td>\n",
       "    </tr>\n",
       "    <tr>\n",
       "      <th>mean</th>\n",
       "      <td>NaN</td>\n",
       "      <td>1942.028202</td>\n",
       "      <td>NaN</td>\n",
       "      <td>3.251469</td>\n",
       "      <td>3.156287</td>\n",
       "      <td>0.0</td>\n",
       "      <td>2.443008</td>\n",
       "      <td>3.162162</td>\n",
       "      <td>0.0</td>\n",
       "      <td>1.0</td>\n",
       "      <td>1.0</td>\n",
       "    </tr>\n",
       "    <tr>\n",
       "      <th>std</th>\n",
       "      <td>NaN</td>\n",
       "      <td>23.922555</td>\n",
       "      <td>NaN</td>\n",
       "      <td>5.087954</td>\n",
       "      <td>4.568976</td>\n",
       "      <td>0.0</td>\n",
       "      <td>5.328943</td>\n",
       "      <td>4.623421</td>\n",
       "      <td>0.0</td>\n",
       "      <td>0.0</td>\n",
       "      <td>0.0</td>\n",
       "    </tr>\n",
       "    <tr>\n",
       "      <th>min</th>\n",
       "      <td>NaN</td>\n",
       "      <td>1870.000000</td>\n",
       "      <td>NaN</td>\n",
       "      <td>1.000000</td>\n",
       "      <td>1.000000</td>\n",
       "      <td>0.0</td>\n",
       "      <td>0.000000</td>\n",
       "      <td>1.000000</td>\n",
       "      <td>0.0</td>\n",
       "      <td>1.0</td>\n",
       "      <td>1.0</td>\n",
       "    </tr>\n",
       "    <tr>\n",
       "      <th>25%</th>\n",
       "      <td>NaN</td>\n",
       "      <td>1927.000000</td>\n",
       "      <td>NaN</td>\n",
       "      <td>2.000000</td>\n",
       "      <td>2.000000</td>\n",
       "      <td>0.0</td>\n",
       "      <td>0.000000</td>\n",
       "      <td>2.000000</td>\n",
       "      <td>0.0</td>\n",
       "      <td>1.0</td>\n",
       "      <td>1.0</td>\n",
       "    </tr>\n",
       "    <tr>\n",
       "      <th>50%</th>\n",
       "      <td>NaN</td>\n",
       "      <td>1944.000000</td>\n",
       "      <td>NaN</td>\n",
       "      <td>3.000000</td>\n",
       "      <td>3.000000</td>\n",
       "      <td>0.0</td>\n",
       "      <td>2.000000</td>\n",
       "      <td>3.000000</td>\n",
       "      <td>0.0</td>\n",
       "      <td>1.0</td>\n",
       "      <td>1.0</td>\n",
       "    </tr>\n",
       "    <tr>\n",
       "      <th>75%</th>\n",
       "      <td>NaN</td>\n",
       "      <td>1961.000000</td>\n",
       "      <td>NaN</td>\n",
       "      <td>3.000000</td>\n",
       "      <td>3.000000</td>\n",
       "      <td>0.0</td>\n",
       "      <td>3.000000</td>\n",
       "      <td>3.000000</td>\n",
       "      <td>0.0</td>\n",
       "      <td>1.0</td>\n",
       "      <td>1.0</td>\n",
       "    </tr>\n",
       "    <tr>\n",
       "      <th>max</th>\n",
       "      <td>NaN</td>\n",
       "      <td>1979.000000</td>\n",
       "      <td>NaN</td>\n",
       "      <td>31.000000</td>\n",
       "      <td>28.000000</td>\n",
       "      <td>0.0</td>\n",
       "      <td>31.000000</td>\n",
       "      <td>31.000000</td>\n",
       "      <td>0.0</td>\n",
       "      <td>1.0</td>\n",
       "      <td>1.0</td>\n",
       "    </tr>\n",
       "  </tbody>\n",
       "</table>\n",
       "</div>"
      ],
      "text/plain": [
       "       country         year country_year  percentile           p  threshold  \\\n",
       "count      851   851.000000          851  851.000000  851.000000      851.0   \n",
       "unique      21          NaN          851         NaN         NaN        NaN   \n",
       "top         JP          NaN       AR1932         NaN         NaN        NaN   \n",
       "freq        93          NaN            1         NaN         NaN        NaN   \n",
       "mean       NaN  1942.028202          NaN    3.251469    3.156287        0.0   \n",
       "std        NaN    23.922555          NaN    5.087954    4.568976        0.0   \n",
       "min        NaN  1870.000000          NaN    1.000000    1.000000        0.0   \n",
       "25%        NaN  1927.000000          NaN    2.000000    2.000000        0.0   \n",
       "50%        NaN  1944.000000          NaN    3.000000    3.000000        0.0   \n",
       "75%        NaN  1961.000000          NaN    3.000000    3.000000        0.0   \n",
       "max        NaN  1979.000000          NaN   31.000000   28.000000        0.0   \n",
       "\n",
       "           average       share  inv_paretolorenz    age    pop  \n",
       "count   851.000000  851.000000             851.0  851.0  851.0  \n",
       "unique         NaN         NaN               NaN    NaN    NaN  \n",
       "top            NaN         NaN               NaN    NaN    NaN  \n",
       "freq           NaN         NaN               NaN    NaN    NaN  \n",
       "mean      2.443008    3.162162               0.0    1.0    1.0  \n",
       "std       5.328943    4.623421               0.0    0.0    0.0  \n",
       "min       0.000000    1.000000               0.0    1.0    1.0  \n",
       "25%       0.000000    2.000000               0.0    1.0    1.0  \n",
       "50%       2.000000    3.000000               0.0    1.0    1.0  \n",
       "75%       3.000000    3.000000               0.0    1.0    1.0  \n",
       "max      31.000000   31.000000               0.0    1.0    1.0  "
      ]
     },
     "execution_count": 6,
     "metadata": {},
     "output_type": "execute_result"
    }
   ],
   "source": [
    "pretax_not130.describe(include='all')"
   ]
  },
  {
   "cell_type": "markdown",
   "id": "137b4252",
   "metadata": {},
   "source": [
    "21 different countries are in this situation, with a range of years from 1870 to 1979 (median 1944). The amount of percentiles in this group range from 1 to 31 (median 3). The 21 countries are:"
   ]
  },
  {
   "cell_type": "code",
   "execution_count": 7,
   "id": "0f06116e",
   "metadata": {},
   "outputs": [
    {
     "data": {
      "text/plain": [
       "JP    93\n",
       "DE    71\n",
       "GB    71\n",
       "DK    65\n",
       "FI    60\n",
       "NO    50\n",
       "SE    48\n",
       "IE    46\n",
       "ZW    45\n",
       "NL    42\n",
       "ZA    40\n",
       "HU    30\n",
       "IN    27\n",
       "AR    27\n",
       "CH    24\n",
       "MW    24\n",
       "ES    24\n",
       "SG    21\n",
       "ID    20\n",
       "GR    13\n",
       "KR    10\n",
       "Name: country, dtype: int64"
      ]
     },
     "execution_count": 7,
     "metadata": {},
     "output_type": "execute_result"
    }
   ],
   "source": [
    "pretax_not130.country.value_counts(dropna=False) #counts the ocurrences of the issue in each country"
   ]
  },
  {
   "cell_type": "markdown",
   "id": "921e9453",
   "metadata": {},
   "source": [
    "The list of country-years without 130 quantiles can be extracted and filtered to the original dataset to see which are the few quantiles presented."
   ]
  },
  {
   "cell_type": "code",
   "execution_count": 8,
   "id": "2318962f",
   "metadata": {},
   "outputs": [
    {
     "data": {
      "text/plain": [
       "p99.9p100         755\n",
       "p99p100           703\n",
       "p99.99p100        553\n",
       "p99.95p99.96       27\n",
       "p99.998p99.999     27\n",
       "p99.997p99.998     27\n",
       "p99.996p99.997     27\n",
       "p99.995p99.996     27\n",
       "p99.994p99.995     27\n",
       "p99.993p99.994     27\n",
       "p99.992p99.993     27\n",
       "p99.991p99.992     27\n",
       "p99.99p99.991      27\n",
       "p99.98p99.99       27\n",
       "p99.97p99.98       27\n",
       "p99.96p99.97       27\n",
       "p99.93p99.94       27\n",
       "p99.94p99.95       27\n",
       "p99.92p99.93       27\n",
       "p99.91p99.92       27\n",
       "p99.9p99.91        27\n",
       "p99.8p99.9         27\n",
       "p99.7p99.8         27\n",
       "p99.6p99.7         27\n",
       "p99.5p99.6         27\n",
       "p99.4p99.5         27\n",
       "p99.3p99.4         27\n",
       "p99.2p99.3         27\n",
       "p99.1p99.2         27\n",
       "p99p99.1           27\n",
       "p99.999p100        27\n",
       "Name: percentile, dtype: int64"
      ]
     },
     "execution_count": 8,
     "metadata": {},
     "output_type": "execute_result"
    }
   ],
   "source": [
    "pretax_not130_list = list(pretax_not130.country_year.unique()) #Gets the list of country-year which do not have 130 quantiles\n",
    "\n",
    "#Dataframe with only the country-year in the list:\n",
    "wid_pretax_not130 = wid_pretax[wid_pretax['country_year'].isin(pretax_not130_list)].reset_index(drop=True)\n",
    "#\"Clean\" dataframe, excluding countries-year with less than 130 quantiles \n",
    "wid_pretax_clean = wid_pretax[~wid_pretax['country_year'].isin(pretax_not130_list)].reset_index(drop=True)\n",
    "\n",
    "wid_pretax_not130.percentile.value_counts(dropna=False) #counts unique values of quantiles in the country-years with issues"
   ]
  },
  {
   "cell_type": "markdown",
   "id": "661c579f",
   "metadata": {},
   "source": [
    "**All of them come from the top 1%**, the last percentile or one of its subdivisions."
   ]
  },
  {
   "cell_type": "markdown",
   "id": "b35cdff3-fc88-40d7-9ea7-660807585d94",
   "metadata": {},
   "source": [
    "And filtering out the exceptions, now all the percentiles are represented uniformly in 5603 distributions:"
   ]
  },
  {
   "cell_type": "code",
   "execution_count": 9,
   "id": "53d1712d-b7ef-44a9-8166-b1540ec294e5",
   "metadata": {},
   "outputs": [
    {
     "data": {
      "text/plain": [
       "p0p1           5603\n",
       "p97p98         5603\n",
       "p95p96         5603\n",
       "p94p95         5603\n",
       "p93p94         5603\n",
       "               ... \n",
       "p38p39         5603\n",
       "p37p38         5603\n",
       "p36p37         5603\n",
       "p35p36         5603\n",
       "p99.999p100    5603\n",
       "Name: percentile, Length: 130, dtype: int64"
      ]
     },
     "execution_count": 9,
     "metadata": {},
     "output_type": "execute_result"
    }
   ],
   "source": [
    "wid_pretax_clean.percentile.value_counts(dropna=False)"
   ]
  },
  {
   "cell_type": "markdown",
   "id": "4efd9a8d",
   "metadata": {},
   "source": [
    "#### Post-tax national income"
   ]
  },
  {
   "cell_type": "markdown",
   "id": "660e4ce3",
   "metadata": {},
   "source": [
    "For the post-tax national income distribution there are less cases:"
   ]
  },
  {
   "cell_type": "code",
   "execution_count": 10,
   "id": "1d06f903",
   "metadata": {},
   "outputs": [
    {
     "data": {
      "text/html": [
       "<div>\n",
       "<style scoped>\n",
       "    .dataframe tbody tr th:only-of-type {\n",
       "        vertical-align: middle;\n",
       "    }\n",
       "\n",
       "    .dataframe tbody tr th {\n",
       "        vertical-align: top;\n",
       "    }\n",
       "\n",
       "    .dataframe thead th {\n",
       "        text-align: right;\n",
       "    }\n",
       "</style>\n",
       "<table border=\"1\" class=\"dataframe\">\n",
       "  <thead>\n",
       "    <tr style=\"text-align: right;\">\n",
       "      <th></th>\n",
       "      <th>country</th>\n",
       "      <th>year</th>\n",
       "      <th>country_year</th>\n",
       "      <th>percentile</th>\n",
       "      <th>p</th>\n",
       "      <th>threshold</th>\n",
       "      <th>average</th>\n",
       "      <th>share</th>\n",
       "      <th>inv_paretolorenz</th>\n",
       "      <th>age</th>\n",
       "      <th>pop</th>\n",
       "    </tr>\n",
       "  </thead>\n",
       "  <tbody>\n",
       "    <tr>\n",
       "      <th>0</th>\n",
       "      <td>FR</td>\n",
       "      <td>1900</td>\n",
       "      <td>FR1900</td>\n",
       "      <td>1</td>\n",
       "      <td>1</td>\n",
       "      <td>0</td>\n",
       "      <td>0</td>\n",
       "      <td>1</td>\n",
       "      <td>0</td>\n",
       "      <td>1</td>\n",
       "      <td>1</td>\n",
       "    </tr>\n",
       "    <tr>\n",
       "      <th>1</th>\n",
       "      <td>FR</td>\n",
       "      <td>1910</td>\n",
       "      <td>FR1910</td>\n",
       "      <td>1</td>\n",
       "      <td>1</td>\n",
       "      <td>0</td>\n",
       "      <td>0</td>\n",
       "      <td>1</td>\n",
       "      <td>0</td>\n",
       "      <td>1</td>\n",
       "      <td>1</td>\n",
       "    </tr>\n",
       "    <tr>\n",
       "      <th>2</th>\n",
       "      <td>FR</td>\n",
       "      <td>1915</td>\n",
       "      <td>FR1915</td>\n",
       "      <td>1</td>\n",
       "      <td>1</td>\n",
       "      <td>0</td>\n",
       "      <td>0</td>\n",
       "      <td>1</td>\n",
       "      <td>0</td>\n",
       "      <td>1</td>\n",
       "      <td>1</td>\n",
       "    </tr>\n",
       "    <tr>\n",
       "      <th>3</th>\n",
       "      <td>FR</td>\n",
       "      <td>1916</td>\n",
       "      <td>FR1916</td>\n",
       "      <td>1</td>\n",
       "      <td>1</td>\n",
       "      <td>0</td>\n",
       "      <td>0</td>\n",
       "      <td>1</td>\n",
       "      <td>0</td>\n",
       "      <td>1</td>\n",
       "      <td>1</td>\n",
       "    </tr>\n",
       "    <tr>\n",
       "      <th>4</th>\n",
       "      <td>FR</td>\n",
       "      <td>1917</td>\n",
       "      <td>FR1917</td>\n",
       "      <td>1</td>\n",
       "      <td>1</td>\n",
       "      <td>0</td>\n",
       "      <td>0</td>\n",
       "      <td>1</td>\n",
       "      <td>0</td>\n",
       "      <td>1</td>\n",
       "      <td>1</td>\n",
       "    </tr>\n",
       "    <tr>\n",
       "      <th>...</th>\n",
       "      <td>...</td>\n",
       "      <td>...</td>\n",
       "      <td>...</td>\n",
       "      <td>...</td>\n",
       "      <td>...</td>\n",
       "      <td>...</td>\n",
       "      <td>...</td>\n",
       "      <td>...</td>\n",
       "      <td>...</td>\n",
       "      <td>...</td>\n",
       "      <td>...</td>\n",
       "    </tr>\n",
       "    <tr>\n",
       "      <th>59</th>\n",
       "      <td>FR</td>\n",
       "      <td>1973</td>\n",
       "      <td>FR1973</td>\n",
       "      <td>1</td>\n",
       "      <td>1</td>\n",
       "      <td>0</td>\n",
       "      <td>0</td>\n",
       "      <td>1</td>\n",
       "      <td>0</td>\n",
       "      <td>1</td>\n",
       "      <td>1</td>\n",
       "    </tr>\n",
       "    <tr>\n",
       "      <th>60</th>\n",
       "      <td>FR</td>\n",
       "      <td>1974</td>\n",
       "      <td>FR1974</td>\n",
       "      <td>1</td>\n",
       "      <td>1</td>\n",
       "      <td>0</td>\n",
       "      <td>0</td>\n",
       "      <td>1</td>\n",
       "      <td>0</td>\n",
       "      <td>1</td>\n",
       "      <td>1</td>\n",
       "    </tr>\n",
       "    <tr>\n",
       "      <th>61</th>\n",
       "      <td>FR</td>\n",
       "      <td>1976</td>\n",
       "      <td>FR1976</td>\n",
       "      <td>1</td>\n",
       "      <td>1</td>\n",
       "      <td>0</td>\n",
       "      <td>0</td>\n",
       "      <td>1</td>\n",
       "      <td>0</td>\n",
       "      <td>1</td>\n",
       "      <td>1</td>\n",
       "    </tr>\n",
       "    <tr>\n",
       "      <th>62</th>\n",
       "      <td>FR</td>\n",
       "      <td>1977</td>\n",
       "      <td>FR1977</td>\n",
       "      <td>1</td>\n",
       "      <td>1</td>\n",
       "      <td>0</td>\n",
       "      <td>0</td>\n",
       "      <td>1</td>\n",
       "      <td>0</td>\n",
       "      <td>1</td>\n",
       "      <td>1</td>\n",
       "    </tr>\n",
       "    <tr>\n",
       "      <th>63</th>\n",
       "      <td>FR</td>\n",
       "      <td>1978</td>\n",
       "      <td>FR1978</td>\n",
       "      <td>1</td>\n",
       "      <td>1</td>\n",
       "      <td>0</td>\n",
       "      <td>0</td>\n",
       "      <td>1</td>\n",
       "      <td>0</td>\n",
       "      <td>1</td>\n",
       "      <td>1</td>\n",
       "    </tr>\n",
       "  </tbody>\n",
       "</table>\n",
       "<p>64 rows × 11 columns</p>\n",
       "</div>"
      ],
      "text/plain": [
       "   country  year country_year  percentile  p  threshold  average  share  \\\n",
       "0       FR  1900       FR1900           1  1          0        0      1   \n",
       "1       FR  1910       FR1910           1  1          0        0      1   \n",
       "2       FR  1915       FR1915           1  1          0        0      1   \n",
       "3       FR  1916       FR1916           1  1          0        0      1   \n",
       "4       FR  1917       FR1917           1  1          0        0      1   \n",
       "..     ...   ...          ...         ... ..        ...      ...    ...   \n",
       "59      FR  1973       FR1973           1  1          0        0      1   \n",
       "60      FR  1974       FR1974           1  1          0        0      1   \n",
       "61      FR  1976       FR1976           1  1          0        0      1   \n",
       "62      FR  1977       FR1977           1  1          0        0      1   \n",
       "63      FR  1978       FR1978           1  1          0        0      1   \n",
       "\n",
       "    inv_paretolorenz  age  pop  \n",
       "0                  0    1    1  \n",
       "1                  0    1    1  \n",
       "2                  0    1    1  \n",
       "3                  0    1    1  \n",
       "4                  0    1    1  \n",
       "..               ...  ...  ...  \n",
       "59                 0    1    1  \n",
       "60                 0    1    1  \n",
       "61                 0    1    1  \n",
       "62                 0    1    1  \n",
       "63                 0    1    1  \n",
       "\n",
       "[64 rows x 11 columns]"
      ]
     },
     "execution_count": 10,
     "metadata": {},
     "output_type": "execute_result"
    }
   ],
   "source": [
    "posttax_nat_count = wid_posttax_nat.groupby(['country', 'year', 'country_year']).nunique() #counts unique values for the variables\n",
    "posttax_nat_not130 = posttax_nat_count[posttax_nat_count['percentile']!=130].reset_index() #new dataframe with new indices\n",
    "posttax_nat_not130"
   ]
  },
  {
   "cell_type": "markdown",
   "id": "c0110fe5",
   "metadata": {},
   "source": [
    "64 different distributions do not have 130 percentiles."
   ]
  },
  {
   "cell_type": "code",
   "execution_count": 11,
   "id": "5b7266dd",
   "metadata": {},
   "outputs": [
    {
     "data": {
      "text/html": [
       "<div>\n",
       "<style scoped>\n",
       "    .dataframe tbody tr th:only-of-type {\n",
       "        vertical-align: middle;\n",
       "    }\n",
       "\n",
       "    .dataframe tbody tr th {\n",
       "        vertical-align: top;\n",
       "    }\n",
       "\n",
       "    .dataframe thead th {\n",
       "        text-align: right;\n",
       "    }\n",
       "</style>\n",
       "<table border=\"1\" class=\"dataframe\">\n",
       "  <thead>\n",
       "    <tr style=\"text-align: right;\">\n",
       "      <th></th>\n",
       "      <th>country</th>\n",
       "      <th>year</th>\n",
       "      <th>country_year</th>\n",
       "      <th>percentile</th>\n",
       "      <th>p</th>\n",
       "      <th>threshold</th>\n",
       "      <th>average</th>\n",
       "      <th>share</th>\n",
       "      <th>inv_paretolorenz</th>\n",
       "      <th>age</th>\n",
       "      <th>pop</th>\n",
       "    </tr>\n",
       "  </thead>\n",
       "  <tbody>\n",
       "    <tr>\n",
       "      <th>count</th>\n",
       "      <td>64</td>\n",
       "      <td>64.000000</td>\n",
       "      <td>64</td>\n",
       "      <td>64.0</td>\n",
       "      <td>64.0</td>\n",
       "      <td>64.0</td>\n",
       "      <td>64.0</td>\n",
       "      <td>64.0</td>\n",
       "      <td>64.0</td>\n",
       "      <td>64.0</td>\n",
       "      <td>64.0</td>\n",
       "    </tr>\n",
       "    <tr>\n",
       "      <th>unique</th>\n",
       "      <td>1</td>\n",
       "      <td>NaN</td>\n",
       "      <td>64</td>\n",
       "      <td>NaN</td>\n",
       "      <td>NaN</td>\n",
       "      <td>NaN</td>\n",
       "      <td>NaN</td>\n",
       "      <td>NaN</td>\n",
       "      <td>NaN</td>\n",
       "      <td>NaN</td>\n",
       "      <td>NaN</td>\n",
       "    </tr>\n",
       "    <tr>\n",
       "      <th>top</th>\n",
       "      <td>FR</td>\n",
       "      <td>NaN</td>\n",
       "      <td>FR1900</td>\n",
       "      <td>NaN</td>\n",
       "      <td>NaN</td>\n",
       "      <td>NaN</td>\n",
       "      <td>NaN</td>\n",
       "      <td>NaN</td>\n",
       "      <td>NaN</td>\n",
       "      <td>NaN</td>\n",
       "      <td>NaN</td>\n",
       "    </tr>\n",
       "    <tr>\n",
       "      <th>freq</th>\n",
       "      <td>64</td>\n",
       "      <td>NaN</td>\n",
       "      <td>1</td>\n",
       "      <td>NaN</td>\n",
       "      <td>NaN</td>\n",
       "      <td>NaN</td>\n",
       "      <td>NaN</td>\n",
       "      <td>NaN</td>\n",
       "      <td>NaN</td>\n",
       "      <td>NaN</td>\n",
       "      <td>NaN</td>\n",
       "    </tr>\n",
       "    <tr>\n",
       "      <th>mean</th>\n",
       "      <td>NaN</td>\n",
       "      <td>1944.390625</td>\n",
       "      <td>NaN</td>\n",
       "      <td>1.0</td>\n",
       "      <td>1.0</td>\n",
       "      <td>0.0</td>\n",
       "      <td>0.0</td>\n",
       "      <td>1.0</td>\n",
       "      <td>0.0</td>\n",
       "      <td>1.0</td>\n",
       "      <td>1.0</td>\n",
       "    </tr>\n",
       "    <tr>\n",
       "      <th>std</th>\n",
       "      <td>NaN</td>\n",
       "      <td>19.389587</td>\n",
       "      <td>NaN</td>\n",
       "      <td>0.0</td>\n",
       "      <td>0.0</td>\n",
       "      <td>0.0</td>\n",
       "      <td>0.0</td>\n",
       "      <td>0.0</td>\n",
       "      <td>0.0</td>\n",
       "      <td>0.0</td>\n",
       "      <td>0.0</td>\n",
       "    </tr>\n",
       "    <tr>\n",
       "      <th>min</th>\n",
       "      <td>NaN</td>\n",
       "      <td>1900.000000</td>\n",
       "      <td>NaN</td>\n",
       "      <td>1.0</td>\n",
       "      <td>1.0</td>\n",
       "      <td>0.0</td>\n",
       "      <td>0.0</td>\n",
       "      <td>1.0</td>\n",
       "      <td>0.0</td>\n",
       "      <td>1.0</td>\n",
       "      <td>1.0</td>\n",
       "    </tr>\n",
       "    <tr>\n",
       "      <th>25%</th>\n",
       "      <td>NaN</td>\n",
       "      <td>1928.750000</td>\n",
       "      <td>NaN</td>\n",
       "      <td>1.0</td>\n",
       "      <td>1.0</td>\n",
       "      <td>0.0</td>\n",
       "      <td>0.0</td>\n",
       "      <td>1.0</td>\n",
       "      <td>0.0</td>\n",
       "      <td>1.0</td>\n",
       "      <td>1.0</td>\n",
       "    </tr>\n",
       "    <tr>\n",
       "      <th>50%</th>\n",
       "      <td>NaN</td>\n",
       "      <td>1944.500000</td>\n",
       "      <td>NaN</td>\n",
       "      <td>1.0</td>\n",
       "      <td>1.0</td>\n",
       "      <td>0.0</td>\n",
       "      <td>0.0</td>\n",
       "      <td>1.0</td>\n",
       "      <td>0.0</td>\n",
       "      <td>1.0</td>\n",
       "      <td>1.0</td>\n",
       "    </tr>\n",
       "    <tr>\n",
       "      <th>75%</th>\n",
       "      <td>NaN</td>\n",
       "      <td>1960.250000</td>\n",
       "      <td>NaN</td>\n",
       "      <td>1.0</td>\n",
       "      <td>1.0</td>\n",
       "      <td>0.0</td>\n",
       "      <td>0.0</td>\n",
       "      <td>1.0</td>\n",
       "      <td>0.0</td>\n",
       "      <td>1.0</td>\n",
       "      <td>1.0</td>\n",
       "    </tr>\n",
       "    <tr>\n",
       "      <th>max</th>\n",
       "      <td>NaN</td>\n",
       "      <td>1978.000000</td>\n",
       "      <td>NaN</td>\n",
       "      <td>1.0</td>\n",
       "      <td>1.0</td>\n",
       "      <td>0.0</td>\n",
       "      <td>0.0</td>\n",
       "      <td>1.0</td>\n",
       "      <td>0.0</td>\n",
       "      <td>1.0</td>\n",
       "      <td>1.0</td>\n",
       "    </tr>\n",
       "  </tbody>\n",
       "</table>\n",
       "</div>"
      ],
      "text/plain": [
       "       country         year country_year  percentile     p  threshold  \\\n",
       "count       64    64.000000           64        64.0  64.0       64.0   \n",
       "unique       1          NaN           64         NaN   NaN        NaN   \n",
       "top         FR          NaN       FR1900         NaN   NaN        NaN   \n",
       "freq        64          NaN            1         NaN   NaN        NaN   \n",
       "mean       NaN  1944.390625          NaN         1.0   1.0        0.0   \n",
       "std        NaN    19.389587          NaN         0.0   0.0        0.0   \n",
       "min        NaN  1900.000000          NaN         1.0   1.0        0.0   \n",
       "25%        NaN  1928.750000          NaN         1.0   1.0        0.0   \n",
       "50%        NaN  1944.500000          NaN         1.0   1.0        0.0   \n",
       "75%        NaN  1960.250000          NaN         1.0   1.0        0.0   \n",
       "max        NaN  1978.000000          NaN         1.0   1.0        0.0   \n",
       "\n",
       "        average  share  inv_paretolorenz   age   pop  \n",
       "count      64.0   64.0              64.0  64.0  64.0  \n",
       "unique      NaN    NaN               NaN   NaN   NaN  \n",
       "top         NaN    NaN               NaN   NaN   NaN  \n",
       "freq        NaN    NaN               NaN   NaN   NaN  \n",
       "mean        0.0    1.0               0.0   1.0   1.0  \n",
       "std         0.0    0.0               0.0   0.0   0.0  \n",
       "min         0.0    1.0               0.0   1.0   1.0  \n",
       "25%         0.0    1.0               0.0   1.0   1.0  \n",
       "50%         0.0    1.0               0.0   1.0   1.0  \n",
       "75%         0.0    1.0               0.0   1.0   1.0  \n",
       "max         0.0    1.0               0.0   1.0   1.0  "
      ]
     },
     "execution_count": 11,
     "metadata": {},
     "output_type": "execute_result"
    }
   ],
   "source": [
    "posttax_nat_not130.describe(include='all')"
   ]
  },
  {
   "cell_type": "markdown",
   "id": "1ac8979b",
   "metadata": {},
   "source": [
    "Only one country is in this situation (France), with a range of years from 1900 to 1978 (median 1944). There is always 1 percentile for each of these distributions.\n",
    "\n",
    "All of these 64 percentiles are **p99p100, the top 1%**:"
   ]
  },
  {
   "cell_type": "code",
   "execution_count": 12,
   "id": "3f4ab1ef",
   "metadata": {},
   "outputs": [
    {
     "data": {
      "text/plain": [
       "p99p100    64\n",
       "Name: percentile, dtype: int64"
      ]
     },
     "execution_count": 12,
     "metadata": {},
     "output_type": "execute_result"
    }
   ],
   "source": [
    "posttax_nat_not130_list = list(posttax_nat_not130.country_year.unique()) #Gets the list of country-year which do not have 130 quantiles\n",
    "\n",
    "#Dataframe with only the country-year in the list:\n",
    "wid_posttax_nat_not130 = wid_posttax_nat[wid_posttax_nat['country_year'].isin(posttax_nat_not130_list)].reset_index(drop=True)\n",
    "#\"Clean\" dataframe, excluding countries-year with less than 130 quantiles\n",
    "wid_posttax_nat_clean = wid_posttax_nat[~wid_posttax_nat['country_year'].isin(posttax_nat_not130_list)].reset_index(drop=True)\n",
    "\n",
    "wid_posttax_nat_not130.percentile.value_counts(dropna=False) #counts unique values of quantiles in the country-years with issues"
   ]
  },
  {
   "cell_type": "markdown",
   "id": "8c67cedd-a816-4c3c-a0a7-a19e9cb03fc0",
   "metadata": {
    "tags": []
   },
   "source": [
    "And filtering out the exceptions, now all the percentiles are represented uniformly in 1469 distributions:"
   ]
  },
  {
   "cell_type": "code",
   "execution_count": 13,
   "id": "a6e8ee8e-3018-46c7-9468-efbcbed38147",
   "metadata": {},
   "outputs": [
    {
     "data": {
      "text/plain": [
       "p0p1           1469\n",
       "p97p98         1469\n",
       "p95p96         1469\n",
       "p94p95         1469\n",
       "p93p94         1469\n",
       "               ... \n",
       "p38p39         1469\n",
       "p37p38         1469\n",
       "p36p37         1469\n",
       "p35p36         1469\n",
       "p99.999p100    1469\n",
       "Name: percentile, Length: 130, dtype: int64"
      ]
     },
     "execution_count": 13,
     "metadata": {},
     "output_type": "execute_result"
    }
   ],
   "source": [
    "wid_posttax_nat_clean.percentile.value_counts(dropna=False)"
   ]
  },
  {
   "cell_type": "markdown",
   "id": "20c3b069",
   "metadata": {},
   "source": [
    "#### Post-tax disposable income"
   ]
  },
  {
   "cell_type": "markdown",
   "id": "ea0ecafc",
   "metadata": {},
   "source": [
    "There are more post-tax disposable income distributions that follow this category:"
   ]
  },
  {
   "cell_type": "code",
   "execution_count": 14,
   "id": "619ac573",
   "metadata": {},
   "outputs": [
    {
     "data": {
      "text/html": [
       "<div>\n",
       "<style scoped>\n",
       "    .dataframe tbody tr th:only-of-type {\n",
       "        vertical-align: middle;\n",
       "    }\n",
       "\n",
       "    .dataframe tbody tr th {\n",
       "        vertical-align: top;\n",
       "    }\n",
       "\n",
       "    .dataframe thead th {\n",
       "        text-align: right;\n",
       "    }\n",
       "</style>\n",
       "<table border=\"1\" class=\"dataframe\">\n",
       "  <thead>\n",
       "    <tr style=\"text-align: right;\">\n",
       "      <th></th>\n",
       "      <th>country</th>\n",
       "      <th>year</th>\n",
       "      <th>country_year</th>\n",
       "      <th>percentile</th>\n",
       "      <th>p</th>\n",
       "      <th>threshold</th>\n",
       "      <th>average</th>\n",
       "      <th>share</th>\n",
       "      <th>inv_paretolorenz</th>\n",
       "      <th>age</th>\n",
       "      <th>pop</th>\n",
       "    </tr>\n",
       "  </thead>\n",
       "  <tbody>\n",
       "    <tr>\n",
       "      <th>0</th>\n",
       "      <td>FR</td>\n",
       "      <td>1900</td>\n",
       "      <td>FR1900</td>\n",
       "      <td>1</td>\n",
       "      <td>1</td>\n",
       "      <td>0</td>\n",
       "      <td>0</td>\n",
       "      <td>1</td>\n",
       "      <td>0</td>\n",
       "      <td>1</td>\n",
       "      <td>1</td>\n",
       "    </tr>\n",
       "    <tr>\n",
       "      <th>1</th>\n",
       "      <td>FR</td>\n",
       "      <td>1910</td>\n",
       "      <td>FR1910</td>\n",
       "      <td>1</td>\n",
       "      <td>1</td>\n",
       "      <td>0</td>\n",
       "      <td>0</td>\n",
       "      <td>1</td>\n",
       "      <td>0</td>\n",
       "      <td>1</td>\n",
       "      <td>1</td>\n",
       "    </tr>\n",
       "    <tr>\n",
       "      <th>2</th>\n",
       "      <td>FR</td>\n",
       "      <td>1915</td>\n",
       "      <td>FR1915</td>\n",
       "      <td>1</td>\n",
       "      <td>1</td>\n",
       "      <td>0</td>\n",
       "      <td>0</td>\n",
       "      <td>1</td>\n",
       "      <td>0</td>\n",
       "      <td>1</td>\n",
       "      <td>1</td>\n",
       "    </tr>\n",
       "    <tr>\n",
       "      <th>3</th>\n",
       "      <td>FR</td>\n",
       "      <td>1916</td>\n",
       "      <td>FR1916</td>\n",
       "      <td>1</td>\n",
       "      <td>1</td>\n",
       "      <td>0</td>\n",
       "      <td>0</td>\n",
       "      <td>1</td>\n",
       "      <td>0</td>\n",
       "      <td>1</td>\n",
       "      <td>1</td>\n",
       "    </tr>\n",
       "    <tr>\n",
       "      <th>4</th>\n",
       "      <td>FR</td>\n",
       "      <td>1917</td>\n",
       "      <td>FR1917</td>\n",
       "      <td>1</td>\n",
       "      <td>1</td>\n",
       "      <td>0</td>\n",
       "      <td>0</td>\n",
       "      <td>1</td>\n",
       "      <td>0</td>\n",
       "      <td>1</td>\n",
       "      <td>1</td>\n",
       "    </tr>\n",
       "    <tr>\n",
       "      <th>...</th>\n",
       "      <td>...</td>\n",
       "      <td>...</td>\n",
       "      <td>...</td>\n",
       "      <td>...</td>\n",
       "      <td>...</td>\n",
       "      <td>...</td>\n",
       "      <td>...</td>\n",
       "      <td>...</td>\n",
       "      <td>...</td>\n",
       "      <td>...</td>\n",
       "      <td>...</td>\n",
       "    </tr>\n",
       "    <tr>\n",
       "      <th>165</th>\n",
       "      <td>US</td>\n",
       "      <td>2014</td>\n",
       "      <td>US2014</td>\n",
       "      <td>3</td>\n",
       "      <td>3</td>\n",
       "      <td>0</td>\n",
       "      <td>0</td>\n",
       "      <td>3</td>\n",
       "      <td>0</td>\n",
       "      <td>1</td>\n",
       "      <td>1</td>\n",
       "    </tr>\n",
       "    <tr>\n",
       "      <th>166</th>\n",
       "      <td>US</td>\n",
       "      <td>2015</td>\n",
       "      <td>US2015</td>\n",
       "      <td>3</td>\n",
       "      <td>3</td>\n",
       "      <td>0</td>\n",
       "      <td>0</td>\n",
       "      <td>3</td>\n",
       "      <td>0</td>\n",
       "      <td>1</td>\n",
       "      <td>1</td>\n",
       "    </tr>\n",
       "    <tr>\n",
       "      <th>167</th>\n",
       "      <td>US</td>\n",
       "      <td>2016</td>\n",
       "      <td>US2016</td>\n",
       "      <td>3</td>\n",
       "      <td>3</td>\n",
       "      <td>0</td>\n",
       "      <td>0</td>\n",
       "      <td>3</td>\n",
       "      <td>0</td>\n",
       "      <td>1</td>\n",
       "      <td>1</td>\n",
       "    </tr>\n",
       "    <tr>\n",
       "      <th>168</th>\n",
       "      <td>US</td>\n",
       "      <td>2017</td>\n",
       "      <td>US2017</td>\n",
       "      <td>3</td>\n",
       "      <td>3</td>\n",
       "      <td>0</td>\n",
       "      <td>0</td>\n",
       "      <td>3</td>\n",
       "      <td>0</td>\n",
       "      <td>1</td>\n",
       "      <td>1</td>\n",
       "    </tr>\n",
       "    <tr>\n",
       "      <th>169</th>\n",
       "      <td>US</td>\n",
       "      <td>2018</td>\n",
       "      <td>US2018</td>\n",
       "      <td>3</td>\n",
       "      <td>3</td>\n",
       "      <td>0</td>\n",
       "      <td>0</td>\n",
       "      <td>3</td>\n",
       "      <td>0</td>\n",
       "      <td>1</td>\n",
       "      <td>1</td>\n",
       "    </tr>\n",
       "  </tbody>\n",
       "</table>\n",
       "<p>170 rows × 11 columns</p>\n",
       "</div>"
      ],
      "text/plain": [
       "    country  year country_year  percentile  p  threshold  average  share  \\\n",
       "0        FR  1900       FR1900           1  1          0        0      1   \n",
       "1        FR  1910       FR1910           1  1          0        0      1   \n",
       "2        FR  1915       FR1915           1  1          0        0      1   \n",
       "3        FR  1916       FR1916           1  1          0        0      1   \n",
       "4        FR  1917       FR1917           1  1          0        0      1   \n",
       "..      ...   ...          ...         ... ..        ...      ...    ...   \n",
       "165      US  2014       US2014           3  3          0        0      3   \n",
       "166      US  2015       US2015           3  3          0        0      3   \n",
       "167      US  2016       US2016           3  3          0        0      3   \n",
       "168      US  2017       US2017           3  3          0        0      3   \n",
       "169      US  2018       US2018           3  3          0        0      3   \n",
       "\n",
       "     inv_paretolorenz  age  pop  \n",
       "0                   0    1    1  \n",
       "1                   0    1    1  \n",
       "2                   0    1    1  \n",
       "3                   0    1    1  \n",
       "4                   0    1    1  \n",
       "..                ...  ...  ...  \n",
       "165                 0    1    1  \n",
       "166                 0    1    1  \n",
       "167                 0    1    1  \n",
       "168                 0    1    1  \n",
       "169                 0    1    1  \n",
       "\n",
       "[170 rows x 11 columns]"
      ]
     },
     "execution_count": 14,
     "metadata": {},
     "output_type": "execute_result"
    }
   ],
   "source": [
    "posttax_dis_count = wid_posttax_dis.groupby(['country', 'year', 'country_year']).nunique() #counts unique values for the variables\n",
    "posttax_dis_not130 = posttax_dis_count[posttax_dis_count['percentile']!=130].reset_index() #new dataframe with new indices\n",
    "posttax_dis_not130"
   ]
  },
  {
   "cell_type": "markdown",
   "id": "ea1dd613",
   "metadata": {},
   "source": [
    "In the case of the post-tax disposable data there are 170 different distributions that do not have the 130 quantiles. The main stats of this group are in the following table."
   ]
  },
  {
   "cell_type": "code",
   "execution_count": 15,
   "id": "c6368c28",
   "metadata": {},
   "outputs": [
    {
     "data": {
      "text/html": [
       "<div>\n",
       "<style scoped>\n",
       "    .dataframe tbody tr th:only-of-type {\n",
       "        vertical-align: middle;\n",
       "    }\n",
       "\n",
       "    .dataframe tbody tr th {\n",
       "        vertical-align: top;\n",
       "    }\n",
       "\n",
       "    .dataframe thead th {\n",
       "        text-align: right;\n",
       "    }\n",
       "</style>\n",
       "<table border=\"1\" class=\"dataframe\">\n",
       "  <thead>\n",
       "    <tr style=\"text-align: right;\">\n",
       "      <th></th>\n",
       "      <th>country</th>\n",
       "      <th>year</th>\n",
       "      <th>country_year</th>\n",
       "      <th>percentile</th>\n",
       "      <th>p</th>\n",
       "      <th>threshold</th>\n",
       "      <th>average</th>\n",
       "      <th>share</th>\n",
       "      <th>inv_paretolorenz</th>\n",
       "      <th>age</th>\n",
       "      <th>pop</th>\n",
       "    </tr>\n",
       "  </thead>\n",
       "  <tbody>\n",
       "    <tr>\n",
       "      <th>count</th>\n",
       "      <td>170</td>\n",
       "      <td>170.000000</td>\n",
       "      <td>170</td>\n",
       "      <td>170.000000</td>\n",
       "      <td>170.000000</td>\n",
       "      <td>170.0</td>\n",
       "      <td>170.0</td>\n",
       "      <td>170.000000</td>\n",
       "      <td>170.0</td>\n",
       "      <td>170.0</td>\n",
       "      <td>170.0</td>\n",
       "    </tr>\n",
       "    <tr>\n",
       "      <th>unique</th>\n",
       "      <td>2</td>\n",
       "      <td>NaN</td>\n",
       "      <td>170</td>\n",
       "      <td>NaN</td>\n",
       "      <td>NaN</td>\n",
       "      <td>NaN</td>\n",
       "      <td>NaN</td>\n",
       "      <td>NaN</td>\n",
       "      <td>NaN</td>\n",
       "      <td>NaN</td>\n",
       "      <td>NaN</td>\n",
       "    </tr>\n",
       "    <tr>\n",
       "      <th>top</th>\n",
       "      <td>US</td>\n",
       "      <td>NaN</td>\n",
       "      <td>FR1900</td>\n",
       "      <td>NaN</td>\n",
       "      <td>NaN</td>\n",
       "      <td>NaN</td>\n",
       "      <td>NaN</td>\n",
       "      <td>NaN</td>\n",
       "      <td>NaN</td>\n",
       "      <td>NaN</td>\n",
       "      <td>NaN</td>\n",
       "    </tr>\n",
       "    <tr>\n",
       "      <th>freq</th>\n",
       "      <td>106</td>\n",
       "      <td>NaN</td>\n",
       "      <td>1</td>\n",
       "      <td>NaN</td>\n",
       "      <td>NaN</td>\n",
       "      <td>NaN</td>\n",
       "      <td>NaN</td>\n",
       "      <td>NaN</td>\n",
       "      <td>NaN</td>\n",
       "      <td>NaN</td>\n",
       "      <td>NaN</td>\n",
       "    </tr>\n",
       "    <tr>\n",
       "      <th>mean</th>\n",
       "      <td>NaN</td>\n",
       "      <td>1957.552941</td>\n",
       "      <td>NaN</td>\n",
       "      <td>2.247059</td>\n",
       "      <td>2.247059</td>\n",
       "      <td>0.0</td>\n",
       "      <td>0.0</td>\n",
       "      <td>2.247059</td>\n",
       "      <td>0.0</td>\n",
       "      <td>1.0</td>\n",
       "      <td>1.0</td>\n",
       "    </tr>\n",
       "    <tr>\n",
       "      <th>std</th>\n",
       "      <td>NaN</td>\n",
       "      <td>28.854873</td>\n",
       "      <td>NaN</td>\n",
       "      <td>0.971863</td>\n",
       "      <td>0.971863</td>\n",
       "      <td>0.0</td>\n",
       "      <td>0.0</td>\n",
       "      <td>0.971863</td>\n",
       "      <td>0.0</td>\n",
       "      <td>0.0</td>\n",
       "      <td>0.0</td>\n",
       "    </tr>\n",
       "    <tr>\n",
       "      <th>min</th>\n",
       "      <td>NaN</td>\n",
       "      <td>1900.000000</td>\n",
       "      <td>NaN</td>\n",
       "      <td>1.000000</td>\n",
       "      <td>1.000000</td>\n",
       "      <td>0.0</td>\n",
       "      <td>0.0</td>\n",
       "      <td>1.000000</td>\n",
       "      <td>0.0</td>\n",
       "      <td>1.0</td>\n",
       "      <td>1.0</td>\n",
       "    </tr>\n",
       "    <tr>\n",
       "      <th>25%</th>\n",
       "      <td>NaN</td>\n",
       "      <td>1934.000000</td>\n",
       "      <td>NaN</td>\n",
       "      <td>1.000000</td>\n",
       "      <td>1.000000</td>\n",
       "      <td>0.0</td>\n",
       "      <td>0.0</td>\n",
       "      <td>1.000000</td>\n",
       "      <td>0.0</td>\n",
       "      <td>1.0</td>\n",
       "      <td>1.0</td>\n",
       "    </tr>\n",
       "    <tr>\n",
       "      <th>50%</th>\n",
       "      <td>NaN</td>\n",
       "      <td>1955.000000</td>\n",
       "      <td>NaN</td>\n",
       "      <td>3.000000</td>\n",
       "      <td>3.000000</td>\n",
       "      <td>0.0</td>\n",
       "      <td>0.0</td>\n",
       "      <td>3.000000</td>\n",
       "      <td>0.0</td>\n",
       "      <td>1.0</td>\n",
       "      <td>1.0</td>\n",
       "    </tr>\n",
       "    <tr>\n",
       "      <th>75%</th>\n",
       "      <td>NaN</td>\n",
       "      <td>1977.000000</td>\n",
       "      <td>NaN</td>\n",
       "      <td>3.000000</td>\n",
       "      <td>3.000000</td>\n",
       "      <td>0.0</td>\n",
       "      <td>0.0</td>\n",
       "      <td>3.000000</td>\n",
       "      <td>0.0</td>\n",
       "      <td>1.0</td>\n",
       "      <td>1.0</td>\n",
       "    </tr>\n",
       "    <tr>\n",
       "      <th>max</th>\n",
       "      <td>NaN</td>\n",
       "      <td>2018.000000</td>\n",
       "      <td>NaN</td>\n",
       "      <td>3.000000</td>\n",
       "      <td>3.000000</td>\n",
       "      <td>0.0</td>\n",
       "      <td>0.0</td>\n",
       "      <td>3.000000</td>\n",
       "      <td>0.0</td>\n",
       "      <td>1.0</td>\n",
       "      <td>1.0</td>\n",
       "    </tr>\n",
       "  </tbody>\n",
       "</table>\n",
       "</div>"
      ],
      "text/plain": [
       "       country         year country_year  percentile           p  threshold  \\\n",
       "count      170   170.000000          170  170.000000  170.000000      170.0   \n",
       "unique       2          NaN          170         NaN         NaN        NaN   \n",
       "top         US          NaN       FR1900         NaN         NaN        NaN   \n",
       "freq       106          NaN            1         NaN         NaN        NaN   \n",
       "mean       NaN  1957.552941          NaN    2.247059    2.247059        0.0   \n",
       "std        NaN    28.854873          NaN    0.971863    0.971863        0.0   \n",
       "min        NaN  1900.000000          NaN    1.000000    1.000000        0.0   \n",
       "25%        NaN  1934.000000          NaN    1.000000    1.000000        0.0   \n",
       "50%        NaN  1955.000000          NaN    3.000000    3.000000        0.0   \n",
       "75%        NaN  1977.000000          NaN    3.000000    3.000000        0.0   \n",
       "max        NaN  2018.000000          NaN    3.000000    3.000000        0.0   \n",
       "\n",
       "        average       share  inv_paretolorenz    age    pop  \n",
       "count     170.0  170.000000             170.0  170.0  170.0  \n",
       "unique      NaN         NaN               NaN    NaN    NaN  \n",
       "top         NaN         NaN               NaN    NaN    NaN  \n",
       "freq        NaN         NaN               NaN    NaN    NaN  \n",
       "mean        0.0    2.247059               0.0    1.0    1.0  \n",
       "std         0.0    0.971863               0.0    0.0    0.0  \n",
       "min         0.0    1.000000               0.0    1.0    1.0  \n",
       "25%         0.0    1.000000               0.0    1.0    1.0  \n",
       "50%         0.0    3.000000               0.0    1.0    1.0  \n",
       "75%         0.0    3.000000               0.0    1.0    1.0  \n",
       "max         0.0    3.000000               0.0    1.0    1.0  "
      ]
     },
     "execution_count": 15,
     "metadata": {},
     "output_type": "execute_result"
    }
   ],
   "source": [
    "posttax_dis_not130.describe(include='all')"
   ]
  },
  {
   "cell_type": "markdown",
   "id": "a4e4c0d5",
   "metadata": {},
   "source": [
    "Only two countries are in this situation (France, US), with a range of years from 1900 to 2018 (median 1955). The amount of different percentiles for these groups range between 1 and 3. The cases are distributed as this table shows:"
   ]
  },
  {
   "cell_type": "code",
   "execution_count": 16,
   "id": "4721bb3a",
   "metadata": {},
   "outputs": [
    {
     "data": {
      "text/plain": [
       "US    106\n",
       "FR     64\n",
       "Name: country, dtype: int64"
      ]
     },
     "execution_count": 16,
     "metadata": {},
     "output_type": "execute_result"
    }
   ],
   "source": [
    "posttax_dis_not130.country.value_counts(dropna=False)"
   ]
  },
  {
   "cell_type": "markdown",
   "id": "12cb5453",
   "metadata": {},
   "source": [
    "In this case the percentiles are the **top 1%, 0.1% and 0.01%:**"
   ]
  },
  {
   "cell_type": "code",
   "execution_count": 17,
   "id": "896029ed",
   "metadata": {},
   "outputs": [
    {
     "data": {
      "text/plain": [
       "p99p100       170\n",
       "p99.9p100     106\n",
       "p99.99p100    106\n",
       "Name: percentile, dtype: int64"
      ]
     },
     "execution_count": 17,
     "metadata": {},
     "output_type": "execute_result"
    }
   ],
   "source": [
    "posttax_dis_not130_list = list(posttax_dis_not130.country_year.unique()) #Gets the list of country-year which do not have 130 quantiles\n",
    "\n",
    "#Dataframe with only the country-year in the list:\n",
    "wid_posttax_dis_not130 = wid_posttax_dis[wid_posttax_dis['country_year'].isin(posttax_dis_not130_list)].reset_index(drop=True)\n",
    "#\"Clean\" dataframe, excluding countries-year with less than 130 quantiles \n",
    "wid_posttax_dis_clean = wid_posttax_dis[~wid_posttax_dis['country_year'].isin(posttax_dis_not130_list)].reset_index(drop=True)\n",
    "\n",
    "wid_posttax_dis_not130.percentile.value_counts(dropna=False) #counts unique values of quantiles in the country-years with issues"
   ]
  },
  {
   "cell_type": "markdown",
   "id": "82c75085-d1fb-45d4-a1c6-b18f7cc974e4",
   "metadata": {
    "tags": []
   },
   "source": [
    "And filtering out the exceptions, now all the percentiles are represented uniformly in 1363 distributions:"
   ]
  },
  {
   "cell_type": "code",
   "execution_count": 18,
   "id": "593941c2-94d7-40f3-920b-51d03204bcce",
   "metadata": {},
   "outputs": [
    {
     "data": {
      "text/plain": [
       "p0p1           1363\n",
       "p97p98         1363\n",
       "p95p96         1363\n",
       "p94p95         1363\n",
       "p93p94         1363\n",
       "               ... \n",
       "p38p39         1363\n",
       "p37p38         1363\n",
       "p36p37         1363\n",
       "p35p36         1363\n",
       "p99.999p100    1363\n",
       "Name: percentile, Length: 130, dtype: int64"
      ]
     },
     "execution_count": 18,
     "metadata": {},
     "output_type": "execute_result"
    }
   ],
   "source": [
    "wid_posttax_dis_clean.percentile.value_counts(dropna=False)"
   ]
  },
  {
   "cell_type": "markdown",
   "id": "74de37ff-7d32-4bd1-a65f-fddeeaf4b58f",
   "metadata": {},
   "source": [
    "### Monotonicity"
   ]
  },
  {
   "cell_type": "markdown",
   "id": "1a97bc46-ab59-4a94-822f-4e6559014f48",
   "metadata": {},
   "source": [
    "When ordered by **p**, the threshold and average values for each country-year should not decrease. These can increase or stay the same, but never decrease. If this happens the construction of the distribution failed."
   ]
  },
  {
   "cell_type": "markdown",
   "id": "6b794d0e",
   "metadata": {},
   "source": [
    "#### Pretax income distribution"
   ]
  },
  {
   "cell_type": "code",
   "execution_count": 19,
   "id": "ddedb109-861e-4d9b-9175-9eac4ca6bb20",
   "metadata": {},
   "outputs": [],
   "source": [
    "#These three quantiles are excluded to get an entirely continous series\n",
    "excl_list = ['p99p100', 'p99.9p100', 'p99.99p100']\n",
    "wid_pretax_monotonicity = wid_pretax_clean[~wid_pretax_clean['percentile'].isin(excl_list)].reset_index(drop=True)"
   ]
  },
  {
   "cell_type": "markdown",
   "id": "0fbbd964",
   "metadata": {},
   "source": [
    "In the following code code the monotonicity is checked for the variables **average** and **threshold**."
   ]
  },
  {
   "cell_type": "code",
   "execution_count": 20,
   "id": "064b46b3-a4f9-4725-935b-a64e5b76482b",
   "metadata": {
    "tags": []
   },
   "outputs": [],
   "source": [
    "#The average and threshold values are lagged by one row in the lagged_average and lagged_threshold variables for them to be compared\n",
    "\n",
    "wid_pretax_monotonicity['lagged_average'] =  wid_pretax_monotonicity['average'].shift(1) #average shifted by 1 row\n",
    "wid_pretax_monotonicity['monotonicity_check_avg'] =  wid_pretax_monotonicity['average'] >= wid_pretax_monotonicity['lagged_average'] #True if average is greater than or equal than the previous \n",
    "wid_pretax_monotonicity.loc[(wid_pretax_monotonicity['percentile'] == 'p0p1'), 'monotonicity_check_avg'] = True #The first percentile gets automatically a True value, as it cannot be compared\n",
    "wid_pretax_monotonicity.loc[(wid_pretax_monotonicity['average'].isnull()) | (wid_pretax_monotonicity['lagged_average'].isnull()), 'monotonicity_check_avg'] = np.nan #If values are null the comparison is null\n",
    "\n",
    "#Same steps for threshold\n",
    "wid_pretax_monotonicity['lagged_threshold'] =  wid_pretax_monotonicity['threshold'].shift(1)\n",
    "wid_pretax_monotonicity['monotonicity_check_thr'] =  wid_pretax_monotonicity['threshold'] >= wid_pretax_monotonicity['lagged_threshold']\n",
    "wid_pretax_monotonicity.loc[(wid_pretax_monotonicity['percentile'] == 'p0p1'), 'monotonicity_check_thr'] = True\n",
    "wid_pretax_monotonicity.loc[(wid_pretax_monotonicity['threshold'].isnull()) | (wid_pretax_monotonicity['lagged_threshold'].isnull()), 'monotonicity_check_thr'] = np.nan"
   ]
  },
  {
   "cell_type": "markdown",
   "id": "6b994723",
   "metadata": {},
   "source": [
    "**99.85%** of the values for average and **99.64%** of the values for threshold **pass the test**:"
   ]
  },
  {
   "cell_type": "code",
   "execution_count": 21,
   "id": "ac5cfe54-258c-4fba-8449-278442f23b7b",
   "metadata": {},
   "outputs": [
    {
     "data": {
      "text/plain": [
       "True     0.998449\n",
       "False    0.001551\n",
       "Name: monotonicity_check_avg, dtype: float64"
      ]
     },
     "execution_count": 21,
     "metadata": {},
     "output_type": "execute_result"
    }
   ],
   "source": [
    "wid_pretax_monotonicity.monotonicity_check_avg.value_counts(normalize=True)"
   ]
  },
  {
   "cell_type": "code",
   "execution_count": 22,
   "id": "022e911f",
   "metadata": {},
   "outputs": [
    {
     "data": {
      "text/plain": [
       "True     0.996365\n",
       "False    0.003635\n",
       "Name: monotonicity_check_thr, dtype: float64"
      ]
     },
     "execution_count": 22,
     "metadata": {},
     "output_type": "execute_result"
    }
   ],
   "source": [
    "wid_pretax_monotonicity.monotonicity_check_thr.value_counts(normalize=True)"
   ]
  },
  {
   "cell_type": "markdown",
   "id": "d30ef68b",
   "metadata": {},
   "source": [
    "These are the countries showing discontinuities in some of their distributions:"
   ]
  },
  {
   "cell_type": "code",
   "execution_count": 23,
   "id": "33761c58",
   "metadata": {},
   "outputs": [
    {
     "data": {
      "text/plain": [
       "SG    249\n",
       "TW    246\n",
       "PE     55\n",
       "SV     46\n",
       "AR     43\n",
       "EC     31\n",
       "CR     30\n",
       "UY     22\n",
       "BR     21\n",
       "MX     19\n",
       "CL     13\n",
       "CO     11\n",
       "HK      9\n",
       "UA      7\n",
       "NZ      1\n",
       "Name: country, dtype: int64"
      ]
     },
     "execution_count": 23,
     "metadata": {},
     "output_type": "execute_result"
    }
   ],
   "source": [
    "#Dataframe keeping only the False checks (average)\n",
    "pretax_avgfalse = wid_pretax_monotonicity[wid_pretax_monotonicity['monotonicity_check_avg']==False].reset_index(drop=True)\n",
    "pretax_avgfalse.country.value_counts(dropna=False)"
   ]
  },
  {
   "cell_type": "code",
   "execution_count": 24,
   "id": "0696d89a",
   "metadata": {},
   "outputs": [
    {
     "data": {
      "text/plain": [
       "AU    520\n",
       "NZ    318\n",
       "TW    300\n",
       "SG    297\n",
       "CA    271\n",
       "NO     25\n",
       "UA     20\n",
       "CZ     20\n",
       "BY     16\n",
       "IN     10\n",
       "KR      9\n",
       "RU      9\n",
       "AM      9\n",
       "DD      8\n",
       "DK      6\n",
       "BG      6\n",
       "FI      4\n",
       "PL      4\n",
       "AZ      3\n",
       "SK      3\n",
       "CN      3\n",
       "EG      2\n",
       "KZ      2\n",
       "KG      2\n",
       "IE      2\n",
       "HU      2\n",
       "ZA      2\n",
       "LT      1\n",
       "LV      1\n",
       "NP      1\n",
       "EE      1\n",
       "RO      1\n",
       "AT      1\n",
       "SI      1\n",
       "BD      1\n",
       "HK      1\n",
       "Name: country, dtype: int64"
      ]
     },
     "execution_count": 24,
     "metadata": {},
     "output_type": "execute_result"
    }
   ],
   "source": [
    "#Dataframe keeping only the False checks (threshold)\n",
    "pretax_thrfalse = wid_pretax_monotonicity[wid_pretax_monotonicity['monotonicity_check_thr']==False].reset_index(drop=True)\n",
    "pretax_thrfalse.country.value_counts(dropna=False)"
   ]
  },
  {
   "cell_type": "markdown",
   "id": "c2919047",
   "metadata": {},
   "source": [
    "The discontinuities are more concentrated in the subdivisions of the top 1% for the average and is more mixed for threshold:"
   ]
  },
  {
   "cell_type": "code",
   "execution_count": 25,
   "id": "19ff8539",
   "metadata": {},
   "outputs": [
    {
     "data": {
      "text/plain": [
       "p99.997p99.998    62\n",
       "p99.995p99.996    60\n",
       "p99.994p99.995    59\n",
       "p99.998p99.999    57\n",
       "p99.993p99.994    56\n",
       "p99.992p99.993    54\n",
       "p99.991p99.992    37\n",
       "p99.95p99.96      36\n",
       "p99.996p99.997    36\n",
       "p99.92p99.93      35\n",
       "p99.8p99.9        31\n",
       "p99.91p99.92      30\n",
       "p99.98p99.99      28\n",
       "p99.94p99.95      25\n",
       "p99.93p99.94      24\n",
       "p99.97p99.98      22\n",
       "p98p99            22\n",
       "p99.1p99.2        19\n",
       "p99.9p99.91       19\n",
       "p99.7p99.8        14\n",
       "p99.96p99.97      13\n",
       "p99.5p99.6        12\n",
       "p99.6p99.7         9\n",
       "p99.2p99.3         9\n",
       "p99.999p100        6\n",
       "p99.4p99.5         5\n",
       "p99.99p99.991      3\n",
       "p92p93             3\n",
       "p99.3p99.4         3\n",
       "p24p25             2\n",
       "p90p91             2\n",
       "p97p98             1\n",
       "p96p97             1\n",
       "p67p68             1\n",
       "p34p35             1\n",
       "p56p57             1\n",
       "p94p95             1\n",
       "p66p67             1\n",
       "p30p31             1\n",
       "p31p32             1\n",
       "p83p84             1\n",
       "Name: percentile, dtype: int64"
      ]
     },
     "execution_count": 25,
     "metadata": {},
     "output_type": "execute_result"
    }
   ],
   "source": [
    "pretax_avgfalse.percentile.value_counts(dropna=False)"
   ]
  },
  {
   "cell_type": "code",
   "execution_count": 26,
   "id": "92177928",
   "metadata": {},
   "outputs": [
    {
     "data": {
      "text/plain": [
       "p21p22    402\n",
       "p26p27    108\n",
       "p22p23    107\n",
       "p23p24    106\n",
       "p28p29     83\n",
       "         ... \n",
       "p60p61      1\n",
       "p73p74      1\n",
       "p86p87      1\n",
       "p55p56      1\n",
       "p98p99      1\n",
       "Name: percentile, Length: 87, dtype: int64"
      ]
     },
     "execution_count": 26,
     "metadata": {},
     "output_type": "execute_result"
    }
   ],
   "source": [
    "#pd.set_option(\"display.max_rows\", None)\n",
    "pretax_thrfalse.percentile.value_counts(dropna=False)"
   ]
  },
  {
   "cell_type": "markdown",
   "id": "f01c141c",
   "metadata": {},
   "source": [
    "#### Post-tax national income distribution"
   ]
  },
  {
   "cell_type": "code",
   "execution_count": 27,
   "id": "f20131f2",
   "metadata": {},
   "outputs": [],
   "source": [
    "#These three quantiles are excluded to get an entirely continous series\n",
    "excl_list = ['p99p100', 'p99.9p100', 'p99.99p100']\n",
    "wid_posttax_nat_monotonicity = wid_posttax_nat_clean[~wid_posttax_nat_clean['percentile'].isin(excl_list)].reset_index(drop=True)"
   ]
  },
  {
   "cell_type": "code",
   "execution_count": 28,
   "id": "9abfa50d",
   "metadata": {
    "tags": []
   },
   "outputs": [],
   "source": [
    "#The average and threshold values are lagged by one row in the lagged_average and lagged_threshold variables for them to be compared\n",
    "\n",
    "wid_posttax_nat_monotonicity['lagged_average'] =  wid_posttax_nat_monotonicity['average'].shift(1) #average shifted by 1 row\n",
    "wid_posttax_nat_monotonicity['monotonicity_check_avg'] =  wid_posttax_nat_monotonicity['average'] >= wid_posttax_nat_monotonicity['lagged_average'] #True if average is greater than or equal than the previous \n",
    "wid_posttax_nat_monotonicity.loc[(wid_posttax_nat_monotonicity['percentile'] == 'p0p1'), 'monotonicity_check_avg'] = True #The first percentile gets automatically a True value, as it cannot be compared\n",
    "wid_posttax_nat_monotonicity.loc[(wid_posttax_nat_monotonicity['average'].isnull()) | (wid_posttax_nat_monotonicity['lagged_average'].isnull()), 'monotonicity_check_avg'] = np.nan #If values are null the comparison is null\n",
    "\n",
    "#Same steps for threshold\n",
    "wid_posttax_nat_monotonicity['lagged_threshold'] =  wid_posttax_nat_monotonicity['threshold'].shift(1)\n",
    "wid_posttax_nat_monotonicity['monotonicity_check_thr'] =  wid_posttax_nat_monotonicity['threshold'] >= wid_posttax_nat_monotonicity['lagged_threshold']\n",
    "wid_posttax_nat_monotonicity.loc[(wid_posttax_nat_monotonicity['percentile'] == 'p0p1'), 'monotonicity_check_thr'] = True\n",
    "wid_posttax_nat_monotonicity.loc[(wid_posttax_nat_monotonicity['threshold'].isnull()) | (wid_posttax_nat_monotonicity['lagged_threshold'].isnull()), 'monotonicity_check_thr'] = np.nan"
   ]
  },
  {
   "cell_type": "markdown",
   "id": "1d0da9df",
   "metadata": {},
   "source": [
    "**99.995%** of the values for average and **100%** of the values of threshold **pass the test**:"
   ]
  },
  {
   "cell_type": "code",
   "execution_count": 29,
   "id": "f6549276",
   "metadata": {},
   "outputs": [
    {
     "data": {
      "text/plain": [
       "True     0.999952\n",
       "False    0.000048\n",
       "Name: monotonicity_check_avg, dtype: float64"
      ]
     },
     "execution_count": 29,
     "metadata": {},
     "output_type": "execute_result"
    }
   ],
   "source": [
    "wid_posttax_nat_monotonicity.monotonicity_check_avg.value_counts(normalize=True)"
   ]
  },
  {
   "cell_type": "code",
   "execution_count": 30,
   "id": "07751e78",
   "metadata": {},
   "outputs": [
    {
     "data": {
      "text/plain": [
       "True    1.0\n",
       "Name: monotonicity_check_thr, dtype: float64"
      ]
     },
     "execution_count": 30,
     "metadata": {},
     "output_type": "execute_result"
    }
   ],
   "source": [
    "wid_posttax_nat_monotonicity.monotonicity_check_thr.value_counts(normalize=True)"
   ]
  },
  {
   "cell_type": "code",
   "execution_count": 31,
   "id": "644fe9f0",
   "metadata": {},
   "outputs": [
    {
     "data": {
      "text/plain": [
       "SK    6\n",
       "FR    1\n",
       "LU    1\n",
       "Name: country, dtype: int64"
      ]
     },
     "execution_count": 31,
     "metadata": {},
     "output_type": "execute_result"
    }
   ],
   "source": [
    "#Dataframe keeping only the False checks (average)\n",
    "posttax_nat_avgfalse = wid_posttax_nat_monotonicity[wid_posttax_nat_monotonicity['monotonicity_check_avg']==False].reset_index(drop=True)\n",
    "posttax_nat_avgfalse.country.value_counts(dropna=False)"
   ]
  },
  {
   "cell_type": "code",
   "execution_count": 32,
   "id": "03fea727",
   "metadata": {},
   "outputs": [
    {
     "data": {
      "text/plain": [
       "Series([], Name: country, dtype: int64)"
      ]
     },
     "execution_count": 32,
     "metadata": {},
     "output_type": "execute_result"
    }
   ],
   "source": [
    "#Dataframe keeping only the False checks (threshold)\n",
    "posttax_nat_thrfalse = wid_posttax_nat_monotonicity[wid_posttax_nat_monotonicity['monotonicity_check_thr']==False].reset_index(drop=True)\n",
    "posttax_nat_thrfalse.country.value_counts(dropna=False)"
   ]
  },
  {
   "cell_type": "code",
   "execution_count": 33,
   "id": "24891b34",
   "metadata": {},
   "outputs": [
    {
     "data": {
      "text/plain": [
       "p2p3              3\n",
       "p1p2              2\n",
       "p99.997p99.998    1\n",
       "p3p4              1\n",
       "p4p5              1\n",
       "Name: percentile, dtype: int64"
      ]
     },
     "execution_count": 33,
     "metadata": {},
     "output_type": "execute_result"
    }
   ],
   "source": [
    "posttax_nat_avgfalse.percentile.value_counts(dropna=False)"
   ]
  },
  {
   "cell_type": "code",
   "execution_count": 34,
   "id": "68d8adb7",
   "metadata": {},
   "outputs": [
    {
     "data": {
      "text/plain": [
       "Series([], Name: percentile, dtype: int64)"
      ]
     },
     "execution_count": 34,
     "metadata": {},
     "output_type": "execute_result"
    }
   ],
   "source": [
    "posttax_nat_thrfalse.percentile.value_counts(dropna=False)"
   ]
  },
  {
   "cell_type": "markdown",
   "id": "99c8f2e1",
   "metadata": {},
   "source": [
    "#### Post-tax disposable income distribution"
   ]
  },
  {
   "cell_type": "code",
   "execution_count": 35,
   "id": "e74c3782",
   "metadata": {},
   "outputs": [],
   "source": [
    "#These three quantiles are excluded to get an entirely continous series\n",
    "excl_list = ['p99p100', 'p99.9p100', 'p99.99p100']\n",
    "wid_posttax_dis_monotonicity = wid_posttax_dis_clean[~wid_posttax_dis_clean['percentile'].isin(excl_list)].reset_index(drop=True)"
   ]
  },
  {
   "cell_type": "code",
   "execution_count": 36,
   "id": "14d7e95f",
   "metadata": {
    "tags": []
   },
   "outputs": [],
   "source": [
    "#The average and threshold values are lagged by one row in the lagged_average and lagged_threshold variables for them to be compared\n",
    "\n",
    "wid_posttax_dis_monotonicity['lagged_average'] =  wid_posttax_dis_monotonicity['average'].shift(1) #average shifted by 1 row\n",
    "wid_posttax_dis_monotonicity['monotonicity_check_avg'] =  wid_posttax_dis_monotonicity['average'] >= wid_posttax_dis_monotonicity['lagged_average'] #True if average is greater than or equal than the previous \n",
    "wid_posttax_dis_monotonicity.loc[(wid_posttax_dis_monotonicity['percentile'] == 'p0p1'), 'monotonicity_check_avg'] = True #The first percentile gets automatically a True value, as it cannot be compared\n",
    "wid_posttax_dis_monotonicity.loc[(wid_posttax_dis_monotonicity['average'].isnull()) | (wid_posttax_dis_monotonicity['lagged_average'].isnull()), 'monotonicity_check_avg'] = np.nan #If values are null the comparison is null\n",
    "\n",
    "#Same steps for threshold\n",
    "wid_posttax_dis_monotonicity['lagged_threshold'] =  wid_posttax_dis_monotonicity['threshold'].shift(1)\n",
    "wid_posttax_dis_monotonicity['monotonicity_check_thr'] =  wid_posttax_dis_monotonicity['threshold'] >= wid_posttax_dis_monotonicity['lagged_threshold']\n",
    "wid_posttax_dis_monotonicity.loc[(wid_posttax_dis_monotonicity['percentile'] == 'p0p1'), 'monotonicity_check_thr'] = True\n",
    "wid_posttax_dis_monotonicity.loc[(wid_posttax_dis_monotonicity['threshold'].isnull()) | (wid_posttax_dis_monotonicity['lagged_threshold'].isnull()), 'monotonicity_check_thr'] = np.nan"
   ]
  },
  {
   "cell_type": "markdown",
   "id": "5b4383c6",
   "metadata": {},
   "source": [
    "**100%** of the values for average and threshold **pass the test**:"
   ]
  },
  {
   "cell_type": "code",
   "execution_count": 37,
   "id": "3f68b62e",
   "metadata": {},
   "outputs": [
    {
     "data": {
      "text/plain": [
       "True    1.0\n",
       "Name: monotonicity_check_avg, dtype: float64"
      ]
     },
     "execution_count": 37,
     "metadata": {},
     "output_type": "execute_result"
    }
   ],
   "source": [
    "wid_posttax_dis_monotonicity.monotonicity_check_avg.value_counts(normalize=True)"
   ]
  },
  {
   "cell_type": "code",
   "execution_count": 38,
   "id": "fd26a89a",
   "metadata": {},
   "outputs": [
    {
     "data": {
      "text/plain": [
       "True    1.0\n",
       "Name: monotonicity_check_thr, dtype: float64"
      ]
     },
     "execution_count": 38,
     "metadata": {},
     "output_type": "execute_result"
    }
   ],
   "source": [
    "wid_posttax_dis_monotonicity.monotonicity_check_thr.value_counts(normalize=True)"
   ]
  },
  {
   "cell_type": "code",
   "execution_count": 39,
   "id": "39ef922c",
   "metadata": {},
   "outputs": [
    {
     "data": {
      "text/plain": [
       "Series([], Name: country, dtype: int64)"
      ]
     },
     "execution_count": 39,
     "metadata": {},
     "output_type": "execute_result"
    }
   ],
   "source": [
    "#Dataframe keeping only the False checks (average)\n",
    "posttax_dis_avgfalse = wid_posttax_dis_monotonicity[wid_posttax_dis_monotonicity['monotonicity_check_avg']==False].reset_index(drop=True)\n",
    "posttax_dis_avgfalse.country.value_counts(dropna=False)"
   ]
  },
  {
   "cell_type": "code",
   "execution_count": 40,
   "id": "f4ca39a6",
   "metadata": {},
   "outputs": [
    {
     "data": {
      "text/plain": [
       "Series([], Name: country, dtype: int64)"
      ]
     },
     "execution_count": 40,
     "metadata": {},
     "output_type": "execute_result"
    }
   ],
   "source": [
    "#Dataframe keeping only the False checks (threshold)\n",
    "posttax_dis_thrfalse = wid_posttax_dis_monotonicity[wid_posttax_dis_monotonicity['monotonicity_check_thr']==False].reset_index(drop=True)\n",
    "posttax_dis_thrfalse.country.value_counts(dropna=False)"
   ]
  },
  {
   "cell_type": "code",
   "execution_count": 41,
   "id": "b1d2e94e",
   "metadata": {},
   "outputs": [
    {
     "data": {
      "text/plain": [
       "Series([], Name: percentile, dtype: int64)"
      ]
     },
     "execution_count": 41,
     "metadata": {},
     "output_type": "execute_result"
    }
   ],
   "source": [
    "posttax_dis_avgfalse.percentile.value_counts(dropna=False)"
   ]
  },
  {
   "cell_type": "code",
   "execution_count": 42,
   "id": "734e03d3",
   "metadata": {},
   "outputs": [
    {
     "data": {
      "text/plain": [
       "Series([], Name: percentile, dtype: int64)"
      ]
     },
     "execution_count": 42,
     "metadata": {},
     "output_type": "execute_result"
    }
   ],
   "source": [
    "posttax_dis_thrfalse.percentile.value_counts(dropna=False)"
   ]
  },
  {
   "cell_type": "markdown",
   "id": "6d3ff5f0-5c78-4623-a401-48c881364d0c",
   "metadata": {},
   "source": [
    "This is important to check the robustness of the **threshold** and **average** data across the years, to see a logical evolution of these numbers and not sudden jumps which might due to errors in the construction or due to the quality of the microdata."
   ]
  },
  {
   "cell_type": "markdown",
   "id": "2618f0a0-5b06-447e-8240-2c8ae93527e1",
   "metadata": {},
   "source": [
    "### Negative values"
   ]
  },
  {
   "cell_type": "markdown",
   "id": "f0e60986-9937-4115-8c8a-2eee35b37159",
   "metadata": {},
   "source": [
    "Negative income values, although common in the construction of distributions, usually are bottom coded to 0. In this section, negative values for average and threshold are checked.\n",
    "\n",
    "As expected, negative values occur only in the first percentiles of the distribution (max p6p7 in post-tax disposable income). All this values are bottom coded to 0 in the *_positive* dataframes"
   ]
  },
  {
   "cell_type": "markdown",
   "id": "dae2881a-d33f-41e6-9730-17ed147fe5be",
   "metadata": {},
   "source": [
    "#### Pretax income"
   ]
  },
  {
   "cell_type": "code",
   "execution_count": 43,
   "id": "6a9701a4-2cf4-4bb2-a9b3-f10d0ddbe5d0",
   "metadata": {},
   "outputs": [],
   "source": [
    "pretax_negative_avg = wid_pretax_clean[wid_pretax_clean['average'] < 0].reset_index(drop=True) #keeps only average < 0\n",
    "pretax_negative_thr = wid_pretax_clean[wid_pretax_clean['threshold'] < 0].reset_index(drop=True) #keeps only threshold < 0\n",
    "\n",
    "#This dataframe changes the negative values of average and threshold to 0\n",
    "pretax_positive = wid_pretax_clean.copy()\n",
    "pretax_positive.loc[(pretax_positive['average'] < 0), 'average'] = 0\n",
    "pretax_positive.loc[(pretax_positive['threshold'] < 0), 'threshold'] = 0"
   ]
  },
  {
   "cell_type": "code",
   "execution_count": 44,
   "id": "7c92b435-425c-4177-8351-e9200c4e6964",
   "metadata": {},
   "outputs": [
    {
     "data": {
      "text/plain": [
       "p0p1    336\n",
       "p1p2    277\n",
       "p2p3    177\n",
       "p3p4     53\n",
       "Name: percentile, dtype: int64"
      ]
     },
     "execution_count": 44,
     "metadata": {},
     "output_type": "execute_result"
    }
   ],
   "source": [
    "pretax_negative_thr.percentile.value_counts(dropna=False)"
   ]
  },
  {
   "cell_type": "code",
   "execution_count": 45,
   "id": "6a6e4706-9230-4260-a599-5c431b328e1f",
   "metadata": {},
   "outputs": [
    {
     "data": {
      "text/plain": [
       "WO       124\n",
       "US       104\n",
       "XB        96\n",
       "QP        96\n",
       "QF        62\n",
       "OA        59\n",
       "XL        55\n",
       "QB        27\n",
       "QT        27\n",
       "XF        27\n",
       "XR        21\n",
       "QO        19\n",
       "OI        16\n",
       "QW        15\n",
       "OE        12\n",
       "OD        12\n",
       "OB        11\n",
       "QV        10\n",
       "QK         8\n",
       "QN         8\n",
       "QE         8\n",
       "CN-RU      6\n",
       "CN-UR      6\n",
       "BR         6\n",
       "QJ         4\n",
       "OJ         4\n",
       "Name: country, dtype: int64"
      ]
     },
     "execution_count": 45,
     "metadata": {},
     "output_type": "execute_result"
    }
   ],
   "source": [
    "pretax_negative_thr.country.value_counts(dropna=False)"
   ]
  },
  {
   "cell_type": "code",
   "execution_count": 46,
   "id": "8c9001ee",
   "metadata": {},
   "outputs": [
    {
     "data": {
      "text/plain": [
       "p0p1    336\n",
       "p1p2    277\n",
       "p2p3    177\n",
       "p3p4     53\n",
       "Name: percentile, dtype: int64"
      ]
     },
     "execution_count": 46,
     "metadata": {},
     "output_type": "execute_result"
    }
   ],
   "source": [
    "pretax_negative_thr.percentile.value_counts(dropna=False)"
   ]
  },
  {
   "cell_type": "code",
   "execution_count": 47,
   "id": "61f692c5",
   "metadata": {},
   "outputs": [
    {
     "data": {
      "text/plain": [
       "WO       124\n",
       "US       104\n",
       "XB        96\n",
       "QP        96\n",
       "QF        62\n",
       "OA        59\n",
       "XL        55\n",
       "QB        27\n",
       "QT        27\n",
       "XF        27\n",
       "XR        21\n",
       "QO        19\n",
       "OI        16\n",
       "QW        15\n",
       "OE        12\n",
       "OD        12\n",
       "OB        11\n",
       "QV        10\n",
       "QK         8\n",
       "QN         8\n",
       "QE         8\n",
       "CN-RU      6\n",
       "CN-UR      6\n",
       "BR         6\n",
       "QJ         4\n",
       "OJ         4\n",
       "Name: country, dtype: int64"
      ]
     },
     "execution_count": 47,
     "metadata": {},
     "output_type": "execute_result"
    }
   ],
   "source": [
    "pretax_negative_thr.country.value_counts(dropna=False)"
   ]
  },
  {
   "cell_type": "markdown",
   "id": "b72ba4c9",
   "metadata": {},
   "source": [
    "#### Post-tax national income"
   ]
  },
  {
   "cell_type": "code",
   "execution_count": 48,
   "id": "b405936b",
   "metadata": {},
   "outputs": [],
   "source": [
    "posttax_nat_negative_avg = wid_posttax_nat_clean[wid_posttax_nat_clean['average'] < 0].reset_index(drop=True) #keeps only average < 0\n",
    "posttax_nat_negative_thr = wid_posttax_nat_clean[wid_posttax_nat_clean['threshold'] < 0].reset_index(drop=True) #keeps only threshold < 0\n",
    "\n",
    "#This dataframe changes the negative values of average and threshold to 0\n",
    "posttax_nat_positive = wid_posttax_nat_clean.copy()\n",
    "posttax_nat_positive.loc[(posttax_nat_positive['average'] < 0), 'average'] = 0\n",
    "posttax_nat_positive.loc[(posttax_nat_positive['threshold'] < 0), 'threshold'] = 0"
   ]
  },
  {
   "cell_type": "code",
   "execution_count": 49,
   "id": "46e5e950",
   "metadata": {},
   "outputs": [
    {
     "data": {
      "text/plain": [
       "p0p1    496\n",
       "p1p2    179\n",
       "p2p3     18\n",
       "p3p4      5\n",
       "p4p5      1\n",
       "Name: percentile, dtype: int64"
      ]
     },
     "execution_count": 49,
     "metadata": {},
     "output_type": "execute_result"
    }
   ],
   "source": [
    "posttax_nat_negative_thr.percentile.value_counts(dropna=False)"
   ]
  },
  {
   "cell_type": "code",
   "execution_count": 50,
   "id": "caba2cfb",
   "metadata": {},
   "outputs": [
    {
     "data": {
      "text/plain": [
       "US    102\n",
       "CH     86\n",
       "QX     67\n",
       "QY     59\n",
       "QE     56\n",
       "IS     45\n",
       "PT     28\n",
       "LV     22\n",
       "DE     19\n",
       "QM     18\n",
       "EE     18\n",
       "NL     18\n",
       "BG     17\n",
       "MD     16\n",
       "GB     12\n",
       "HR     10\n",
       "DK     10\n",
       "CY     10\n",
       "MK     10\n",
       "LU      8\n",
       "ME      8\n",
       "FI      7\n",
       "ES      7\n",
       "KS      7\n",
       "SE      6\n",
       "SK      5\n",
       "RO      4\n",
       "AL      4\n",
       "PL      3\n",
       "HU      3\n",
       "CZ      3\n",
       "BA      3\n",
       "SI      2\n",
       "LT      1\n",
       "AT      1\n",
       "IE      1\n",
       "FR      1\n",
       "BE      1\n",
       "IT      1\n",
       "Name: country, dtype: int64"
      ]
     },
     "execution_count": 50,
     "metadata": {},
     "output_type": "execute_result"
    }
   ],
   "source": [
    "posttax_nat_negative_thr.country.value_counts(dropna=False)"
   ]
  },
  {
   "cell_type": "code",
   "execution_count": 51,
   "id": "a9efe197",
   "metadata": {},
   "outputs": [
    {
     "data": {
      "text/plain": [
       "p0p1    496\n",
       "p1p2    179\n",
       "p2p3     18\n",
       "p3p4      5\n",
       "p4p5      1\n",
       "Name: percentile, dtype: int64"
      ]
     },
     "execution_count": 51,
     "metadata": {},
     "output_type": "execute_result"
    }
   ],
   "source": [
    "posttax_nat_negative_thr.percentile.value_counts(dropna=False)"
   ]
  },
  {
   "cell_type": "code",
   "execution_count": 52,
   "id": "0c2aa546",
   "metadata": {},
   "outputs": [
    {
     "data": {
      "text/plain": [
       "US    102\n",
       "CH     86\n",
       "QX     67\n",
       "QY     59\n",
       "QE     56\n",
       "IS     45\n",
       "PT     28\n",
       "LV     22\n",
       "DE     19\n",
       "QM     18\n",
       "EE     18\n",
       "NL     18\n",
       "BG     17\n",
       "MD     16\n",
       "GB     12\n",
       "HR     10\n",
       "DK     10\n",
       "CY     10\n",
       "MK     10\n",
       "LU      8\n",
       "ME      8\n",
       "FI      7\n",
       "ES      7\n",
       "KS      7\n",
       "SE      6\n",
       "SK      5\n",
       "RO      4\n",
       "AL      4\n",
       "PL      3\n",
       "HU      3\n",
       "CZ      3\n",
       "BA      3\n",
       "SI      2\n",
       "LT      1\n",
       "AT      1\n",
       "IE      1\n",
       "FR      1\n",
       "BE      1\n",
       "IT      1\n",
       "Name: country, dtype: int64"
      ]
     },
     "execution_count": 52,
     "metadata": {},
     "output_type": "execute_result"
    }
   ],
   "source": [
    "posttax_nat_negative_thr.country.value_counts(dropna=False)"
   ]
  },
  {
   "cell_type": "markdown",
   "id": "5492f388",
   "metadata": {},
   "source": [
    "#### Post-tax disposable income"
   ]
  },
  {
   "cell_type": "code",
   "execution_count": 53,
   "id": "323d7508",
   "metadata": {},
   "outputs": [],
   "source": [
    "posttax_dis_negative_avg = wid_posttax_dis_clean[wid_posttax_dis_clean['average'] < 0].reset_index(drop=True) #keeps only average < 0\n",
    "posttax_dis_negative_thr = wid_posttax_dis_clean[wid_posttax_dis_clean['threshold'] < 0].reset_index(drop=True) #keeps only threshold < 0\n",
    "\n",
    "#This dataframe changes the negative values of average and threshold to 0\n",
    "posttax_dis_positive = wid_posttax_dis_clean.copy()\n",
    "posttax_dis_positive.loc[(posttax_dis_positive['average'] < 0), 'average'] = 0\n",
    "posttax_dis_positive.loc[(posttax_dis_positive['threshold'] < 0), 'threshold'] = 0"
   ]
  },
  {
   "cell_type": "code",
   "execution_count": 54,
   "id": "3fd3e137",
   "metadata": {},
   "outputs": [
    {
     "data": {
      "text/plain": [
       "p0p1    892\n",
       "p1p2    426\n",
       "p2p3    153\n",
       "p3p4     70\n",
       "p4p5     41\n",
       "p5p6     24\n",
       "p6p7      9\n",
       "Name: percentile, dtype: int64"
      ]
     },
     "execution_count": 54,
     "metadata": {},
     "output_type": "execute_result"
    }
   ],
   "source": [
    "posttax_dis_negative_thr.percentile.value_counts(dropna=False)"
   ]
  },
  {
   "cell_type": "code",
   "execution_count": 55,
   "id": "8fa9d6a0",
   "metadata": {},
   "outputs": [
    {
     "data": {
      "text/plain": [
       "PT    120\n",
       "CH    119\n",
       "QX     85\n",
       "HR     80\n",
       "QY     75\n",
       "QE     72\n",
       "DE     69\n",
       "MD     66\n",
       "EE     62\n",
       "IS     58\n",
       "GR     55\n",
       "LV     53\n",
       "NL     53\n",
       "QM     47\n",
       "ES     44\n",
       "ME     43\n",
       "FR     38\n",
       "SE     35\n",
       "BG     35\n",
       "DK     34\n",
       "NO     32\n",
       "FI     31\n",
       "GB     31\n",
       "SK     28\n",
       "IE     23\n",
       "LT     22\n",
       "PL     22\n",
       "HU     20\n",
       "MK     19\n",
       "RO     19\n",
       "BE     19\n",
       "SI     17\n",
       "KS     17\n",
       "CY     14\n",
       "BA     14\n",
       "LU     13\n",
       "MT      9\n",
       "AL      9\n",
       "CZ      6\n",
       "RS      4\n",
       "IT      2\n",
       "AT      1\n",
       "Name: country, dtype: int64"
      ]
     },
     "execution_count": 55,
     "metadata": {},
     "output_type": "execute_result"
    }
   ],
   "source": [
    "posttax_dis_negative_thr.country.value_counts(dropna=False)"
   ]
  },
  {
   "cell_type": "code",
   "execution_count": 56,
   "id": "c7cdb42e",
   "metadata": {},
   "outputs": [
    {
     "data": {
      "text/plain": [
       "p0p1    892\n",
       "p1p2    426\n",
       "p2p3    153\n",
       "p3p4     70\n",
       "p4p5     41\n",
       "p5p6     24\n",
       "p6p7      9\n",
       "Name: percentile, dtype: int64"
      ]
     },
     "execution_count": 56,
     "metadata": {},
     "output_type": "execute_result"
    }
   ],
   "source": [
    "posttax_dis_negative_thr.percentile.value_counts(dropna=False)"
   ]
  },
  {
   "cell_type": "code",
   "execution_count": 57,
   "id": "79786e70",
   "metadata": {},
   "outputs": [
    {
     "data": {
      "text/plain": [
       "PT    120\n",
       "CH    119\n",
       "QX     85\n",
       "HR     80\n",
       "QY     75\n",
       "QE     72\n",
       "DE     69\n",
       "MD     66\n",
       "EE     62\n",
       "IS     58\n",
       "GR     55\n",
       "LV     53\n",
       "NL     53\n",
       "QM     47\n",
       "ES     44\n",
       "ME     43\n",
       "FR     38\n",
       "SE     35\n",
       "BG     35\n",
       "DK     34\n",
       "NO     32\n",
       "FI     31\n",
       "GB     31\n",
       "SK     28\n",
       "IE     23\n",
       "LT     22\n",
       "PL     22\n",
       "HU     20\n",
       "MK     19\n",
       "RO     19\n",
       "BE     19\n",
       "SI     17\n",
       "KS     17\n",
       "CY     14\n",
       "BA     14\n",
       "LU     13\n",
       "MT      9\n",
       "AL      9\n",
       "CZ      6\n",
       "RS      4\n",
       "IT      2\n",
       "AT      1\n",
       "Name: country, dtype: int64"
      ]
     },
     "execution_count": 57,
     "metadata": {},
     "output_type": "execute_result"
    }
   ],
   "source": [
    "posttax_dis_negative_thr.country.value_counts(dropna=False)"
   ]
  },
  {
   "cell_type": "markdown",
   "id": "2ea63966-5180-4fcd-9061-b760abb4abf8",
   "metadata": {},
   "source": [
    "### Total sum of shares equalling 1"
   ]
  },
  {
   "cell_type": "markdown",
   "id": "b2d92222-9ae1-4887-8faf-c6e651770577",
   "metadata": {},
   "source": [
    "The shares are all part of a total which have to sum 1 (if the percentile brackets represent the entire population analysed). Four different checks can be done here, playing with the tenths, hundreds and thousands of percentile at the 1%:\n",
    "- The share of the percentiles p0p1 to p99p100 should sum 1.\n",
    "- The share of the percentiles p0p1 to p98p99 and p99p99.1 to p99.9p100 should sum 1.\n",
    "- The share of the percentiles p0p1 to p98p99.9 and p99.9p99.91 to p99.99p100 should sum 1.\n",
    "- The share of the percentiles p0p1 to p98p99.99 and p99.99p99.991 to p99.999p100 should sum 1.\n",
    "\n",
    "Consequentially, four different lists of percentiles are generated to apply them to the \"clean\" datasets:"
   ]
  },
  {
   "cell_type": "code",
   "execution_count": 58,
   "id": "a390ebf4",
   "metadata": {},
   "outputs": [],
   "source": [
    "file = Path('Percentile names.xlsx')\n",
    "percentiles = pd.read_excel(file, sheet_name='percentiles')\n",
    "percentiles_list = percentiles['pXpY'].to_list()\n",
    "\n",
    "tenths = pd.read_excel(file, sheet_name='tenths')\n",
    "tenths_list = tenths['pXpY'].to_list()\n",
    "\n",
    "hundreds = pd.read_excel(file, sheet_name='hundreds')\n",
    "hundreds_list = hundreds['pXpY'].to_list()\n",
    "\n",
    "thousands = pd.read_excel(file, sheet_name='thousands')\n",
    "thousands_list = thousands['pXpY'].to_list()"
   ]
  },
  {
   "cell_type": "markdown",
   "id": "ccdb9db1",
   "metadata": {},
   "source": [
    "The three following tables show the descriptive statistics for these four different checks. Overall, in the pretax and both post-tax distributions the median sum of the shares is always 1, the minimum value is 0.998600 and the maximum value is 1.001200. This means **the most \"extreme\" values only differ in 0.1% or 0.2% to 1, which should not be a concern.**"
   ]
  },
  {
   "cell_type": "code",
   "execution_count": 59,
   "id": "ca111dd3-725d-4ead-be20-31054ffc5f41",
   "metadata": {},
   "outputs": [
    {
     "data": {
      "text/html": [
       "<div>\n",
       "<style scoped>\n",
       "    .dataframe tbody tr th:only-of-type {\n",
       "        vertical-align: middle;\n",
       "    }\n",
       "\n",
       "    .dataframe tbody tr th {\n",
       "        vertical-align: top;\n",
       "    }\n",
       "\n",
       "    .dataframe thead th {\n",
       "        text-align: right;\n",
       "    }\n",
       "</style>\n",
       "<table border=\"1\" class=\"dataframe\">\n",
       "  <thead>\n",
       "    <tr style=\"text-align: right;\">\n",
       "      <th></th>\n",
       "      <th>year</th>\n",
       "      <th>share_percentiles</th>\n",
       "      <th>share_tenths</th>\n",
       "      <th>share_hundreds</th>\n",
       "      <th>share_thousands</th>\n",
       "    </tr>\n",
       "  </thead>\n",
       "  <tbody>\n",
       "    <tr>\n",
       "      <th>count</th>\n",
       "      <td>5603.000000</td>\n",
       "      <td>5603.000000</td>\n",
       "      <td>5603.000000</td>\n",
       "      <td>5603.000000</td>\n",
       "      <td>5603.000000</td>\n",
       "    </tr>\n",
       "    <tr>\n",
       "      <th>mean</th>\n",
       "      <td>1997.644833</td>\n",
       "      <td>1.000001</td>\n",
       "      <td>1.000001</td>\n",
       "      <td>0.999999</td>\n",
       "      <td>0.999999</td>\n",
       "    </tr>\n",
       "    <tr>\n",
       "      <th>std</th>\n",
       "      <td>17.612145</td>\n",
       "      <td>0.000291</td>\n",
       "      <td>0.000305</td>\n",
       "      <td>0.000317</td>\n",
       "      <td>0.000328</td>\n",
       "    </tr>\n",
       "    <tr>\n",
       "      <th>min</th>\n",
       "      <td>1900.000000</td>\n",
       "      <td>0.998700</td>\n",
       "      <td>0.998700</td>\n",
       "      <td>0.998700</td>\n",
       "      <td>0.998600</td>\n",
       "    </tr>\n",
       "    <tr>\n",
       "      <th>25%</th>\n",
       "      <td>1989.000000</td>\n",
       "      <td>0.999800</td>\n",
       "      <td>0.999800</td>\n",
       "      <td>0.999800</td>\n",
       "      <td>0.999800</td>\n",
       "    </tr>\n",
       "    <tr>\n",
       "      <th>50%</th>\n",
       "      <td>2001.000000</td>\n",
       "      <td>1.000000</td>\n",
       "      <td>1.000000</td>\n",
       "      <td>1.000000</td>\n",
       "      <td>1.000000</td>\n",
       "    </tr>\n",
       "    <tr>\n",
       "      <th>75%</th>\n",
       "      <td>2010.000000</td>\n",
       "      <td>1.000200</td>\n",
       "      <td>1.000200</td>\n",
       "      <td>1.000200</td>\n",
       "      <td>1.000200</td>\n",
       "    </tr>\n",
       "    <tr>\n",
       "      <th>max</th>\n",
       "      <td>2021.000000</td>\n",
       "      <td>1.001100</td>\n",
       "      <td>1.001000</td>\n",
       "      <td>1.001200</td>\n",
       "      <td>1.001200</td>\n",
       "    </tr>\n",
       "  </tbody>\n",
       "</table>\n",
       "</div>"
      ],
      "text/plain": [
       "              year  share_percentiles  share_tenths  share_hundreds  \\\n",
       "count  5603.000000        5603.000000   5603.000000     5603.000000   \n",
       "mean   1997.644833           1.000001      1.000001        0.999999   \n",
       "std      17.612145           0.000291      0.000305        0.000317   \n",
       "min    1900.000000           0.998700      0.998700        0.998700   \n",
       "25%    1989.000000           0.999800      0.999800        0.999800   \n",
       "50%    2001.000000           1.000000      1.000000        1.000000   \n",
       "75%    2010.000000           1.000200      1.000200        1.000200   \n",
       "max    2021.000000           1.001100      1.001000        1.001200   \n",
       "\n",
       "       share_thousands  \n",
       "count      5603.000000  \n",
       "mean          0.999999  \n",
       "std           0.000328  \n",
       "min           0.998600  \n",
       "25%           0.999800  \n",
       "50%           1.000000  \n",
       "75%           1.000200  \n",
       "max           1.001200  "
      ]
     },
     "execution_count": 59,
     "metadata": {},
     "output_type": "execute_result"
    }
   ],
   "source": [
    "#Generates the four different distributions:\n",
    "wid_pretax_percentiles = wid_pretax_clean[wid_pretax_clean['percentile'].isin(percentiles_list)].reset_index(drop=True)\n",
    "wid_pretax_tenths = wid_pretax_clean[wid_pretax_clean['percentile'].isin(tenths_list)].reset_index(drop=True)\n",
    "wid_pretax_hundreds = wid_pretax_clean[wid_pretax_clean['percentile'].isin(hundreds_list)].reset_index(drop=True)\n",
    "wid_pretax_thousands = wid_pretax_clean[wid_pretax_clean['percentile'].isin(thousands_list)].reset_index(drop=True)\n",
    "\n",
    "#Grouping the sum by country and year\n",
    "wid_pretax_percentiles_shares = wid_pretax_percentiles.groupby(['country', 'year', 'country_year']).sum().reset_index()\n",
    "wid_pretax_percentiles_shares.rename(columns={\"share\": \"share_percentiles\"}, inplace=True)\n",
    "\n",
    "wid_pretax_tenths_shares = wid_pretax_tenths.groupby(['country', 'year', 'country_year']).sum().reset_index()\n",
    "wid_pretax_tenths_shares.rename(columns={\"share\": \"share_tenths\"}, inplace=True)\n",
    "\n",
    "wid_pretax_hundreds_shares = wid_pretax_hundreds.groupby(['country', 'year', 'country_year']).sum().reset_index()\n",
    "wid_pretax_hundreds_shares.rename(columns={\"share\": \"share_hundreds\"}, inplace=True)\n",
    "\n",
    "wid_pretax_thousands_shares = wid_pretax_thousands.groupby(['country', 'year', 'country_year']).sum().reset_index()\n",
    "wid_pretax_thousands_shares.rename(columns={\"share\": \"share_thousands\"}, inplace=True)\n",
    "\n",
    "#Merging the results to show the results in one table\n",
    "pretax_shares_check = pd.merge(wid_pretax_percentiles_shares, wid_pretax_tenths_shares[['country_year', 'share_tenths']], on='country_year', validate='one_to_one')\n",
    "pretax_shares_check = pd.merge(pretax_shares_check, wid_pretax_hundreds_shares[['country_year', 'share_hundreds']], on='country_year', validate='one_to_one')\n",
    "pretax_shares_check = pd.merge(pretax_shares_check, wid_pretax_thousands_shares[['country_year', 'share_thousands']], on='country_year', validate='one_to_one')\n",
    "\n",
    "pretax_shares_check = pretax_shares_check[['country', 'year', 'country_year', 'share_percentiles', 'share_tenths', 'share_hundreds', 'share_thousands']]\n",
    "\n",
    "pretax_shares_check.describe()"
   ]
  },
  {
   "cell_type": "code",
   "execution_count": 60,
   "id": "0041646f",
   "metadata": {},
   "outputs": [
    {
     "data": {
      "text/html": [
       "<div>\n",
       "<style scoped>\n",
       "    .dataframe tbody tr th:only-of-type {\n",
       "        vertical-align: middle;\n",
       "    }\n",
       "\n",
       "    .dataframe tbody tr th {\n",
       "        vertical-align: top;\n",
       "    }\n",
       "\n",
       "    .dataframe thead th {\n",
       "        text-align: right;\n",
       "    }\n",
       "</style>\n",
       "<table border=\"1\" class=\"dataframe\">\n",
       "  <thead>\n",
       "    <tr style=\"text-align: right;\">\n",
       "      <th></th>\n",
       "      <th>year</th>\n",
       "      <th>share_percentiles</th>\n",
       "      <th>share_tenths</th>\n",
       "      <th>share_hundreds</th>\n",
       "      <th>share_thousands</th>\n",
       "    </tr>\n",
       "  </thead>\n",
       "  <tbody>\n",
       "    <tr>\n",
       "      <th>count</th>\n",
       "      <td>1469.000000</td>\n",
       "      <td>1469.000000</td>\n",
       "      <td>1469.000000</td>\n",
       "      <td>1469.000000</td>\n",
       "      <td>1469.000000</td>\n",
       "    </tr>\n",
       "    <tr>\n",
       "      <th>mean</th>\n",
       "      <td>1998.041525</td>\n",
       "      <td>0.999997</td>\n",
       "      <td>0.999997</td>\n",
       "      <td>0.999996</td>\n",
       "      <td>0.999999</td>\n",
       "    </tr>\n",
       "    <tr>\n",
       "      <th>std</th>\n",
       "      <td>16.254500</td>\n",
       "      <td>0.000307</td>\n",
       "      <td>0.000318</td>\n",
       "      <td>0.000331</td>\n",
       "      <td>0.000341</td>\n",
       "    </tr>\n",
       "    <tr>\n",
       "      <th>min</th>\n",
       "      <td>1913.000000</td>\n",
       "      <td>0.998800</td>\n",
       "      <td>0.998800</td>\n",
       "      <td>0.998800</td>\n",
       "      <td>0.998700</td>\n",
       "    </tr>\n",
       "    <tr>\n",
       "      <th>25%</th>\n",
       "      <td>1989.000000</td>\n",
       "      <td>0.999800</td>\n",
       "      <td>0.999800</td>\n",
       "      <td>0.999800</td>\n",
       "      <td>0.999800</td>\n",
       "    </tr>\n",
       "    <tr>\n",
       "      <th>50%</th>\n",
       "      <td>2001.000000</td>\n",
       "      <td>1.000000</td>\n",
       "      <td>1.000000</td>\n",
       "      <td>1.000000</td>\n",
       "      <td>1.000000</td>\n",
       "    </tr>\n",
       "    <tr>\n",
       "      <th>75%</th>\n",
       "      <td>2010.000000</td>\n",
       "      <td>1.000200</td>\n",
       "      <td>1.000200</td>\n",
       "      <td>1.000200</td>\n",
       "      <td>1.000200</td>\n",
       "    </tr>\n",
       "    <tr>\n",
       "      <th>max</th>\n",
       "      <td>2020.000000</td>\n",
       "      <td>1.000900</td>\n",
       "      <td>1.000900</td>\n",
       "      <td>1.001000</td>\n",
       "      <td>1.001000</td>\n",
       "    </tr>\n",
       "  </tbody>\n",
       "</table>\n",
       "</div>"
      ],
      "text/plain": [
       "              year  share_percentiles  share_tenths  share_hundreds  \\\n",
       "count  1469.000000        1469.000000   1469.000000     1469.000000   \n",
       "mean   1998.041525           0.999997      0.999997        0.999996   \n",
       "std      16.254500           0.000307      0.000318        0.000331   \n",
       "min    1913.000000           0.998800      0.998800        0.998800   \n",
       "25%    1989.000000           0.999800      0.999800        0.999800   \n",
       "50%    2001.000000           1.000000      1.000000        1.000000   \n",
       "75%    2010.000000           1.000200      1.000200        1.000200   \n",
       "max    2020.000000           1.000900      1.000900        1.001000   \n",
       "\n",
       "       share_thousands  \n",
       "count      1469.000000  \n",
       "mean          0.999999  \n",
       "std           0.000341  \n",
       "min           0.998700  \n",
       "25%           0.999800  \n",
       "50%           1.000000  \n",
       "75%           1.000200  \n",
       "max           1.001000  "
      ]
     },
     "execution_count": 60,
     "metadata": {},
     "output_type": "execute_result"
    }
   ],
   "source": [
    "#Generates the four different distributions:\n",
    "wid_posttax_nat_percentiles = wid_posttax_nat_clean[wid_posttax_nat_clean['percentile'].isin(percentiles_list)].reset_index(drop=True)\n",
    "wid_posttax_nat_tenths = wid_posttax_nat_clean[wid_posttax_nat_clean['percentile'].isin(tenths_list)].reset_index(drop=True)\n",
    "wid_posttax_nat_hundreds = wid_posttax_nat_clean[wid_posttax_nat_clean['percentile'].isin(hundreds_list)].reset_index(drop=True)\n",
    "wid_posttax_nat_thousands = wid_posttax_nat_clean[wid_posttax_nat_clean['percentile'].isin(thousands_list)].reset_index(drop=True)\n",
    "\n",
    "\n",
    "#Grouping the sum by country and year\n",
    "wid_posttax_nat_percentiles_shares = wid_posttax_nat_percentiles.groupby(['country', 'year', 'country_year']).sum().reset_index()\n",
    "wid_posttax_nat_percentiles_shares.rename(columns={\"share\": \"share_percentiles\"}, inplace=True)\n",
    "\n",
    "wid_posttax_nat_tenths_shares = wid_posttax_nat_tenths.groupby(['country', 'year', 'country_year']).sum().reset_index()\n",
    "wid_posttax_nat_tenths_shares.rename(columns={\"share\": \"share_tenths\"}, inplace=True)\n",
    "\n",
    "wid_posttax_nat_hundreds_shares = wid_posttax_nat_hundreds.groupby(['country', 'year', 'country_year']).sum().reset_index()\n",
    "wid_posttax_nat_hundreds_shares.rename(columns={\"share\": \"share_hundreds\"}, inplace=True)\n",
    "\n",
    "wid_posttax_nat_thousands_shares = wid_posttax_nat_thousands.groupby(['country', 'year', 'country_year']).sum().reset_index()\n",
    "wid_posttax_nat_thousands_shares.rename(columns={\"share\": \"share_thousands\"}, inplace=True)\n",
    "\n",
    "#Merging the results to show the results in one table\n",
    "posttax_nat_shares_check = pd.merge(wid_posttax_nat_percentiles_shares, wid_posttax_nat_tenths_shares[['country_year', 'share_tenths']], on='country_year', validate='one_to_one')\n",
    "posttax_nat_shares_check = pd.merge(posttax_nat_shares_check, wid_posttax_nat_hundreds_shares[['country_year', 'share_hundreds']], on='country_year', validate='one_to_one')\n",
    "posttax_nat_shares_check = pd.merge(posttax_nat_shares_check, wid_posttax_nat_thousands_shares[['country_year', 'share_thousands']], on='country_year', validate='one_to_one')\n",
    "\n",
    "posttax_nat_shares_check = posttax_nat_shares_check[['country', 'year', 'country_year', 'share_percentiles', 'share_tenths', 'share_hundreds', 'share_thousands']]\n",
    "\n",
    "posttax_nat_shares_check.describe()"
   ]
  },
  {
   "cell_type": "code",
   "execution_count": 61,
   "id": "70212a43",
   "metadata": {
    "lines_to_next_cell": 0
   },
   "outputs": [
    {
     "data": {
      "text/html": [
       "<div>\n",
       "<style scoped>\n",
       "    .dataframe tbody tr th:only-of-type {\n",
       "        vertical-align: middle;\n",
       "    }\n",
       "\n",
       "    .dataframe tbody tr th {\n",
       "        vertical-align: top;\n",
       "    }\n",
       "\n",
       "    .dataframe thead th {\n",
       "        text-align: right;\n",
       "    }\n",
       "</style>\n",
       "<table border=\"1\" class=\"dataframe\">\n",
       "  <thead>\n",
       "    <tr style=\"text-align: right;\">\n",
       "      <th></th>\n",
       "      <th>year</th>\n",
       "      <th>share_percentiles</th>\n",
       "      <th>share_tenths</th>\n",
       "      <th>share_hundreds</th>\n",
       "      <th>share_thousands</th>\n",
       "    </tr>\n",
       "  </thead>\n",
       "  <tbody>\n",
       "    <tr>\n",
       "      <th>count</th>\n",
       "      <td>1363.000000</td>\n",
       "      <td>1363.000000</td>\n",
       "      <td>1363.000000</td>\n",
       "      <td>1363.000000</td>\n",
       "      <td>1363.000000</td>\n",
       "    </tr>\n",
       "    <tr>\n",
       "      <th>mean</th>\n",
       "      <td>2000.572267</td>\n",
       "      <td>0.999992</td>\n",
       "      <td>0.999987</td>\n",
       "      <td>0.999991</td>\n",
       "      <td>0.999991</td>\n",
       "    </tr>\n",
       "    <tr>\n",
       "      <th>std</th>\n",
       "      <td>11.094231</td>\n",
       "      <td>0.000296</td>\n",
       "      <td>0.000317</td>\n",
       "      <td>0.000325</td>\n",
       "      <td>0.000337</td>\n",
       "    </tr>\n",
       "    <tr>\n",
       "      <th>min</th>\n",
       "      <td>1970.000000</td>\n",
       "      <td>0.999000</td>\n",
       "      <td>0.999000</td>\n",
       "      <td>0.999000</td>\n",
       "      <td>0.999000</td>\n",
       "    </tr>\n",
       "    <tr>\n",
       "      <th>25%</th>\n",
       "      <td>1991.000000</td>\n",
       "      <td>0.999800</td>\n",
       "      <td>0.999800</td>\n",
       "      <td>0.999800</td>\n",
       "      <td>0.999800</td>\n",
       "    </tr>\n",
       "    <tr>\n",
       "      <th>50%</th>\n",
       "      <td>2002.000000</td>\n",
       "      <td>1.000000</td>\n",
       "      <td>1.000000</td>\n",
       "      <td>1.000000</td>\n",
       "      <td>1.000000</td>\n",
       "    </tr>\n",
       "    <tr>\n",
       "      <th>75%</th>\n",
       "      <td>2010.000000</td>\n",
       "      <td>1.000200</td>\n",
       "      <td>1.000200</td>\n",
       "      <td>1.000200</td>\n",
       "      <td>1.000200</td>\n",
       "    </tr>\n",
       "    <tr>\n",
       "      <th>max</th>\n",
       "      <td>2020.000000</td>\n",
       "      <td>1.001100</td>\n",
       "      <td>1.001100</td>\n",
       "      <td>1.001200</td>\n",
       "      <td>1.001200</td>\n",
       "    </tr>\n",
       "  </tbody>\n",
       "</table>\n",
       "</div>"
      ],
      "text/plain": [
       "              year  share_percentiles  share_tenths  share_hundreds  \\\n",
       "count  1363.000000        1363.000000   1363.000000     1363.000000   \n",
       "mean   2000.572267           0.999992      0.999987        0.999991   \n",
       "std      11.094231           0.000296      0.000317        0.000325   \n",
       "min    1970.000000           0.999000      0.999000        0.999000   \n",
       "25%    1991.000000           0.999800      0.999800        0.999800   \n",
       "50%    2002.000000           1.000000      1.000000        1.000000   \n",
       "75%    2010.000000           1.000200      1.000200        1.000200   \n",
       "max    2020.000000           1.001100      1.001100        1.001200   \n",
       "\n",
       "       share_thousands  \n",
       "count      1363.000000  \n",
       "mean          0.999991  \n",
       "std           0.000337  \n",
       "min           0.999000  \n",
       "25%           0.999800  \n",
       "50%           1.000000  \n",
       "75%           1.000200  \n",
       "max           1.001200  "
      ]
     },
     "execution_count": 61,
     "metadata": {},
     "output_type": "execute_result"
    }
   ],
   "source": [
    "#Generates the four different distributions:\n",
    "wid_posttax_dis_percentiles = wid_posttax_dis_clean[wid_posttax_dis_clean['percentile'].isin(percentiles_list)].reset_index(drop=True)\n",
    "wid_posttax_dis_tenths = wid_posttax_dis_clean[wid_posttax_dis_clean['percentile'].isin(tenths_list)].reset_index(drop=True)\n",
    "wid_posttax_dis_hundreds = wid_posttax_dis_clean[wid_posttax_dis_clean['percentile'].isin(hundreds_list)].reset_index(drop=True)\n",
    "wid_posttax_dis_thousands = wid_posttax_dis_clean[wid_posttax_dis_clean['percentile'].isin(thousands_list)].reset_index(drop=True)\n",
    "\n",
    "\n",
    "#Grouping the sum by country and year\n",
    "wid_posttax_dis_percentiles_shares = wid_posttax_dis_percentiles.groupby(['country', 'year', 'country_year']).sum().reset_index()\n",
    "wid_posttax_dis_percentiles_shares.rename(columns={\"share\": \"share_percentiles\"}, inplace=True)\n",
    "\n",
    "wid_posttax_dis_tenths_shares = wid_posttax_dis_tenths.groupby(['country', 'year', 'country_year']).sum().reset_index()\n",
    "wid_posttax_dis_tenths_shares.rename(columns={\"share\": \"share_tenths\"}, inplace=True)\n",
    "\n",
    "wid_posttax_dis_hundreds_shares = wid_posttax_dis_hundreds.groupby(['country', 'year', 'country_year']).sum().reset_index()\n",
    "wid_posttax_dis_hundreds_shares.rename(columns={\"share\": \"share_hundreds\"}, inplace=True)\n",
    "\n",
    "wid_posttax_dis_thousands_shares = wid_posttax_dis_thousands.groupby(['country', 'year', 'country_year']).sum().reset_index()\n",
    "wid_posttax_dis_thousands_shares.rename(columns={\"share\": \"share_thousands\"}, inplace=True)\n",
    "\n",
    "#Merging the results to show the results in one table\n",
    "posttax_dis_shares_check = pd.merge(wid_posttax_dis_percentiles_shares, wid_posttax_dis_tenths_shares[['country_year', 'share_tenths']], on='country_year', validate='one_to_one')\n",
    "posttax_dis_shares_check = pd.merge(posttax_dis_shares_check, wid_posttax_dis_hundreds_shares[['country_year', 'share_hundreds']], on='country_year', validate='one_to_one')\n",
    "posttax_dis_shares_check = pd.merge(posttax_dis_shares_check, wid_posttax_dis_thousands_shares[['country_year', 'share_thousands']], on='country_year', validate='one_to_one')\n",
    "\n",
    "posttax_dis_shares_check = posttax_dis_shares_check[['country', 'year', 'country_year', 'share_percentiles', 'share_tenths', 'share_hundreds', 'share_thousands']]\n",
    "\n",
    "posttax_dis_shares_check.describe()"
   ]
  },
  {
   "cell_type": "markdown",
   "id": "8c2961d7-80d6-40f5-a869-71cc7712a76c",
   "metadata": {},
   "source": [
    "### Averages between thresholds"
   ]
  },
  {
   "cell_type": "markdown",
   "id": "31323517-6abd-477e-89a2-925968e6a023",
   "metadata": {},
   "source": [
    "The purpose of this check is to analyse if each bracker's average is between the same bracket's threshold and the following threshold. It should always be the case, because the threshold is defined as the lower limit of each percentile."
   ]
  },
  {
   "cell_type": "markdown",
   "id": "8d4342f1-2c1d-41dd-bc77-d3af31e04192",
   "metadata": {},
   "source": [
    "#### Pretax income distribution"
   ]
  },
  {
   "cell_type": "markdown",
   "id": "c0ce70ca",
   "metadata": {},
   "source": [
    "Only a **76.7%** of the (non-null) observations follow this requirement:"
   ]
  },
  {
   "cell_type": "code",
   "execution_count": 62,
   "id": "63da8cc5-d36e-4247-9e88-aa237a1c21df",
   "metadata": {},
   "outputs": [],
   "source": [
    "excl_list = ['p99p100', 'p99.9p100', 'p99.99p100'] #these quantiles are excluded to get a continous distribution\n",
    "\n",
    "pretax_avg_thr = wid_pretax_clean[~wid_pretax_clean['percentile'].isin(excl_list)].reset_index(drop=True) #dataframe without the list\n",
    "pretax_avg_thr['threshold_next'] = pretax_avg_thr['threshold'].shift(-1) #threshold from the next row is brought\n",
    "pretax_avg_thr.loc[(pretax_avg_thr['percentile'] == 'p99.999p100'), 'threshold_next'] = pretax_avg_thr.loc[(pretax_avg_thr['percentile'] == 'p99.999p100'), 'average'] #threshold_next for the last quantile is average (no available value in the next row)\n",
    "\n",
    "pretax_avg_thr['avg_thr_check'] = ((pretax_avg_thr['average'] >= pretax_avg_thr['threshold']) & (pretax_avg_thr['average'] <= pretax_avg_thr['threshold_next'])) #check is true if average is between thresholds\n",
    "pretax_avg_thr.loc[(pretax_avg_thr['threshold'].isnull()) | (pretax_avg_thr['average'].isnull()) | (pretax_avg_thr['threshold_next'].isnull()), 'avg_thr_check'] = np.nan #check is null if one of the values is null\n",
    "\n",
    "pretax_avg_thr_false = pretax_avg_thr[pretax_avg_thr['avg_thr_check'] == False].reset_index(drop=True) #dataframe with all the false checks"
   ]
  },
  {
   "cell_type": "code",
   "execution_count": 63,
   "id": "a6c3aca5",
   "metadata": {},
   "outputs": [
    {
     "data": {
      "text/plain": [
       "True     0.766692\n",
       "False    0.233308\n",
       "Name: avg_thr_check, dtype: float64"
      ]
     },
     "execution_count": 63,
     "metadata": {},
     "output_type": "execute_result"
    }
   ],
   "source": [
    "pretax_avg_thr.avg_thr_check.value_counts(normalize=True)"
   ]
  },
  {
   "cell_type": "code",
   "execution_count": 64,
   "id": "7309f330",
   "metadata": {},
   "outputs": [
    {
     "data": {
      "text/plain": [
       "UY2010    126\n",
       "BR2002    126\n",
       "BR2014    126\n",
       "UY2011    126\n",
       "UY2017    126\n",
       "         ... \n",
       "BI1998      1\n",
       "HR1998      1\n",
       "CD2004      1\n",
       "PG2009      1\n",
       "HR1988      1\n",
       "Name: country_year, Length: 1909, dtype: int64"
      ]
     },
     "execution_count": 64,
     "metadata": {},
     "output_type": "execute_result"
    }
   ],
   "source": [
    "pretax_avg_thr_false.country_year.value_counts()"
   ]
  },
  {
   "cell_type": "code",
   "execution_count": 65,
   "id": "136284d4",
   "metadata": {},
   "outputs": [],
   "source": [
    "#pretax_avg_thr.to_csv('avgthr.csv')"
   ]
  },
  {
   "cell_type": "markdown",
   "id": "409384d8-f48d-4885-858d-d5ddba231ca9",
   "metadata": {},
   "source": [
    "#### Post-tax national income distribution"
   ]
  },
  {
   "cell_type": "markdown",
   "id": "d085cba9",
   "metadata": {},
   "source": [
    "The **99.99%** of the (non-null) observations follow this requirement:"
   ]
  },
  {
   "cell_type": "code",
   "execution_count": 66,
   "id": "5fffcf30-09b5-4d9c-8cd4-d9bf0644cfaf",
   "metadata": {},
   "outputs": [],
   "source": [
    "excl_list = ['p99p100', 'p99.9p100', 'p99.99p100'] #these quantiles are excluded to get a continous distribution\n",
    "\n",
    "posttax_nat_avg_thr = wid_posttax_nat_clean[~wid_posttax_nat_clean['percentile'].isin(excl_list)].reset_index(drop=True) #dataframe without the list\n",
    "posttax_nat_avg_thr['threshold_next'] = posttax_nat_avg_thr['threshold'].shift(-1) #threshold from the next row is brought\n",
    "posttax_nat_avg_thr.loc[(posttax_nat_avg_thr['percentile'] == 'p99.999p100'), 'threshold_next'] = posttax_nat_avg_thr.loc[(posttax_nat_avg_thr['percentile'] == 'p99.999p100'), 'average'] #threshold_next for the last quantile is average (no available value in the next row)\n",
    "\n",
    "posttax_nat_avg_thr['avg_thr_check'] = ((posttax_nat_avg_thr['average'] >= posttax_nat_avg_thr['threshold']) & (posttax_nat_avg_thr['average'] <= posttax_nat_avg_thr['threshold_next'])) #check is true if average is between thresholds\n",
    "posttax_nat_avg_thr.loc[(posttax_nat_avg_thr['threshold'].isnull()) | (posttax_nat_avg_thr['average'].isnull()) | (posttax_nat_avg_thr['threshold_next'].isnull()), 'avg_thr_check'] = np.nan #check is null if one of the values is null\n",
    "\n",
    "posttax_nat_avg_thr_false = posttax_nat_avg_thr[posttax_nat_avg_thr['avg_thr_check'] == False].reset_index(drop=True)"
   ]
  },
  {
   "cell_type": "code",
   "execution_count": 67,
   "id": "77c4e6a9-8ccc-426b-a213-e48ba5d6f58e",
   "metadata": {},
   "outputs": [
    {
     "data": {
      "text/plain": [
       "True     0.999855\n",
       "False    0.000145\n",
       "Name: avg_thr_check, dtype: float64"
      ]
     },
     "execution_count": 67,
     "metadata": {},
     "output_type": "execute_result"
    }
   ],
   "source": [
    "posttax_nat_avg_thr.avg_thr_check.value_counts(normalize=True)"
   ]
  },
  {
   "cell_type": "code",
   "execution_count": 68,
   "id": "d7c4aee6",
   "metadata": {},
   "outputs": [
    {
     "data": {
      "text/plain": [
       "SK2016    2\n",
       "FR1979    2\n",
       "SK2005    2\n",
       "LU2017    2\n",
       "LU2011    1\n",
       "SK2015    1\n",
       "SK2014    1\n",
       "SK2010    1\n",
       "SK2006    1\n",
       "SE2005    1\n",
       "BE2004    1\n",
       "BE2012    1\n",
       "IT2014    1\n",
       "IT2013    1\n",
       "IT2012    1\n",
       "BE2017    1\n",
       "BE2015    1\n",
       "BE2014    1\n",
       "BE2013    1\n",
       "LU2008    1\n",
       "Name: country_year, dtype: int64"
      ]
     },
     "execution_count": 68,
     "metadata": {},
     "output_type": "execute_result"
    }
   ],
   "source": [
    "posttax_nat_avg_thr_false.country_year.value_counts()"
   ]
  },
  {
   "cell_type": "markdown",
   "id": "ba9b3462-40d1-4e0e-b73e-e5a793b43a0f",
   "metadata": {},
   "source": [
    "#### Post-national disposable income distribution"
   ]
  },
  {
   "cell_type": "markdown",
   "id": "17369328",
   "metadata": {},
   "source": [
    "The **86.5%** of the (non-null) observations follow this requirement:"
   ]
  },
  {
   "cell_type": "code",
   "execution_count": 69,
   "id": "4c40abed-2d9d-4ae2-b564-4436f5dae636",
   "metadata": {},
   "outputs": [],
   "source": [
    "excl_list = ['p99p100', 'p99.9p100', 'p99.99p100'] #these quantiles are excluded to get a continous distribution\n",
    "\n",
    "posttax_dis_avg_thr = wid_posttax_dis_clean[~wid_posttax_dis_clean['percentile'].isin(excl_list)].reset_index(drop=True) #dataframe without the list\n",
    "posttax_dis_avg_thr['threshold_next'] = posttax_dis_avg_thr['threshold'].shift(-1) #threshold from the next row is brought\n",
    "posttax_dis_avg_thr.loc[(posttax_dis_avg_thr['percentile'] == 'p99.999p100'), 'threshold_next'] = posttax_dis_avg_thr.loc[(posttax_dis_avg_thr['percentile'] == 'p99.999p100'), 'average'] #threshold_next for the last quantile is average (no available value in the next row)\n",
    "\n",
    "posttax_dis_avg_thr['avg_thr_check'] = ((posttax_dis_avg_thr['average'] >= posttax_dis_avg_thr['threshold']) & (posttax_dis_avg_thr['average'] <= posttax_dis_avg_thr['threshold_next'])) #check is true if average is between thresholds\n",
    "posttax_dis_avg_thr.loc[(posttax_dis_avg_thr['threshold'].isnull()) | (posttax_dis_avg_thr['average'].isnull()) | (posttax_dis_avg_thr['threshold_next'].isnull()), 'avg_thr_check'] = np.nan #check is null if one of the values is null\n",
    "\n",
    "posttax_dis_avg_thr_false = posttax_dis_avg_thr[posttax_dis_avg_thr['avg_thr_check'] == False].reset_index(drop=True)"
   ]
  },
  {
   "cell_type": "code",
   "execution_count": 70,
   "id": "ec55769c-15ac-4098-b7c3-8df7365d4aa9",
   "metadata": {},
   "outputs": [
    {
     "data": {
      "text/plain": [
       "True     0.864592\n",
       "False    0.135408\n",
       "Name: avg_thr_check, dtype: float64"
      ]
     },
     "execution_count": 70,
     "metadata": {},
     "output_type": "execute_result"
    }
   ],
   "source": [
    "posttax_dis_avg_thr.avg_thr_check.value_counts(normalize=True)"
   ]
  },
  {
   "cell_type": "code",
   "execution_count": 71,
   "id": "08f4b1ed",
   "metadata": {},
   "outputs": [
    {
     "data": {
      "text/plain": [
       "QM2000    125\n",
       "QM2013    125\n",
       "QM1990    125\n",
       "QM2007    125\n",
       "QM1989    125\n",
       "         ... \n",
       "DK2001      1\n",
       "DK2002      1\n",
       "DK2008      1\n",
       "DK2017      1\n",
       "SK2000      1\n",
       "Name: country_year, Length: 229, dtype: int64"
      ]
     },
     "execution_count": 71,
     "metadata": {},
     "output_type": "execute_result"
    }
   ],
   "source": [
    "posttax_dis_avg_thr_false.country_year.value_counts()"
   ]
  },
  {
   "cell_type": "markdown",
   "id": "ed1f9b15-1e13-476e-bf45-30ff1be9b483",
   "metadata": {
    "lines_to_next_cell": 0,
    "tags": []
   },
   "source": [
    "### Comparability of values between periods"
   ]
  },
  {
   "cell_type": "markdown",
   "id": "b8e38456-b4f6-4926-a263-b7079ed12cc3",
   "metadata": {},
   "source": [
    "This check is to avoid having big jumps or drops between periods for certain percentiles. "
   ]
  },
  {
   "cell_type": "code",
   "execution_count": 72,
   "id": "d8134193",
   "metadata": {},
   "outputs": [
    {
     "data": {
      "text/html": [
       "<div>\n",
       "<style scoped>\n",
       "    .dataframe tbody tr th:only-of-type {\n",
       "        vertical-align: middle;\n",
       "    }\n",
       "\n",
       "    .dataframe tbody tr th {\n",
       "        vertical-align: top;\n",
       "    }\n",
       "\n",
       "    .dataframe thead th {\n",
       "        text-align: right;\n",
       "    }\n",
       "</style>\n",
       "<table border=\"1\" class=\"dataframe\">\n",
       "  <thead>\n",
       "    <tr style=\"text-align: right;\">\n",
       "      <th></th>\n",
       "      <th>country</th>\n",
       "      <th>year</th>\n",
       "      <th>percentile</th>\n",
       "      <th>p</th>\n",
       "      <th>threshold</th>\n",
       "      <th>average</th>\n",
       "      <th>share</th>\n",
       "      <th>inv_paretolorenz</th>\n",
       "      <th>age</th>\n",
       "      <th>pop</th>\n",
       "      <th>country_year</th>\n",
       "    </tr>\n",
       "  </thead>\n",
       "  <tbody>\n",
       "    <tr>\n",
       "      <th>50</th>\n",
       "      <td>AE</td>\n",
       "      <td>1998</td>\n",
       "      <td>p50p51</td>\n",
       "      <td>0.5</td>\n",
       "      <td>62199.207252</td>\n",
       "      <td>64027.866295</td>\n",
       "      <td>0.0041</td>\n",
       "      <td>NaN</td>\n",
       "      <td>992</td>\n",
       "      <td>j</td>\n",
       "      <td>AE1998</td>\n",
       "    </tr>\n",
       "    <tr>\n",
       "      <th>180</th>\n",
       "      <td>AE</td>\n",
       "      <td>2009</td>\n",
       "      <td>p50p51</td>\n",
       "      <td>0.5</td>\n",
       "      <td>24589.520723</td>\n",
       "      <td>25280.989597</td>\n",
       "      <td>0.0035</td>\n",
       "      <td>NaN</td>\n",
       "      <td>992</td>\n",
       "      <td>j</td>\n",
       "      <td>AE2009</td>\n",
       "    </tr>\n",
       "    <tr>\n",
       "      <th>310</th>\n",
       "      <td>AE</td>\n",
       "      <td>2013</td>\n",
       "      <td>p50p51</td>\n",
       "      <td>0.5</td>\n",
       "      <td>38323.344699</td>\n",
       "      <td>39099.204911</td>\n",
       "      <td>0.0052</td>\n",
       "      <td>NaN</td>\n",
       "      <td>992</td>\n",
       "      <td>j</td>\n",
       "      <td>AE2013</td>\n",
       "    </tr>\n",
       "    <tr>\n",
       "      <th>440</th>\n",
       "      <td>AE</td>\n",
       "      <td>2014</td>\n",
       "      <td>p50p51</td>\n",
       "      <td>0.5</td>\n",
       "      <td>39391.356474</td>\n",
       "      <td>40189.676035</td>\n",
       "      <td>0.0051</td>\n",
       "      <td>NaN</td>\n",
       "      <td>992</td>\n",
       "      <td>j</td>\n",
       "      <td>AE2014</td>\n",
       "    </tr>\n",
       "    <tr>\n",
       "      <th>570</th>\n",
       "      <td>AE</td>\n",
       "      <td>2018</td>\n",
       "      <td>p50p51</td>\n",
       "      <td>0.5</td>\n",
       "      <td>48598.654079</td>\n",
       "      <td>49490.771800</td>\n",
       "      <td>0.0059</td>\n",
       "      <td>NaN</td>\n",
       "      <td>992</td>\n",
       "      <td>j</td>\n",
       "      <td>AE2018</td>\n",
       "    </tr>\n",
       "    <tr>\n",
       "      <th>...</th>\n",
       "      <td>...</td>\n",
       "      <td>...</td>\n",
       "      <td>...</td>\n",
       "      <td>...</td>\n",
       "      <td>...</td>\n",
       "      <td>...</td>\n",
       "      <td>...</td>\n",
       "      <td>...</td>\n",
       "      <td>...</td>\n",
       "      <td>...</td>\n",
       "      <td>...</td>\n",
       "    </tr>\n",
       "    <tr>\n",
       "      <th>727790</th>\n",
       "      <td>ZW</td>\n",
       "      <td>1991</td>\n",
       "      <td>p50p51</td>\n",
       "      <td>0.5</td>\n",
       "      <td>172769.499022</td>\n",
       "      <td>176172.418340</td>\n",
       "      <td>0.0036</td>\n",
       "      <td>NaN</td>\n",
       "      <td>992</td>\n",
       "      <td>j</td>\n",
       "      <td>ZW1991</td>\n",
       "    </tr>\n",
       "    <tr>\n",
       "      <th>727920</th>\n",
       "      <td>ZW</td>\n",
       "      <td>1996</td>\n",
       "      <td>p50p51</td>\n",
       "      <td>0.5</td>\n",
       "      <td>200058.803517</td>\n",
       "      <td>204327.407858</td>\n",
       "      <td>0.0042</td>\n",
       "      <td>NaN</td>\n",
       "      <td>992</td>\n",
       "      <td>j</td>\n",
       "      <td>ZW1996</td>\n",
       "    </tr>\n",
       "    <tr>\n",
       "      <th>728050</th>\n",
       "      <td>ZW</td>\n",
       "      <td>2011</td>\n",
       "      <td>p50p51</td>\n",
       "      <td>0.5</td>\n",
       "      <td>165799.888765</td>\n",
       "      <td>169682.845260</td>\n",
       "      <td>0.0050</td>\n",
       "      <td>NaN</td>\n",
       "      <td>992</td>\n",
       "      <td>j</td>\n",
       "      <td>ZW2011</td>\n",
       "    </tr>\n",
       "    <tr>\n",
       "      <th>728180</th>\n",
       "      <td>ZW</td>\n",
       "      <td>2017</td>\n",
       "      <td>p50p51</td>\n",
       "      <td>0.5</td>\n",
       "      <td>178844.984874</td>\n",
       "      <td>183319.039243</td>\n",
       "      <td>0.0046</td>\n",
       "      <td>NaN</td>\n",
       "      <td>992</td>\n",
       "      <td>j</td>\n",
       "      <td>ZW2017</td>\n",
       "    </tr>\n",
       "    <tr>\n",
       "      <th>728310</th>\n",
       "      <td>ZW</td>\n",
       "      <td>2019</td>\n",
       "      <td>p50p51</td>\n",
       "      <td>0.5</td>\n",
       "      <td>148015.957821</td>\n",
       "      <td>151078.094873</td>\n",
       "      <td>0.0039</td>\n",
       "      <td>NaN</td>\n",
       "      <td>992</td>\n",
       "      <td>j</td>\n",
       "      <td>ZW2019</td>\n",
       "    </tr>\n",
       "  </tbody>\n",
       "</table>\n",
       "<p>5603 rows × 11 columns</p>\n",
       "</div>"
      ],
      "text/plain": [
       "       country  year percentile    p      threshold        average   share  \\\n",
       "50          AE  1998     p50p51  0.5   62199.207252   64027.866295  0.0041   \n",
       "180         AE  2009     p50p51  0.5   24589.520723   25280.989597  0.0035   \n",
       "310         AE  2013     p50p51  0.5   38323.344699   39099.204911  0.0052   \n",
       "440         AE  2014     p50p51  0.5   39391.356474   40189.676035  0.0051   \n",
       "570         AE  2018     p50p51  0.5   48598.654079   49490.771800  0.0059   \n",
       "...        ...   ...        ...  ...            ...            ...     ...   \n",
       "727790      ZW  1991     p50p51  0.5  172769.499022  176172.418340  0.0036   \n",
       "727920      ZW  1996     p50p51  0.5  200058.803517  204327.407858  0.0042   \n",
       "728050      ZW  2011     p50p51  0.5  165799.888765  169682.845260  0.0050   \n",
       "728180      ZW  2017     p50p51  0.5  178844.984874  183319.039243  0.0046   \n",
       "728310      ZW  2019     p50p51  0.5  148015.957821  151078.094873  0.0039   \n",
       "\n",
       "        inv_paretolorenz  age pop country_year  \n",
       "50                   NaN  992   j       AE1998  \n",
       "180                  NaN  992   j       AE2009  \n",
       "310                  NaN  992   j       AE2013  \n",
       "440                  NaN  992   j       AE2014  \n",
       "570                  NaN  992   j       AE2018  \n",
       "...                  ...  ...  ..          ...  \n",
       "727790               NaN  992   j       ZW1991  \n",
       "727920               NaN  992   j       ZW1996  \n",
       "728050               NaN  992   j       ZW2011  \n",
       "728180               NaN  992   j       ZW2017  \n",
       "728310               NaN  992   j       ZW2019  \n",
       "\n",
       "[5603 rows x 11 columns]"
      ]
     },
     "execution_count": 72,
     "metadata": {},
     "output_type": "execute_result"
    }
   ],
   "source": [
    "wid_pretax_clean[wid_pretax_clean['percentile']=='p50p51']"
   ]
  },
  {
   "cell_type": "code",
   "execution_count": null,
   "id": "834a26e4",
   "metadata": {},
   "outputs": [],
   "source": []
  },
  {
   "cell_type": "code",
   "execution_count": null,
   "id": "ba0ea951",
   "metadata": {},
   "outputs": [],
   "source": []
  }
 ],
 "metadata": {
  "jupytext": {
   "formats": "ipynb,py:percent"
  },
  "kernelspec": {
   "display_name": "Python 3 (ipykernel)",
   "language": "python",
   "name": "python3"
  },
  "language_info": {
   "codemirror_mode": {
    "name": "ipython",
    "version": 3
   },
   "file_extension": ".py",
   "mimetype": "text/x-python",
   "name": "python",
   "nbconvert_exporter": "python",
   "pygments_lexer": "ipython3",
   "version": "3.9.12"
  },
  "toc-autonumbering": false,
  "toc-showcode": false,
  "toc-showmarkdowntxt": false,
  "toc-showtags": false
 },
 "nbformat": 4,
 "nbformat_minor": 5
}
