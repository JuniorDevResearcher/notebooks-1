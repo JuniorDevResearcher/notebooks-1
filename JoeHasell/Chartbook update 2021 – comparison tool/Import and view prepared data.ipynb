{
 "cells": [
  {
   "cell_type": "markdown",
   "id": "49db12be-9775-4bfc-b69c-f0cae83fae8a",
   "metadata": {
    "tags": []
   },
   "source": [
    "# Chartbook update 2021: Checking final series against sources and previous version"
   ]
  },
  {
   "cell_type": "markdown",
   "id": "8c284854-992a-45c1-8d61-950e4b4d2bae",
   "metadata": {},
   "source": [
    "## Set-up"
   ]
  },
  {
   "cell_type": "raw",
   "id": "e30e4b3b-d597-400d-ae10-ae1eaa491e61",
   "metadata": {
    "tags": []
   },
   "source": [
    "#Install packages\n",
    "\n",
    "#pip install plotly\n",
    "#pip install plotnine"
   ]
  },
  {
   "cell_type": "code",
   "execution_count": 47,
   "id": "e49ca2a2-8328-48cb-9b4f-e9c537352984",
   "metadata": {
    "tags": []
   },
   "outputs": [],
   "source": [
    "import pandas as pd\n",
    "import ipywidgets as widgets\n",
    "from plotnine import ggplot, geom_point, aes, geom_line\n",
    "import plotly.graph_objects as go\n",
    "#from plotly.colors import n_colors\n",
    "#import numpy as np"
   ]
  },
  {
   "cell_type": "code",
   "execution_count": 3,
   "id": "9e92e016-cccc-43f4-8762-55fc454fa23f",
   "metadata": {
    "tags": []
   },
   "outputs": [],
   "source": [
    "url = \"https://docs.google.com/spreadsheets/d/1jLNfP3iuteUJrH0zS9qWONskyKh9pFcl1hKSlgEc-I8/gviz/tq?tqx=out:csv&sheet=All+data\""
   ]
  },
  {
   "cell_type": "code",
   "execution_count": 4,
   "id": "0eb02701-afe1-40db-9c9f-b81398c0f221",
   "metadata": {
    "tags": []
   },
   "outputs": [
    {
     "data": {
      "text/html": [
       "<div>\n",
       "<style scoped>\n",
       "    .dataframe tbody tr th:only-of-type {\n",
       "        vertical-align: middle;\n",
       "    }\n",
       "\n",
       "    .dataframe tbody tr th {\n",
       "        vertical-align: top;\n",
       "    }\n",
       "\n",
       "    .dataframe thead th {\n",
       "        text-align: right;\n",
       "    }\n",
       "</style>\n",
       "<table border=\"1\" class=\"dataframe\">\n",
       "  <thead>\n",
       "    <tr style=\"text-align: right;\">\n",
       "      <th></th>\n",
       "      <th>country</th>\n",
       "      <th>year</th>\n",
       "      <th>value</th>\n",
       "      <th>series_code</th>\n",
       "      <th>dimension</th>\n",
       "      <th>measure</th>\n",
       "      <th>welfare_concept</th>\n",
       "      <th>short_reference</th>\n",
       "      <th>long_reference</th>\n",
       "      <th>reference url</th>\n",
       "      <th>preferred_definition</th>\n",
       "      <th>description</th>\n",
       "      <th>source_codes_used</th>\n",
       "      <th>legend</th>\n",
       "    </tr>\n",
       "  </thead>\n",
       "  <tbody>\n",
       "    <tr>\n",
       "      <th>0</th>\n",
       "      <td>Argentina</td>\n",
       "      <td>1953</td>\n",
       "      <td>40.0</td>\n",
       "      <td>S1</td>\n",
       "      <td>Overall Income Inequality</td>\n",
       "      <td>Gini coefficient</td>\n",
       "      <td>Household income</td>\n",
       "      <td>Altimir (1986)</td>\n",
       "      <td>Altimir (1986) Cuadro 7</td>\n",
       "      <td>https://www.jstor.org/stable/3466844</td>\n",
       "      <td>NaN</td>\n",
       "      <td>NaN</td>\n",
       "      <td>NaN</td>\n",
       "      <td>Gini coefficient - Household income (Altimir (...</td>\n",
       "    </tr>\n",
       "    <tr>\n",
       "      <th>1</th>\n",
       "      <td>Argentina</td>\n",
       "      <td>1959</td>\n",
       "      <td>44.7</td>\n",
       "      <td>S1</td>\n",
       "      <td>Overall Income Inequality</td>\n",
       "      <td>Gini coefficient</td>\n",
       "      <td>Household income</td>\n",
       "      <td>Altimir (1986)</td>\n",
       "      <td>Altimir (1986) Cuadro 7</td>\n",
       "      <td>https://www.jstor.org/stable/3466844</td>\n",
       "      <td>NaN</td>\n",
       "      <td>NaN</td>\n",
       "      <td>NaN</td>\n",
       "      <td>Gini coefficient - Household income (Altimir (...</td>\n",
       "    </tr>\n",
       "    <tr>\n",
       "      <th>2</th>\n",
       "      <td>Argentina</td>\n",
       "      <td>1961</td>\n",
       "      <td>41.9</td>\n",
       "      <td>S1</td>\n",
       "      <td>Overall Income Inequality</td>\n",
       "      <td>Gini coefficient</td>\n",
       "      <td>Household income</td>\n",
       "      <td>Altimir (1986)</td>\n",
       "      <td>Altimir (1986) Cuadro 7</td>\n",
       "      <td>https://www.jstor.org/stable/3466844</td>\n",
       "      <td>NaN</td>\n",
       "      <td>NaN</td>\n",
       "      <td>NaN</td>\n",
       "      <td>Gini coefficient - Household income (Altimir (...</td>\n",
       "    </tr>\n",
       "    <tr>\n",
       "      <th>3</th>\n",
       "      <td>Argentina</td>\n",
       "      <td>1972</td>\n",
       "      <td>35.3</td>\n",
       "      <td>S1</td>\n",
       "      <td>Overall Income Inequality</td>\n",
       "      <td>Gini coefficient</td>\n",
       "      <td>Household income</td>\n",
       "      <td>Altimir (1986)</td>\n",
       "      <td>Altimir (1986) Cuadro 7</td>\n",
       "      <td>https://www.jstor.org/stable/3466844</td>\n",
       "      <td>NaN</td>\n",
       "      <td>NaN</td>\n",
       "      <td>NaN</td>\n",
       "      <td>Gini coefficient - Household income (Altimir (...</td>\n",
       "    </tr>\n",
       "    <tr>\n",
       "      <th>4</th>\n",
       "      <td>Argentina</td>\n",
       "      <td>1980</td>\n",
       "      <td>37.6</td>\n",
       "      <td>S1</td>\n",
       "      <td>Overall Income Inequality</td>\n",
       "      <td>Gini coefficient</td>\n",
       "      <td>Household income</td>\n",
       "      <td>Altimir (1986)</td>\n",
       "      <td>Altimir (1986) Cuadro 7</td>\n",
       "      <td>https://www.jstor.org/stable/3466844</td>\n",
       "      <td>NaN</td>\n",
       "      <td>NaN</td>\n",
       "      <td>NaN</td>\n",
       "      <td>Gini coefficient - Household income (Altimir (...</td>\n",
       "    </tr>\n",
       "  </tbody>\n",
       "</table>\n",
       "</div>"
      ],
      "text/plain": [
       "     country  year  value series_code                  dimension  \\\n",
       "0  Argentina  1953   40.0          S1  Overall Income Inequality   \n",
       "1  Argentina  1959   44.7          S1  Overall Income Inequality   \n",
       "2  Argentina  1961   41.9          S1  Overall Income Inequality   \n",
       "3  Argentina  1972   35.3          S1  Overall Income Inequality   \n",
       "4  Argentina  1980   37.6          S1  Overall Income Inequality   \n",
       "\n",
       "            measure   welfare_concept short_reference  \\\n",
       "0  Gini coefficient  Household income  Altimir (1986)   \n",
       "1  Gini coefficient  Household income  Altimir (1986)   \n",
       "2  Gini coefficient  Household income  Altimir (1986)   \n",
       "3  Gini coefficient  Household income  Altimir (1986)   \n",
       "4  Gini coefficient  Household income  Altimir (1986)   \n",
       "\n",
       "            long_reference                         reference url  \\\n",
       "0  Altimir (1986) Cuadro 7  https://www.jstor.org/stable/3466844   \n",
       "1  Altimir (1986) Cuadro 7  https://www.jstor.org/stable/3466844   \n",
       "2  Altimir (1986) Cuadro 7  https://www.jstor.org/stable/3466844   \n",
       "3  Altimir (1986) Cuadro 7  https://www.jstor.org/stable/3466844   \n",
       "4  Altimir (1986) Cuadro 7  https://www.jstor.org/stable/3466844   \n",
       "\n",
       "  preferred_definition description source_codes_used  \\\n",
       "0                  NaN         NaN               NaN   \n",
       "1                  NaN         NaN               NaN   \n",
       "2                  NaN         NaN               NaN   \n",
       "3                  NaN         NaN               NaN   \n",
       "4                  NaN         NaN               NaN   \n",
       "\n",
       "                                              legend  \n",
       "0  Gini coefficient - Household income (Altimir (...  \n",
       "1  Gini coefficient - Household income (Altimir (...  \n",
       "2  Gini coefficient - Household income (Altimir (...  \n",
       "3  Gini coefficient - Household income (Altimir (...  \n",
       "4  Gini coefficient - Household income (Altimir (...  "
      ]
     },
     "execution_count": 4,
     "metadata": {},
     "output_type": "execute_result"
    }
   ],
   "source": [
    "all_data = pd.read_csv(url)\n",
    "all_data.head()"
   ]
  },
  {
   "cell_type": "code",
   "execution_count": 5,
   "id": "51ab232b-1aa1-4f4c-aa93-35ca9bf1262a",
   "metadata": {
    "tags": []
   },
   "outputs": [],
   "source": [
    "# Create a string var that will be the legend in the source comparison plots\n",
    "all_data['source_legend'] = all_data['short_reference'] + \" - \" + all_data['welfare_concept']\n",
    "\n",
    "\n",
    "# Create a string var with a description of the series for final series for the selection widgets\n",
    "all_data['series_code_desc'] = all_data['series_code'] + \" - \" \\\n",
    "                                + all_data['measure'] + \" - \" \\\n",
    "                                + all_data['welfare_concept']\n"
   ]
  },
  {
   "cell_type": "markdown",
   "id": "586e02ff-84a0-440f-90e3-aeb755c6f605",
   "metadata": {},
   "source": [
    "## Compare sources and final series"
   ]
  },
  {
   "cell_type": "markdown",
   "id": "f44fb967-2af6-49e9-8119-90dde306470f",
   "metadata": {},
   "source": [
    "Use the dropdown boxes to compare a final series with the sources used in its construction."
   ]
  },
  {
   "cell_type": "code",
   "execution_count": 6,
   "id": "c1e0d0f9-f28f-4938-8990-8ade10c1c6cc",
   "metadata": {
    "tags": []
   },
   "outputs": [
    {
     "name": "stdout",
     "output_type": "stream",
     "text": [
      "Compare sources and final series (final series in black)\n"
     ]
    },
    {
     "data": {
      "application/vnd.jupyter.widget-view+json": {
       "model_id": "74ba274da0cc488fa12435b312377beb",
       "version_major": 2,
       "version_minor": 0
      },
      "text/plain": [
       "interactive(children=(Dropdown(description='Country', options=('Argentina', 'Australia', 'Brazil', 'Canada', '…"
      ]
     },
     "metadata": {},
     "output_type": "display_data"
    },
    {
     "data": {
      "application/vnd.jupyter.widget-view+json": {
       "model_id": "e7cd459c657b45f59a4bfe9d9820d7bd",
       "version_major": 2,
       "version_minor": 0
      },
      "text/plain": [
       "interactive(children=(Dropdown(description='final_series', options=('F1 - Gini coefficient - Equivalised house…"
      ]
     },
     "metadata": {},
     "output_type": "display_data"
    }
   ],
   "source": [
    "\n",
    "#Function to filter the data according to input widgets and print chart\n",
    "def compare_source_chart(final_series):\n",
    "    Country=countryW.value\n",
    "    \n",
    "    country_data = all_data.loc[(all_data['country']==Country)]\n",
    "    sources_used = country_data.loc[(all_data['series_code_desc']==final_series)].source_codes_used.unique().item().split(\",\")\n",
    "    source_series_df = country_data.loc[all_data.series_code.isin(sources_used)]\n",
    "    final_series_df = country_data.loc[all_data.series_code_desc ==  final_series]\n",
    "    \n",
    "    p = (ggplot() \n",
    "         + geom_point(source_series_df, aes(x = \"year\", y = \"value\", color = \"source_legend\"))\n",
    "         + geom_line(final_series_df, aes(x = \"year\", y = \"value\")))\n",
    "    \n",
    "    p.draw()\n",
    "   \n",
    "    \n",
    "#Function to update the options shown in the 'final_series' widget based on selected country    \n",
    "def select_source_code(Country):\n",
    "    final_seriesW.options = all_data.loc[(all_data['country']==Country)& (all_data['series_code'].str.startswith('F'))].series_code_desc.unique().tolist()\n",
    "\n",
    "#Country widget\n",
    "countryW = widgets.Dropdown(options = all_data.country.unique().tolist())\n",
    "\n",
    "#Grab the selected country \n",
    "init = countryW.value\n",
    "\n",
    "# Final series widget (options update based on selected country)\n",
    "final_seriesW = widgets.Dropdown(options = all_data.loc[(all_data['country']==init) & (all_data['series_code'].str.startswith('F'))].series_code_desc.unique().tolist())\n",
    "\n",
    "# Initialise widgets (and chart)\n",
    "j = widgets.interactive(compare_source_chart, final_series=final_seriesW)\n",
    "i = widgets.interactive(select_source_code, Country=countryW)\n",
    "\n",
    "# Diplay widgets and chart\n",
    "print(\"Compare sources and final series (final series in black)\")\n",
    "display(i)\n",
    "display(j)\n",
    "\n",
    "\n"
   ]
  },
  {
   "cell_type": "markdown",
   "id": "c79f212e-85ee-4945-9979-8eed1e3fd579",
   "metadata": {},
   "source": [
    "## Compare old and new final series"
   ]
  },
  {
   "cell_type": "markdown",
   "id": "e045ddf2-ce60-45e6-b2fa-1a07efbef999",
   "metadata": {},
   "source": [
    "Use the dropdown boxes below to compare new and old final series – first as table, then as chart."
   ]
  },
  {
   "cell_type": "code",
   "execution_count": 7,
   "id": "e23c332f-14e8-4717-ac47-f7e96360447e",
   "metadata": {
    "tags": []
   },
   "outputs": [
    {
     "data": {
      "text/html": [
       "<div>\n",
       "<style scoped>\n",
       "    .dataframe tbody tr th:only-of-type {\n",
       "        vertical-align: middle;\n",
       "    }\n",
       "\n",
       "    .dataframe tbody tr th {\n",
       "        vertical-align: top;\n",
       "    }\n",
       "\n",
       "    .dataframe thead th {\n",
       "        text-align: right;\n",
       "    }\n",
       "</style>\n",
       "<table border=\"1\" class=\"dataframe\">\n",
       "  <thead>\n",
       "    <tr style=\"text-align: right;\">\n",
       "      <th></th>\n",
       "      <th>country</th>\n",
       "      <th>year</th>\n",
       "      <th>dimension of inequality</th>\n",
       "      <th>measure of inequality</th>\n",
       "      <th>series</th>\n",
       "      <th>description</th>\n",
       "      <th>value</th>\n",
       "    </tr>\n",
       "  </thead>\n",
       "  <tbody>\n",
       "    <tr>\n",
       "      <th>0</th>\n",
       "      <td>Argentina</td>\n",
       "      <td>1900</td>\n",
       "      <td>Poverty Measures</td>\n",
       "      <td>Poverty rate</td>\n",
       "      <td>1.0</td>\n",
       "      <td>Individuals below 50% median household per cap...</td>\n",
       "      <td>NaN</td>\n",
       "    </tr>\n",
       "    <tr>\n",
       "      <th>1</th>\n",
       "      <td>Argentina</td>\n",
       "      <td>1900</td>\n",
       "      <td>Dispersion of Earnings</td>\n",
       "      <td>NaN</td>\n",
       "      <td>NaN</td>\n",
       "      <td>NaN</td>\n",
       "      <td>NaN</td>\n",
       "    </tr>\n",
       "    <tr>\n",
       "      <th>2</th>\n",
       "      <td>Argentina</td>\n",
       "      <td>1900</td>\n",
       "      <td>Top Income Shares</td>\n",
       "      <td>Top 1%</td>\n",
       "      <td>1.0</td>\n",
       "      <td>Share of top 1 per cent in gross income (indiv...</td>\n",
       "      <td>NaN</td>\n",
       "    </tr>\n",
       "    <tr>\n",
       "      <th>3</th>\n",
       "      <td>Argentina</td>\n",
       "      <td>1900</td>\n",
       "      <td>Overall Income Inequality</td>\n",
       "      <td>Gini Coefficient</td>\n",
       "      <td>1.0</td>\n",
       "      <td>Household equivalised income</td>\n",
       "      <td>NaN</td>\n",
       "    </tr>\n",
       "    <tr>\n",
       "      <th>4</th>\n",
       "      <td>Argentina</td>\n",
       "      <td>1900</td>\n",
       "      <td>Wealth Inequality</td>\n",
       "      <td>NaN</td>\n",
       "      <td>NaN</td>\n",
       "      <td>NaN</td>\n",
       "      <td>NaN</td>\n",
       "    </tr>\n",
       "  </tbody>\n",
       "</table>\n",
       "</div>"
      ],
      "text/plain": [
       "     country  year    dimension of inequality measure of inequality  series  \\\n",
       "0  Argentina  1900           Poverty Measures          Poverty rate     1.0   \n",
       "1  Argentina  1900     Dispersion of Earnings                   NaN     NaN   \n",
       "2  Argentina  1900          Top Income Shares                Top 1%     1.0   \n",
       "3  Argentina  1900  Overall Income Inequality      Gini Coefficient     1.0   \n",
       "4  Argentina  1900          Wealth Inequality                   NaN     NaN   \n",
       "\n",
       "                                         description  value  \n",
       "0  Individuals below 50% median household per cap...    NaN  \n",
       "1                                                NaN    NaN  \n",
       "2  Share of top 1 per cent in gross income (indiv...    NaN  \n",
       "3                       Household equivalised income    NaN  \n",
       "4                                                NaN    NaN  "
      ]
     },
     "execution_count": 7,
     "metadata": {},
     "output_type": "execute_result"
    }
   ],
   "source": [
    "# Pull in the old chartbook data\n",
    "\n",
    "url = \"https://docs.google.com/spreadsheets/d/1jLNfP3iuteUJrH0zS9qWONskyKh9pFcl1hKSlgEc-I8/gviz/tq?tqx=out:csv&sheet=Old+final+series\"\n",
    "\n",
    "old_data = pd.read_csv(url)\n",
    "old_data.head()\n"
   ]
  },
  {
   "cell_type": "code",
   "execution_count": 8,
   "id": "add066e6-b30b-4e5d-84fb-6fc1a11f14f6",
   "metadata": {
    "tags": []
   },
   "outputs": [
    {
     "data": {
      "text/html": [
       "<div>\n",
       "<style scoped>\n",
       "    .dataframe tbody tr th:only-of-type {\n",
       "        vertical-align: middle;\n",
       "    }\n",
       "\n",
       "    .dataframe tbody tr th {\n",
       "        vertical-align: top;\n",
       "    }\n",
       "\n",
       "    .dataframe thead th {\n",
       "        text-align: right;\n",
       "    }\n",
       "</style>\n",
       "<table border=\"1\" class=\"dataframe\">\n",
       "  <thead>\n",
       "    <tr style=\"text-align: right;\">\n",
       "      <th></th>\n",
       "      <th>country</th>\n",
       "      <th>year</th>\n",
       "      <th>dimension of inequality</th>\n",
       "      <th>measure of inequality</th>\n",
       "      <th>series</th>\n",
       "      <th>description</th>\n",
       "      <th>value</th>\n",
       "      <th>series_code_desc</th>\n",
       "    </tr>\n",
       "  </thead>\n",
       "  <tbody>\n",
       "    <tr>\n",
       "      <th>0</th>\n",
       "      <td>Argentina</td>\n",
       "      <td>1900</td>\n",
       "      <td>Poverty Measures</td>\n",
       "      <td>Poverty rate</td>\n",
       "      <td>1.0</td>\n",
       "      <td>Individuals below 50% median household per cap...</td>\n",
       "      <td>NaN</td>\n",
       "      <td>Old series: Poverty rate - Individuals below 5...</td>\n",
       "    </tr>\n",
       "    <tr>\n",
       "      <th>1</th>\n",
       "      <td>Argentina</td>\n",
       "      <td>1900</td>\n",
       "      <td>Dispersion of Earnings</td>\n",
       "      <td>NaN</td>\n",
       "      <td>nan</td>\n",
       "      <td>NaN</td>\n",
       "      <td>NaN</td>\n",
       "      <td>NaN</td>\n",
       "    </tr>\n",
       "    <tr>\n",
       "      <th>2</th>\n",
       "      <td>Argentina</td>\n",
       "      <td>1900</td>\n",
       "      <td>Top Income Shares</td>\n",
       "      <td>Top 1%</td>\n",
       "      <td>1.0</td>\n",
       "      <td>Share of top 1 per cent in gross income (indiv...</td>\n",
       "      <td>NaN</td>\n",
       "      <td>Old series: Top 1% - Share of top 1 per cent i...</td>\n",
       "    </tr>\n",
       "    <tr>\n",
       "      <th>3</th>\n",
       "      <td>Argentina</td>\n",
       "      <td>1900</td>\n",
       "      <td>Overall Income Inequality</td>\n",
       "      <td>Gini Coefficient</td>\n",
       "      <td>1.0</td>\n",
       "      <td>Household equivalised income</td>\n",
       "      <td>NaN</td>\n",
       "      <td>Old series: Gini Coefficient - Household equiv...</td>\n",
       "    </tr>\n",
       "    <tr>\n",
       "      <th>4</th>\n",
       "      <td>Argentina</td>\n",
       "      <td>1900</td>\n",
       "      <td>Wealth Inequality</td>\n",
       "      <td>NaN</td>\n",
       "      <td>nan</td>\n",
       "      <td>NaN</td>\n",
       "      <td>NaN</td>\n",
       "      <td>NaN</td>\n",
       "    </tr>\n",
       "  </tbody>\n",
       "</table>\n",
       "</div>"
      ],
      "text/plain": [
       "     country  year    dimension of inequality measure of inequality series  \\\n",
       "0  Argentina  1900           Poverty Measures          Poverty rate    1.0   \n",
       "1  Argentina  1900     Dispersion of Earnings                   NaN    nan   \n",
       "2  Argentina  1900          Top Income Shares                Top 1%    1.0   \n",
       "3  Argentina  1900  Overall Income Inequality      Gini Coefficient    1.0   \n",
       "4  Argentina  1900          Wealth Inequality                   NaN    nan   \n",
       "\n",
       "                                         description  value  \\\n",
       "0  Individuals below 50% median household per cap...    NaN   \n",
       "1                                                NaN    NaN   \n",
       "2  Share of top 1 per cent in gross income (indiv...    NaN   \n",
       "3                       Household equivalised income    NaN   \n",
       "4                                                NaN    NaN   \n",
       "\n",
       "                                    series_code_desc  \n",
       "0  Old series: Poverty rate - Individuals below 5...  \n",
       "1                                                NaN  \n",
       "2  Old series: Top 1% - Share of top 1 per cent i...  \n",
       "3  Old series: Gini Coefficient - Household equiv...  \n",
       "4                                                NaN  "
      ]
     },
     "execution_count": 8,
     "metadata": {},
     "output_type": "execute_result"
    }
   ],
   "source": [
    "# Collapse metadata columns to aid selection\n",
    "\n",
    "old_data = old_data.astype({\"series\": 'str'})\n",
    "\n",
    "old_data['series_code_desc'] =  \"Old series: \" + old_data['measure of inequality'] + \" - \" \\\n",
    "                             + old_data['description'] + \" - \" \\\n",
    "                             + old_data['series']\n",
    "\n",
    "old_data.head()\n"
   ]
  },
  {
   "cell_type": "code",
   "execution_count": 9,
   "id": "4722a8cb-5e5f-4b17-a1d1-9b73245453b0",
   "metadata": {
    "tags": []
   },
   "outputs": [],
   "source": [
    "# Amend series desc to make it clear which is a new series\n",
    "all_data['series_code_desc'] = \"New series: \" + all_data['series_code_desc']"
   ]
  },
  {
   "cell_type": "code",
   "execution_count": 53,
   "id": "3360b18e-ef51-4d72-b3aa-95728196468b",
   "metadata": {
    "tags": []
   },
   "outputs": [
    {
     "name": "stdout",
     "output_type": "stream",
     "text": [
      "Compare old and new final series\n"
     ]
    },
    {
     "data": {
      "application/vnd.jupyter.widget-view+json": {
       "model_id": "46d51e556f164cfa981a55e50c433c71",
       "version_major": 2,
       "version_minor": 0
      },
      "text/plain": [
       "interactive(children=(Dropdown(description='Country', options=('Argentina', 'Australia', 'Brazil', 'Canada', '…"
      ]
     },
     "metadata": {},
     "output_type": "display_data"
    },
    {
     "data": {
      "application/vnd.jupyter.widget-view+json": {
       "model_id": "16f6b07f43d641f187ae12a66ba3085f",
       "version_major": 2,
       "version_minor": 0
      },
      "text/plain": [
       "interactive(children=(Dropdown(description='new_final_series', options=('New series: F1 - Gini coefficient - E…"
      ]
     },
     "metadata": {},
     "output_type": "display_data"
    }
   ],
   "source": [
    "\n",
    "#Function to filter the data according to input widgets and print chart\n",
    "def compare_chart(new_final_series, old_series_desc):\n",
    "    Country=countryW.value\n",
    "    \n",
    "    new_df = all_data.loc[(all_data['country']==Country) & (all_data['series_code_desc']==new_final_series), {\"year\", \"value\", \"series_code_desc\"}]\n",
    "    \n",
    "    old_df = old_data.loc[(old_data['country']==Country) & (old_data['series_code_desc']==old_series_desc), {\"year\", \"value\", \"series_code_desc\"}]\n",
    "    \n",
    "    combined_df = new_df.append(old_df)\n",
    "    \n",
    "    combined_wide_df = combined_df.pivot(index='year', columns='series_code_desc', values='value').reset_index()\n",
    "    combined_wide_df[\"diff %\"] = (combined_wide_df[new_final_series] - combined_wide_df[old_series_desc])/combined_wide_df[new_final_series]*100\n",
    "    \n",
    "    combined_wide_df[\"diff %\"]=combined_wide_df[\"diff %\"].map(\"{:,.2f}\".format)\n",
    "\n",
    "\n",
    "    fig = go.Figure(data=[go.Table(\n",
    "    header=dict(values=list(combined_wide_df.columns),\n",
    "                align='left'),\n",
    "    cells=dict(values=[combined_wide_df[col] for col in combined_wide_df.columns],\n",
    "               align='left'))\n",
    "        ])\n",
    "    \n",
    "    p = (ggplot(combined_df, aes(x = \"year\", y = \"value\", color = \"series_code_desc\")) \n",
    "         + geom_line())\n",
    "\n",
    "    return  fig.show(), p.draw() \n",
    "    \n",
    "   \n",
    "   \n",
    "   \n",
    "    \n",
    "#Function to update the options shown in the 'final_series' widget based on selected country    \n",
    "def update_widget_options(Country):\n",
    "    new_final_seriesW.options = all_data.loc[(all_data['country']==Country)& (all_data['series_code'].str.startswith('F'))].series_code_desc.unique().tolist()\n",
    "\n",
    "#Country widget\n",
    "countryW = widgets.Dropdown(options = all_data.country.unique().tolist())\n",
    "\n",
    "#Grab the selected country \n",
    "init = countryW.value\n",
    "\n",
    "# Final series widget (options update based on selected country)\n",
    "new_final_seriesW = widgets.Dropdown(options = all_data.loc[(all_data['country']==init) & (all_data['series_code'].str.startswith('F'))].series_code_desc.unique().tolist())\n",
    "\n",
    "old_series_descW = widgets.Dropdown(options = old_data.loc[(old_data['country']==init)].series_code_desc.unique().tolist())\n",
    "\n",
    "\n",
    "# Initialise widgets (and chart)\n",
    "j = widgets.interactive(compare_chart, new_final_series=new_final_seriesW, old_series_desc=old_series_descW)\n",
    "i = widgets.interactive(update_widget_options, Country=countryW)\n",
    "\n",
    "# Diplay widgets and chart\n",
    "print(\"Compare old and new final series\")\n",
    "display(i)\n",
    "display(j)\n",
    "\n",
    "\n",
    "\n"
   ]
  },
  {
   "cell_type": "code",
   "execution_count": null,
   "id": "f94cc999-bd0f-4177-9c29-5a54b04b3234",
   "metadata": {},
   "outputs": [],
   "source": []
  },
  {
   "cell_type": "code",
   "execution_count": null,
   "id": "357ff676-8415-4da3-a10f-9907b4916564",
   "metadata": {},
   "outputs": [],
   "source": []
  },
  {
   "cell_type": "code",
   "execution_count": null,
   "id": "4ee1739b-c5f2-46e2-b124-6bd6f80d4e4b",
   "metadata": {},
   "outputs": [],
   "source": []
  }
 ],
 "metadata": {
  "kernelspec": {
   "display_name": "Python 3 (ipykernel)",
   "language": "python",
   "name": "python3"
  },
  "language_info": {
   "codemirror_mode": {
    "name": "ipython",
    "version": 3
   },
   "file_extension": ".py",
   "mimetype": "text/x-python",
   "name": "python",
   "nbconvert_exporter": "python",
   "pygments_lexer": "ipython3",
   "version": "3.9.7"
  }
 },
 "nbformat": 4,
 "nbformat_minor": 5
}
