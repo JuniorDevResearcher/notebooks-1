{
 "cells": [
  {
   "cell_type": "code",
   "execution_count": 52,
   "metadata": {},
   "outputs": [],
   "source": [
    "import geopandas as gpd\n",
    "import pandas as pd\n",
    "from shapely import wkt\n",
    "from shapely.geometry import Point\n",
    "import requests, zipfile, io\n",
    "from zipfile import ZipFile\n",
    "import gzip\n",
    "pd.set_option('display.max_columns', 500)\n",
    "pd.set_option('display.max_rows',100)"
   ]
  },
  {
   "cell_type": "markdown",
   "metadata": {},
   "source": [
    "## Load in data"
   ]
  },
  {
   "cell_type": "markdown",
   "metadata": {},
   "source": [
    "### Load in Natural Earth data"
   ]
  },
  {
   "cell_type": "markdown",
   "metadata": {},
   "source": [
    "Loading in the higher resolution (10m) Natural Earth data and plotting it"
   ]
  },
  {
   "cell_type": "code",
   "execution_count": 53,
   "metadata": {},
   "outputs": [],
   "source": [
    "ne_10m = 'https://naciscdn.org/naturalearth/10m/cultural/ne_10m_admin_0_countries.zip'\n",
    "\n",
    "r = requests.get(ne_10m)\n",
    "#Check that the request was successful\n",
    "assert r.ok\n",
    "# Unzip the data\n",
    "z = zipfile.ZipFile(io.BytesIO(r.content))\n",
    "z.extractall(\"data/countries/\")\n",
    "\n",
    "# Read in country shapefile\n",
    "world_high_res = gpd.read_file('data/countries/ne_10m_admin_0_countries.shp')"
   ]
  },
  {
   "cell_type": "code",
   "execution_count": 54,
   "metadata": {},
   "outputs": [],
   "source": [
    "#Save list of entities\n",
    "world_high_res['Country'] = world_high_res['NAME']\n",
    "world_high_res.to_csv('data/countries/nat_earth_country_names_high_res.csv', index=False, columns = ['Country'])"
   ]
  },
  {
   "cell_type": "markdown",
   "metadata": {},
   "source": [
    "Loading in the lower resolution Natural Earth data (more similar to OWID country entities) and plotting it"
   ]
  },
  {
   "cell_type": "code",
   "execution_count": 55,
   "metadata": {},
   "outputs": [],
   "source": [
    "# Get country data for low resolution map - OWID Style\n",
    "ne_110m = 'https://naciscdn.org/naturalearth/110m/cultural/ne_110m_admin_0_countries.zip'\n",
    "\n",
    "r = requests.get(ne_110m)\n",
    "#Check that the request was successful\n",
    "assert r.ok\n",
    "# Unzip the data\n",
    "z = zipfile.ZipFile(io.BytesIO(r.content))\n",
    "z.extractall(\"data/countries/\")\n",
    "\n",
    "# Read in country shapefile\n",
    "world_low_res = gpd.read_file('data/countries/ne_110m_admin_0_countries.shp')"
   ]
  },
  {
   "cell_type": "code",
   "execution_count": 56,
   "metadata": {},
   "outputs": [],
   "source": [
    "#Save list of entities\n",
    "world_low_res['Country'] = world_low_res['NAME']\n",
    "world_low_res.to_csv('data/countries/nat_earth_country_names_low_res.csv', index=False, columns = ['Country'])"
   ]
  },
  {
   "cell_type": "markdown",
   "metadata": {},
   "source": [
    "### Load in the clean UCDP georeferenced data"
   ]
  },
  {
   "cell_type": "code",
   "execution_count": 57,
   "metadata": {},
   "outputs": [
    {
     "name": "stderr",
     "output_type": "stream",
     "text": [
      "/usr/local/lib/python3.9/site-packages/IPython/core/interactiveshell.py:3444: DtypeWarning: Columns (7,10,13,16,48) have mixed types.Specify dtype option on import or set low_memory=False.\n",
      "  exec(code_obj, self.user_global_ns, self.user_ns)\n"
     ]
    },
    {
     "data": {
      "text/html": [
       "<div>\n",
       "<style scoped>\n",
       "    .dataframe tbody tr th:only-of-type {\n",
       "        vertical-align: middle;\n",
       "    }\n",
       "\n",
       "    .dataframe tbody tr th {\n",
       "        vertical-align: top;\n",
       "    }\n",
       "\n",
       "    .dataframe thead th {\n",
       "        text-align: right;\n",
       "    }\n",
       "</style>\n",
       "<table border=\"1\" class=\"dataframe\">\n",
       "  <thead>\n",
       "    <tr style=\"text-align: right;\">\n",
       "      <th></th>\n",
       "      <th>data_source</th>\n",
       "      <th>id</th>\n",
       "      <th>relid</th>\n",
       "      <th>year</th>\n",
       "      <th>active_year</th>\n",
       "      <th>code_status</th>\n",
       "      <th>type_of_violence</th>\n",
       "      <th>conflict_dset_id</th>\n",
       "      <th>conflict_new_id</th>\n",
       "      <th>conflict_name</th>\n",
       "      <th>dyad_dset_id</th>\n",
       "      <th>dyad_new_id</th>\n",
       "      <th>dyad_name</th>\n",
       "      <th>side_a_dset_id</th>\n",
       "      <th>side_a_new_id</th>\n",
       "      <th>side_a</th>\n",
       "      <th>side_b_dset_id</th>\n",
       "      <th>side_b_new_id</th>\n",
       "      <th>side_b</th>\n",
       "      <th>number_of_sources</th>\n",
       "      <th>source_article</th>\n",
       "      <th>source_office</th>\n",
       "      <th>source_date</th>\n",
       "      <th>source_headline</th>\n",
       "      <th>source_original</th>\n",
       "      <th>where_prec</th>\n",
       "      <th>where_coordinates</th>\n",
       "      <th>where_description</th>\n",
       "      <th>adm_1</th>\n",
       "      <th>adm_2</th>\n",
       "      <th>latitude</th>\n",
       "      <th>longitude</th>\n",
       "      <th>geom_wkt</th>\n",
       "      <th>priogrid_gid</th>\n",
       "      <th>country</th>\n",
       "      <th>country_id</th>\n",
       "      <th>region</th>\n",
       "      <th>event_clarity</th>\n",
       "      <th>date_prec</th>\n",
       "      <th>date_start</th>\n",
       "      <th>date_end</th>\n",
       "      <th>deaths_a</th>\n",
       "      <th>deaths_b</th>\n",
       "      <th>deaths_civilians</th>\n",
       "      <th>deaths_unknown</th>\n",
       "      <th>best</th>\n",
       "      <th>high</th>\n",
       "      <th>low</th>\n",
       "      <th>gwnoa</th>\n",
       "      <th>gwnob</th>\n",
       "      <th>high_amend</th>\n",
       "      <th>low_amend</th>\n",
       "    </tr>\n",
       "  </thead>\n",
       "  <tbody>\n",
       "    <tr>\n",
       "      <th>280250</th>\n",
       "      <td>candidate_monthly</td>\n",
       "      <td>428546</td>\n",
       "      <td>YEM-2022-2-14596-0</td>\n",
       "      <td>2022</td>\n",
       "      <td>0</td>\n",
       "      <td>Clear</td>\n",
       "      <td>2</td>\n",
       "      <td>14596</td>\n",
       "      <td>13587</td>\n",
       "      <td>AQAP - Forces of Hadi</td>\n",
       "      <td>14596</td>\n",
       "      <td>14596</td>\n",
       "      <td>AQAP - Forces of Hadi</td>\n",
       "      <td>881</td>\n",
       "      <td>881</td>\n",
       "      <td>AQAP</td>\n",
       "      <td>6254</td>\n",
       "      <td>6254</td>\n",
       "      <td>Forces of Hadi</td>\n",
       "      <td>1</td>\n",
       "      <td>\"Airwars,2022-02-06,USYEMBi006\"</td>\n",
       "      <td>Airwars</td>\n",
       "      <td>2022-02-06</td>\n",
       "      <td>USYEMBi006</td>\n",
       "      <td>Airwars</td>\n",
       "      <td>2</td>\n",
       "      <td>Kawlah village</td>\n",
       "      <td>الكولة, Al Kawlah/Al Kola area in Wadi Ubayda</td>\n",
       "      <td>Marib governorate</td>\n",
       "      <td>Marib district</td>\n",
       "      <td>15.546860</td>\n",
       "      <td>45.413790</td>\n",
       "      <td>POINT (45.41379 15.54686)</td>\n",
       "      <td>152371</td>\n",
       "      <td>Yemen (North Yemen)</td>\n",
       "      <td>678</td>\n",
       "      <td>Middle East</td>\n",
       "      <td>1</td>\n",
       "      <td>1</td>\n",
       "      <td>2022-02-06 00:00:00.000</td>\n",
       "      <td>2022-02-06 00:00:00.000</td>\n",
       "      <td>0</td>\n",
       "      <td>3</td>\n",
       "      <td>1</td>\n",
       "      <td>0</td>\n",
       "      <td>4</td>\n",
       "      <td>5</td>\n",
       "      <td>4</td>\n",
       "      <td>NaN</td>\n",
       "      <td>NaN</td>\n",
       "      <td>5</td>\n",
       "      <td>4</td>\n",
       "    </tr>\n",
       "    <tr>\n",
       "      <th>280251</th>\n",
       "      <td>candidate_monthly</td>\n",
       "      <td>430944</td>\n",
       "      <td>YEM-2022-3-15781-1</td>\n",
       "      <td>2022</td>\n",
       "      <td>0</td>\n",
       "      <td>Check</td>\n",
       "      <td>3</td>\n",
       "      <td>6254</td>\n",
       "      <td>14511</td>\n",
       "      <td>Forces of Hadi - Civilians</td>\n",
       "      <td>6254</td>\n",
       "      <td>15781</td>\n",
       "      <td>Forces of Hadi - Civilians</td>\n",
       "      <td>6254</td>\n",
       "      <td>6254</td>\n",
       "      <td>Forces of Hadi</td>\n",
       "      <td>9999</td>\n",
       "      <td>1</td>\n",
       "      <td>Civilians</td>\n",
       "      <td>1</td>\n",
       "      <td>\"BBC Monitoring Middle East,2022-03-04,News si...</td>\n",
       "      <td>BBC Monitoring Middle East</td>\n",
       "      <td>2022-03-04</td>\n",
       "      <td>News site links southern Yemen separatist forc...</td>\n",
       "      <td>Al-Masdar</td>\n",
       "      <td>2</td>\n",
       "      <td>Dar Saad suburb</td>\n",
       "      <td>Dar Saad district</td>\n",
       "      <td>‘Adan governorate</td>\n",
       "      <td>Dār Sa‘d district</td>\n",
       "      <td>12.889167</td>\n",
       "      <td>44.987222</td>\n",
       "      <td>POINT (44.987222 12.889167)</td>\n",
       "      <td>148050</td>\n",
       "      <td>Yemen (North Yemen)</td>\n",
       "      <td>678</td>\n",
       "      <td>Middle East</td>\n",
       "      <td>1</td>\n",
       "      <td>4</td>\n",
       "      <td>2022-02-22 00:00:00.000</td>\n",
       "      <td>2022-03-03 00:00:00.000</td>\n",
       "      <td>0</td>\n",
       "      <td>0</td>\n",
       "      <td>1</td>\n",
       "      <td>0</td>\n",
       "      <td>1</td>\n",
       "      <td>1</td>\n",
       "      <td>1</td>\n",
       "      <td>NaN</td>\n",
       "      <td>NaN</td>\n",
       "      <td>1</td>\n",
       "      <td>1</td>\n",
       "    </tr>\n",
       "    <tr>\n",
       "      <th>280252</th>\n",
       "      <td>candidate_monthly</td>\n",
       "      <td>430843</td>\n",
       "      <td>YEM-2022-2-15915-1</td>\n",
       "      <td>2022</td>\n",
       "      <td>0</td>\n",
       "      <td>Check</td>\n",
       "      <td>2</td>\n",
       "      <td>15915</td>\n",
       "      <td>14623</td>\n",
       "      <td>Forces of Hadi - STC</td>\n",
       "      <td>15915</td>\n",
       "      <td>15915</td>\n",
       "      <td>Forces of Hadi - STC</td>\n",
       "      <td>6254</td>\n",
       "      <td>6254</td>\n",
       "      <td>Forces of Hadi</td>\n",
       "      <td>7344</td>\n",
       "      <td>7344</td>\n",
       "      <td>STC</td>\n",
       "      <td>1</td>\n",
       "      <td>\"BBC Monitoring Middle East,2022-02-19,Yemen g...</td>\n",
       "      <td>BBC Monitoring Middle East</td>\n",
       "      <td>2022-02-19</td>\n",
       "      <td>Yemen gunmen shoot dead brother of former Shab...</td>\n",
       "      <td>security source</td>\n",
       "      <td>4</td>\n",
       "      <td>Shabwah governorate</td>\n",
       "      <td>province of Shabwa</td>\n",
       "      <td>Shabwah governorate</td>\n",
       "      <td>NaN</td>\n",
       "      <td>15.000000</td>\n",
       "      <td>47.000000</td>\n",
       "      <td>POINT (47 15)</td>\n",
       "      <td>151655</td>\n",
       "      <td>Yemen (North Yemen)</td>\n",
       "      <td>678</td>\n",
       "      <td>Middle East</td>\n",
       "      <td>1</td>\n",
       "      <td>1</td>\n",
       "      <td>2022-02-19 00:00:00.000</td>\n",
       "      <td>2022-02-19 00:00:00.000</td>\n",
       "      <td>0</td>\n",
       "      <td>0</td>\n",
       "      <td>0</td>\n",
       "      <td>2</td>\n",
       "      <td>2</td>\n",
       "      <td>2</td>\n",
       "      <td>2</td>\n",
       "      <td>NaN</td>\n",
       "      <td>NaN</td>\n",
       "      <td>2</td>\n",
       "      <td>2</td>\n",
       "    </tr>\n",
       "    <tr>\n",
       "      <th>280253</th>\n",
       "      <td>candidate_monthly</td>\n",
       "      <td>428117</td>\n",
       "      <td>YEM-2022-2-17014-0</td>\n",
       "      <td>2022</td>\n",
       "      <td>0</td>\n",
       "      <td>Clear</td>\n",
       "      <td>2</td>\n",
       "      <td>17014</td>\n",
       "      <td>15505</td>\n",
       "      <td>Giants Brigade - STC</td>\n",
       "      <td>17014</td>\n",
       "      <td>17014</td>\n",
       "      <td>Giants Brigade - STC</td>\n",
       "      <td>8276</td>\n",
       "      <td>8276</td>\n",
       "      <td>Giants Brigade</td>\n",
       "      <td>7344</td>\n",
       "      <td>7344</td>\n",
       "      <td>STC</td>\n",
       "      <td>1</td>\n",
       "      <td>\"BBC Monitoring Middle East,2022-02-04,'Mediat...</td>\n",
       "      <td>BBC Monitoring Middle East</td>\n",
       "      <td>2022-02-04</td>\n",
       "      <td>'Mediators resolve infighting' between Yemen s...</td>\n",
       "      <td>Al-Masdar Online</td>\n",
       "      <td>4</td>\n",
       "      <td>Laḩij governorate</td>\n",
       "      <td>province of Lahj</td>\n",
       "      <td>Laḩij governorate</td>\n",
       "      <td>NaN</td>\n",
       "      <td>13.166667</td>\n",
       "      <td>44.583332</td>\n",
       "      <td>POINT (44.583332 13.166667)</td>\n",
       "      <td>148770</td>\n",
       "      <td>Yemen (North Yemen)</td>\n",
       "      <td>678</td>\n",
       "      <td>Middle East</td>\n",
       "      <td>1</td>\n",
       "      <td>1</td>\n",
       "      <td>2022-02-01 00:00:00.000</td>\n",
       "      <td>2022-02-01 00:00:00.000</td>\n",
       "      <td>1</td>\n",
       "      <td>0</td>\n",
       "      <td>0</td>\n",
       "      <td>0</td>\n",
       "      <td>1</td>\n",
       "      <td>1</td>\n",
       "      <td>1</td>\n",
       "      <td>NaN</td>\n",
       "      <td>NaN</td>\n",
       "      <td>1</td>\n",
       "      <td>1</td>\n",
       "    </tr>\n",
       "    <tr>\n",
       "      <th>280254</th>\n",
       "      <td>candidate_monthly</td>\n",
       "      <td>431229</td>\n",
       "      <td>ZIM-2022-2-2-XXX552-0</td>\n",
       "      <td>2022</td>\n",
       "      <td>0</td>\n",
       "      <td>Check dyad</td>\n",
       "      <td>2</td>\n",
       "      <td>2-XXX552</td>\n",
       "      <td>173</td>\n",
       "      <td>XXX552 - XXX552</td>\n",
       "      <td>2-XXX552</td>\n",
       "      <td>346</td>\n",
       "      <td>XXX552 - XXX552</td>\n",
       "      <td>XXX552</td>\n",
       "      <td>3768</td>\n",
       "      <td>XXX552</td>\n",
       "      <td>XXX552</td>\n",
       "      <td>3768</td>\n",
       "      <td>XXX552</td>\n",
       "      <td>5</td>\n",
       "      <td>\"Amnesty International,2022-02-28,Zimbabwe: In...</td>\n",
       "      <td>Amnesty International;Agence France Presse;All...</td>\n",
       "      <td>2022-02-28;2022-02-28;2022-03-03;2022-03-03;20...</td>\n",
       "      <td>Zimbabwe: Investigate violence on political op...</td>\n",
       "      <td>Amnesty International</td>\n",
       "      <td>1</td>\n",
       "      <td>Kwekwe town</td>\n",
       "      <td>Mbizo 4 shopping centre in Kwekwe</td>\n",
       "      <td>Midlands province</td>\n",
       "      <td>Kwekwe district</td>\n",
       "      <td>-18.928095</td>\n",
       "      <td>29.814863</td>\n",
       "      <td>POINT (29.814863 -18.928095)</td>\n",
       "      <td>102660</td>\n",
       "      <td>Zimbabwe (Rhodesia)</td>\n",
       "      <td>552</td>\n",
       "      <td>Africa</td>\n",
       "      <td>1</td>\n",
       "      <td>1</td>\n",
       "      <td>2022-02-27 00:00:00.000</td>\n",
       "      <td>2022-02-27 00:00:00.000</td>\n",
       "      <td>0</td>\n",
       "      <td>1</td>\n",
       "      <td>0</td>\n",
       "      <td>0</td>\n",
       "      <td>1</td>\n",
       "      <td>1</td>\n",
       "      <td>1</td>\n",
       "      <td>NaN</td>\n",
       "      <td>NaN</td>\n",
       "      <td>1</td>\n",
       "      <td>1</td>\n",
       "    </tr>\n",
       "  </tbody>\n",
       "</table>\n",
       "</div>"
      ],
      "text/plain": [
       "              data_source      id                  relid  year  active_year  \\\n",
       "280250  candidate_monthly  428546     YEM-2022-2-14596-0  2022            0   \n",
       "280251  candidate_monthly  430944     YEM-2022-3-15781-1  2022            0   \n",
       "280252  candidate_monthly  430843     YEM-2022-2-15915-1  2022            0   \n",
       "280253  candidate_monthly  428117     YEM-2022-2-17014-0  2022            0   \n",
       "280254  candidate_monthly  431229  ZIM-2022-2-2-XXX552-0  2022            0   \n",
       "\n",
       "       code_status  type_of_violence conflict_dset_id  conflict_new_id  \\\n",
       "280250       Clear                 2            14596            13587   \n",
       "280251       Check                 3             6254            14511   \n",
       "280252       Check                 2            15915            14623   \n",
       "280253       Clear                 2            17014            15505   \n",
       "280254  Check dyad                 2         2-XXX552              173   \n",
       "\n",
       "                     conflict_name dyad_dset_id  dyad_new_id  \\\n",
       "280250       AQAP - Forces of Hadi        14596        14596   \n",
       "280251  Forces of Hadi - Civilians         6254        15781   \n",
       "280252        Forces of Hadi - STC        15915        15915   \n",
       "280253        Giants Brigade - STC        17014        17014   \n",
       "280254             XXX552 - XXX552     2-XXX552          346   \n",
       "\n",
       "                         dyad_name side_a_dset_id  side_a_new_id  \\\n",
       "280250       AQAP - Forces of Hadi            881            881   \n",
       "280251  Forces of Hadi - Civilians           6254           6254   \n",
       "280252        Forces of Hadi - STC           6254           6254   \n",
       "280253        Giants Brigade - STC           8276           8276   \n",
       "280254             XXX552 - XXX552         XXX552           3768   \n",
       "\n",
       "                side_a side_b_dset_id  side_b_new_id          side_b  \\\n",
       "280250            AQAP           6254           6254  Forces of Hadi   \n",
       "280251  Forces of Hadi           9999              1       Civilians   \n",
       "280252  Forces of Hadi           7344           7344             STC   \n",
       "280253  Giants Brigade           7344           7344             STC   \n",
       "280254          XXX552         XXX552           3768          XXX552   \n",
       "\n",
       "        number_of_sources                                     source_article  \\\n",
       "280250                  1                    \"Airwars,2022-02-06,USYEMBi006\"   \n",
       "280251                  1  \"BBC Monitoring Middle East,2022-03-04,News si...   \n",
       "280252                  1  \"BBC Monitoring Middle East,2022-02-19,Yemen g...   \n",
       "280253                  1  \"BBC Monitoring Middle East,2022-02-04,'Mediat...   \n",
       "280254                  5  \"Amnesty International,2022-02-28,Zimbabwe: In...   \n",
       "\n",
       "                                            source_office  \\\n",
       "280250                                            Airwars   \n",
       "280251                         BBC Monitoring Middle East   \n",
       "280252                         BBC Monitoring Middle East   \n",
       "280253                         BBC Monitoring Middle East   \n",
       "280254  Amnesty International;Agence France Presse;All...   \n",
       "\n",
       "                                              source_date  \\\n",
       "280250                                         2022-02-06   \n",
       "280251                                         2022-03-04   \n",
       "280252                                         2022-02-19   \n",
       "280253                                         2022-02-04   \n",
       "280254  2022-02-28;2022-02-28;2022-03-03;2022-03-03;20...   \n",
       "\n",
       "                                          source_headline  \\\n",
       "280250                                         USYEMBi006   \n",
       "280251  News site links southern Yemen separatist forc...   \n",
       "280252  Yemen gunmen shoot dead brother of former Shab...   \n",
       "280253  'Mediators resolve infighting' between Yemen s...   \n",
       "280254  Zimbabwe: Investigate violence on political op...   \n",
       "\n",
       "              source_original  where_prec    where_coordinates  \\\n",
       "280250                Airwars           2       Kawlah village   \n",
       "280251              Al-Masdar           2      Dar Saad suburb   \n",
       "280252        security source           4  Shabwah governorate   \n",
       "280253       Al-Masdar Online           4    Laḩij governorate   \n",
       "280254  Amnesty International           1          Kwekwe town   \n",
       "\n",
       "                                     where_description                adm_1  \\\n",
       "280250  الكولة, Al Kawlah/Al Kola area in Wadi Ubayda     Marib governorate   \n",
       "280251                               Dar Saad district    ‘Adan governorate   \n",
       "280252                              province of Shabwa  Shabwah governorate   \n",
       "280253                                province of Lahj    Laḩij governorate   \n",
       "280254               Mbizo 4 shopping centre in Kwekwe    Midlands province   \n",
       "\n",
       "                    adm_2   latitude  longitude                      geom_wkt  \\\n",
       "280250     Marib district  15.546860  45.413790     POINT (45.41379 15.54686)   \n",
       "280251  Dār Sa‘d district  12.889167  44.987222   POINT (44.987222 12.889167)   \n",
       "280252                NaN  15.000000  47.000000                 POINT (47 15)   \n",
       "280253                NaN  13.166667  44.583332   POINT (44.583332 13.166667)   \n",
       "280254    Kwekwe district -18.928095  29.814863  POINT (29.814863 -18.928095)   \n",
       "\n",
       "        priogrid_gid              country  country_id       region  \\\n",
       "280250        152371  Yemen (North Yemen)         678  Middle East   \n",
       "280251        148050  Yemen (North Yemen)         678  Middle East   \n",
       "280252        151655  Yemen (North Yemen)         678  Middle East   \n",
       "280253        148770  Yemen (North Yemen)         678  Middle East   \n",
       "280254        102660  Zimbabwe (Rhodesia)         552       Africa   \n",
       "\n",
       "        event_clarity  date_prec               date_start  \\\n",
       "280250              1          1  2022-02-06 00:00:00.000   \n",
       "280251              1          4  2022-02-22 00:00:00.000   \n",
       "280252              1          1  2022-02-19 00:00:00.000   \n",
       "280253              1          1  2022-02-01 00:00:00.000   \n",
       "280254              1          1  2022-02-27 00:00:00.000   \n",
       "\n",
       "                       date_end  deaths_a  deaths_b  deaths_civilians  \\\n",
       "280250  2022-02-06 00:00:00.000         0         3                 1   \n",
       "280251  2022-03-03 00:00:00.000         0         0                 1   \n",
       "280252  2022-02-19 00:00:00.000         0         0                 0   \n",
       "280253  2022-02-01 00:00:00.000         1         0                 0   \n",
       "280254  2022-02-27 00:00:00.000         0         1                 0   \n",
       "\n",
       "        deaths_unknown  best  high  low gwnoa  gwnob  high_amend  low_amend  \n",
       "280250               0     4     5    4   NaN    NaN           5          4  \n",
       "280251               0     1     1    1   NaN    NaN           1          1  \n",
       "280252               2     2     2    2   NaN    NaN           2          2  \n",
       "280253               0     1     1    1   NaN    NaN           1          1  \n",
       "280254               0     1     1    1   NaN    NaN           1          1  "
      ]
     },
     "execution_count": 57,
     "metadata": {},
     "output_type": "execute_result"
    }
   ],
   "source": [
    "df = pd.read_csv(gzip.open('data/manipulation/combined_and_tidied_geolocated_data.csv.gz', 'rb'))\n",
    "df.tail()"
   ]
  },
  {
   "cell_type": "markdown",
   "metadata": {},
   "source": [
    "## Map locations to countries"
   ]
  },
  {
   "cell_type": "markdown",
   "metadata": {},
   "source": [
    "Convert the UCDP data to a GeoDataFrame (so it can be mapped and used in spatial analysis). The 'wkt.loads' function takes the coordinates in the 'geometry' column and ensures geopandas will use it to map the data."
   ]
  },
  {
   "cell_type": "code",
   "execution_count": 58,
   "metadata": {},
   "outputs": [
    {
     "name": "stderr",
     "output_type": "stream",
     "text": [
      "/usr/local/lib/python3.9/site-packages/pandas/core/frame.py:5039: SettingWithCopyWarning: \n",
      "A value is trying to be set on a copy of a slice from a DataFrame\n",
      "\n",
      "See the caveats in the documentation: https://pandas.pydata.org/pandas-docs/stable/user_guide/indexing.html#returning-a-view-versus-a-copy\n",
      "  return super().rename(\n",
      "/var/folders/rz/2g82f4z111vbcp20h8dy8snh0000gn/T/ipykernel_50675/854620756.py:3: SettingWithCopyWarning: \n",
      "A value is trying to be set on a copy of a slice from a DataFrame.\n",
      "Try using .loc[row_indexer,col_indexer] = value instead\n",
      "\n",
      "See the caveats in the documentation: https://pandas.pydata.org/pandas-docs/stable/user_guide/indexing.html#returning-a-view-versus-a-copy\n",
      "  df_geo['geometry'] = df_geo['geometry'].apply(wkt.loads)\n"
     ]
    }
   ],
   "source": [
    "df_geo = df[['relid','geom_wkt']]\n",
    "df_geo.rename(columns={\"geom_wkt\":\"geometry\"}, inplace=True)\n",
    "df_geo['geometry'] = df_geo['geometry'].apply(wkt.loads)\n",
    "gdf = gpd.GeoDataFrame(df_geo, crs='epsg:4326')"
   ]
  },
  {
   "cell_type": "markdown",
   "metadata": {},
   "source": [
    "Plot the UCDP data points on the world map to check it looks sensible"
   ]
  },
  {
   "cell_type": "code",
   "execution_count": 59,
   "metadata": {},
   "outputs": [
    {
     "data": {
      "text/plain": [
       "<AxesSubplot:>"
      ]
     },
     "execution_count": 59,
     "metadata": {},
     "output_type": "execute_result"
    },
    {
     "data": {
      "image/png": "[encoded data removed]",
      "text/plain": [
       "<Figure size 432x288 with 1 Axes>"
      ]
     },
     "metadata": {
      "needs_background": "light"
     },
     "output_type": "display_data"
    }
   ],
   "source": [
    "base = world_high_res.plot(color='white', edgecolor='black')\n",
    "gdf.plot(ax=base, marker='o', color='red', markersize=5)\n"
   ]
  },
  {
   "cell_type": "markdown",
   "metadata": {},
   "source": [
    "Use the overlay function to extract data from the world map that each point sits on top of."
   ]
  },
  {
   "cell_type": "code",
   "execution_count": 60,
   "metadata": {},
   "outputs": [],
   "source": [
    "ucdp_ne = gpd.overlay(gdf, world_high_res, how='intersection')"
   ]
  },
  {
   "cell_type": "markdown",
   "metadata": {},
   "source": [
    "Checking we have extracted a country value for each point - if we have the number of rows in the dataframes will be the same."
   ]
  },
  {
   "cell_type": "code",
   "execution_count": 61,
   "metadata": {},
   "outputs": [
    {
     "data": {
      "text/plain": [
       "False"
      ]
     },
     "execution_count": 61,
     "metadata": {},
     "output_type": "execute_result"
    }
   ],
   "source": [
    "ucdp_ne.shape[0] == df.shape[0]"
   ]
  },
  {
   "cell_type": "markdown",
   "metadata": {},
   "source": [
    "There are 1688 points that are missed - likely because they are in the sea perhaps due to the conflict either happening at sea or at the coast and the coordinates are slightly inaccurate. "
   ]
  },
  {
   "cell_type": "code",
   "execution_count": 62,
   "metadata": {},
   "outputs": [
    {
     "data": {
      "text/plain": [
       "1688"
      ]
     },
     "execution_count": 62,
     "metadata": {},
     "output_type": "execute_result"
    }
   ],
   "source": [
    "df.shape[0] - ucdp_ne.shape[0]"
   ]
  },
  {
   "cell_type": "markdown",
   "metadata": {},
   "source": [
    "Identifying which points have not yet been assigned a country"
   ]
  },
  {
   "cell_type": "code",
   "execution_count": 63,
   "metadata": {},
   "outputs": [],
   "source": [
    "ucdp_orig = gdf.relid.to_list() \n",
    "ucdp_ex = ucdp_ne.relid.to_list()\n",
    "\n",
    "main_list = list(set(ucdp_orig) - set(ucdp_ex))"
   ]
  },
  {
   "cell_type": "code",
   "execution_count": 64,
   "metadata": {},
   "outputs": [],
   "source": [
    "missing_pts = gdf[gdf.relid.isin(main_list)]"
   ]
  },
  {
   "cell_type": "markdown",
   "metadata": {},
   "source": [
    "Reprojecting the points and the world into the World Equidistant Cylindrical Sphere projection."
   ]
  },
  {
   "cell_type": "code",
   "execution_count": 65,
   "metadata": {},
   "outputs": [],
   "source": [
    "wec_crs = '+proj=eqc +lat_ts=0 +lat_0=0 +lon_0=0 +x_0=0 +y_0=0 +a=6371007 +b=6371007 +units=m +no_defs'\n",
    "missing_pts_wec = missing_pts.to_crs(wec_crs)\n",
    "world_high_res_wec = world_high_res.to_crs(wec_crs)"
   ]
  },
  {
   "cell_type": "markdown",
   "metadata": {},
   "source": [
    "For these points we can find the nearest country using the distance function"
   ]
  },
  {
   "cell_type": "code",
   "execution_count": 66,
   "metadata": {},
   "outputs": [],
   "source": [
    "polygon_near = []\n",
    "for index, row in missing_pts_wec.iterrows():\n",
    "    polygon_index = world_high_res_wec.distance(row['geometry']).sort_values().index[0]\n",
    "    nat_earth_country_name = world_high_res_wec['NAME'][polygon_index]\n",
    "    polygon_near.append(nat_earth_country_name)"
   ]
  },
  {
   "cell_type": "markdown",
   "metadata": {},
   "source": [
    "Assigning the closest countries to the missing_pts data frame"
   ]
  },
  {
   "cell_type": "code",
   "execution_count": 67,
   "metadata": {},
   "outputs": [
    {
     "name": "stderr",
     "output_type": "stream",
     "text": [
      "/usr/local/lib/python3.9/site-packages/geopandas/geodataframe.py:1351: SettingWithCopyWarning: \n",
      "A value is trying to be set on a copy of a slice from a DataFrame.\n",
      "Try using .loc[row_indexer,col_indexer] = value instead\n",
      "\n",
      "See the caveats in the documentation: https://pandas.pydata.org/pandas-docs/stable/user_guide/indexing.html#returning-a-view-versus-a-copy\n",
      "  super().__setitem__(key, value)\n"
     ]
    }
   ],
   "source": [
    "missing_pts['NAME'] = polygon_near"
   ]
  },
  {
   "cell_type": "code",
   "execution_count": 68,
   "metadata": {},
   "outputs": [
    {
     "data": {
      "text/html": [
       "<div>\n",
       "<style scoped>\n",
       "    .dataframe tbody tr th:only-of-type {\n",
       "        vertical-align: middle;\n",
       "    }\n",
       "\n",
       "    .dataframe tbody tr th {\n",
       "        vertical-align: top;\n",
       "    }\n",
       "\n",
       "    .dataframe thead th {\n",
       "        text-align: right;\n",
       "    }\n",
       "</style>\n",
       "<table border=\"1\" class=\"dataframe\">\n",
       "  <thead>\n",
       "    <tr style=\"text-align: right;\">\n",
       "      <th></th>\n",
       "      <th>relid</th>\n",
       "      <th>geometry</th>\n",
       "      <th>NAME</th>\n",
       "    </tr>\n",
       "  </thead>\n",
       "  <tbody>\n",
       "    <tr>\n",
       "      <th>36971</th>\n",
       "      <td>ALG-1992-1-1-28</td>\n",
       "      <td>POINT (3.01148 36.81745)</td>\n",
       "      <td>Algeria</td>\n",
       "    </tr>\n",
       "    <tr>\n",
       "      <th>36987</th>\n",
       "      <td>ALG-1992-1-1-44</td>\n",
       "      <td>POINT (2.92185 36.80277)</td>\n",
       "      <td>Algeria</td>\n",
       "    </tr>\n",
       "    <tr>\n",
       "      <th>36988</th>\n",
       "      <td>ALG-1992-1-1-45</td>\n",
       "      <td>POINT (3.16667 36.75000)</td>\n",
       "      <td>Algeria</td>\n",
       "    </tr>\n",
       "    <tr>\n",
       "      <th>37004</th>\n",
       "      <td>ALG-1992-1-1-61</td>\n",
       "      <td>POINT (3.91311 36.91716)</td>\n",
       "      <td>Algeria</td>\n",
       "    </tr>\n",
       "    <tr>\n",
       "      <th>37149</th>\n",
       "      <td>ALG-1993-1-1-82</td>\n",
       "      <td>POINT (2.84389 36.76111)</td>\n",
       "      <td>Algeria</td>\n",
       "    </tr>\n",
       "  </tbody>\n",
       "</table>\n",
       "</div>"
      ],
      "text/plain": [
       "                 relid                  geometry     NAME\n",
       "36971  ALG-1992-1-1-28  POINT (3.01148 36.81745)  Algeria\n",
       "36987  ALG-1992-1-1-44  POINT (2.92185 36.80277)  Algeria\n",
       "36988  ALG-1992-1-1-45  POINT (3.16667 36.75000)  Algeria\n",
       "37004  ALG-1992-1-1-61  POINT (3.91311 36.91716)  Algeria\n",
       "37149  ALG-1993-1-1-82  POINT (2.84389 36.76111)  Algeria"
      ]
     },
     "execution_count": 68,
     "metadata": {},
     "output_type": "execute_result"
    }
   ],
   "source": [
    "missing_pts.head()"
   ]
  },
  {
   "cell_type": "markdown",
   "metadata": {},
   "source": [
    "Merging the extracted countries (ucdp_ne) back into the original dataframe and noting the method used - 'Intersect'"
   ]
  },
  {
   "cell_type": "code",
   "execution_count": 69,
   "metadata": {},
   "outputs": [],
   "source": [
    "df_intersect = df.merge(ucdp_ne[[\"relid\", \"NAME\"]], on = \"relid\")\n",
    "df_intersect.rename(columns = {\"NAME\":\"nat_earth_country_name\"}, inplace = True)\n",
    "df_intersect['method'] = 'Intersect'"
   ]
  },
  {
   "cell_type": "markdown",
   "metadata": {},
   "source": [
    "Merging the extracted countries (missing_pts) back into the original dataframe and noting the method used - 'Nearest'"
   ]
  },
  {
   "cell_type": "code",
   "execution_count": 70,
   "metadata": {},
   "outputs": [],
   "source": [
    "df_nearest = df.merge(missing_pts[[\"relid\", \"NAME\"]], on = \"relid\")\n",
    "df_nearest.rename(columns = {\"NAME\":\"nat_earth_country_name\"}, inplace = True)\n",
    "df_nearest['method'] = 'Nearest'"
   ]
  },
  {
   "cell_type": "markdown",
   "metadata": {},
   "source": [
    "We now have data for all the UCDP points - we can check this by seeing if our dataframe with extracted countries has the same number of rows as the original dataframe."
   ]
  },
  {
   "cell_type": "code",
   "execution_count": 71,
   "metadata": {},
   "outputs": [
    {
     "data": {
      "text/plain": [
       "True"
      ]
     },
     "execution_count": 71,
     "metadata": {},
     "output_type": "execute_result"
    }
   ],
   "source": [
    "df_country= df_intersect.append(df_nearest).reset_index()\n",
    "\n",
    "\n",
    "df_country.shape[0] == df.shape[0]"
   ]
  },
  {
   "cell_type": "markdown",
   "metadata": {},
   "source": [
    "To align with OWID borders we will rename the conflicts in Somaliland to Somalia and the conflicts in Morocco that were below 27.66727 latitude to Western Sahara."
   ]
  },
  {
   "cell_type": "code",
   "execution_count": 72,
   "metadata": {},
   "outputs": [
    {
     "name": "stdout",
     "output_type": "stream",
     "text": [
      "155 datapoints in Somaliland\n",
      "7 datapoints in land contested by Morocco/W.Sahara\n"
     ]
    }
   ],
   "source": [
    "print(f\"{len(df_country.loc[(df_country.nat_earth_country_name == 'Somaliland'),'nat_earth_country_name'])} datapoints in Somaliland\")\n",
    "df_country.loc[(df_country.nat_earth_country_name == 'Somaliland'),'nat_earth_country_name'] = 'Somalia'\n",
    "print(f\"{len(df_country.loc[(df_country.nat_earth_country_name == 'Morocco') & (df_country.latitude < 27.66727),'nat_earth_country_name'])} datapoints in land contested by Morocco/W.Sahara\")\n",
    "df_country.loc[(df_country.nat_earth_country_name == 'Morocco') & (df_country.latitude < 27.66727),'nat_earth_country_name'] = \"Western Sahara\""
   ]
  },
  {
   "cell_type": "markdown",
   "metadata": {},
   "source": [
    "I've added a flag column for points which I think are likely to have incorrect coordinates - points where latitude and longitude are exactly the same, or both 0."
   ]
  },
  {
   "cell_type": "code",
   "execution_count": 73,
   "metadata": {},
   "outputs": [
    {
     "name": "stderr",
     "output_type": "stream",
     "text": [
      "/var/folders/rz/2g82f4z111vbcp20h8dy8snh0000gn/T/ipykernel_50675/1110667567.py:2: SettingWithCopyWarning: \n",
      "A value is trying to be set on a copy of a slice from a DataFrame\n",
      "\n",
      "See the caveats in the documentation: https://pandas.pydata.org/pandas-docs/stable/user_guide/indexing.html#returning-a-view-versus-a-copy\n",
      "  df_country['flag'][df_country['geom_wkt'] == 'POINT (0 0)'] = 'Coordinates 0,0'\n",
      "/var/folders/rz/2g82f4z111vbcp20h8dy8snh0000gn/T/ipykernel_50675/1110667567.py:3: SettingWithCopyWarning: \n",
      "A value is trying to be set on a copy of a slice from a DataFrame\n",
      "\n",
      "See the caveats in the documentation: https://pandas.pydata.org/pandas-docs/stable/user_guide/indexing.html#returning-a-view-versus-a-copy\n",
      "  df_country['nat_earth_country_name'][df_country['geom_wkt'] == 'POINT (0 0)'] = \"\"\n"
     ]
    }
   ],
   "source": [
    "df_country['flag'] = \"\"\n",
    "df_country['flag'][df_country['geom_wkt'] == 'POINT (0 0)'] = 'Coordinates 0,0'\n",
    "df_country['nat_earth_country_name'][df_country['geom_wkt'] == 'POINT (0 0)'] = \"\""
   ]
  },
  {
   "cell_type": "code",
   "execution_count": 74,
   "metadata": {},
   "outputs": [
    {
     "name": "stderr",
     "output_type": "stream",
     "text": [
      "/var/folders/rz/2g82f4z111vbcp20h8dy8snh0000gn/T/ipykernel_50675/1701016178.py:1: SettingWithCopyWarning: \n",
      "A value is trying to be set on a copy of a slice from a DataFrame\n",
      "\n",
      "See the caveats in the documentation: https://pandas.pydata.org/pandas-docs/stable/user_guide/indexing.html#returning-a-view-versus-a-copy\n",
      "  df_country['flag'][df_country.latitude == df_country.longitude] = \"Latitude and Longitude same\"\n",
      "/var/folders/rz/2g82f4z111vbcp20h8dy8snh0000gn/T/ipykernel_50675/1701016178.py:2: SettingWithCopyWarning: \n",
      "A value is trying to be set on a copy of a slice from a DataFrame\n",
      "\n",
      "See the caveats in the documentation: https://pandas.pydata.org/pandas-docs/stable/user_guide/indexing.html#returning-a-view-versus-a-copy\n",
      "  df_country['nat_earth_country_name'][df_country.latitude == df_country.longitude] = \"\"\n"
     ]
    }
   ],
   "source": [
    "df_country['flag'][df_country.latitude == df_country.longitude] = \"Latitude and Longitude same\"\n",
    "df_country['nat_earth_country_name'][df_country.latitude == df_country.longitude] = \"\""
   ]
  },
  {
   "cell_type": "markdown",
   "metadata": {},
   "source": [
    "## Map to OWID country names"
   ]
  },
  {
   "cell_type": "markdown",
   "metadata": {},
   "source": [
    "Load mapping file"
   ]
  },
  {
   "cell_type": "code",
   "execution_count": 75,
   "metadata": {},
   "outputs": [
    {
     "data": {
      "text/html": [
       "<div>\n",
       "<style scoped>\n",
       "    .dataframe tbody tr th:only-of-type {\n",
       "        vertical-align: middle;\n",
       "    }\n",
       "\n",
       "    .dataframe tbody tr th {\n",
       "        vertical-align: top;\n",
       "    }\n",
       "\n",
       "    .dataframe thead th {\n",
       "        text-align: right;\n",
       "    }\n",
       "</style>\n",
       "<table border=\"1\" class=\"dataframe\">\n",
       "  <thead>\n",
       "    <tr style=\"text-align: right;\">\n",
       "      <th></th>\n",
       "      <th>Country</th>\n",
       "      <th>Our World In Data Name</th>\n",
       "    </tr>\n",
       "  </thead>\n",
       "  <tbody>\n",
       "    <tr>\n",
       "      <th>0</th>\n",
       "      <td>Fiji</td>\n",
       "      <td>Fiji</td>\n",
       "    </tr>\n",
       "    <tr>\n",
       "      <th>1</th>\n",
       "      <td>Tanzania</td>\n",
       "      <td>Tanzania</td>\n",
       "    </tr>\n",
       "    <tr>\n",
       "      <th>2</th>\n",
       "      <td>W. Sahara</td>\n",
       "      <td>Western Sahara</td>\n",
       "    </tr>\n",
       "    <tr>\n",
       "      <th>3</th>\n",
       "      <td>Canada</td>\n",
       "      <td>Canada</td>\n",
       "    </tr>\n",
       "    <tr>\n",
       "      <th>4</th>\n",
       "      <td>United States of America</td>\n",
       "      <td>United States</td>\n",
       "    </tr>\n",
       "  </tbody>\n",
       "</table>\n",
       "</div>"
      ],
      "text/plain": [
       "                    Country Our World In Data Name\n",
       "0                      Fiji                   Fiji\n",
       "1                  Tanzania               Tanzania\n",
       "2                 W. Sahara         Western Sahara\n",
       "3                    Canada                 Canada\n",
       "4  United States of America          United States"
      ]
     },
     "execution_count": 75,
     "metadata": {},
     "output_type": "execute_result"
    }
   ],
   "source": [
    "mapping = pd.read_csv('data/countries/country_names_low_res_country_standardized.csv')\n",
    "mapping.head()"
   ]
  },
  {
   "cell_type": "markdown",
   "metadata": {},
   "source": [
    "Rename original UCDP country name to make it explicit which is which"
   ]
  },
  {
   "cell_type": "code",
   "execution_count": 76,
   "metadata": {},
   "outputs": [],
   "source": [
    "df_country.rename(columns = {\"country\":\"UCDP_country\"}, inplace = True)"
   ]
  },
  {
   "cell_type": "markdown",
   "metadata": {},
   "source": [
    "Merge in OWID names"
   ]
  },
  {
   "cell_type": "code",
   "execution_count": 77,
   "metadata": {},
   "outputs": [],
   "source": [
    "df_country = pd.merge(df_country, mapping, left_on='nat_earth_country_name', right_on='Country', how='left')\n",
    "\n",
    "df_country.drop(columns=['Country'])\n",
    "\n",
    "df_country.rename(columns = {\"Our World In Data Name\":'Country'}, inplace = True)\n",
    "\n"
   ]
  },
  {
   "cell_type": "markdown",
   "metadata": {},
   "source": [
    "## Output as zipped csv"
   ]
  },
  {
   "cell_type": "code",
   "execution_count": 81,
   "metadata": {},
   "outputs": [],
   "source": [
    "df_country.to_csv('data/manipulation/ucdp_with_country.csv.gz', index = False, compression = \"gzip\")"
   ]
  },
  {
   "cell_type": "code",
   "execution_count": null,
   "metadata": {},
   "outputs": [],
   "source": []
  }
 ],
 "metadata": {
  "interpreter": {
   "hash": "aee8b7b246df8f9039afb4144a1f6fd8d2ca17a180786b69acc140d282b71a49"
  },
  "kernelspec": {
   "display_name": "Python 3 (ipykernel)",
   "language": "python",
   "name": "python3"
  },
  "language_info": {
   "codemirror_mode": {
    "name": "ipython",
    "version": 3
   },
   "file_extension": ".py",
   "mimetype": "text/x-python",
   "name": "python",
   "nbconvert_exporter": "python",
   "pygments_lexer": "ipython3",
   "version": "3.9.7"
  }
 },
 "nbformat": 4,
 "nbformat_minor": 4
}
