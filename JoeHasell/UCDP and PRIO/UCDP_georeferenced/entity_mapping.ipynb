{
 "cells": [
  {
   "cell_type": "code",
   "execution_count": null,
   "id": "d2f811f4-df4b-402a-9798-c5e809a77155",
   "metadata": {},
   "outputs": [],
   "source": [
    "import pandas as pd\n",
    "import gzip"
   ]
  },
  {
   "cell_type": "markdown",
   "id": "2c3c15ae-0922-49c8-8567-26917310cc4b",
   "metadata": {},
   "source": [
    "Read in the UCDP data with Natural Earth country mapping"
   ]
  },
  {
   "cell_type": "code",
   "execution_count": null,
   "id": "851b4a19-d4db-436e-a839-cefcf86dc65c",
   "metadata": {},
   "outputs": [],
   "source": [
    "gz_file = gzip.open('data/manipulation/ucdp_with_country.csv.gz', 'rb')\n",
    "\n",
    "df = pd.read_csv(gz_file)\n",
    "df.tail()"
   ]
  },
  {
   "cell_type": "markdown",
   "id": "27e3b3d0-9c2d-4741-a1c9-afe42d4c6801",
   "metadata": {},
   "source": [
    "Save list of entities to run through OWID country mapping tool"
   ]
  },
  {
   "cell_type": "code",
   "execution_count": null,
   "id": "68c4862c-6839-4237-9abf-d8e7931f53fb",
   "metadata": {},
   "outputs": [],
   "source": [
    "nat_earth_countri"
   ]
  }
 ],
 "metadata": {
  "kernelspec": {
   "display_name": "Python 3 (ipykernel)",
   "language": "python",
   "name": "python3"
  },
  "language_info": {
   "codemirror_mode": {
    "name": "ipython",
    "version": 3
   },
   "file_extension": ".py",
   "mimetype": "text/x-python",
   "name": "python",
   "nbconvert_exporter": "python",
   "pygments_lexer": "ipython3",
   "version": "3.9.7"
  }
 },
 "nbformat": 4,
 "nbformat_minor": 5
}
